{
 "cells": [
  {
   "cell_type": "markdown",
   "metadata": {},
   "source": [
    "# Aprendizaje Supervisado\n",
    "\n",
    "## Regresión Lineal\n",
    "\n",
    "El término regresión se utilizó por primera vez en el estudio de variables antropométricas: al comparar la estatura de padres e hijos, donde resultó que los hijos cuyos padres tenían una estatura muy superior al valor medio, tendían a igualarse a éste, mientras que aquellos cuyos padres eran muy bajos tendían a reducir su diferencia respecto a la estatura media; es decir, \"regresaban\" al promedio.\n",
    "\n",
    "## Definición matemática\n",
    "\n",
    "## $$y_\\beta(x) = \\beta_0 + \\beta_1x_1 + \\beta_2x_2 + ... + \\beta_nx_n$$\n",
    "\n",
    "- $y_\\beta(x)$ es la respuesta / target\n",
    "- $\\beta_0$ es el intercepto\n",
    "- $\\beta_1$ es el coeficiente para $x_1$ (el primer feature)\n",
    "- $\\beta_n$ es el coeficiente para $x_n$ (el n-ésimo feature)\n",
    "\n",
    "Los valores de $\\beta$ son llamados **los coeficientes del modelo**:\n",
    "\n",
    "- Estos valores son estimados durante el proceso de ajuste del modelo usando el **criterio de minimos cuadrados**.\n",
    "- Realmente, buscamos la línea (matemáticamente) que minimize la **suma de cuadrados residual** (o \"suma de cuadrados del error\").\n",
    "- Una vez estimado dichos parametros, podemos predecir nuevos resultados.\n",
    "\n",
    "![Estimating coefficients](https://raw.githubusercontent.com/justmarkham/DAT8/master/notebooks/images/estimating_coefficients.png)\n",
    "\n",
    "En la imagen superior:\n",
    "\n",
    "- Los puntos negros son los **valores observados** de x e y.\n",
    "- La linea azul es nuestra **linea de minimos cuadrados**.\n",
    "- Las lineas rojas son los **residuales**, que son las distancias veticales entre el valor observado y la linea de minimos cuadrados."
   ]
  },
  {
   "cell_type": "markdown",
   "metadata": {},
   "source": [
    "### Regresión lineal simple"
   ]
  },
  {
   "cell_type": "code",
   "execution_count": 1,
   "metadata": {},
   "outputs": [],
   "source": [
    "import pandas as pd\n",
    "import matplotlib.pyplot as plt\n",
    "import numpy as np\n",
    "from sklearn import datasets, linear_model\n",
    "from sklearn.metrics import mean_squared_error, r2_score"
   ]
  },
  {
   "cell_type": "code",
   "execution_count": 2,
   "metadata": {},
   "outputs": [],
   "source": [
    "# Cargamos el dataset diabetes\n",
    "# refecencia: http://web.stanford.edu/~hastie/Papers/LARS/LeastAngle_2002.pdf\n",
    "# diabetes = datasets.load_diabetes() de esta forma sólo se obtiene la data normalizada\n",
    "\n",
    "# Con esta forma obtenemos la data original según la documentación: https://www4.stat.ncsu.edu/~boos/var.select/diabetes.html\n",
    "\n",
    "diabetes = pd.read_table('https://www4.stat.ncsu.edu/~boos/var.select/diabetes.tab.txt')"
   ]
  },
  {
   "cell_type": "code",
   "execution_count": 3,
   "metadata": {},
   "outputs": [
    {
     "data": {
      "text/html": [
       "<div>\n",
       "<style scoped>\n",
       "    .dataframe tbody tr th:only-of-type {\n",
       "        vertical-align: middle;\n",
       "    }\n",
       "\n",
       "    .dataframe tbody tr th {\n",
       "        vertical-align: top;\n",
       "    }\n",
       "\n",
       "    .dataframe thead th {\n",
       "        text-align: right;\n",
       "    }\n",
       "</style>\n",
       "<table border=\"1\" class=\"dataframe\">\n",
       "  <thead>\n",
       "    <tr style=\"text-align: right;\">\n",
       "      <th></th>\n",
       "      <th>AGE</th>\n",
       "      <th>SEX</th>\n",
       "      <th>BMI</th>\n",
       "      <th>BP</th>\n",
       "      <th>S1</th>\n",
       "      <th>S2</th>\n",
       "      <th>S3</th>\n",
       "      <th>S4</th>\n",
       "      <th>S5</th>\n",
       "      <th>S6</th>\n",
       "      <th>Y</th>\n",
       "    </tr>\n",
       "  </thead>\n",
       "  <tbody>\n",
       "    <tr>\n",
       "      <th>0</th>\n",
       "      <td>59</td>\n",
       "      <td>2</td>\n",
       "      <td>32.1</td>\n",
       "      <td>101.0</td>\n",
       "      <td>157</td>\n",
       "      <td>93.2</td>\n",
       "      <td>38.0</td>\n",
       "      <td>4.0</td>\n",
       "      <td>4.8598</td>\n",
       "      <td>87</td>\n",
       "      <td>151</td>\n",
       "    </tr>\n",
       "    <tr>\n",
       "      <th>1</th>\n",
       "      <td>48</td>\n",
       "      <td>1</td>\n",
       "      <td>21.6</td>\n",
       "      <td>87.0</td>\n",
       "      <td>183</td>\n",
       "      <td>103.2</td>\n",
       "      <td>70.0</td>\n",
       "      <td>3.0</td>\n",
       "      <td>3.8918</td>\n",
       "      <td>69</td>\n",
       "      <td>75</td>\n",
       "    </tr>\n",
       "    <tr>\n",
       "      <th>2</th>\n",
       "      <td>72</td>\n",
       "      <td>2</td>\n",
       "      <td>30.5</td>\n",
       "      <td>93.0</td>\n",
       "      <td>156</td>\n",
       "      <td>93.6</td>\n",
       "      <td>41.0</td>\n",
       "      <td>4.0</td>\n",
       "      <td>4.6728</td>\n",
       "      <td>85</td>\n",
       "      <td>141</td>\n",
       "    </tr>\n",
       "    <tr>\n",
       "      <th>3</th>\n",
       "      <td>24</td>\n",
       "      <td>1</td>\n",
       "      <td>25.3</td>\n",
       "      <td>84.0</td>\n",
       "      <td>198</td>\n",
       "      <td>131.4</td>\n",
       "      <td>40.0</td>\n",
       "      <td>5.0</td>\n",
       "      <td>4.8903</td>\n",
       "      <td>89</td>\n",
       "      <td>206</td>\n",
       "    </tr>\n",
       "    <tr>\n",
       "      <th>4</th>\n",
       "      <td>50</td>\n",
       "      <td>1</td>\n",
       "      <td>23.0</td>\n",
       "      <td>101.0</td>\n",
       "      <td>192</td>\n",
       "      <td>125.4</td>\n",
       "      <td>52.0</td>\n",
       "      <td>4.0</td>\n",
       "      <td>4.2905</td>\n",
       "      <td>80</td>\n",
       "      <td>135</td>\n",
       "    </tr>\n",
       "  </tbody>\n",
       "</table>\n",
       "</div>"
      ],
      "text/plain": [
       "   AGE  SEX   BMI     BP   S1     S2    S3   S4      S5  S6    Y\n",
       "0   59    2  32.1  101.0  157   93.2  38.0  4.0  4.8598  87  151\n",
       "1   48    1  21.6   87.0  183  103.2  70.0  3.0  3.8918  69   75\n",
       "2   72    2  30.5   93.0  156   93.6  41.0  4.0  4.6728  85  141\n",
       "3   24    1  25.3   84.0  198  131.4  40.0  5.0  4.8903  89  206\n",
       "4   50    1  23.0  101.0  192  125.4  52.0  4.0  4.2905  80  135"
      ]
     },
     "execution_count": 3,
     "metadata": {},
     "output_type": "execute_result"
    }
   ],
   "source": [
    "diabetes.head()"
   ]
  },
  {
   "cell_type": "code",
   "execution_count": 4,
   "metadata": {},
   "outputs": [],
   "source": [
    "Y = diabetes['Y']\n",
    "X = diabetes.iloc[:,:10]"
   ]
  },
  {
   "cell_type": "code",
   "execution_count": 6,
   "metadata": {},
   "outputs": [
    {
     "data": {
      "image/png": "[encoded data removed]",
      "text/plain": [
       "<Figure size 1080x576 with 1 Axes>"
      ]
     },
     "metadata": {
      "needs_background": "light"
     },
     "output_type": "display_data"
    }
   ],
   "source": [
    "# Usemos varaible BMI (índice de masa corporal) para explicar el indice de diabetes\n",
    "# Analicemos el efecto de la glucosa con el indicador de diabetes\n",
    "plt.figure(figsize=(15,8)) #definir el tamaño de la imagen\n",
    "plt.scatter(X['BMI'], Y)\n",
    "plt.xlabel('Índice de masa corporal')\n",
    "plt.ylabel('Indicador de diabetes')\n",
    "\n",
    "plt.show()"
   ]
  },
  {
   "cell_type": "code",
   "execution_count": 7,
   "metadata": {},
   "outputs": [],
   "source": [
    "from scipy import stats"
   ]
  },
  {
   "cell_type": "code",
   "execution_count": 8,
   "metadata": {},
   "outputs": [
    {
     "data": {
      "text/plain": [
       "Index(['AGE', 'SEX', 'BMI', 'BP', 'S1', 'S2', 'S3', 'S4', 'S5', 'S6'], dtype='object')"
      ]
     },
     "execution_count": 8,
     "metadata": {},
     "output_type": "execute_result"
    }
   ],
   "source": [
    "X.columns"
   ]
  },
  {
   "cell_type": "code",
   "execution_count": 9,
   "metadata": {},
   "outputs": [],
   "source": [
    "import seaborn as sns"
   ]
  },
  {
   "cell_type": "code",
   "execution_count": 10,
   "metadata": {},
   "outputs": [
    {
     "data": {
      "text/html": [
       "<div>\n",
       "<style scoped>\n",
       "    .dataframe tbody tr th:only-of-type {\n",
       "        vertical-align: middle;\n",
       "    }\n",
       "\n",
       "    .dataframe tbody tr th {\n",
       "        vertical-align: top;\n",
       "    }\n",
       "\n",
       "    .dataframe thead th {\n",
       "        text-align: right;\n",
       "    }\n",
       "</style>\n",
       "<table border=\"1\" class=\"dataframe\">\n",
       "  <thead>\n",
       "    <tr style=\"text-align: right;\">\n",
       "      <th></th>\n",
       "      <th>AGE</th>\n",
       "      <th>SEX</th>\n",
       "      <th>BMI</th>\n",
       "      <th>BP</th>\n",
       "      <th>S1</th>\n",
       "      <th>S2</th>\n",
       "      <th>S3</th>\n",
       "      <th>S4</th>\n",
       "      <th>S5</th>\n",
       "      <th>S6</th>\n",
       "      <th>Y</th>\n",
       "    </tr>\n",
       "  </thead>\n",
       "  <tbody>\n",
       "    <tr>\n",
       "      <th>AGE</th>\n",
       "      <td>1.000000</td>\n",
       "      <td>0.173737</td>\n",
       "      <td>0.185085</td>\n",
       "      <td>0.335428</td>\n",
       "      <td>0.260061</td>\n",
       "      <td>0.219243</td>\n",
       "      <td>-0.075181</td>\n",
       "      <td>0.203841</td>\n",
       "      <td>0.270774</td>\n",
       "      <td>0.301731</td>\n",
       "      <td>0.187889</td>\n",
       "    </tr>\n",
       "    <tr>\n",
       "      <th>SEX</th>\n",
       "      <td>0.173737</td>\n",
       "      <td>1.000000</td>\n",
       "      <td>0.088161</td>\n",
       "      <td>0.241010</td>\n",
       "      <td>0.035277</td>\n",
       "      <td>0.142637</td>\n",
       "      <td>-0.379090</td>\n",
       "      <td>0.332115</td>\n",
       "      <td>0.149916</td>\n",
       "      <td>0.208133</td>\n",
       "      <td>0.043062</td>\n",
       "    </tr>\n",
       "    <tr>\n",
       "      <th>BMI</th>\n",
       "      <td>0.185085</td>\n",
       "      <td>0.088161</td>\n",
       "      <td>1.000000</td>\n",
       "      <td>0.395411</td>\n",
       "      <td>0.249777</td>\n",
       "      <td>0.261170</td>\n",
       "      <td>-0.366811</td>\n",
       "      <td>0.413807</td>\n",
       "      <td>0.446157</td>\n",
       "      <td>0.388680</td>\n",
       "      <td>0.586450</td>\n",
       "    </tr>\n",
       "    <tr>\n",
       "      <th>BP</th>\n",
       "      <td>0.335428</td>\n",
       "      <td>0.241010</td>\n",
       "      <td>0.395411</td>\n",
       "      <td>1.000000</td>\n",
       "      <td>0.242464</td>\n",
       "      <td>0.185548</td>\n",
       "      <td>-0.178762</td>\n",
       "      <td>0.257650</td>\n",
       "      <td>0.393480</td>\n",
       "      <td>0.390430</td>\n",
       "      <td>0.441482</td>\n",
       "    </tr>\n",
       "    <tr>\n",
       "      <th>S1</th>\n",
       "      <td>0.260061</td>\n",
       "      <td>0.035277</td>\n",
       "      <td>0.249777</td>\n",
       "      <td>0.242464</td>\n",
       "      <td>1.000000</td>\n",
       "      <td>0.896663</td>\n",
       "      <td>0.051519</td>\n",
       "      <td>0.542207</td>\n",
       "      <td>0.515503</td>\n",
       "      <td>0.325717</td>\n",
       "      <td>0.212022</td>\n",
       "    </tr>\n",
       "    <tr>\n",
       "      <th>S2</th>\n",
       "      <td>0.219243</td>\n",
       "      <td>0.142637</td>\n",
       "      <td>0.261170</td>\n",
       "      <td>0.185548</td>\n",
       "      <td>0.896663</td>\n",
       "      <td>1.000000</td>\n",
       "      <td>-0.196455</td>\n",
       "      <td>0.659817</td>\n",
       "      <td>0.318357</td>\n",
       "      <td>0.290600</td>\n",
       "      <td>0.174054</td>\n",
       "    </tr>\n",
       "    <tr>\n",
       "      <th>S3</th>\n",
       "      <td>-0.075181</td>\n",
       "      <td>-0.379090</td>\n",
       "      <td>-0.366811</td>\n",
       "      <td>-0.178762</td>\n",
       "      <td>0.051519</td>\n",
       "      <td>-0.196455</td>\n",
       "      <td>1.000000</td>\n",
       "      <td>-0.738493</td>\n",
       "      <td>-0.398577</td>\n",
       "      <td>-0.273697</td>\n",
       "      <td>-0.394789</td>\n",
       "    </tr>\n",
       "    <tr>\n",
       "      <th>S4</th>\n",
       "      <td>0.203841</td>\n",
       "      <td>0.332115</td>\n",
       "      <td>0.413807</td>\n",
       "      <td>0.257650</td>\n",
       "      <td>0.542207</td>\n",
       "      <td>0.659817</td>\n",
       "      <td>-0.738493</td>\n",
       "      <td>1.000000</td>\n",
       "      <td>0.617859</td>\n",
       "      <td>0.417212</td>\n",
       "      <td>0.430453</td>\n",
       "    </tr>\n",
       "    <tr>\n",
       "      <th>S5</th>\n",
       "      <td>0.270774</td>\n",
       "      <td>0.149916</td>\n",
       "      <td>0.446157</td>\n",
       "      <td>0.393480</td>\n",
       "      <td>0.515503</td>\n",
       "      <td>0.318357</td>\n",
       "      <td>-0.398577</td>\n",
       "      <td>0.617859</td>\n",
       "      <td>1.000000</td>\n",
       "      <td>0.464669</td>\n",
       "      <td>0.565883</td>\n",
       "    </tr>\n",
       "    <tr>\n",
       "      <th>S6</th>\n",
       "      <td>0.301731</td>\n",
       "      <td>0.208133</td>\n",
       "      <td>0.388680</td>\n",
       "      <td>0.390430</td>\n",
       "      <td>0.325717</td>\n",
       "      <td>0.290600</td>\n",
       "      <td>-0.273697</td>\n",
       "      <td>0.417212</td>\n",
       "      <td>0.464669</td>\n",
       "      <td>1.000000</td>\n",
       "      <td>0.382483</td>\n",
       "    </tr>\n",
       "    <tr>\n",
       "      <th>Y</th>\n",
       "      <td>0.187889</td>\n",
       "      <td>0.043062</td>\n",
       "      <td>0.586450</td>\n",
       "      <td>0.441482</td>\n",
       "      <td>0.212022</td>\n",
       "      <td>0.174054</td>\n",
       "      <td>-0.394789</td>\n",
       "      <td>0.430453</td>\n",
       "      <td>0.565883</td>\n",
       "      <td>0.382483</td>\n",
       "      <td>1.000000</td>\n",
       "    </tr>\n",
       "  </tbody>\n",
       "</table>\n",
       "</div>"
      ],
      "text/plain": [
       "          AGE       SEX       BMI        BP        S1        S2        S3  \\\n",
       "AGE  1.000000  0.173737  0.185085  0.335428  0.260061  0.219243 -0.075181   \n",
       "SEX  0.173737  1.000000  0.088161  0.241010  0.035277  0.142637 -0.379090   \n",
       "BMI  0.185085  0.088161  1.000000  0.395411  0.249777  0.261170 -0.366811   \n",
       "BP   0.335428  0.241010  0.395411  1.000000  0.242464  0.185548 -0.178762   \n",
       "S1   0.260061  0.035277  0.249777  0.242464  1.000000  0.896663  0.051519   \n",
       "S2   0.219243  0.142637  0.261170  0.185548  0.896663  1.000000 -0.196455   \n",
       "S3  -0.075181 -0.379090 -0.366811 -0.178762  0.051519 -0.196455  1.000000   \n",
       "S4   0.203841  0.332115  0.413807  0.257650  0.542207  0.659817 -0.738493   \n",
       "S5   0.270774  0.149916  0.446157  0.393480  0.515503  0.318357 -0.398577   \n",
       "S6   0.301731  0.208133  0.388680  0.390430  0.325717  0.290600 -0.273697   \n",
       "Y    0.187889  0.043062  0.586450  0.441482  0.212022  0.174054 -0.394789   \n",
       "\n",
       "           S4        S5        S6         Y  \n",
       "AGE  0.203841  0.270774  0.301731  0.187889  \n",
       "SEX  0.332115  0.149916  0.208133  0.043062  \n",
       "BMI  0.413807  0.446157  0.388680  0.586450  \n",
       "BP   0.257650  0.393480  0.390430  0.441482  \n",
       "S1   0.542207  0.515503  0.325717  0.212022  \n",
       "S2   0.659817  0.318357  0.290600  0.174054  \n",
       "S3  -0.738493 -0.398577 -0.273697 -0.394789  \n",
       "S4   1.000000  0.617859  0.417212  0.430453  \n",
       "S5   0.617859  1.000000  0.464669  0.565883  \n",
       "S6   0.417212  0.464669  1.000000  0.382483  \n",
       "Y    0.430453  0.565883  0.382483  1.000000  "
      ]
     },
     "execution_count": 10,
     "metadata": {},
     "output_type": "execute_result"
    }
   ],
   "source": [
    "# Calculamos la matrix de correlación\n",
    "corr = diabetes.corr()\n",
    "corr"
   ]
  },
  {
   "cell_type": "code",
   "execution_count": 11,
   "metadata": {},
   "outputs": [
    {
     "data": {
      "text/plain": [
       "<matplotlib.axes._subplots.AxesSubplot at 0x19c8b35abe0>"
      ]
     },
     "execution_count": 11,
     "metadata": {},
     "output_type": "execute_result"
    },
    {
     "data": {
      "image/png": "[encoded data removed]",
      "text/plain": [
       "<Figure size 1080x576 with 2 Axes>"
      ]
     },
     "metadata": {
      "needs_background": "light"
     },
     "output_type": "display_data"
    }
   ],
   "source": [
    "# Mostramos un mapa de calor\n",
    "plt.figure(figsize=(15,8)) # tamaño del gráfico\n",
    "sns.heatmap(corr, xticklabels=corr.columns, yticklabels=corr.columns, cmap='YlGnBu')"
   ]
  },
  {
   "cell_type": "code",
   "execution_count": 16,
   "metadata": {},
   "outputs": [
    {
     "name": "stdout",
     "output_type": "stream",
     "text": [
      "Coeficiente de correlación = 0.5864501344746889 3.466006445167004e-42\n"
     ]
    },
    {
     "data": {
      "image/png": "[encoded data removed]",
      "text/plain": [
       "<Figure size 1080x576 with 1 Axes>"
      ]
     },
     "metadata": {
      "needs_background": "light"
     },
     "output_type": "display_data"
    }
   ],
   "source": [
    "variable = 'BMI'\n",
    "\n",
    "gradient, intercept, r_value, p_value, std_err = stats.linregress(X[variable],Y)\n",
    "print('Coeficiente de correlación =',r_value,p_value)\n",
    "\n",
    "mn=np.min(X[variable])\n",
    "mx=np.max(X[variable])\n",
    "\n",
    "x1=np.linspace(mn,mx,500)\n",
    "y1=gradient*x1+intercept\n",
    "\n",
    "plt.figure(figsize=(15,8)) # tamaño del gráfico\n",
    "plt.plot(X[variable],Y,'ob')\n",
    "plt.plot(x1,y1,'-r')\n",
    "plt.show()"
   ]
  },
  {
   "cell_type": "markdown",
   "metadata": {},
   "source": [
    "### Regresión lineal múltiple"
   ]
  },
  {
   "cell_type": "code",
   "execution_count": 20,
   "metadata": {},
   "outputs": [],
   "source": [
    "# Partimos el dataset en Train y Test\n",
    "from sklearn.model_selection import train_test_split\n",
    "X_train, X_test, y_train, y_test = train_test_split(X, Y, test_size=0.2)"
   ]
  },
  {
   "cell_type": "code",
   "execution_count": 21,
   "metadata": {},
   "outputs": [],
   "source": [
    "# Ajustamos a un modelo de regresión lineal\n",
    "lm = linear_model.LinearRegression()\n",
    "model = lm.fit(X_train, y_train)\n",
    "predictions_test = lm.predict(X_test)\n",
    "predictions_train = lm.predict(X_train)"
   ]
  },
  {
   "cell_type": "code",
   "execution_count": 23,
   "metadata": {},
   "outputs": [
    {
     "name": "stdout",
     "output_type": "stream",
     "text": [
      "Intercepto: \n",
      " -367.92163201791516\n",
      "Coeficientes: \n",
      " [-1.18991163e-02 -1.97987972e+01  6.37838545e+00  1.19888382e+00\n",
      " -1.23056846e+00  8.00808339e-01  7.48548835e-01  8.64865258e+00\n",
      "  6.85891939e+01  1.97065615e-01]\n",
      "Error Cuadrático Medio 2341.2232622043202\n",
      "\n",
      "R cuadrado test: 0.5689706231214972\n",
      "R cuadrado train: 0.5030486685478779\n",
      "\n",
      "MSE test: 2341.2232622043202\n",
      "MSE train: 3008.71\n"
     ]
    }
   ],
   "source": [
    "# Mostrar los coeficientes\n",
    "print('Intercepto: \\n', lm.intercept_)\n",
    "print('Coeficientes: \\n', lm.coef_)\n",
    "# Error Cuadrático Medio: mide el promedio de los errores al cuadrado\n",
    "print('Error Cuadrático Medio',mean_squared_error(y_test, predictions_test))\n",
    "# R cuadrado / coef. de determinación: [0, 1]\n",
    "print('\\nR cuadrado test:',r2_score(y_test, predictions_test))\n",
    "print('R cuadrado train:',r2_score(y_train, predictions_train))\n",
    "print('\\nMSE test:',mean_squared_error(y_test, predictions_test))\n",
    "print('MSE train: %.2f'%mean_squared_error(y_train, predictions_train))"
   ]
  },
  {
   "cell_type": "code",
   "execution_count": 24,
   "metadata": {
    "scrolled": false
   },
   "outputs": [
    {
     "data": {
      "image/png": "[encoded data removed]",
      "text/plain": [
       "<Figure size 576x576 with 1 Axes>"
      ]
     },
     "metadata": {
      "needs_background": "light"
     },
     "output_type": "display_data"
    }
   ],
   "source": [
    "# Grafiquemos el valor real vs la predicción del indicador de diabetes\n",
    "mn=np.min(y_test)\n",
    "mx=np.max(y_test)\n",
    "\n",
    "x1=np.linspace(mn,mx,500)\n",
    "y1=1*x1+0\n",
    "\n",
    "plt.figure(figsize=(8,8))\n",
    "\n",
    "plt.scatter(y_test, predictions_test)\n",
    "plt.plot(x1,y1,'-r')\n",
    "plt.xlabel('Valor real')\n",
    "plt.ylabel('Predicción')\n",
    "\n",
    "plt.show()"
   ]
  },
  {
   "cell_type": "markdown",
   "metadata": {},
   "source": [
    "## Regresión Logística"
   ]
  },
  {
   "cell_type": "code",
   "execution_count": 26,
   "metadata": {},
   "outputs": [],
   "source": [
    "# Cargamos nuestra data de Attrition\n",
    "df_train_cli = pd.read_excel('D:/EFS/Modulo4/Sesion4/data/train_clientes.xlsx')"
   ]
  },
  {
   "cell_type": "code",
   "execution_count": 27,
   "metadata": {
    "scrolled": true
   },
   "outputs": [],
   "source": [
    "df_train_cli.index = df_train_cli['ID_CORRELATIVO']\n",
    "df_train_cli.drop(columns=['CODMES','ID_CORRELATIVO'], inplace=True)\n",
    "df_train_cli.dropna(subset=['ANTIGUEDAD'], inplace = True) # eliminamos los nulos de ANTIGUEDAD"
   ]
  },
  {
   "cell_type": "code",
   "execution_count": 28,
   "metadata": {},
   "outputs": [
    {
     "data": {
      "text/plain": [
       "Text(0,0.5,'ATTRITION')"
      ]
     },
     "execution_count": 28,
     "metadata": {},
     "output_type": "execute_result"
    },
    {
     "data": {
      "image/png": "[encoded data removed]",
      "text/plain": [
       "<Figure size 432x288 with 1 Axes>"
      ]
     },
     "metadata": {
      "needs_background": "light"
     },
     "output_type": "display_data"
    }
   ],
   "source": [
    "plt.scatter(df_train_cli.ANTIGUEDAD, df_train_cli.ATTRITION)\n",
    "plt.xlabel('ANTIGUEDAD')\n",
    "plt.ylabel('ATTRITION')"
   ]
  },
  {
   "attachments": {
    "Logistic_Regression.webp": {
     "image/webp": "[encoded data removed]"
    }
   },
   "cell_type": "markdown",
   "metadata": {},
   "source": [
    "Notamos que:\n",
    "    - Si ANTIGUEDAD <=10, entonces la clase predicha de ATTRITION será 0\n",
    "    - Si ANTIGUEDAD >10, entonces la clase predicha de ATTRITION será 1\n",
    "    \n",
    "En el mejor de los casos sería...\n",
    "![Logistic_Regression.webp](attachment:Logistic_Regression.webp)"
   ]
  },
  {
   "cell_type": "code",
   "execution_count": 29,
   "metadata": {
    "scrolled": true
   },
   "outputs": [
    {
     "data": {
      "text/html": [
       "<div>\n",
       "<style scoped>\n",
       "    .dataframe tbody tr th:only-of-type {\n",
       "        vertical-align: middle;\n",
       "    }\n",
       "\n",
       "    .dataframe tbody tr th {\n",
       "        vertical-align: top;\n",
       "    }\n",
       "\n",
       "    .dataframe thead th {\n",
       "        text-align: right;\n",
       "    }\n",
       "</style>\n",
       "<table border=\"1\" class=\"dataframe\">\n",
       "  <thead>\n",
       "    <tr style=\"text-align: right;\">\n",
       "      <th></th>\n",
       "      <th>FLG_BANCARIZADO</th>\n",
       "      <th>RANG_INGRESO</th>\n",
       "      <th>FLAG_LIMA_PROVINCIA</th>\n",
       "      <th>EDAD</th>\n",
       "      <th>ANTIGUEDAD</th>\n",
       "      <th>ATTRITION</th>\n",
       "      <th>RANG_SDO_PASIVO_MENOS0</th>\n",
       "      <th>SDO_ACTIVO_MENOS0</th>\n",
       "      <th>SDO_ACTIVO_MENOS1</th>\n",
       "      <th>SDO_ACTIVO_MENOS2</th>\n",
       "      <th>...</th>\n",
       "      <th>NRO_ENTID_SSFF_MENOS3</th>\n",
       "      <th>NRO_ENTID_SSFF_MENOS4</th>\n",
       "      <th>NRO_ENTID_SSFF_MENOS5</th>\n",
       "      <th>FLG_SDO_OTSSFF_MENOS0</th>\n",
       "      <th>FLG_SDO_OTSSFF_MENOS1</th>\n",
       "      <th>FLG_SDO_OTSSFF_MENOS2</th>\n",
       "      <th>FLG_SDO_OTSSFF_MENOS3</th>\n",
       "      <th>FLG_SDO_OTSSFF_MENOS4</th>\n",
       "      <th>FLG_SDO_OTSSFF_MENOS5</th>\n",
       "      <th>ATTRITION_pred</th>\n",
       "    </tr>\n",
       "    <tr>\n",
       "      <th>ID_CORRELATIVO</th>\n",
       "      <th></th>\n",
       "      <th></th>\n",
       "      <th></th>\n",
       "      <th></th>\n",
       "      <th></th>\n",
       "      <th></th>\n",
       "      <th></th>\n",
       "      <th></th>\n",
       "      <th></th>\n",
       "      <th></th>\n",
       "      <th></th>\n",
       "      <th></th>\n",
       "      <th></th>\n",
       "      <th></th>\n",
       "      <th></th>\n",
       "      <th></th>\n",
       "      <th></th>\n",
       "      <th></th>\n",
       "      <th></th>\n",
       "      <th></th>\n",
       "      <th></th>\n",
       "    </tr>\n",
       "  </thead>\n",
       "  <tbody>\n",
       "    <tr>\n",
       "      <th>35653</th>\n",
       "      <td>1</td>\n",
       "      <td>Rang_ingreso_06</td>\n",
       "      <td>Lima</td>\n",
       "      <td>25.0</td>\n",
       "      <td>6.0</td>\n",
       "      <td>0</td>\n",
       "      <td>Rango_SDO_09</td>\n",
       "      <td>0</td>\n",
       "      <td>0</td>\n",
       "      <td>0</td>\n",
       "      <td>...</td>\n",
       "      <td>1</td>\n",
       "      <td>1</td>\n",
       "      <td>1</td>\n",
       "      <td>1</td>\n",
       "      <td>0</td>\n",
       "      <td>0</td>\n",
       "      <td>0</td>\n",
       "      <td>0</td>\n",
       "      <td>0</td>\n",
       "      <td>0</td>\n",
       "    </tr>\n",
       "    <tr>\n",
       "      <th>66575</th>\n",
       "      <td>1</td>\n",
       "      <td>Rang_ingreso_03</td>\n",
       "      <td>Provincia</td>\n",
       "      <td>27.0</td>\n",
       "      <td>0.0</td>\n",
       "      <td>0</td>\n",
       "      <td>Rango_SDO_01</td>\n",
       "      <td>0</td>\n",
       "      <td>0</td>\n",
       "      <td>0</td>\n",
       "      <td>...</td>\n",
       "      <td>1</td>\n",
       "      <td>1</td>\n",
       "      <td>1</td>\n",
       "      <td>0</td>\n",
       "      <td>0</td>\n",
       "      <td>0</td>\n",
       "      <td>0</td>\n",
       "      <td>0</td>\n",
       "      <td>0</td>\n",
       "      <td>0</td>\n",
       "    </tr>\n",
       "    <tr>\n",
       "      <th>56800</th>\n",
       "      <td>1</td>\n",
       "      <td>Rang_ingreso_01</td>\n",
       "      <td>Provincia</td>\n",
       "      <td>34.0</td>\n",
       "      <td>4.0</td>\n",
       "      <td>0</td>\n",
       "      <td>Rango_SDO_02</td>\n",
       "      <td>0</td>\n",
       "      <td>0</td>\n",
       "      <td>0</td>\n",
       "      <td>...</td>\n",
       "      <td>0</td>\n",
       "      <td>0</td>\n",
       "      <td>0</td>\n",
       "      <td>0</td>\n",
       "      <td>0</td>\n",
       "      <td>0</td>\n",
       "      <td>0</td>\n",
       "      <td>0</td>\n",
       "      <td>0</td>\n",
       "      <td>0</td>\n",
       "    </tr>\n",
       "    <tr>\n",
       "      <th>8410</th>\n",
       "      <td>1</td>\n",
       "      <td>Rang_ingreso_04</td>\n",
       "      <td>Provincia</td>\n",
       "      <td>63.0</td>\n",
       "      <td>5.0</td>\n",
       "      <td>0</td>\n",
       "      <td>Rango_SDO_03</td>\n",
       "      <td>0</td>\n",
       "      <td>0</td>\n",
       "      <td>0</td>\n",
       "      <td>...</td>\n",
       "      <td>3</td>\n",
       "      <td>3</td>\n",
       "      <td>3</td>\n",
       "      <td>1</td>\n",
       "      <td>1</td>\n",
       "      <td>1</td>\n",
       "      <td>1</td>\n",
       "      <td>1</td>\n",
       "      <td>1</td>\n",
       "      <td>0</td>\n",
       "    </tr>\n",
       "    <tr>\n",
       "      <th>6853</th>\n",
       "      <td>1</td>\n",
       "      <td>NaN</td>\n",
       "      <td>Lima</td>\n",
       "      <td>25.0</td>\n",
       "      <td>0.0</td>\n",
       "      <td>0</td>\n",
       "      <td>Rango_SDO_01</td>\n",
       "      <td>0</td>\n",
       "      <td>0</td>\n",
       "      <td>0</td>\n",
       "      <td>...</td>\n",
       "      <td>0</td>\n",
       "      <td>0</td>\n",
       "      <td>0</td>\n",
       "      <td>0</td>\n",
       "      <td>0</td>\n",
       "      <td>0</td>\n",
       "      <td>0</td>\n",
       "      <td>0</td>\n",
       "      <td>0</td>\n",
       "      <td>0</td>\n",
       "    </tr>\n",
       "  </tbody>\n",
       "</table>\n",
       "<p>5 rows × 52 columns</p>\n",
       "</div>"
      ],
      "text/plain": [
       "                FLG_BANCARIZADO     RANG_INGRESO FLAG_LIMA_PROVINCIA  EDAD  \\\n",
       "ID_CORRELATIVO                                                               \n",
       "35653                         1  Rang_ingreso_06                Lima  25.0   \n",
       "66575                         1  Rang_ingreso_03           Provincia  27.0   \n",
       "56800                         1  Rang_ingreso_01           Provincia  34.0   \n",
       "8410                          1  Rang_ingreso_04           Provincia  63.0   \n",
       "6853                          1              NaN                Lima  25.0   \n",
       "\n",
       "                ANTIGUEDAD  ATTRITION RANG_SDO_PASIVO_MENOS0  \\\n",
       "ID_CORRELATIVO                                                 \n",
       "35653                  6.0          0           Rango_SDO_09   \n",
       "66575                  0.0          0           Rango_SDO_01   \n",
       "56800                  4.0          0           Rango_SDO_02   \n",
       "8410                   5.0          0           Rango_SDO_03   \n",
       "6853                   0.0          0           Rango_SDO_01   \n",
       "\n",
       "                SDO_ACTIVO_MENOS0  SDO_ACTIVO_MENOS1  SDO_ACTIVO_MENOS2  \\\n",
       "ID_CORRELATIVO                                                            \n",
       "35653                           0                  0                  0   \n",
       "66575                           0                  0                  0   \n",
       "56800                           0                  0                  0   \n",
       "8410                            0                  0                  0   \n",
       "6853                            0                  0                  0   \n",
       "\n",
       "                    ...        NRO_ENTID_SSFF_MENOS3  NRO_ENTID_SSFF_MENOS4  \\\n",
       "ID_CORRELATIVO      ...                                                       \n",
       "35653               ...                            1                      1   \n",
       "66575               ...                            1                      1   \n",
       "56800               ...                            0                      0   \n",
       "8410                ...                            3                      3   \n",
       "6853                ...                            0                      0   \n",
       "\n",
       "                NRO_ENTID_SSFF_MENOS5  FLG_SDO_OTSSFF_MENOS0  \\\n",
       "ID_CORRELATIVO                                                 \n",
       "35653                               1                      1   \n",
       "66575                               1                      0   \n",
       "56800                               0                      0   \n",
       "8410                                3                      1   \n",
       "6853                                0                      0   \n",
       "\n",
       "                FLG_SDO_OTSSFF_MENOS1  FLG_SDO_OTSSFF_MENOS2  \\\n",
       "ID_CORRELATIVO                                                 \n",
       "35653                               0                      0   \n",
       "66575                               0                      0   \n",
       "56800                               0                      0   \n",
       "8410                                1                      1   \n",
       "6853                                0                      0   \n",
       "\n",
       "                FLG_SDO_OTSSFF_MENOS3  FLG_SDO_OTSSFF_MENOS4  \\\n",
       "ID_CORRELATIVO                                                 \n",
       "35653                               0                      0   \n",
       "66575                               0                      0   \n",
       "56800                               0                      0   \n",
       "8410                                1                      1   \n",
       "6853                                0                      0   \n",
       "\n",
       "                FLG_SDO_OTSSFF_MENOS5 ATTRITION_pred  \n",
       "ID_CORRELATIVO                                        \n",
       "35653                               0              0  \n",
       "66575                               0              0  \n",
       "56800                               0              0  \n",
       "8410                                1              0  \n",
       "6853                                0              0  \n",
       "\n",
       "[5 rows x 52 columns]"
      ]
     },
     "execution_count": 29,
     "metadata": {},
     "output_type": "execute_result"
    }
   ],
   "source": [
    "df_train_cli['ATTRITION_pred'] = np.where(df_train_cli.ANTIGUEDAD.fillna(0) > 10, 1, 0)\n",
    "df_train_cli.head()"
   ]
  },
  {
   "attachments": {
    "sigmoid.jpg": {
     "image/jpeg": "[encoded data removed]"
    }
   },
   "cell_type": "markdown",
   "metadata": {},
   "source": [
    "## ¿Qué es una Regresión Logística?\n",
    "\n",
    "**Regresión lineal:** varible objetivo continua es modelada como una combinación lineal de las variables predictoras:\n",
    "\n",
    "$$y = \\beta_0 + \\beta_1x$$\n",
    "\n",
    "**Regresión logística:** log-odds de una respuesta categorica \"true\" (1) es modelada como una combinación lineal de las variables predictoras:\n",
    "\n",
    "$$\\log \\left({p\\over 1-p}\\right) = \\beta_0 + \\beta_1x$$\n",
    "\n",
    "Esta es la llamada **función logit**.\n",
    "\n",
    "Algunas veces es escrita como pi:\n",
    "\n",
    "$$\\log \\left({\\pi\\over 1-\\pi}\\right) = \\beta_0 + \\beta_1x$$\n",
    "\n",
    "La ecuación puede ser redefinida como la **función logistic**:\n",
    "\n",
    "$$\\pi = \\frac{e^{\\beta_0 + \\beta_1x}} {1 + e^{\\beta_0 + \\beta_1x}}$$\n",
    "\n",
    "... también conocida como la función sigmoid\n",
    "![sigmoid.jpg](attachment:sigmoid.jpg)"
   ]
  },
  {
   "cell_type": "code",
   "execution_count": 30,
   "metadata": {},
   "outputs": [],
   "source": [
    "import statsmodels.api as sm"
   ]
  },
  {
   "cell_type": "code",
   "execution_count": 31,
   "metadata": {},
   "outputs": [
    {
     "ename": "NameError",
     "evalue": "name 'df_train_cli_aux' is not defined",
     "output_type": "error",
     "traceback": [
      "\u001b[1;31m---------------------------------------------------------------------------\u001b[0m",
      "\u001b[1;31mNameError\u001b[0m                                 Traceback (most recent call last)",
      "\u001b[1;32m<ipython-input-31-a95fff7607f9>\u001b[0m in \u001b[0;36m<module>\u001b[1;34m()\u001b[0m\n\u001b[1;32m----> 1\u001b[1;33m \u001b[1;32mdel\u001b[0m \u001b[0mdf_train_cli_aux\u001b[0m\u001b[1;33m\u001b[0m\u001b[0m\n\u001b[0m\u001b[0;32m      2\u001b[0m \u001b[1;32mdel\u001b[0m \u001b[0mdf_train_cli_bal\u001b[0m\u001b[1;33m\u001b[0m\u001b[0m\n",
      "\u001b[1;31mNameError\u001b[0m: name 'df_train_cli_aux' is not defined"
     ]
    }
   ],
   "source": [
    "del df_train_cli_aux\n",
    "del df_train_cli_bal"
   ]
  },
  {
   "cell_type": "code",
   "execution_count": 32,
   "metadata": {
    "scrolled": true
   },
   "outputs": [],
   "source": [
    "# Eliminamos variables generadas anteriormente\n",
    "df_train = df_train_cli.drop(columns=['ATTRITION_pred'])   \n",
    "\n",
    "# Creamos variables dummy\n",
    "cols_cat = list(df_train.select_dtypes(include=['object']).columns)\n",
    "df_cat = pd.get_dummies(df_train[cols_cat])\n",
    "\n",
    "# Agregamos las variables dummy\n",
    "df_train = df_train.merge(df_cat, how ='left', left_index=True, right_index=True)\n",
    "\n",
    "# Eliminamos las variables tipo 'object'\n",
    "df_train = df_train.select_dtypes(exclude=['object'])\n",
    "\n",
    "# Imputamos la Edad por la media\n",
    "df_train['EDAD'] = df_train['EDAD'].fillna(df_train['EDAD'].mean())"
   ]
  },
  {
   "cell_type": "code",
   "execution_count": 33,
   "metadata": {
    "scrolled": true
   },
   "outputs": [],
   "source": [
    "y = np.asarray(df_train.ATTRITION)\n",
    "df_train.drop(columns=['ATTRITION'],inplace=True)\n",
    "X = np.asarray(df_train.iloc[:,:59])"
   ]
  },
  {
   "cell_type": "code",
   "execution_count": 34,
   "metadata": {
    "scrolled": false
   },
   "outputs": [
    {
     "name": "stdout",
     "output_type": "stream",
     "text": [
      "Optimization terminated successfully.\n",
      "         Current function value: 0.344119\n",
      "         Iterations 9\n",
      "                           Logit Regression Results                           \n",
      "==============================================================================\n",
      "Dep. Variable:                      y   No. Observations:                68238\n",
      "Model:                          Logit   Df Residuals:                    68179\n",
      "Method:                           MLE   Df Model:                           58\n",
      "Date:                Sat, 27 Oct 2018   Pseudo R-squ.:                  0.1459\n",
      "Time:                        07:58:56   Log-Likelihood:                -23482.\n",
      "converged:                       True   LL-Null:                       -27493.\n",
      "                                        LLR p-value:                     0.000\n",
      "==============================================================================\n",
      "                 coef    std err          z      P>|z|      [0.025      0.975]\n",
      "------------------------------------------------------------------------------\n",
      "x1             0.2278      0.036      6.361      0.000       0.158       0.298\n",
      "x2            -0.0267      0.001    -30.358      0.000      -0.028      -0.025\n",
      "x3            -0.0376      0.006     -5.996      0.000      -0.050      -0.025\n",
      "x4          -1.35e-06    1.8e-06     -0.752      0.452   -4.87e-06    2.17e-06\n",
      "x5         -8.937e-06   3.09e-06     -2.888      0.004    -1.5e-05   -2.87e-06\n",
      "x6          4.094e-06    2.1e-06      1.946      0.052   -3.04e-08    8.22e-06\n",
      "x7          3.649e-06   3.01e-06      1.214      0.225   -2.24e-06    9.54e-06\n",
      "x8          4.282e-06   2.09e-06      2.053      0.040    1.93e-07    8.37e-06\n",
      "x9         -2.651e-06   1.26e-06     -2.102      0.036   -5.12e-06    -1.8e-07\n",
      "x10            0.0670      0.053      1.263      0.207      -0.037       0.171\n",
      "x11           -0.3994      0.071     -5.589      0.000      -0.539      -0.259\n",
      "x12           -0.1268      0.071     -1.785      0.074      -0.266       0.012\n",
      "x13           -0.2216      0.077     -2.869      0.004      -0.373      -0.070\n",
      "x14           -0.0635      0.110     -0.577      0.564      -0.279       0.152\n",
      "x15            0.0378      0.101      0.375      0.707      -0.160       0.235\n",
      "x16           -0.4357      0.033    -13.153      0.000      -0.501      -0.371\n",
      "x17           -0.0449      0.011     -4.228      0.000      -0.066      -0.024\n",
      "x18           -0.0072      0.012     -0.622      0.534      -0.030       0.015\n",
      "x19           -0.0055      0.014     -0.389      0.697      -0.033       0.022\n",
      "x20           -0.0147      0.014     -1.024      0.306      -0.043       0.013\n",
      "x21           -0.0115      0.016     -0.698      0.485      -0.044       0.021\n",
      "x22           -0.0057      0.014     -0.398      0.691      -0.034       0.022\n",
      "x23           -0.0172      0.006     -2.879      0.004      -0.029      -0.005\n",
      "x24           -0.0002      0.007     -0.034      0.973      -0.014       0.014\n",
      "x25           -0.0121      0.009     -1.307      0.191      -0.030       0.006\n",
      "x26           -0.0085      0.010     -0.855      0.392      -0.028       0.011\n",
      "x27            0.0190      0.011      1.676      0.094      -0.003       0.041\n",
      "x28           -0.0036      0.010     -0.376      0.707      -0.023       0.015\n",
      "x29        -6.317e-05      0.002     -0.027      0.979      -0.005       0.005\n",
      "x30            0.0208      0.002      8.614      0.000       0.016       0.026\n",
      "x31           -0.0120      0.003     -3.990      0.000      -0.018      -0.006\n",
      "x32           -0.0135      0.003     -3.931      0.000      -0.020      -0.007\n",
      "x33           -0.0017      0.004     -0.428      0.669      -0.009       0.006\n",
      "x34            0.0051      0.004      1.423      0.155      -0.002       0.012\n",
      "x35           -0.1034      0.040     -2.563      0.010      -0.182      -0.024\n",
      "x36           -0.0701      0.055     -1.285      0.199      -0.177       0.037\n",
      "x37            0.0507      0.055      0.926      0.355      -0.057       0.158\n",
      "x38           -0.0120      0.056     -0.215      0.830      -0.121       0.097\n",
      "x39            0.1398      0.056      2.503      0.012       0.030       0.249\n",
      "x40            0.0930      0.042      2.192      0.028       0.010       0.176\n",
      "x41           -0.2468      0.073     -3.378      0.001      -0.390      -0.104\n",
      "x42           -0.1954      0.092     -2.134      0.033      -0.375      -0.016\n",
      "x43           -0.3416      0.093     -3.668      0.000      -0.524      -0.159\n",
      "x44           -0.0251      0.095     -0.265      0.791      -0.211       0.161\n",
      "x45           -0.0301      0.096     -0.313      0.754      -0.219       0.158\n",
      "x46            0.1173      0.077      1.516      0.130      -0.034       0.269\n",
      "x47            0.0305      0.042      0.719      0.472      -0.053       0.113\n",
      "x48           -0.2952      0.045     -6.622      0.000      -0.383      -0.208\n",
      "x49           -0.6880      0.050    -13.677      0.000      -0.787      -0.589\n",
      "x50           -1.0181      0.060    -17.009      0.000      -1.135      -0.901\n",
      "x51           -1.1967      0.083    -14.366      0.000      -1.360      -1.033\n",
      "x52           -1.1436      0.079    -14.530      0.000      -1.298      -0.989\n",
      "x53           -1.1190      0.131     -8.555      0.000      -1.375      -0.863\n",
      "x54           -1.4151      0.211     -6.717      0.000      -1.828      -1.002\n",
      "x55           -1.5006      0.222     -6.747      0.000      -1.937      -1.065\n",
      "x56           -1.0318      0.041    -25.027      0.000      -1.113      -0.951\n",
      "x57           -0.9095      0.041    -22.078      0.000      -0.990      -0.829\n",
      "x58            1.2802      0.042     30.649      0.000       1.198       1.362\n",
      "x59            1.4499      0.030     48.675      0.000       1.392       1.508\n",
      "==============================================================================\n"
     ]
    }
   ],
   "source": [
    "logit_model=sm.Logit(y,X)\n",
    "result=logit_model.fit()\n",
    "print(result.summary())"
   ]
  },
  {
   "cell_type": "code",
   "execution_count": 35,
   "metadata": {},
   "outputs": [
    {
     "data": {
      "text/plain": [
       "LogisticRegression(C=1.0, class_weight='balanced', dual=False,\n",
       "          fit_intercept=False, intercept_scaling=1, max_iter=100,\n",
       "          multi_class='ovr', n_jobs=1, penalty='l2', random_state=None,\n",
       "          solver='liblinear', tol=0.0001, verbose=0, warm_start=False)"
      ]
     },
     "execution_count": 35,
     "metadata": {},
     "output_type": "execute_result"
    }
   ],
   "source": [
    "X_train, X_test, y_train, y_test = train_test_split(X, y, test_size=0.2, random_state=0)\n",
    "from sklearn.linear_model import LogisticRegression\n",
    "from sklearn import metrics\n",
    "logreg = LogisticRegression(fit_intercept=False, class_weight = 'balanced')\n",
    "logreg.fit(X_train, y_train)"
   ]
  },
  {
   "cell_type": "code",
   "execution_count": 36,
   "metadata": {},
   "outputs": [
    {
     "name": "stdout",
     "output_type": "stream",
     "text": [
      "Accuracy de regresion logistica clasificada en el test: 0.59\n"
     ]
    }
   ],
   "source": [
    "y_pred = logreg.predict(X_test)\n",
    "y_score_pred = logreg.predict_proba(X_test)\n",
    "print('Accuracy de regresion logistica clasificada en el test: {:.2f}'.format(logreg.score(X_test, y_test)))"
   ]
  },
  {
   "cell_type": "markdown",
   "metadata": {},
   "source": [
    "### Análisis de deciles"
   ]
  },
  {
   "cell_type": "code",
   "execution_count": 37,
   "metadata": {
    "scrolled": true
   },
   "outputs": [
    {
     "data": {
      "text/html": [
       "<div>\n",
       "<style scoped>\n",
       "    .dataframe tbody tr th:only-of-type {\n",
       "        vertical-align: middle;\n",
       "    }\n",
       "\n",
       "    .dataframe tbody tr th {\n",
       "        vertical-align: top;\n",
       "    }\n",
       "\n",
       "    .dataframe thead th {\n",
       "        text-align: right;\n",
       "    }\n",
       "</style>\n",
       "<table border=\"1\" class=\"dataframe\">\n",
       "  <thead>\n",
       "    <tr style=\"text-align: right;\">\n",
       "      <th></th>\n",
       "      <th>Test</th>\n",
       "      <th>Pred</th>\n",
       "      <th>Prob1</th>\n",
       "      <th>Prob0</th>\n",
       "    </tr>\n",
       "  </thead>\n",
       "  <tbody>\n",
       "    <tr>\n",
       "      <th>0</th>\n",
       "      <td>0</td>\n",
       "      <td>1</td>\n",
       "      <td>0.638740</td>\n",
       "      <td>0.361260</td>\n",
       "    </tr>\n",
       "    <tr>\n",
       "      <th>1</th>\n",
       "      <td>1</td>\n",
       "      <td>1</td>\n",
       "      <td>0.657465</td>\n",
       "      <td>0.342535</td>\n",
       "    </tr>\n",
       "    <tr>\n",
       "      <th>2</th>\n",
       "      <td>0</td>\n",
       "      <td>0</td>\n",
       "      <td>0.200125</td>\n",
       "      <td>0.799875</td>\n",
       "    </tr>\n",
       "    <tr>\n",
       "      <th>3</th>\n",
       "      <td>0</td>\n",
       "      <td>0</td>\n",
       "      <td>0.480357</td>\n",
       "      <td>0.519643</td>\n",
       "    </tr>\n",
       "    <tr>\n",
       "      <th>4</th>\n",
       "      <td>1</td>\n",
       "      <td>1</td>\n",
       "      <td>0.662589</td>\n",
       "      <td>0.337411</td>\n",
       "    </tr>\n",
       "  </tbody>\n",
       "</table>\n",
       "</div>"
      ],
      "text/plain": [
       "   Test  Pred     Prob1     Prob0\n",
       "0     0     1  0.638740  0.361260\n",
       "1     1     1  0.657465  0.342535\n",
       "2     0     0  0.200125  0.799875\n",
       "3     0     0  0.480357  0.519643\n",
       "4     1     1  0.662589  0.337411"
      ]
     },
     "execution_count": 37,
     "metadata": {},
     "output_type": "execute_result"
    }
   ],
   "source": [
    "df_resul = pd.DataFrame({'Test':y_test,'Pred':y_pred, 'Prob1':y_score_pred[:,1], 'Prob0':y_score_pred[:,0]})\n",
    "df_resul.head()\n",
    "#df_matrix.groupby(['Test','Pred']).size()"
   ]
  },
  {
   "cell_type": "code",
   "execution_count": 40,
   "metadata": {
    "scrolled": true
   },
   "outputs": [],
   "source": [
    "df_resul['Prob1_decil'] = pd.qcut(df_resul['Prob1'], q=10)\n",
    "\n",
    "# Generamos frecuencias absolutas acumuladas\n",
    "df_freqAcum = df_resul.groupby('Prob1_decil').agg({'Test':'sum','Pred':'count'}).cumsum() \n",
    "df_freqAcum.reset_index(drop = False, inplace = True)\n",
    "\n",
    "df_freqAcum.rename(columns={'Test':'ATTRITION_acum','Pred':'Q_acum'}, inplace=True)\n",
    "\n",
    "df_freqAcum['ATTRITION_test'] = df_freqAcum.ATTRITION_acum/df_freqAcum.Q_acum\n",
    "df_freqAcum['%Q'] = df_freqAcum.Q_acum/max(df_freqAcum.Q_acum)\n",
    "df_freqAcum['%ATTRITION'] = df_freqAcum.ATTRITION_acum/max(df_freqAcum.ATTRITION_acum)"
   ]
  },
  {
   "cell_type": "code",
   "execution_count": 39,
   "metadata": {},
   "outputs": [
    {
     "data": {
      "text/html": [
       "<div>\n",
       "<style scoped>\n",
       "    .dataframe tbody tr th:only-of-type {\n",
       "        vertical-align: middle;\n",
       "    }\n",
       "\n",
       "    .dataframe tbody tr th {\n",
       "        vertical-align: top;\n",
       "    }\n",
       "\n",
       "    .dataframe thead th {\n",
       "        text-align: right;\n",
       "    }\n",
       "</style>\n",
       "<table border=\"1\" class=\"dataframe\">\n",
       "  <thead>\n",
       "    <tr style=\"text-align: right;\">\n",
       "      <th></th>\n",
       "      <th>Prob1_decil</th>\n",
       "      <th>ATTRITION_acum</th>\n",
       "      <th>Q_acum</th>\n",
       "      <th>ATTRITION_test</th>\n",
       "      <th>%Q</th>\n",
       "      <th>%ATTRITION</th>\n",
       "    </tr>\n",
       "  </thead>\n",
       "  <tbody>\n",
       "    <tr>\n",
       "      <th>0</th>\n",
       "      <td>(-0.001, 0.242]</td>\n",
       "      <td>47</td>\n",
       "      <td>1365</td>\n",
       "      <td>0.034432</td>\n",
       "      <td>0.100015</td>\n",
       "      <td>0.024004</td>\n",
       "    </tr>\n",
       "    <tr>\n",
       "      <th>1</th>\n",
       "      <td>(0.242, 0.319]</td>\n",
       "      <td>124</td>\n",
       "      <td>2730</td>\n",
       "      <td>0.045421</td>\n",
       "      <td>0.200029</td>\n",
       "      <td>0.063330</td>\n",
       "    </tr>\n",
       "    <tr>\n",
       "      <th>2</th>\n",
       "      <td>(0.319, 0.38]</td>\n",
       "      <td>253</td>\n",
       "      <td>4095</td>\n",
       "      <td>0.061783</td>\n",
       "      <td>0.300044</td>\n",
       "      <td>0.129213</td>\n",
       "    </tr>\n",
       "    <tr>\n",
       "      <th>3</th>\n",
       "      <td>(0.38, 0.435]</td>\n",
       "      <td>368</td>\n",
       "      <td>5459</td>\n",
       "      <td>0.067412</td>\n",
       "      <td>0.399985</td>\n",
       "      <td>0.187947</td>\n",
       "    </tr>\n",
       "    <tr>\n",
       "      <th>4</th>\n",
       "      <td>(0.435, 0.486]</td>\n",
       "      <td>511</td>\n",
       "      <td>6824</td>\n",
       "      <td>0.074883</td>\n",
       "      <td>0.500000</td>\n",
       "      <td>0.260981</td>\n",
       "    </tr>\n",
       "    <tr>\n",
       "      <th>5</th>\n",
       "      <td>(0.486, 0.528]</td>\n",
       "      <td>721</td>\n",
       "      <td>8189</td>\n",
       "      <td>0.088045</td>\n",
       "      <td>0.600015</td>\n",
       "      <td>0.368233</td>\n",
       "    </tr>\n",
       "    <tr>\n",
       "      <th>6</th>\n",
       "      <td>(0.528, 0.564]</td>\n",
       "      <td>1002</td>\n",
       "      <td>9553</td>\n",
       "      <td>0.104889</td>\n",
       "      <td>0.699956</td>\n",
       "      <td>0.511747</td>\n",
       "    </tr>\n",
       "    <tr>\n",
       "      <th>7</th>\n",
       "      <td>(0.564, 0.592]</td>\n",
       "      <td>1264</td>\n",
       "      <td>10918</td>\n",
       "      <td>0.115772</td>\n",
       "      <td>0.799971</td>\n",
       "      <td>0.645557</td>\n",
       "    </tr>\n",
       "    <tr>\n",
       "      <th>8</th>\n",
       "      <td>(0.592, 0.629]</td>\n",
       "      <td>1575</td>\n",
       "      <td>12283</td>\n",
       "      <td>0.128226</td>\n",
       "      <td>0.899985</td>\n",
       "      <td>0.804392</td>\n",
       "    </tr>\n",
       "    <tr>\n",
       "      <th>9</th>\n",
       "      <td>(0.629, 0.958]</td>\n",
       "      <td>1958</td>\n",
       "      <td>13648</td>\n",
       "      <td>0.143464</td>\n",
       "      <td>1.000000</td>\n",
       "      <td>1.000000</td>\n",
       "    </tr>\n",
       "  </tbody>\n",
       "</table>\n",
       "</div>"
      ],
      "text/plain": [
       "       Prob1_decil  ATTRITION_acum  Q_acum  ATTRITION_test        %Q  \\\n",
       "0  (-0.001, 0.242]              47    1365        0.034432  0.100015   \n",
       "1   (0.242, 0.319]             124    2730        0.045421  0.200029   \n",
       "2    (0.319, 0.38]             253    4095        0.061783  0.300044   \n",
       "3    (0.38, 0.435]             368    5459        0.067412  0.399985   \n",
       "4   (0.435, 0.486]             511    6824        0.074883  0.500000   \n",
       "5   (0.486, 0.528]             721    8189        0.088045  0.600015   \n",
       "6   (0.528, 0.564]            1002    9553        0.104889  0.699956   \n",
       "7   (0.564, 0.592]            1264   10918        0.115772  0.799971   \n",
       "8   (0.592, 0.629]            1575   12283        0.128226  0.899985   \n",
       "9   (0.629, 0.958]            1958   13648        0.143464  1.000000   \n",
       "\n",
       "   %ATTRITION  \n",
       "0    0.024004  \n",
       "1    0.063330  \n",
       "2    0.129213  \n",
       "3    0.187947  \n",
       "4    0.260981  \n",
       "5    0.368233  \n",
       "6    0.511747  \n",
       "7    0.645557  \n",
       "8    0.804392  \n",
       "9    1.000000  "
      ]
     },
     "execution_count": 39,
     "metadata": {},
     "output_type": "execute_result"
    }
   ],
   "source": [
    "df_freqAcum"
   ]
  },
  {
   "cell_type": "code",
   "execution_count": 42,
   "metadata": {},
   "outputs": [
    {
     "name": "stdout",
     "output_type": "stream",
     "text": [
      "[[6706 4984]\n",
      " [ 576 1382]]\n"
     ]
    }
   ],
   "source": [
    "from sklearn.metrics import confusion_matrix\n",
    "confusion_matrix = confusion_matrix(y_test,y_pred)\n",
    "print(confusion_matrix)"
   ]
  },
  {
   "attachments": {
    "ROC_space-2.png": {
     "image/png": "[encoded data removed]"
    },
    "matriz.png": {
     "image/png": "[encoded data removed]"
    },
    "rocresult.png": {
     "image/png": "[encoded data removed]"
    }
   },
   "cell_type": "markdown",
   "metadata": {},
   "source": [
    "### Curva ROC\n",
    "\n",
    "Para dibujar una curva ROC sólo son necesarias las razones de Verdaderos Positivos (VPR) y de falsos positivos (FPR). La VPR mide hasta qué punto un clasificador o prueba diagnóstica es capaz de detectar o clasificar los casos positivos correctamente, de entre todos los casos positivos disponibles durante la prueba. La FPR define cuántos resultados positivos son incorrectos de entre todos los casos negativos disponibles durante la prueba.\n",
    "\n",
    "![matriz.png](attachment:matriz.png)\n",
    "\n",
    "Considérense los siguientes cuatro resultados de 100 instancias positivas y otras 100 negativas:\n",
    "![rocresult.png](attachment:rocresult.png)\n",
    "\n",
    "En la imagen inferior se muestran los puntos que los cuatro ejemplos anteriores en el espacio ROC. El resultado del método A muestra claramente ser el mejor de entre los métodos A, B Y C. El resultado de B se encuentra sobre la línea de estimación aleatoria (diagonal); en la tabla se puede ver que la precisión (ACC) de este método es del 50%. El método C aparece como el peor de los tres, con un resultado muy pobre.\n",
    "\n",
    "![ROC_space-2.png](attachment:ROC_space-2.png)\n",
    "Sin embargo, consideremos ahora la construcción de un cuarto método de predicción C' que simplemente invierte los resultados predichos por el método C. Este nuevo método mostrará una tabla de contingencia opuesta a la de C y su punto en el espacio ROC estará ahora por encima de la diagonal, y más próximo al punto de clasificación perfecta que el método A. Mientras C presentaba un pobre poder de predicción, a partir de él se ha construido un predictor mejor que todos los demás. Cuando el método C predice 'n' o 'p', el método C' predice 'p' o 'n' respectivamente. Siempre que un método presente un punto en el espacio ROC por debajo de la diagonal habrá que invertir sus predicciones para aprovechar su capacidad de predicción.\n",
    "\n",
    "Cuanto más cerca esté un método de la esquina superior izquierda (clasificación perfecta) mejor será, pero lo que en realidad marca el poder predictivo de un método es la distancia de este a la línea de estimación aleatoria, da igual si por arriba o por abajo."
   ]
  },
  {
   "cell_type": "code",
   "execution_count": 43,
   "metadata": {},
   "outputs": [
    {
     "data": {
      "image/png": "[encoded data removed]",
      "text/plain": [
       "<Figure size 432x288 with 1 Axes>"
      ]
     },
     "metadata": {
      "needs_background": "light"
     },
     "output_type": "display_data"
    }
   ],
   "source": [
    "# Curva ROC\n",
    "from sklearn.metrics import roc_auc_score\n",
    "from sklearn.metrics import roc_curve\n",
    "\n",
    "logit_roc_auc = roc_auc_score(y_test, y_pred)\n",
    "fpr, tpr, thresholds = roc_curve(y_test, logreg.predict_proba(X_test)[:,1])\n",
    "plt.figure()\n",
    "plt.plot(fpr, tpr, label='Logistic Regression (area = %0.4f)' % logit_roc_auc)\n",
    "plt.plot([0, 1], [0, 1],'r--')\n",
    "plt.xlim([0.0, 1.0])\n",
    "plt.ylim([0.0, 1.05])\n",
    "plt.xlabel('False Positive Rate')\n",
    "plt.ylabel('True Positive Rate')\n",
    "plt.title('Receiver operating characteristic')\n",
    "plt.legend(loc=\"lower right\")\n",
    "plt.savefig('Log_ROC')\n",
    "plt.show()"
   ]
  },
  {
   "cell_type": "markdown",
   "metadata": {},
   "source": [
    "## Método de Naive Bayes\n",
    "\n",
    "La traducción de \"naive\" nos indica que la técnica es ingenua, esto es debido a que se asume el supuesto de independencia entre las variables predictoras (los x's). Pero, sabemos que este supuesto, casi siempre, no suele cumplirse en el mundo real.\n",
    "Sin embargo, se ha demostrado que el método funciona bien en una amplia variedad de contextos.\n",
    "\n",
    "El método de Naive Bayes son un conjunto de algoritmos supervisados basados en la aplicación del teorema de bayes. Teniendo un vector dependiente $y$ y unas caracteristicas $x_1$ hasta $x_n$, el teorema de Bayes establece la siguiente relación:\n",
    "\n",
    "$$ P(y \\mid x_1, \\dots, x_n) = \\frac{P(y) P(x_1, \\dots x_n \\mid y)}\n",
    "                                    {P(x_1, \\dots, x_n)}\n",
    "$$\n",
    "\n",
    "Usando el supuesto de independencia, definimos que\n",
    "\n",
    "$$\n",
    "   P(x_i | y, x_1, \\dots, x_{i-1}, x_{i+1}, \\dots, x_n) = P(x_i | y),\n",
    "$$\n",
    "\n",
    "para todo $i$, esta relación es resumida en\n",
    "\n",
    "$$\n",
    "   P(y \\mid x_1, \\dots, x_n) = \\frac{P(y) \\prod_{i=1}^{n} P(x_i \\mid y)}\n",
    "                                    {P(x_1, \\dots, x_n)}\n",
    "$$\n",
    "\n",
    "Sabemos que $P(x_1, \\dots, x_n)$ es una constante dado el input, podemos usar la siguiente regla de clasificación:\n",
    "\n",
    "$$ P(y \\mid x_1, \\dots, x_n) \\propto P(y) \\prod_{i=1}^{n} P(x_i \\mid y) $$\n",
    "\n",
    "$$   \\Downarrow$$\n",
    "$$\n",
    "   \\hat{y} = \\arg\\max_y P(y) \\prod_{i=1}^{n} P(x_i \\mid y),\n",
    "$$\n",
    "\n",
    "and we can use Maximum A Posteriori (MAP) estimation to estimate\n",
    "$P(y)$ and $P(x_i \\mid y)$;\n",
    "the former is then the relative frequency of class :math:`y`\n",
    "in the training set.\n",
    "\n",
    "Los diferentes clasificadores Naive Bayes difieren principalmente por los supuestos que hacen en cuanto a la distribución de $P(x_i \\mid y)$.\n",
    "\n",
    "Por otro lado, aunque Naive Bayes se conoce como un clasificador decente, se sabe que es un mal estimador, por lo que las salidas de probabilidad de **predict_proba** no se suelen toman en consideración."
   ]
  },
  {
   "cell_type": "markdown",
   "metadata": {},
   "source": [
    "### Gaussian Naive Bayes\n",
    "\n",
    "La función \"GaussianNB\" de sklearn, implementa el algoritmo Gaussiano Naive Bayes para la clasificación. La probabilidad de las características se asume ser Gaussian: \n",
    "\n",
    "$$ P(x_i \\mid y) = \\frac{1}{\\sqrt{2\\pi\\sigma^2_y}} \\exp\\left(-\\frac{(x_i - \\theta_y)^2}{2\\sigma^2_y}\\right) $$\n",
    "\n",
    "Los parametros $\\sigma_y$ and $\\theta_y$ son estimados usando Máxima Verosimilitud (maximum likelihood)."
   ]
  },
  {
   "cell_type": "code",
   "execution_count": 399,
   "metadata": {},
   "outputs": [
    {
     "name": "stdout",
     "output_type": "stream",
     "text": [
      "Accuracy of GNB classifier on training set: 0.29\n",
      "Accuracy of GNB classifier on test set: 0.30\n"
     ]
    }
   ],
   "source": [
    "from sklearn.naive_bayes import GaussianNB\n",
    "gnb = GaussianNB()\n",
    "gnb.fit(X_train, y_train)\n",
    "print('Accuracy of GNB classifier on training set: {:.2f}'\n",
    "     .format(gnb.score(X_train, y_train)))\n",
    "print('Accuracy of GNB classifier on test set: {:.2f}'\n",
    "     .format(gnb.score(X_test, y_test)))"
   ]
  },
  {
   "cell_type": "code",
   "execution_count": 415,
   "metadata": {
    "scrolled": true
   },
   "outputs": [
    {
     "data": {
      "text/plain": [
       "array([[8.49252209e-01, 3.51858931e+01, 2.75579963e+00, 1.11426967e+04,\n",
       "        1.08326077e+04, 1.04520726e+04, 1.00121777e+04, 9.73972786e+03,\n",
       "        9.49525578e+03, 5.24430659e-01, 4.92692046e-01, 4.60740993e-01,\n",
       "        3.97752379e-01, 3.54223317e-01, 3.39798606e-01, 4.01873725e-01,\n",
       "        1.14940942e+00, 1.13623810e+00, 9.68665024e-01, 1.00875255e+00,\n",
       "        9.25900748e-01, 9.33909755e-01, 1.94066536e+00, 1.88028977e+00,\n",
       "        1.44495666e+00, 1.39184653e+00, 1.24218219e+00, 1.25008498e+00,\n",
       "        5.78809058e+00, 5.97809738e+00, 4.81955303e+00, 4.49245836e+00,\n",
       "        3.93397349e+00, 3.90984024e+00, 2.11527022e+00, 2.08121601e+00,\n",
       "        2.04875510e+00, 2.00575714e+00, 1.94553025e+00, 1.92362763e+00,\n",
       "        5.57295207e-01, 5.55510707e-01, 5.55786880e-01, 5.52664004e-01,\n",
       "        5.46248300e-01, 5.41935758e-01, 2.02009687e-01, 1.77664004e-01,\n",
       "        1.45904147e-01, 1.16842284e-01, 6.41995241e-02, 9.94858939e-02,\n",
       "        3.62848402e-02, 1.96082597e-02, 1.84398368e-02, 6.14441706e-01,\n",
       "        3.42432869e-01, 1.73245241e-01, 3.46469239e-01],\n",
       "       [7.82787976e-01, 3.50162873e+01, 1.28491620e+00, 2.42126363e+03,\n",
       "        2.23762304e+03, 2.23524342e+03, 2.17268422e+03, 2.17001729e+03,\n",
       "        1.89886007e+03, 3.04868316e-01, 2.55653099e-01, 2.25857941e-01,\n",
       "        1.74913541e-01, 1.43522213e-01, 1.35009311e-01, 3.48496941e-01,\n",
       "        4.54908220e-01, 4.50252727e-01, 3.17770684e-01, 2.72279862e-01,\n",
       "        2.41952647e-01, 2.46475126e-01, 1.07063049e+00, 1.01808992e+00,\n",
       "        6.52833200e-01, 5.47353019e-01, 4.86166534e-01, 4.66347433e-01,\n",
       "        5.18728385e+00, 5.90236765e+00, 3.69047619e+00, 2.69992019e+00,\n",
       "        1.91806331e+00, 1.89345571e+00, 1.49281724e+00, 1.46076084e+00,\n",
       "        1.44160681e+00, 1.42311785e+00, 1.39970737e+00, 1.38773610e+00,\n",
       "        4.02899707e-01, 4.02367651e-01, 4.06890130e-01, 4.15137005e-01,\n",
       "        4.17797287e-01, 4.20856611e-01, 3.29608939e-01, 2.30380420e-01,\n",
       "        1.10002660e-01, 5.57329077e-02, 2.04841713e-02, 2.56717212e-02,\n",
       "        7.58180367e-03, 3.05932429e-03, 2.52726789e-03, 4.91753126e-01,\n",
       "        4.30167598e-01, 1.84091514e-01, 6.80899175e-01]])"
      ]
     },
     "execution_count": 415,
     "metadata": {},
     "output_type": "execute_result"
    }
   ],
   "source": [
    "gnb.theta_"
   ]
  },
  {
   "cell_type": "code",
   "execution_count": 412,
   "metadata": {
    "scrolled": true
   },
   "outputs": [
    {
     "data": {
      "text/plain": [
       "array([[8.75316110e+00, 1.30029031e+02, 1.91997455e+01, 9.61179625e+09,\n",
       "        9.38380049e+09, 9.44773530e+09, 8.65210379e+09, 6.79844022e+09,\n",
       "        7.25788330e+09, 8.87454135e+00, 8.87508480e+00, 8.87359694e+00,\n",
       "        8.86468363e+00, 8.85388736e+00, 8.84947372e+00, 8.86550944e+00,\n",
       "        1.69078159e+01, 1.69669402e+01, 1.55889974e+01, 1.64611000e+01,\n",
       "        1.57386567e+01, 1.58461059e+01, 3.08126654e+01, 3.14845543e+01,\n",
       "        2.54751846e+01, 2.60845916e+01, 2.39567392e+01, 2.44575651e+01,\n",
       "        7.22057212e+01, 7.81153748e+01, 6.29533011e+01, 6.58361197e+01,\n",
       "        6.47207957e+01, 6.61666780e+01, 1.24587239e+01, 1.24092245e+01,\n",
       "        1.23638599e+01, 1.22880257e+01, 1.22119486e+01, 1.21481761e+01,\n",
       "        8.87185547e+00, 8.87205677e+00, 8.87202603e+00, 8.87236471e+00,\n",
       "        8.87299930e+00, 8.87337960e+00, 8.78633998e+00, 8.77123771e+00,\n",
       "        8.74975433e+00, 8.72832837e+00, 8.68521615e+00, 8.71472666e+00,\n",
       "        8.66010646e+00, 8.64436198e+00, 8.64323802e+00, 8.86204130e+00,\n",
       "        8.85031081e+00, 8.76836953e+00, 8.85156651e+00],\n",
       "       [8.79516917e+00, 1.33020807e+02, 1.52728782e+01, 2.38184765e+09,\n",
       "        1.80080175e+09, 1.94158406e+09, 1.96857934e+09, 1.94397654e+09,\n",
       "        1.09295384e+09, 8.83706183e+00, 8.81543280e+00, 8.79998434e+00,\n",
       "        8.76945700e+00, 8.74806179e+00, 8.74192000e+00, 8.85218503e+00,\n",
       "        1.15046559e+01, 1.14842622e+01, 1.07309969e+01, 1.06014142e+01,\n",
       "        1.04677676e+01, 1.04522573e+01, 2.03390907e+01, 2.05966120e+01,\n",
       "        1.61563825e+01, 1.57499909e+01, 1.47137338e+01, 1.44797519e+01,\n",
       "        5.92652425e+01, 7.47760211e+01, 5.30037945e+01, 4.64752340e+01,\n",
       "        3.86405049e+01, 4.18283383e+01, 1.13973000e+01, 1.13178656e+01,\n",
       "        1.12872645e+01, 1.12203846e+01, 1.11832493e+01, 1.11623488e+01,\n",
       "        8.86570974e+00, 8.86560613e+00, 8.86646876e+00, 8.86793648e+00,\n",
       "        8.86838092e+00, 8.86887453e+00, 8.84610509e+00, 8.80244349e+00,\n",
       "        8.72304028e+00, 8.67776496e+00, 8.64520278e+00, 8.65015089e+00,\n",
       "        8.63266253e+00, 8.62818817e+00, 8.62765909e+00, 8.87507020e+00,\n",
       "        8.87026164e+00, 8.77534003e+00, 8.84241369e+00]])"
      ]
     },
     "execution_count": 412,
     "metadata": {},
     "output_type": "execute_result"
    }
   ],
   "source": [
    "gnb.sigma_"
   ]
  },
  {
   "cell_type": "code",
   "execution_count": 401,
   "metadata": {
    "scrolled": true
   },
   "outputs": [
    {
     "data": {
      "text/html": [
       "<div>\n",
       "<style scoped>\n",
       "    .dataframe tbody tr th:only-of-type {\n",
       "        vertical-align: middle;\n",
       "    }\n",
       "\n",
       "    .dataframe tbody tr th {\n",
       "        vertical-align: top;\n",
       "    }\n",
       "\n",
       "    .dataframe thead th {\n",
       "        text-align: right;\n",
       "    }\n",
       "</style>\n",
       "<table border=\"1\" class=\"dataframe\">\n",
       "  <thead>\n",
       "    <tr style=\"text-align: right;\">\n",
       "      <th></th>\n",
       "      <th>Test</th>\n",
       "      <th>Pred</th>\n",
       "      <th>Prob1</th>\n",
       "      <th>Prob0</th>\n",
       "    </tr>\n",
       "  </thead>\n",
       "  <tbody>\n",
       "    <tr>\n",
       "      <th>0</th>\n",
       "      <td>0</td>\n",
       "      <td>1</td>\n",
       "      <td>0.997259</td>\n",
       "      <td>0.002741</td>\n",
       "    </tr>\n",
       "    <tr>\n",
       "      <th>1</th>\n",
       "      <td>1</td>\n",
       "      <td>1</td>\n",
       "      <td>0.999508</td>\n",
       "      <td>0.000492</td>\n",
       "    </tr>\n",
       "    <tr>\n",
       "      <th>2</th>\n",
       "      <td>0</td>\n",
       "      <td>0</td>\n",
       "      <td>0.469628</td>\n",
       "      <td>0.530372</td>\n",
       "    </tr>\n",
       "    <tr>\n",
       "      <th>3</th>\n",
       "      <td>0</td>\n",
       "      <td>1</td>\n",
       "      <td>0.998077</td>\n",
       "      <td>0.001923</td>\n",
       "    </tr>\n",
       "    <tr>\n",
       "      <th>4</th>\n",
       "      <td>1</td>\n",
       "      <td>1</td>\n",
       "      <td>0.999445</td>\n",
       "      <td>0.000555</td>\n",
       "    </tr>\n",
       "  </tbody>\n",
       "</table>\n",
       "</div>"
      ],
      "text/plain": [
       "   Test  Pred     Prob1     Prob0\n",
       "0     0     1  0.997259  0.002741\n",
       "1     1     1  0.999508  0.000492\n",
       "2     0     0  0.469628  0.530372\n",
       "3     0     1  0.998077  0.001923\n",
       "4     1     1  0.999445  0.000555"
      ]
     },
     "execution_count": 401,
     "metadata": {},
     "output_type": "execute_result"
    }
   ],
   "source": [
    "y_pred_nb = gnb.predict(X_test)\n",
    "y_score_pred_nb = gnb.predict_proba(X_test)\n",
    "\n",
    "df_resul_nb = pd.DataFrame({'Test':y_test,'Pred':y_pred_nb, 'Prob1':y_score_pred_nb[:,1], 'Prob0':y_score_pred_nb[:,0]})\n",
    "df_resul_nb.head()"
   ]
  },
  {
   "cell_type": "code",
   "execution_count": 409,
   "metadata": {},
   "outputs": [
    {
     "data": {
      "text/plain": [
       "0.8238142285381411"
      ]
     },
     "execution_count": 409,
     "metadata": {},
     "output_type": "execute_result"
    }
   ],
   "source": [
    "df_resul_nb['Prob1'].mean()"
   ]
  },
  {
   "cell_type": "code",
   "execution_count": 402,
   "metadata": {},
   "outputs": [
    {
     "data": {
      "image/png": "[encoded data removed]",
      "text/plain": [
       "<Figure size 432x288 with 1 Axes>"
      ]
     },
     "metadata": {},
     "output_type": "display_data"
    }
   ],
   "source": [
    "logit_roc_auc = roc_auc_score(y_test, y_pred_nb)\n",
    "fpr, tpr, thresholds = roc_curve(y_test, y_score_pred_nb[:,1])\n",
    "plt.figure()\n",
    "plt.plot(fpr, tpr, label='Logistic Regression (area = %0.4f)' % logit_roc_auc)\n",
    "plt.plot([0, 1], [0, 1],'r--')\n",
    "plt.xlim([0.0, 1.0])\n",
    "plt.ylim([0.0, 1.05])\n",
    "plt.xlabel('False Positive Rate')\n",
    "plt.ylabel('True Positive Rate')\n",
    "plt.title('Receiver operating characteristic')\n",
    "plt.legend(loc=\"lower right\")\n",
    "plt.savefig('Log_ROC')\n",
    "plt.show()"
   ]
  },
  {
   "cell_type": "code",
   "execution_count": 403,
   "metadata": {},
   "outputs": [],
   "source": [
    "df_resul_nb['Prob1_decil'] = pd.qcut(df_resul_nb['Prob1'], q=10)\n",
    "\n",
    "# Generamos frecuencias absolutas acumuladas\n",
    "df_freqAcum_nb = df_resul_nb.groupby('Prob1_decil').agg({'Test':'sum','Pred':'count'}).cumsum() \n",
    "df_freqAcum_nb.reset_index(drop = False, inplace = True)\n",
    "\n",
    "df_freqAcum_nb.rename(columns={'Test':'ATTRITION_acum','Pred':'Q_acum'}, inplace=True)\n",
    "\n",
    "df_freqAcum_nb['ATTRITION_test'] = df_freqAcum_nb.ATTRITION_acum/df_freqAcum.Q_acum\n",
    "df_freqAcum_nb['%Q'] = df_freqAcum_nb.Q_acum/max(df_freqAcum.Q_acum)\n",
    "df_freqAcum_nb['%ATTRITION'] = df_freqAcum_nb.ATTRITION_acum/max(df_freqAcum.ATTRITION_acum)"
   ]
  },
  {
   "cell_type": "code",
   "execution_count": 404,
   "metadata": {},
   "outputs": [
    {
     "data": {
      "text/html": [
       "<div>\n",
       "<style scoped>\n",
       "    .dataframe tbody tr th:only-of-type {\n",
       "        vertical-align: middle;\n",
       "    }\n",
       "\n",
       "    .dataframe tbody tr th {\n",
       "        vertical-align: top;\n",
       "    }\n",
       "\n",
       "    .dataframe thead th {\n",
       "        text-align: right;\n",
       "    }\n",
       "</style>\n",
       "<table border=\"1\" class=\"dataframe\">\n",
       "  <thead>\n",
       "    <tr style=\"text-align: right;\">\n",
       "      <th></th>\n",
       "      <th>Prob1_decil</th>\n",
       "      <th>ATTRITION_acum</th>\n",
       "      <th>Q_acum</th>\n",
       "      <th>ATTRITION_test</th>\n",
       "      <th>%Q</th>\n",
       "      <th>%ATTRITION</th>\n",
       "    </tr>\n",
       "  </thead>\n",
       "  <tbody>\n",
       "    <tr>\n",
       "      <th>0</th>\n",
       "      <td>(-0.0001, 0.002621]</td>\n",
       "      <td>53</td>\n",
       "      <td>1365</td>\n",
       "      <td>0.038828</td>\n",
       "      <td>0.100015</td>\n",
       "      <td>0.027068</td>\n",
       "    </tr>\n",
       "    <tr>\n",
       "      <th>1</th>\n",
       "      <td>(0.002621, 0.8284]</td>\n",
       "      <td>139</td>\n",
       "      <td>2730</td>\n",
       "      <td>0.050916</td>\n",
       "      <td>0.200029</td>\n",
       "      <td>0.070991</td>\n",
       "    </tr>\n",
       "    <tr>\n",
       "      <th>2</th>\n",
       "      <td>(0.8284, 0.9881]</td>\n",
       "      <td>271</td>\n",
       "      <td>4095</td>\n",
       "      <td>0.066178</td>\n",
       "      <td>0.300044</td>\n",
       "      <td>0.138407</td>\n",
       "    </tr>\n",
       "    <tr>\n",
       "      <th>3</th>\n",
       "      <td>(0.9881, 0.9965]</td>\n",
       "      <td>401</td>\n",
       "      <td>5459</td>\n",
       "      <td>0.073457</td>\n",
       "      <td>0.399985</td>\n",
       "      <td>0.204801</td>\n",
       "    </tr>\n",
       "    <tr>\n",
       "      <th>4</th>\n",
       "      <td>(0.9965, 0.9983]</td>\n",
       "      <td>577</td>\n",
       "      <td>6824</td>\n",
       "      <td>0.084555</td>\n",
       "      <td>0.500000</td>\n",
       "      <td>0.294688</td>\n",
       "    </tr>\n",
       "    <tr>\n",
       "      <th>5</th>\n",
       "      <td>(0.9983, 0.9989]</td>\n",
       "      <td>790</td>\n",
       "      <td>8189</td>\n",
       "      <td>0.096471</td>\n",
       "      <td>0.600015</td>\n",
       "      <td>0.403473</td>\n",
       "    </tr>\n",
       "    <tr>\n",
       "      <th>6</th>\n",
       "      <td>(0.9989, 0.9993]</td>\n",
       "      <td>1059</td>\n",
       "      <td>9553</td>\n",
       "      <td>0.110855</td>\n",
       "      <td>0.699956</td>\n",
       "      <td>0.540858</td>\n",
       "    </tr>\n",
       "    <tr>\n",
       "      <th>7</th>\n",
       "      <td>(0.9993, 0.9995]</td>\n",
       "      <td>1388</td>\n",
       "      <td>10918</td>\n",
       "      <td>0.127130</td>\n",
       "      <td>0.799971</td>\n",
       "      <td>0.708887</td>\n",
       "    </tr>\n",
       "    <tr>\n",
       "      <th>8</th>\n",
       "      <td>(0.9995, 0.9996]</td>\n",
       "      <td>1719</td>\n",
       "      <td>12283</td>\n",
       "      <td>0.139950</td>\n",
       "      <td>0.899985</td>\n",
       "      <td>0.877937</td>\n",
       "    </tr>\n",
       "    <tr>\n",
       "      <th>9</th>\n",
       "      <td>(0.9996, 0.9997]</td>\n",
       "      <td>1958</td>\n",
       "      <td>13648</td>\n",
       "      <td>0.143464</td>\n",
       "      <td>1.000000</td>\n",
       "      <td>1.000000</td>\n",
       "    </tr>\n",
       "  </tbody>\n",
       "</table>\n",
       "</div>"
      ],
      "text/plain": [
       "           Prob1_decil  ATTRITION_acum  Q_acum  ATTRITION_test        %Q  \\\n",
       "0  (-0.0001, 0.002621]              53    1365        0.038828  0.100015   \n",
       "1   (0.002621, 0.8284]             139    2730        0.050916  0.200029   \n",
       "2     (0.8284, 0.9881]             271    4095        0.066178  0.300044   \n",
       "3     (0.9881, 0.9965]             401    5459        0.073457  0.399985   \n",
       "4     (0.9965, 0.9983]             577    6824        0.084555  0.500000   \n",
       "5     (0.9983, 0.9989]             790    8189        0.096471  0.600015   \n",
       "6     (0.9989, 0.9993]            1059    9553        0.110855  0.699956   \n",
       "7     (0.9993, 0.9995]            1388   10918        0.127130  0.799971   \n",
       "8     (0.9995, 0.9996]            1719   12283        0.139950  0.899985   \n",
       "9     (0.9996, 0.9997]            1958   13648        0.143464  1.000000   \n",
       "\n",
       "   %ATTRITION  \n",
       "0    0.027068  \n",
       "1    0.070991  \n",
       "2    0.138407  \n",
       "3    0.204801  \n",
       "4    0.294688  \n",
       "5    0.403473  \n",
       "6    0.540858  \n",
       "7    0.708887  \n",
       "8    0.877937  \n",
       "9    1.000000  "
      ]
     },
     "execution_count": 404,
     "metadata": {},
     "output_type": "execute_result"
    }
   ],
   "source": [
    "df_freqAcum_nb"
   ]
  },
  {
   "cell_type": "markdown",
   "metadata": {},
   "source": [
    "### Referencias:\n",
    "\n",
    "Regresión Lineal:\n",
    "- http://scikit-learn.org/stable/auto_examples/linear_model/plot_ols.html#sphx-glr-auto-examples-linear-model-plot-ols-py\n",
    "- https://medium.freecodecamp.org/data-science-with-python-8-ways-to-do-linear-regression-and-measure-their-speed-b5577d75f8b\n",
    "- https://datatofish.com/multiple-linear-regression-python/\n",
    "\n",
    "Regresión Logística:\n",
    "- https://ml-cheatsheet.readthedocs.io/en/latest/activation_functions.html#activation-sigmoid\n",
    "- https://towardsdatascience.com/building-a-logistic-regression-in-python-step-by-step-becd4d56c9c8\n",
    "- https://www.analyticsvidhya.com/blog/2017/09/common-machine-learning-algorithms/"
   ]
  }
 ],
 "metadata": {
  "kernelspec": {
   "display_name": "Python 3",
   "language": "python",
   "name": "python3"
  },
  "language_info": {
   "codemirror_mode": {
    "name": "ipython",
    "version": 3
   },
   "file_extension": ".py",
   "mimetype": "text/x-python",
   "name": "python",
   "nbconvert_exporter": "python",
   "pygments_lexer": "ipython3",
   "version": "3.6.6"
  }
 },
 "nbformat": 4,
 "nbformat_minor": 2
}

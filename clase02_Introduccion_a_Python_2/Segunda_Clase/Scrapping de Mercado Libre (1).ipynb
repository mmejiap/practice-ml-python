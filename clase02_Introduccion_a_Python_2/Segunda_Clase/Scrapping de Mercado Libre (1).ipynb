{
 "cells": [
  {
   "cell_type": "code",
   "execution_count": 2,
   "metadata": {
    "collapsed": true
   },
   "outputs": [],
   "source": [
    "import urllib2"
   ]
  },
  {
   "cell_type": "code",
   "execution_count": 7,
   "metadata": {},
   "outputs": [
    {
     "ename": "ImportError",
     "evalue": "No module named urllib3",
     "output_type": "error",
     "traceback": [
      "\u001b[1;31m---------------------------------------------------------------------------\u001b[0m",
      "\u001b[1;31mImportError\u001b[0m                               Traceback (most recent call last)",
      "\u001b[1;32m<ipython-input-7-7f9a4d4197da>\u001b[0m in \u001b[0;36m<module>\u001b[1;34m()\u001b[0m\n\u001b[1;32m----> 1\u001b[1;33m \u001b[1;32mimport\u001b[0m \u001b[0murllib3\u001b[0m\u001b[1;33m\u001b[0m\u001b[0m\n\u001b[0m\u001b[0;32m      2\u001b[0m \u001b[0mhttp\u001b[0m \u001b[1;33m=\u001b[0m \u001b[0murllib3\u001b[0m\u001b[1;33m.\u001b[0m\u001b[0mPoolManager\u001b[0m\u001b[1;33m(\u001b[0m\u001b[1;33m)\u001b[0m\u001b[1;33m\u001b[0m\u001b[0m\n\u001b[0;32m      3\u001b[0m \u001b[0murl\u001b[0m \u001b[1;33m=\u001b[0m \u001b[1;34m\"https://listado.mercadolibre.com.pe/laptop-asus#D[A:laptop%20asus]\"\u001b[0m\u001b[1;33m\u001b[0m\u001b[0m\n\u001b[0;32m      4\u001b[0m \u001b[0mresponse\u001b[0m \u001b[1;33m=\u001b[0m \u001b[0mhttp\u001b[0m\u001b[1;33m.\u001b[0m\u001b[0mrequest\u001b[0m\u001b[1;33m(\u001b[0m\u001b[1;34m\"GET\"\u001b[0m\u001b[1;33m,\u001b[0m\u001b[0murl\u001b[0m\u001b[1;33m)\u001b[0m\u001b[1;33m\u001b[0m\u001b[0m\n\u001b[0;32m      5\u001b[0m \u001b[0mresponse\u001b[0m\u001b[1;33m.\u001b[0m\u001b[0mdata\u001b[0m\u001b[1;33m\u001b[0m\u001b[0m\n",
      "\u001b[1;31mImportError\u001b[0m: No module named urllib3"
     ]
    }
   ],
   "source": [
    "#import urllib3\n",
    "#http = urllib3.PoolManager()\n",
    "#url = \"https://listado.mercadolibre.com.pe/laptop-asus#D[A:laptop%20asus]\"\n",
    "#response = http.request(\"GET\",url)\n",
    "#page= response.data"
   ]
  },
  {
   "cell_type": "code",
   "execution_count": 10,
   "metadata": {
    "collapsed": true
   },
   "outputs": [],
   "source": [
    "from bs4 import BeautifulSoup"
   ]
  },
  {
   "cell_type": "code",
   "execution_count": 72,
   "metadata": {},
   "outputs": [],
   "source": [
    "def get_products(url):\n",
    "    #url = \"https://listado.mercadolibre.com.pe/laptop-asus#D[A:laptop%20asus]\"\n",
    "    try:\n",
    "        page = urllib2.urlopen(url).read()\n",
    "    except Exception,e:\n",
    "        return \"\"\n",
    "    bs_objeto = BeautifulSoup(page,\"html.parser\")\n",
    "    lista_productos= bs_objeto.find_all(\"li\",{\"class\":\"results-item article stack \"})\n",
    "    productos = \"\"\n",
    "    for l in lista_productos:\n",
    "        nombre_producto = l.find(\"span\",{\"class\":\"main-title\"}) \n",
    "        nombre_producto = nombre_producto.text if nombre_producto else \"\"\n",
    "        precio_producto = l.find(\"span\",{\"class\":\"price__fraction\"}) \n",
    "        precio_producto = precio_producto.text if precio_producto else \"\"\n",
    "        envio_producto = l.find(\"p\",{\"class\":\"stack-item-info item__free-shipping-disabled\"})\n",
    "        envio_producto = envio_producto.text if envio_producto else \"\"\n",
    "        \n",
    "        productos = productos + nombre_producto+\"|\"+precio_producto+\"|\"+envio_producto+\"\\n\"\n",
    "        \n",
    "    return productos"
   ]
  },
  {
   "cell_type": "code",
   "execution_count": null,
   "metadata": {
    "collapsed": true
   },
   "outputs": [],
   "source": []
  },
  {
   "cell_type": "code",
   "execution_count": 62,
   "metadata": {},
   "outputs": [
    {
     "data": {
      "text/plain": [
       "50"
      ]
     },
     "execution_count": 62,
     "metadata": {},
     "output_type": "execute_result"
    }
   ],
   "source": [
    "len(lista_productos)"
   ]
  },
  {
   "cell_type": "code",
   "execution_count": null,
   "metadata": {
    "collapsed": true
   },
   "outputs": [],
   "source": []
  },
  {
   "cell_type": "code",
   "execution_count": 51,
   "metadata": {
    "collapsed": true
   },
   "outputs": [],
   "source": [
    "def get_urls(url): \n",
    "    try:\n",
    "        page = urllib2.urlopen(url).read()\n",
    "    except Exception,e:\n",
    "        return []\n",
    "    asus_objeto = BeautifulSoup(page,\"html.parser\")\n",
    "    lista_paginadores = asus_objeto.find_all(\"a\",{\"class\":\"andes-pagination__link\"})\n",
    "    lista_paginadores_url = []\n",
    "\n",
    "    for paginador in lista_paginadores:\n",
    "        url =  paginador[\"href\"] if paginador else \"\"\n",
    "        lista_paginadores_url.append(url)\n",
    "    \n",
    "    return lista_paginadores_url"
   ]
  },
  {
   "cell_type": "code",
   "execution_count": 68,
   "metadata": {},
   "outputs": [],
   "source": [
    "#print urls[-1]\n",
    "#urls_2=get_urls(urls[-1])\n",
    "#urls_3=get_urls(urls[-1])\n",
    "#urls+urls_2+urls_3\n",
    "\n",
    "def get_all_urls(url):\n",
    "    urls = get_urls(url)\n",
    "    if len(urls)>0:\n",
    "        urls=urls+get_all_urls(urls[-2])\n",
    "        return urls\n",
    "    else:\n",
    "        return []\n",
    "urls = get_all_urls(\"https://computacion.mercadolibre.com.pe/laptops/asus/intel-core-i7/laptop-asus\")"
   ]
  },
  {
   "cell_type": "code",
   "execution_count": 73,
   "metadata": {},
   "outputs": [],
   "source": [
    "productos=\"\"\n",
    "for url in urls:\n",
    "    productos = productos + get_products(url)"
   ]
  },
  {
   "cell_type": "code",
   "execution_count": 77,
   "metadata": {},
   "outputs": [
    {
     "data": {
      "text/plain": [
       "164954L"
      ]
     },
     "execution_count": 77,
     "metadata": {},
     "output_type": "execute_result"
    }
   ],
   "source": [
    "import io\n",
    "file = io.open(\"C:\\Users\\Asus\\Desktop\\productos.csv\",\"w\")\n",
    "\n",
    "file.write(productos)"
   ]
  },
  {
   "cell_type": "code",
   "execution_count": 78,
   "metadata": {
    "collapsed": true
   },
   "outputs": [],
   "source": [
    "file.close()"
   ]
  }
 ],
 "metadata": {
  "kernelspec": {
   "display_name": "Python 2",
   "language": "python",
   "name": "python2"
  },
  "language_info": {
   "codemirror_mode": {
    "name": "ipython",
    "version": 2
   },
   "file_extension": ".py",
   "mimetype": "text/x-python",
   "name": "python",
   "nbconvert_exporter": "python",
   "pygments_lexer": "ipython2",
   "version": "2.7.13"
  }
 },
 "nbformat": 4,
 "nbformat_minor": 2
}

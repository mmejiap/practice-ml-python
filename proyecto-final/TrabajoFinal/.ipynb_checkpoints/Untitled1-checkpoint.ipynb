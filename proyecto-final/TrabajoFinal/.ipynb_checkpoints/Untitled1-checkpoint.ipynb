{
 "cells": [
  {
   "cell_type": "code",
   "execution_count": 1,
   "metadata": {},
   "outputs": [],
   "source": [
    "# Librerias\n",
    "import numpy as np\n",
    "import pandas as pd\n",
    "import seaborn as sns"
   ]
  },
  {
   "cell_type": "code",
   "execution_count": 2,
   "metadata": {},
   "outputs": [],
   "source": [
    "# carga de datos\n",
    "data1 = pd.read_csv(\"./data/train_1.csv\",sep=\";\",index_col=None,header=0)\n",
    "data2 = pd.read_csv(\"./data/train_2.csv\",sep=\";\",index_col=None,header=0)\n",
    "salida = pd.read_csv(\"./data/train_3.csv\",sep=\";\",index_col=None,header=0)"
   ]
  },
  {
   "cell_type": "code",
   "execution_count": 3,
   "metadata": {},
   "outputs": [],
   "source": [
    "#uniendo la data\n",
    "data = data1.merge(data2,how='inner',on=['NUMPERIODO', 'NUMCODCONTRATOBSCS', 'VCHTELEFONO'])\n",
    "data = data.merge(salida,how='inner',on=['NUMPERIODO', 'NUMCODCONTRATOBSCS', 'VCHTELEFONO'])"
   ]
  },
  {
   "cell_type": "code",
   "execution_count": 4,
   "metadata": {},
   "outputs": [
    {
     "data": {
      "text/html": [
       "<div>\n",
       "<style scoped>\n",
       "    .dataframe tbody tr th:only-of-type {\n",
       "        vertical-align: middle;\n",
       "    }\n",
       "\n",
       "    .dataframe tbody tr th {\n",
       "        vertical-align: top;\n",
       "    }\n",
       "\n",
       "    .dataframe thead th {\n",
       "        text-align: right;\n",
       "    }\n",
       "</style>\n",
       "<table border=\"1\" class=\"dataframe\">\n",
       "  <thead>\n",
       "    <tr style=\"text-align: right;\">\n",
       "      <th></th>\n",
       "      <th>NUMPERIODO</th>\n",
       "      <th>NUMCODCONTRATOBSCS</th>\n",
       "      <th>VCHTELEFONO</th>\n",
       "      <th>ANT_CLIENTE</th>\n",
       "      <th>NUMRENTABASICA</th>\n",
       "      <th>VCHPACKCHIP</th>\n",
       "      <th>NUMINGRESOTEORICO</th>\n",
       "      <th>NUMMINUTOSENTRANTE_2M</th>\n",
       "      <th>NUMMINUTOSALIENTE_2M</th>\n",
       "      <th>NUMMINSALIENTEOFFNET_2M</th>\n",
       "      <th>...</th>\n",
       "      <th>NUMMB</th>\n",
       "      <th>NUMMB_ADICIONAL</th>\n",
       "      <th>NUMKB_ADICIONAL</th>\n",
       "      <th>PCT_MB_ADICIONAL</th>\n",
       "      <th>PCT_USO_TRAFICOTOTAL_2M</th>\n",
       "      <th>PCT_USO_TRAFICOTOTAL_1M</th>\n",
       "      <th>PCT_USO_TRAFICOTOTAL_M0</th>\n",
       "      <th>PCT_USO_TRAFICOTOTAL_U3M</th>\n",
       "      <th>PCT_USO_TRAFICOTOTAL_U2M</th>\n",
       "      <th>FLG_RECARGA</th>\n",
       "    </tr>\n",
       "  </thead>\n",
       "  <tbody>\n",
       "    <tr>\n",
       "      <th>0</th>\n",
       "      <td>201804</td>\n",
       "      <td>38172100</td>\n",
       "      <td>51982603192</td>\n",
       "      <td>7.645161</td>\n",
       "      <td>41.525398</td>\n",
       "      <td>PACK</td>\n",
       "      <td>41.5254</td>\n",
       "      <td>151</td>\n",
       "      <td>596</td>\n",
       "      <td>590.9832</td>\n",
       "      <td>...</td>\n",
       "      <td>0</td>\n",
       "      <td>0</td>\n",
       "      <td>0.0</td>\n",
       "      <td>0</td>\n",
       "      <td>0.0</td>\n",
       "      <td>0.0</td>\n",
       "      <td>0.0</td>\n",
       "      <td>0.0</td>\n",
       "      <td>0.0</td>\n",
       "      <td>0</td>\n",
       "    </tr>\n",
       "    <tr>\n",
       "      <th>1</th>\n",
       "      <td>201804</td>\n",
       "      <td>9028333</td>\n",
       "      <td>51983661925</td>\n",
       "      <td>45.903226</td>\n",
       "      <td>122.879997</td>\n",
       "      <td>SIM</td>\n",
       "      <td>92.3700</td>\n",
       "      <td>54</td>\n",
       "      <td>410</td>\n",
       "      <td>327.9664</td>\n",
       "      <td>...</td>\n",
       "      <td>0</td>\n",
       "      <td>0</td>\n",
       "      <td>0.0</td>\n",
       "      <td>0</td>\n",
       "      <td>0.0</td>\n",
       "      <td>0.0</td>\n",
       "      <td>0.0</td>\n",
       "      <td>0.0</td>\n",
       "      <td>0.0</td>\n",
       "      <td>0</td>\n",
       "    </tr>\n",
       "    <tr>\n",
       "      <th>2</th>\n",
       "      <td>201805</td>\n",
       "      <td>34979663</td>\n",
       "      <td>51942976545</td>\n",
       "      <td>11.612903</td>\n",
       "      <td>66.949203</td>\n",
       "      <td>PACK</td>\n",
       "      <td>NaN</td>\n",
       "      <td>792</td>\n",
       "      <td>587</td>\n",
       "      <td>512.2667</td>\n",
       "      <td>...</td>\n",
       "      <td>0</td>\n",
       "      <td>0</td>\n",
       "      <td>0.0</td>\n",
       "      <td>0</td>\n",
       "      <td>0.0</td>\n",
       "      <td>0.0</td>\n",
       "      <td>0.0</td>\n",
       "      <td>0.0</td>\n",
       "      <td>0.0</td>\n",
       "      <td>0</td>\n",
       "    </tr>\n",
       "    <tr>\n",
       "      <th>3</th>\n",
       "      <td>201805</td>\n",
       "      <td>13670934</td>\n",
       "      <td>51958993810</td>\n",
       "      <td>32.838710</td>\n",
       "      <td>41.525398</td>\n",
       "      <td>PACK</td>\n",
       "      <td>NaN</td>\n",
       "      <td>170</td>\n",
       "      <td>144</td>\n",
       "      <td>100.5000</td>\n",
       "      <td>...</td>\n",
       "      <td>0</td>\n",
       "      <td>0</td>\n",
       "      <td>0.0</td>\n",
       "      <td>0</td>\n",
       "      <td>0.0</td>\n",
       "      <td>0.0</td>\n",
       "      <td>0.0</td>\n",
       "      <td>0.0</td>\n",
       "      <td>0.0</td>\n",
       "      <td>0</td>\n",
       "    </tr>\n",
       "    <tr>\n",
       "      <th>4</th>\n",
       "      <td>201804</td>\n",
       "      <td>16547229</td>\n",
       "      <td>51934098463</td>\n",
       "      <td>28.387097</td>\n",
       "      <td>62.711899</td>\n",
       "      <td>PACK</td>\n",
       "      <td>62.7119</td>\n",
       "      <td>219</td>\n",
       "      <td>784</td>\n",
       "      <td>745.2162</td>\n",
       "      <td>...</td>\n",
       "      <td>0</td>\n",
       "      <td>0</td>\n",
       "      <td>0.0</td>\n",
       "      <td>0</td>\n",
       "      <td>0.0</td>\n",
       "      <td>0.0</td>\n",
       "      <td>0.0</td>\n",
       "      <td>0.0</td>\n",
       "      <td>0.0</td>\n",
       "      <td>1</td>\n",
       "    </tr>\n",
       "  </tbody>\n",
       "</table>\n",
       "<p>5 rows × 357 columns</p>\n",
       "</div>"
      ],
      "text/plain": [
       "   NUMPERIODO  NUMCODCONTRATOBSCS  VCHTELEFONO  ANT_CLIENTE  NUMRENTABASICA  \\\n",
       "0      201804            38172100  51982603192     7.645161       41.525398   \n",
       "1      201804             9028333  51983661925    45.903226      122.879997   \n",
       "2      201805            34979663  51942976545    11.612903       66.949203   \n",
       "3      201805            13670934  51958993810    32.838710       41.525398   \n",
       "4      201804            16547229  51934098463    28.387097       62.711899   \n",
       "\n",
       "  VCHPACKCHIP  NUMINGRESOTEORICO  NUMMINUTOSENTRANTE_2M  NUMMINUTOSALIENTE_2M  \\\n",
       "0        PACK            41.5254                    151                   596   \n",
       "1         SIM            92.3700                     54                   410   \n",
       "2        PACK                NaN                    792                   587   \n",
       "3        PACK                NaN                    170                   144   \n",
       "4        PACK            62.7119                    219                   784   \n",
       "\n",
       "   NUMMINSALIENTEOFFNET_2M     ...       NUMMB  NUMMB_ADICIONAL  \\\n",
       "0                 590.9832     ...           0                0   \n",
       "1                 327.9664     ...           0                0   \n",
       "2                 512.2667     ...           0                0   \n",
       "3                 100.5000     ...           0                0   \n",
       "4                 745.2162     ...           0                0   \n",
       "\n",
       "   NUMKB_ADICIONAL  PCT_MB_ADICIONAL  PCT_USO_TRAFICOTOTAL_2M  \\\n",
       "0              0.0                 0                      0.0   \n",
       "1              0.0                 0                      0.0   \n",
       "2              0.0                 0                      0.0   \n",
       "3              0.0                 0                      0.0   \n",
       "4              0.0                 0                      0.0   \n",
       "\n",
       "   PCT_USO_TRAFICOTOTAL_1M  PCT_USO_TRAFICOTOTAL_M0  PCT_USO_TRAFICOTOTAL_U3M  \\\n",
       "0                      0.0                      0.0                       0.0   \n",
       "1                      0.0                      0.0                       0.0   \n",
       "2                      0.0                      0.0                       0.0   \n",
       "3                      0.0                      0.0                       0.0   \n",
       "4                      0.0                      0.0                       0.0   \n",
       "\n",
       "   PCT_USO_TRAFICOTOTAL_U2M  FLG_RECARGA  \n",
       "0                       0.0            0  \n",
       "1                       0.0            0  \n",
       "2                       0.0            0  \n",
       "3                       0.0            0  \n",
       "4                       0.0            1  \n",
       "\n",
       "[5 rows x 357 columns]"
      ]
     },
     "execution_count": 4,
     "metadata": {},
     "output_type": "execute_result"
    }
   ],
   "source": [
    "data.head()"
   ]
  },
  {
   "cell_type": "code",
   "execution_count": 5,
   "metadata": {},
   "outputs": [],
   "source": [
    "df_data = data.copy()"
   ]
  },
  {
   "cell_type": "code",
   "execution_count": 6,
   "metadata": {},
   "outputs": [
    {
     "data": {
      "text/html": [
       "<div>\n",
       "<style scoped>\n",
       "    .dataframe tbody tr th:only-of-type {\n",
       "        vertical-align: middle;\n",
       "    }\n",
       "\n",
       "    .dataframe tbody tr th {\n",
       "        vertical-align: top;\n",
       "    }\n",
       "\n",
       "    .dataframe thead th {\n",
       "        text-align: right;\n",
       "    }\n",
       "</style>\n",
       "<table border=\"1\" class=\"dataframe\">\n",
       "  <thead>\n",
       "    <tr style=\"text-align: right;\">\n",
       "      <th></th>\n",
       "      <th>NUMPERIODO</th>\n",
       "      <th>NUMCODCONTRATOBSCS</th>\n",
       "      <th>VCHTELEFONO</th>\n",
       "      <th>ANT_CLIENTE</th>\n",
       "      <th>NUMRENTABASICA</th>\n",
       "      <th>VCHPACKCHIP</th>\n",
       "      <th>NUMINGRESOTEORICO</th>\n",
       "      <th>NUMMINUTOSENTRANTE_2M</th>\n",
       "      <th>NUMMINUTOSALIENTE_2M</th>\n",
       "      <th>NUMMINSALIENTEOFFNET_2M</th>\n",
       "      <th>...</th>\n",
       "      <th>NUMMB</th>\n",
       "      <th>NUMMB_ADICIONAL</th>\n",
       "      <th>NUMKB_ADICIONAL</th>\n",
       "      <th>PCT_MB_ADICIONAL</th>\n",
       "      <th>PCT_USO_TRAFICOTOTAL_2M</th>\n",
       "      <th>PCT_USO_TRAFICOTOTAL_1M</th>\n",
       "      <th>PCT_USO_TRAFICOTOTAL_M0</th>\n",
       "      <th>PCT_USO_TRAFICOTOTAL_U3M</th>\n",
       "      <th>PCT_USO_TRAFICOTOTAL_U2M</th>\n",
       "      <th>FLG_RECARGA</th>\n",
       "    </tr>\n",
       "  </thead>\n",
       "  <tbody>\n",
       "    <tr>\n",
       "      <th>0</th>\n",
       "      <td>201804</td>\n",
       "      <td>38172100</td>\n",
       "      <td>51982603192</td>\n",
       "      <td>7.645161</td>\n",
       "      <td>41.525398</td>\n",
       "      <td>PACK</td>\n",
       "      <td>41.5254</td>\n",
       "      <td>151</td>\n",
       "      <td>596</td>\n",
       "      <td>590.9832</td>\n",
       "      <td>...</td>\n",
       "      <td>0</td>\n",
       "      <td>0</td>\n",
       "      <td>0.0</td>\n",
       "      <td>0</td>\n",
       "      <td>0.0</td>\n",
       "      <td>0.0</td>\n",
       "      <td>0.0</td>\n",
       "      <td>0.0</td>\n",
       "      <td>0.0</td>\n",
       "      <td>0</td>\n",
       "    </tr>\n",
       "    <tr>\n",
       "      <th>1</th>\n",
       "      <td>201804</td>\n",
       "      <td>9028333</td>\n",
       "      <td>51983661925</td>\n",
       "      <td>45.903226</td>\n",
       "      <td>122.879997</td>\n",
       "      <td>SIM</td>\n",
       "      <td>92.3700</td>\n",
       "      <td>54</td>\n",
       "      <td>410</td>\n",
       "      <td>327.9664</td>\n",
       "      <td>...</td>\n",
       "      <td>0</td>\n",
       "      <td>0</td>\n",
       "      <td>0.0</td>\n",
       "      <td>0</td>\n",
       "      <td>0.0</td>\n",
       "      <td>0.0</td>\n",
       "      <td>0.0</td>\n",
       "      <td>0.0</td>\n",
       "      <td>0.0</td>\n",
       "      <td>0</td>\n",
       "    </tr>\n",
       "    <tr>\n",
       "      <th>2</th>\n",
       "      <td>201805</td>\n",
       "      <td>34979663</td>\n",
       "      <td>51942976545</td>\n",
       "      <td>11.612903</td>\n",
       "      <td>66.949203</td>\n",
       "      <td>PACK</td>\n",
       "      <td>NaN</td>\n",
       "      <td>792</td>\n",
       "      <td>587</td>\n",
       "      <td>512.2667</td>\n",
       "      <td>...</td>\n",
       "      <td>0</td>\n",
       "      <td>0</td>\n",
       "      <td>0.0</td>\n",
       "      <td>0</td>\n",
       "      <td>0.0</td>\n",
       "      <td>0.0</td>\n",
       "      <td>0.0</td>\n",
       "      <td>0.0</td>\n",
       "      <td>0.0</td>\n",
       "      <td>0</td>\n",
       "    </tr>\n",
       "    <tr>\n",
       "      <th>3</th>\n",
       "      <td>201805</td>\n",
       "      <td>13670934</td>\n",
       "      <td>51958993810</td>\n",
       "      <td>32.838710</td>\n",
       "      <td>41.525398</td>\n",
       "      <td>PACK</td>\n",
       "      <td>NaN</td>\n",
       "      <td>170</td>\n",
       "      <td>144</td>\n",
       "      <td>100.5000</td>\n",
       "      <td>...</td>\n",
       "      <td>0</td>\n",
       "      <td>0</td>\n",
       "      <td>0.0</td>\n",
       "      <td>0</td>\n",
       "      <td>0.0</td>\n",
       "      <td>0.0</td>\n",
       "      <td>0.0</td>\n",
       "      <td>0.0</td>\n",
       "      <td>0.0</td>\n",
       "      <td>0</td>\n",
       "    </tr>\n",
       "    <tr>\n",
       "      <th>4</th>\n",
       "      <td>201804</td>\n",
       "      <td>16547229</td>\n",
       "      <td>51934098463</td>\n",
       "      <td>28.387097</td>\n",
       "      <td>62.711899</td>\n",
       "      <td>PACK</td>\n",
       "      <td>62.7119</td>\n",
       "      <td>219</td>\n",
       "      <td>784</td>\n",
       "      <td>745.2162</td>\n",
       "      <td>...</td>\n",
       "      <td>0</td>\n",
       "      <td>0</td>\n",
       "      <td>0.0</td>\n",
       "      <td>0</td>\n",
       "      <td>0.0</td>\n",
       "      <td>0.0</td>\n",
       "      <td>0.0</td>\n",
       "      <td>0.0</td>\n",
       "      <td>0.0</td>\n",
       "      <td>1</td>\n",
       "    </tr>\n",
       "  </tbody>\n",
       "</table>\n",
       "<p>5 rows × 357 columns</p>\n",
       "</div>"
      ],
      "text/plain": [
       "   NUMPERIODO  NUMCODCONTRATOBSCS  VCHTELEFONO  ANT_CLIENTE  NUMRENTABASICA  \\\n",
       "0      201804            38172100  51982603192     7.645161       41.525398   \n",
       "1      201804             9028333  51983661925    45.903226      122.879997   \n",
       "2      201805            34979663  51942976545    11.612903       66.949203   \n",
       "3      201805            13670934  51958993810    32.838710       41.525398   \n",
       "4      201804            16547229  51934098463    28.387097       62.711899   \n",
       "\n",
       "  VCHPACKCHIP  NUMINGRESOTEORICO  NUMMINUTOSENTRANTE_2M  NUMMINUTOSALIENTE_2M  \\\n",
       "0        PACK            41.5254                    151                   596   \n",
       "1         SIM            92.3700                     54                   410   \n",
       "2        PACK                NaN                    792                   587   \n",
       "3        PACK                NaN                    170                   144   \n",
       "4        PACK            62.7119                    219                   784   \n",
       "\n",
       "   NUMMINSALIENTEOFFNET_2M     ...       NUMMB  NUMMB_ADICIONAL  \\\n",
       "0                 590.9832     ...           0                0   \n",
       "1                 327.9664     ...           0                0   \n",
       "2                 512.2667     ...           0                0   \n",
       "3                 100.5000     ...           0                0   \n",
       "4                 745.2162     ...           0                0   \n",
       "\n",
       "   NUMKB_ADICIONAL  PCT_MB_ADICIONAL  PCT_USO_TRAFICOTOTAL_2M  \\\n",
       "0              0.0                 0                      0.0   \n",
       "1              0.0                 0                      0.0   \n",
       "2              0.0                 0                      0.0   \n",
       "3              0.0                 0                      0.0   \n",
       "4              0.0                 0                      0.0   \n",
       "\n",
       "   PCT_USO_TRAFICOTOTAL_1M  PCT_USO_TRAFICOTOTAL_M0  PCT_USO_TRAFICOTOTAL_U3M  \\\n",
       "0                      0.0                      0.0                       0.0   \n",
       "1                      0.0                      0.0                       0.0   \n",
       "2                      0.0                      0.0                       0.0   \n",
       "3                      0.0                      0.0                       0.0   \n",
       "4                      0.0                      0.0                       0.0   \n",
       "\n",
       "   PCT_USO_TRAFICOTOTAL_U2M  FLG_RECARGA  \n",
       "0                       0.0            0  \n",
       "1                       0.0            0  \n",
       "2                       0.0            0  \n",
       "3                       0.0            0  \n",
       "4                       0.0            1  \n",
       "\n",
       "[5 rows x 357 columns]"
      ]
     },
     "execution_count": 6,
     "metadata": {},
     "output_type": "execute_result"
    }
   ],
   "source": [
    "df_data.head()"
   ]
  },
  {
   "cell_type": "code",
   "execution_count": 7,
   "metadata": {},
   "outputs": [
    {
     "name": "stdout",
     "output_type": "stream",
     "text": [
      "<class 'pandas.core.frame.DataFrame'>\n",
      "Int64Index: 749 entries, 0 to 748\n",
      "Columns: 357 entries, NUMPERIODO to FLG_RECARGA\n",
      "dtypes: float64(285), int64(69), object(3)\n",
      "memory usage: 2.0+ MB\n"
     ]
    }
   ],
   "source": [
    "df_data.info()"
   ]
  },
  {
   "cell_type": "code",
   "execution_count": 8,
   "metadata": {},
   "outputs": [
    {
     "data": {
      "text/plain": [
       "(749, 357)"
      ]
     },
     "execution_count": 8,
     "metadata": {},
     "output_type": "execute_result"
    }
   ],
   "source": [
    "df_data.shape"
   ]
  },
  {
   "cell_type": "code",
   "execution_count": 9,
   "metadata": {},
   "outputs": [
    {
     "data": {
      "text/html": [
       "<div>\n",
       "<style scoped>\n",
       "    .dataframe tbody tr th:only-of-type {\n",
       "        vertical-align: middle;\n",
       "    }\n",
       "\n",
       "    .dataframe tbody tr th {\n",
       "        vertical-align: top;\n",
       "    }\n",
       "\n",
       "    .dataframe thead th {\n",
       "        text-align: right;\n",
       "    }\n",
       "</style>\n",
       "<table border=\"1\" class=\"dataframe\">\n",
       "  <thead>\n",
       "    <tr style=\"text-align: right;\">\n",
       "      <th></th>\n",
       "      <th>0</th>\n",
       "    </tr>\n",
       "  </thead>\n",
       "  <tbody>\n",
       "    <tr>\n",
       "      <th>ANT_CLIENTE</th>\n",
       "      <td>float64</td>\n",
       "    </tr>\n",
       "    <tr>\n",
       "      <th>NUMRENTABASICA</th>\n",
       "      <td>float64</td>\n",
       "    </tr>\n",
       "    <tr>\n",
       "      <th>NUMINGRESOTEORICO</th>\n",
       "      <td>float64</td>\n",
       "    </tr>\n",
       "    <tr>\n",
       "      <th>NUMMINSALIENTEOFFNET_2M</th>\n",
       "      <td>float64</td>\n",
       "    </tr>\n",
       "    <tr>\n",
       "      <th>NUMMINENTRANTEOFFNET_2M</th>\n",
       "      <td>float64</td>\n",
       "    </tr>\n",
       "    <tr>\n",
       "      <th>NUMMINSALIENTEONNET_2M</th>\n",
       "      <td>float64</td>\n",
       "    </tr>\n",
       "    <tr>\n",
       "      <th>NUMMINENTRANTEONNET_2M</th>\n",
       "      <td>float64</td>\n",
       "    </tr>\n",
       "    <tr>\n",
       "      <th>NUMTRAFICOFACEBOOK_2M</th>\n",
       "      <td>float64</td>\n",
       "    </tr>\n",
       "    <tr>\n",
       "      <th>NUMTRAFICOWHATSAPP_2M</th>\n",
       "      <td>float64</td>\n",
       "    </tr>\n",
       "    <tr>\n",
       "      <th>NUMTRAFICOYOUTUBE_2M</th>\n",
       "      <td>float64</td>\n",
       "    </tr>\n",
       "    <tr>\n",
       "      <th>NUMTRAFICOSPOTIFY_2M</th>\n",
       "      <td>float64</td>\n",
       "    </tr>\n",
       "    <tr>\n",
       "      <th>NUMTRAFICOSOUNDCLOUD_2M</th>\n",
       "      <td>float64</td>\n",
       "    </tr>\n",
       "    <tr>\n",
       "      <th>NUMTRAFICOAPPLEMUSIC_2M</th>\n",
       "      <td>float64</td>\n",
       "    </tr>\n",
       "    <tr>\n",
       "      <th>NUMTRAFICOINSTAGRAM_2M</th>\n",
       "      <td>float64</td>\n",
       "    </tr>\n",
       "    <tr>\n",
       "      <th>NUMTRAFICOMAILILIMITADO_2M</th>\n",
       "      <td>float64</td>\n",
       "    </tr>\n",
       "    <tr>\n",
       "      <th>NUMTRAFICONETFLIX_2M</th>\n",
       "      <td>float64</td>\n",
       "    </tr>\n",
       "    <tr>\n",
       "      <th>NUMTRAFICOPAGADO_2M</th>\n",
       "      <td>float64</td>\n",
       "    </tr>\n",
       "    <tr>\n",
       "      <th>NUMTRAFICOTOTAL_2M</th>\n",
       "      <td>float64</td>\n",
       "    </tr>\n",
       "    <tr>\n",
       "      <th>NUMMINSALIENTEOFFNET_1M</th>\n",
       "      <td>float64</td>\n",
       "    </tr>\n",
       "    <tr>\n",
       "      <th>NUMMINENTRANTEOFFNET_1M</th>\n",
       "      <td>float64</td>\n",
       "    </tr>\n",
       "  </tbody>\n",
       "</table>\n",
       "</div>"
      ],
      "text/plain": [
       "                                  0\n",
       "ANT_CLIENTE                 float64\n",
       "NUMRENTABASICA              float64\n",
       "NUMINGRESOTEORICO           float64\n",
       "NUMMINSALIENTEOFFNET_2M     float64\n",
       "NUMMINENTRANTEOFFNET_2M     float64\n",
       "NUMMINSALIENTEONNET_2M      float64\n",
       "NUMMINENTRANTEONNET_2M      float64\n",
       "NUMTRAFICOFACEBOOK_2M       float64\n",
       "NUMTRAFICOWHATSAPP_2M       float64\n",
       "NUMTRAFICOYOUTUBE_2M        float64\n",
       "NUMTRAFICOSPOTIFY_2M        float64\n",
       "NUMTRAFICOSOUNDCLOUD_2M     float64\n",
       "NUMTRAFICOAPPLEMUSIC_2M     float64\n",
       "NUMTRAFICOINSTAGRAM_2M      float64\n",
       "NUMTRAFICOMAILILIMITADO_2M  float64\n",
       "NUMTRAFICONETFLIX_2M        float64\n",
       "NUMTRAFICOPAGADO_2M         float64\n",
       "NUMTRAFICOTOTAL_2M          float64\n",
       "NUMMINSALIENTEOFFNET_1M     float64\n",
       "NUMMINENTRANTEOFFNET_1M     float64"
      ]
     },
     "execution_count": 9,
     "metadata": {},
     "output_type": "execute_result"
    }
   ],
   "source": [
    "pd.DataFrame(df_data.dtypes[df_data.dtypes=='float64']).head(20)"
   ]
  },
  {
   "cell_type": "code",
   "execution_count": 10,
   "metadata": {},
   "outputs": [
    {
     "data": {
      "text/html": [
       "<div>\n",
       "<style scoped>\n",
       "    .dataframe tbody tr th:only-of-type {\n",
       "        vertical-align: middle;\n",
       "    }\n",
       "\n",
       "    .dataframe tbody tr th {\n",
       "        vertical-align: top;\n",
       "    }\n",
       "\n",
       "    .dataframe thead th {\n",
       "        text-align: right;\n",
       "    }\n",
       "</style>\n",
       "<table border=\"1\" class=\"dataframe\">\n",
       "  <thead>\n",
       "    <tr style=\"text-align: right;\">\n",
       "      <th></th>\n",
       "      <th>0</th>\n",
       "    </tr>\n",
       "  </thead>\n",
       "  <tbody>\n",
       "    <tr>\n",
       "      <th>NUMPERIODO</th>\n",
       "      <td>int64</td>\n",
       "    </tr>\n",
       "    <tr>\n",
       "      <th>NUMCODCONTRATOBSCS</th>\n",
       "      <td>int64</td>\n",
       "    </tr>\n",
       "    <tr>\n",
       "      <th>VCHTELEFONO</th>\n",
       "      <td>int64</td>\n",
       "    </tr>\n",
       "    <tr>\n",
       "      <th>NUMMINUTOSENTRANTE_2M</th>\n",
       "      <td>int64</td>\n",
       "    </tr>\n",
       "    <tr>\n",
       "      <th>NUMMINUTOSALIENTE_2M</th>\n",
       "      <td>int64</td>\n",
       "    </tr>\n",
       "    <tr>\n",
       "      <th>NUMTRAFICOYOUTUBEPAGADO_2M</th>\n",
       "      <td>int64</td>\n",
       "    </tr>\n",
       "    <tr>\n",
       "      <th>NUMMINUTOSENTRANTE_1M</th>\n",
       "      <td>int64</td>\n",
       "    </tr>\n",
       "    <tr>\n",
       "      <th>NUMMINUTOSALIENTE_1M</th>\n",
       "      <td>int64</td>\n",
       "    </tr>\n",
       "    <tr>\n",
       "      <th>NUMTRAFICOYOUTUBEPAGADO_1M</th>\n",
       "      <td>int64</td>\n",
       "    </tr>\n",
       "    <tr>\n",
       "      <th>NUMTRAFICOAPPLEMUSIC_1M</th>\n",
       "      <td>int64</td>\n",
       "    </tr>\n",
       "    <tr>\n",
       "      <th>NUMMINUTOSALIENTE_M0</th>\n",
       "      <td>int64</td>\n",
       "    </tr>\n",
       "    <tr>\n",
       "      <th>NUMTRAFICOAPPLEMUSIC_M0</th>\n",
       "      <td>int64</td>\n",
       "    </tr>\n",
       "    <tr>\n",
       "      <th>NUMMINUTOSALIENTE_U2M</th>\n",
       "      <td>int64</td>\n",
       "    </tr>\n",
       "    <tr>\n",
       "      <th>NUMMINUTOSALIENTE_U3M</th>\n",
       "      <td>int64</td>\n",
       "    </tr>\n",
       "    <tr>\n",
       "      <th>MAX_NUMMINUTOSENTRANTE_U2M</th>\n",
       "      <td>int64</td>\n",
       "    </tr>\n",
       "    <tr>\n",
       "      <th>MAX_NUMMINUTOSALIENTE_U2M</th>\n",
       "      <td>int64</td>\n",
       "    </tr>\n",
       "    <tr>\n",
       "      <th>MAX_NUMMINUTOSENTRANTE_U3M</th>\n",
       "      <td>int64</td>\n",
       "    </tr>\n",
       "    <tr>\n",
       "      <th>MAX_NUMMINUTOSALIENTE_U3M</th>\n",
       "      <td>int64</td>\n",
       "    </tr>\n",
       "    <tr>\n",
       "      <th>MIN_NUMMINUTOSENTRANTE_U2M</th>\n",
       "      <td>int64</td>\n",
       "    </tr>\n",
       "    <tr>\n",
       "      <th>MIN_NUMMINUTOSALIENTE_U2M</th>\n",
       "      <td>int64</td>\n",
       "    </tr>\n",
       "  </tbody>\n",
       "</table>\n",
       "</div>"
      ],
      "text/plain": [
       "                                0\n",
       "NUMPERIODO                  int64\n",
       "NUMCODCONTRATOBSCS          int64\n",
       "VCHTELEFONO                 int64\n",
       "NUMMINUTOSENTRANTE_2M       int64\n",
       "NUMMINUTOSALIENTE_2M        int64\n",
       "NUMTRAFICOYOUTUBEPAGADO_2M  int64\n",
       "NUMMINUTOSENTRANTE_1M       int64\n",
       "NUMMINUTOSALIENTE_1M        int64\n",
       "NUMTRAFICOYOUTUBEPAGADO_1M  int64\n",
       "NUMTRAFICOAPPLEMUSIC_1M     int64\n",
       "NUMMINUTOSALIENTE_M0        int64\n",
       "NUMTRAFICOAPPLEMUSIC_M0     int64\n",
       "NUMMINUTOSALIENTE_U2M       int64\n",
       "NUMMINUTOSALIENTE_U3M       int64\n",
       "MAX_NUMMINUTOSENTRANTE_U2M  int64\n",
       "MAX_NUMMINUTOSALIENTE_U2M   int64\n",
       "MAX_NUMMINUTOSENTRANTE_U3M  int64\n",
       "MAX_NUMMINUTOSALIENTE_U3M   int64\n",
       "MIN_NUMMINUTOSENTRANTE_U2M  int64\n",
       "MIN_NUMMINUTOSALIENTE_U2M   int64"
      ]
     },
     "execution_count": 10,
     "metadata": {},
     "output_type": "execute_result"
    }
   ],
   "source": [
    "pd.DataFrame(df_data.dtypes[df_data.dtypes=='int64']).head(20)"
   ]
  },
  {
   "cell_type": "code",
   "execution_count": 11,
   "metadata": {},
   "outputs": [
    {
     "data": {
      "text/html": [
       "<div>\n",
       "<style scoped>\n",
       "    .dataframe tbody tr th:only-of-type {\n",
       "        vertical-align: middle;\n",
       "    }\n",
       "\n",
       "    .dataframe tbody tr th {\n",
       "        vertical-align: top;\n",
       "    }\n",
       "\n",
       "    .dataframe thead th {\n",
       "        text-align: right;\n",
       "    }\n",
       "</style>\n",
       "<table border=\"1\" class=\"dataframe\">\n",
       "  <thead>\n",
       "    <tr style=\"text-align: right;\">\n",
       "      <th></th>\n",
       "      <th>0</th>\n",
       "    </tr>\n",
       "  </thead>\n",
       "  <tbody>\n",
       "    <tr>\n",
       "      <th>VCHPACKCHIP</th>\n",
       "      <td>object</td>\n",
       "    </tr>\n",
       "    <tr>\n",
       "      <th>VCHRANGO_RENTA</th>\n",
       "      <td>object</td>\n",
       "    </tr>\n",
       "    <tr>\n",
       "      <th>VCHFAMILIA_PLAN</th>\n",
       "      <td>object</td>\n",
       "    </tr>\n",
       "  </tbody>\n",
       "</table>\n",
       "</div>"
      ],
      "text/plain": [
       "                      0\n",
       "VCHPACKCHIP      object\n",
       "VCHRANGO_RENTA   object\n",
       "VCHFAMILIA_PLAN  object"
      ]
     },
     "execution_count": 11,
     "metadata": {},
     "output_type": "execute_result"
    }
   ],
   "source": [
    "pd.DataFrame(df_data.dtypes[df_data.dtypes=='object'])"
   ]
  },
  {
   "cell_type": "code",
   "execution_count": 12,
   "metadata": {},
   "outputs": [
    {
     "data": {
      "text/plain": [
       "PACK    510\n",
       "SIM     239\n",
       "Name: VCHPACKCHIP, dtype: int64"
      ]
     },
     "execution_count": 12,
     "metadata": {},
     "output_type": "execute_result"
    }
   ],
   "source": [
    "df_data['VCHPACKCHIP'].value_counts()"
   ]
  },
  {
   "cell_type": "code",
   "execution_count": 13,
   "metadata": {},
   "outputs": [
    {
     "data": {
      "text/plain": [
       "Media    468\n",
       "Baja     239\n",
       "Alta      42\n",
       "Name: VCHRANGO_RENTA, dtype: int64"
      ]
     },
     "execution_count": 13,
     "metadata": {},
     "output_type": "execute_result"
    }
   ],
   "source": [
    "df_data['VCHRANGO_RENTA'].value_counts()"
   ]
  },
  {
   "cell_type": "code",
   "execution_count": 14,
   "metadata": {},
   "outputs": [
    {
     "data": {
      "text/plain": [
       "Control Negocio    747\n",
       "Empresa Plus         2\n",
       "Name: VCHFAMILIA_PLAN, dtype: int64"
      ]
     },
     "execution_count": 14,
     "metadata": {},
     "output_type": "execute_result"
    }
   ],
   "source": [
    "df_data['VCHFAMILIA_PLAN'].value_counts()"
   ]
  },
  {
   "cell_type": "code",
   "execution_count": 15,
   "metadata": {},
   "outputs": [
    {
     "data": {
      "text/plain": [
       "(62.556, 72.61]       0.145527\n",
       "(32.394, 42.448]      0.132176\n",
       "(82.664, 92.718]      0.109479\n",
       "(22.34, 32.394]       0.042724\n",
       "(42.448, 52.502]      0.041389\n",
       "(72.61, 82.664]       0.024032\n",
       "(112.826, 122.88]     0.022697\n",
       "(52.502, 62.556]      0.012016\n",
       "(12.175, 22.34]       0.008011\n",
       "(102.772, 112.826]    0.001335\n",
       "(92.718, 102.772]     0.000000\n",
       "Name: NUMINGRESOTEORICO, dtype: float64"
      ]
     },
     "execution_count": 15,
     "metadata": {},
     "output_type": "execute_result"
    }
   ],
   "source": [
    "df_data['NUMINGRESOTEORICO'].value_counts(bins=11,normalize=True)"
   ]
  },
  {
   "cell_type": "code",
   "execution_count": 53,
   "metadata": {},
   "outputs": [
    {
     "name": "stdout",
     "output_type": "stream",
     "text": [
      "mean con NaN ->  61.954822029702875\n",
      "mean sin NaN ->  61.954822029702875\n",
      "minimo con NaN ->  12.2863\n",
      "minimo sin NaN ->  12.2863\n"
     ]
    }
   ],
   "source": [
    "## procesando los datos NUMINGRESOTEORICO\n",
    "data_temp1 = df_data['NUMINGRESOTEORICO'].copy()\n",
    "data_temp2 = df_data['NUMINGRESOTEORICO'].copy()\n",
    "print(\"mean con NaN -> \",data_temp1.mean())\n",
    "print(\"mean sin NaN -> \",data_temp1[data_temp1.notnull()].mean())\n",
    "\n",
    "print(\"minimo con NaN -> \",data_temp1.min())\n",
    "print(\"minimo sin NaN -> \",data_temp1[data_temp1.notnull()].min())"
   ]
  },
  {
   "cell_type": "code",
   "execution_count": 59,
   "metadata": {},
   "outputs": [],
   "source": [
    "values = data_temp1[data_temp1.notnull()].value_counts().keys().tolist()\n",
    "counts = data_temp1[data_temp1.notnull()].value_counts().tolist()"
   ]
  },
  {
   "cell_type": "code",
   "execution_count": 71,
   "metadata": {},
   "outputs": [
    {
     "data": {
      "text/plain": [
       "[76, 69, 51, 32, 28, 21, 18, 17, 15, 13]"
      ]
     },
     "execution_count": 71,
     "metadata": {},
     "output_type": "execute_result"
    }
   ],
   "source": [
    "counts[:10]"
   ]
  },
  {
   "cell_type": "code",
   "execution_count": 66,
   "metadata": {},
   "outputs": [
    {
     "name": "stderr",
     "output_type": "stream",
     "text": [
      "C:\\Users\\mmejia\\AppData\\Local\\Continuum\\anaconda3\\lib\\site-packages\\scipy\\stats\\stats.py:1713: FutureWarning: Using a non-tuple sequence for multidimensional indexing is deprecated; use `arr[tuple(seq)]` instead of `arr[seq]`. In the future this will be interpreted as an array index, `arr[np.array(seq)]`, which will result either in an error or a different result.\n",
      "  return np.add.reduce(sorted[indexer] * weights, axis=axis) / sumval\n"
     ]
    },
    {
     "data": {
      "text/plain": [
       "<matplotlib.axes._subplots.AxesSubplot at 0x1da6d9fa9e8>"
      ]
     },
     "execution_count": 66,
     "metadata": {},
     "output_type": "execute_result"
    },
    {
     "data": {
      "image/png": "[encoded data removed]",
      "text/plain": [
       "<Figure size 432x288 with 1 Axes>"
      ]
     },
     "metadata": {
      "needs_background": "light"
     },
     "output_type": "display_data"
    }
   ],
   "source": [
    "sns.distplot(counts)"
   ]
  },
  {
   "cell_type": "code",
   "execution_count": 72,
   "metadata": {},
   "outputs": [],
   "source": [
    "values = data_temp1[data_temp1].value_counts().keys().tolist()\n",
    "counts = data_temp1[data_temp1].value_counts().tolist()"
   ]
  },
  {
   "cell_type": "code",
   "execution_count": 75,
   "metadata": {},
   "outputs": [
    {
     "name": "stdout",
     "output_type": "stream",
     "text": [
      "404\n"
     ]
    }
   ],
   "source": [
    "print(data_temp1.value_counts().sum())"
   ]
  },
  {
   "cell_type": "code",
   "execution_count": 83,
   "metadata": {},
   "outputs": [
    {
     "name": "stdout",
     "output_type": "stream",
     "text": [
      "0    41.5254\n",
      "1    92.3700\n",
      "2        NaN\n",
      "3        NaN\n",
      "4    62.7119\n",
      "Name: NUMINGRESOTEORICO, dtype: float64\n",
      "0      1\n",
      "1      1\n",
      "2      0\n",
      "3      0\n",
      "4      1\n",
      "5      1\n",
      "6      1\n",
      "7      1\n",
      "8      1\n",
      "9      0\n",
      "10     1\n",
      "11     0\n",
      "12     0\n",
      "13     0\n",
      "14     0\n",
      "15     0\n",
      "16     0\n",
      "17     1\n",
      "18     1\n",
      "19     1\n",
      "20     0\n",
      "21     0\n",
      "22     1\n",
      "23     0\n",
      "24     0\n",
      "25     1\n",
      "26     1\n",
      "27     1\n",
      "28     1\n",
      "29     1\n",
      "      ..\n",
      "719    0\n",
      "720    0\n",
      "721    1\n",
      "722    0\n",
      "723    1\n",
      "724    0\n",
      "725    0\n",
      "726    1\n",
      "727    1\n",
      "728    1\n",
      "729    0\n",
      "730    0\n",
      "731    1\n",
      "732    1\n",
      "733    1\n",
      "734    1\n",
      "735    0\n",
      "736    0\n",
      "737    0\n",
      "738    1\n",
      "739    1\n",
      "740    0\n",
      "741    1\n",
      "742    0\n",
      "743    1\n",
      "744    0\n",
      "745    1\n",
      "746    1\n",
      "747    1\n",
      "748    1\n",
      "Name: NUMINGRESOTEORICO, Length: 749, dtype: int32\n"
     ]
    }
   ],
   "source": [
    "print(data_temp1.head())\n",
    "print(data_temp1.notnull()*1)"
   ]
  },
  {
   "cell_type": "code",
   "execution_count": null,
   "metadata": {},
   "outputs": [],
   "source": []
  },
  {
   "cell_type": "code",
   "execution_count": 85,
   "metadata": {},
   "outputs": [],
   "source": [
    "data_temp2[data_temp2.isnull()] = data_temp2[data_temp2.notnull()].mean()"
   ]
  },
  {
   "cell_type": "code",
   "execution_count": null,
   "metadata": {},
   "outputs": [],
   "source": []
  },
  {
   "cell_type": "code",
   "execution_count": null,
   "metadata": {},
   "outputs": [],
   "source": []
  },
  {
   "cell_type": "code",
   "execution_count": null,
   "metadata": {},
   "outputs": [],
   "source": []
  }
 ],
 "metadata": {
  "kernelspec": {
   "display_name": "Python 3",
   "language": "python",
   "name": "python3"
  },
  "language_info": {
   "codemirror_mode": {
    "name": "ipython",
    "version": 3
   },
   "file_extension": ".py",
   "mimetype": "text/x-python",
   "name": "python",
   "nbconvert_exporter": "python",
   "pygments_lexer": "ipython3",
   "version": "3.7.0"
  }
 },
 "nbformat": 4,
 "nbformat_minor": 2
}

{
 "cells": [
  {
   "cell_type": "code",
   "execution_count": 1,
   "metadata": {},
   "outputs": [],
   "source": [
    "#librerias\n",
    "import numpy as np\n",
    "import pandas as pd\n",
    "import seaborn as sns"
   ]
  },
  {
   "cell_type": "markdown",
   "metadata": {},
   "source": [
    "# Cargando datos"
   ]
  },
  {
   "cell_type": "code",
   "execution_count": 2,
   "metadata": {},
   "outputs": [],
   "source": [
    "# carga de datos\n",
    "data1 = pd.read_csv(\"./data/train_1.csv\",sep=\";\",index_col=None,header=0)\n",
    "data2 = pd.read_csv(\"./data/train_2.csv\",sep=\";\",index_col=None,header=0)\n",
    "salida = pd.read_csv(\"./data/train_3.csv\",sep=\";\",index_col=None,header=0)\n",
    "\n",
    "#uniendo la data\n",
    "data = data1.merge(data2,how='inner',on=['NUMPERIODO', 'NUMCODCONTRATOBSCS', 'VCHTELEFONO'])\n",
    "data = data.merge(salida,how='inner',on=['NUMPERIODO', 'NUMCODCONTRATOBSCS', 'VCHTELEFONO'])"
   ]
  },
  {
   "cell_type": "code",
   "execution_count": 3,
   "metadata": {},
   "outputs": [],
   "source": [
    "df = data.copy()"
   ]
  },
  {
   "cell_type": "code",
   "execution_count": 4,
   "metadata": {},
   "outputs": [],
   "source": [
    "columns_exec = []\n",
    "columns_exec.append('NUMINGRESOTEORICO')\n",
    "columns_exec.append('VCHFAMILIA_PLAN')\n",
    "columns_exec.append('NUMPERIODO')\n",
    "columns_exec.append('VCHTELEFONO')\n",
    "columns_exec.append('ANT_CLIENTE')\n",
    "columns_exec.append('FLG_RECARGA')\n",
    "columns_exec.append('VCHPACKCHIP')\n",
    "columns_exec.append('VCHRANGO_RENTA')\n"
   ]
  },
  {
   "cell_type": "code",
   "execution_count": 5,
   "metadata": {},
   "outputs": [
    {
     "data": {
      "text/html": [
       "<div>\n",
       "<style scoped>\n",
       "    .dataframe tbody tr th:only-of-type {\n",
       "        vertical-align: middle;\n",
       "    }\n",
       "\n",
       "    .dataframe tbody tr th {\n",
       "        vertical-align: top;\n",
       "    }\n",
       "\n",
       "    .dataframe thead th {\n",
       "        text-align: right;\n",
       "    }\n",
       "</style>\n",
       "<table border=\"1\" class=\"dataframe\">\n",
       "  <thead>\n",
       "    <tr style=\"text-align: right;\">\n",
       "      <th></th>\n",
       "      <th>0</th>\n",
       "    </tr>\n",
       "  </thead>\n",
       "  <tbody>\n",
       "    <tr>\n",
       "      <th>VCHPACKCHIP</th>\n",
       "      <td>object</td>\n",
       "    </tr>\n",
       "    <tr>\n",
       "      <th>VCHRANGO_RENTA</th>\n",
       "      <td>object</td>\n",
       "    </tr>\n",
       "    <tr>\n",
       "      <th>VCHFAMILIA_PLAN</th>\n",
       "      <td>object</td>\n",
       "    </tr>\n",
       "  </tbody>\n",
       "</table>\n",
       "</div>"
      ],
      "text/plain": [
       "                      0\n",
       "VCHPACKCHIP      object\n",
       "VCHRANGO_RENTA   object\n",
       "VCHFAMILIA_PLAN  object"
      ]
     },
     "execution_count": 5,
     "metadata": {},
     "output_type": "execute_result"
    }
   ],
   "source": [
    "pd.DataFrame(df.dtypes[df.dtypes=='object'])"
   ]
  },
  {
   "cell_type": "code",
   "execution_count": 6,
   "metadata": {},
   "outputs": [
    {
     "data": {
      "text/plain": [
       "PACK    510\n",
       "SIM     239\n",
       "Name: VCHPACKCHIP, dtype: int64"
      ]
     },
     "execution_count": 6,
     "metadata": {},
     "output_type": "execute_result"
    }
   ],
   "source": [
    "df['VCHPACKCHIP'].value_counts()"
   ]
  },
  {
   "cell_type": "code",
   "execution_count": 7,
   "metadata": {},
   "outputs": [],
   "source": [
    "# VCHPACKCHIP\n",
    "dicc_VCHPACKCHIP = {'PACK':0,\n",
    "                   'SIM':0}\n",
    "df['VCHPACKCHIP'] = df['VCHPACKCHIP'].map(dicc_VCHPACKCHIP)"
   ]
  },
  {
   "cell_type": "code",
   "execution_count": 8,
   "metadata": {},
   "outputs": [],
   "source": [
    "# VCHRANGO_RENTA\n",
    "df_VCHRANGO_RENTA_dummies = pd.get_dummies(df['VCHRANGO_RENTA'],prefix='VCHRANGO_RENTA')"
   ]
  },
  {
   "cell_type": "code",
   "execution_count": 9,
   "metadata": {},
   "outputs": [],
   "source": [
    "df = pd.concat([df,df_VCHRANGO_RENTA_dummies],axis=1)"
   ]
  },
  {
   "cell_type": "code",
   "execution_count": 10,
   "metadata": {},
   "outputs": [
    {
     "data": {
      "text/html": [
       "<div>\n",
       "<style scoped>\n",
       "    .dataframe tbody tr th:only-of-type {\n",
       "        vertical-align: middle;\n",
       "    }\n",
       "\n",
       "    .dataframe tbody tr th {\n",
       "        vertical-align: top;\n",
       "    }\n",
       "\n",
       "    .dataframe thead th {\n",
       "        text-align: right;\n",
       "    }\n",
       "</style>\n",
       "<table border=\"1\" class=\"dataframe\">\n",
       "  <thead>\n",
       "    <tr style=\"text-align: right;\">\n",
       "      <th></th>\n",
       "      <th>NUMPERIODO</th>\n",
       "      <th>NUMCODCONTRATOBSCS</th>\n",
       "      <th>VCHTELEFONO</th>\n",
       "      <th>ANT_CLIENTE</th>\n",
       "      <th>NUMRENTABASICA</th>\n",
       "      <th>VCHPACKCHIP</th>\n",
       "      <th>NUMINGRESOTEORICO</th>\n",
       "      <th>NUMMINUTOSENTRANTE_2M</th>\n",
       "      <th>NUMMINUTOSALIENTE_2M</th>\n",
       "      <th>NUMMINSALIENTEOFFNET_2M</th>\n",
       "      <th>...</th>\n",
       "      <th>PCT_MB_ADICIONAL</th>\n",
       "      <th>PCT_USO_TRAFICOTOTAL_2M</th>\n",
       "      <th>PCT_USO_TRAFICOTOTAL_1M</th>\n",
       "      <th>PCT_USO_TRAFICOTOTAL_M0</th>\n",
       "      <th>PCT_USO_TRAFICOTOTAL_U3M</th>\n",
       "      <th>PCT_USO_TRAFICOTOTAL_U2M</th>\n",
       "      <th>FLG_RECARGA</th>\n",
       "      <th>VCHRANGO_RENTA_Alta</th>\n",
       "      <th>VCHRANGO_RENTA_Baja</th>\n",
       "      <th>VCHRANGO_RENTA_Media</th>\n",
       "    </tr>\n",
       "  </thead>\n",
       "  <tbody>\n",
       "    <tr>\n",
       "      <th>0</th>\n",
       "      <td>201804</td>\n",
       "      <td>38172100</td>\n",
       "      <td>51982603192</td>\n",
       "      <td>7.645161</td>\n",
       "      <td>41.525398</td>\n",
       "      <td>0</td>\n",
       "      <td>41.5254</td>\n",
       "      <td>151</td>\n",
       "      <td>596</td>\n",
       "      <td>590.9832</td>\n",
       "      <td>...</td>\n",
       "      <td>0</td>\n",
       "      <td>0.0</td>\n",
       "      <td>0.0</td>\n",
       "      <td>0.0</td>\n",
       "      <td>0.0</td>\n",
       "      <td>0.0</td>\n",
       "      <td>0</td>\n",
       "      <td>0</td>\n",
       "      <td>1</td>\n",
       "      <td>0</td>\n",
       "    </tr>\n",
       "    <tr>\n",
       "      <th>1</th>\n",
       "      <td>201804</td>\n",
       "      <td>9028333</td>\n",
       "      <td>51983661925</td>\n",
       "      <td>45.903226</td>\n",
       "      <td>122.879997</td>\n",
       "      <td>0</td>\n",
       "      <td>92.3700</td>\n",
       "      <td>54</td>\n",
       "      <td>410</td>\n",
       "      <td>327.9664</td>\n",
       "      <td>...</td>\n",
       "      <td>0</td>\n",
       "      <td>0.0</td>\n",
       "      <td>0.0</td>\n",
       "      <td>0.0</td>\n",
       "      <td>0.0</td>\n",
       "      <td>0.0</td>\n",
       "      <td>0</td>\n",
       "      <td>1</td>\n",
       "      <td>0</td>\n",
       "      <td>0</td>\n",
       "    </tr>\n",
       "    <tr>\n",
       "      <th>2</th>\n",
       "      <td>201805</td>\n",
       "      <td>34979663</td>\n",
       "      <td>51942976545</td>\n",
       "      <td>11.612903</td>\n",
       "      <td>66.949203</td>\n",
       "      <td>0</td>\n",
       "      <td>NaN</td>\n",
       "      <td>792</td>\n",
       "      <td>587</td>\n",
       "      <td>512.2667</td>\n",
       "      <td>...</td>\n",
       "      <td>0</td>\n",
       "      <td>0.0</td>\n",
       "      <td>0.0</td>\n",
       "      <td>0.0</td>\n",
       "      <td>0.0</td>\n",
       "      <td>0.0</td>\n",
       "      <td>0</td>\n",
       "      <td>0</td>\n",
       "      <td>0</td>\n",
       "      <td>1</td>\n",
       "    </tr>\n",
       "    <tr>\n",
       "      <th>3</th>\n",
       "      <td>201805</td>\n",
       "      <td>13670934</td>\n",
       "      <td>51958993810</td>\n",
       "      <td>32.838710</td>\n",
       "      <td>41.525398</td>\n",
       "      <td>0</td>\n",
       "      <td>NaN</td>\n",
       "      <td>170</td>\n",
       "      <td>144</td>\n",
       "      <td>100.5000</td>\n",
       "      <td>...</td>\n",
       "      <td>0</td>\n",
       "      <td>0.0</td>\n",
       "      <td>0.0</td>\n",
       "      <td>0.0</td>\n",
       "      <td>0.0</td>\n",
       "      <td>0.0</td>\n",
       "      <td>0</td>\n",
       "      <td>0</td>\n",
       "      <td>1</td>\n",
       "      <td>0</td>\n",
       "    </tr>\n",
       "    <tr>\n",
       "      <th>4</th>\n",
       "      <td>201804</td>\n",
       "      <td>16547229</td>\n",
       "      <td>51934098463</td>\n",
       "      <td>28.387097</td>\n",
       "      <td>62.711899</td>\n",
       "      <td>0</td>\n",
       "      <td>62.7119</td>\n",
       "      <td>219</td>\n",
       "      <td>784</td>\n",
       "      <td>745.2162</td>\n",
       "      <td>...</td>\n",
       "      <td>0</td>\n",
       "      <td>0.0</td>\n",
       "      <td>0.0</td>\n",
       "      <td>0.0</td>\n",
       "      <td>0.0</td>\n",
       "      <td>0.0</td>\n",
       "      <td>1</td>\n",
       "      <td>0</td>\n",
       "      <td>0</td>\n",
       "      <td>1</td>\n",
       "    </tr>\n",
       "  </tbody>\n",
       "</table>\n",
       "<p>5 rows × 360 columns</p>\n",
       "</div>"
      ],
      "text/plain": [
       "   NUMPERIODO  NUMCODCONTRATOBSCS  VCHTELEFONO  ANT_CLIENTE  NUMRENTABASICA  \\\n",
       "0      201804            38172100  51982603192     7.645161       41.525398   \n",
       "1      201804             9028333  51983661925    45.903226      122.879997   \n",
       "2      201805            34979663  51942976545    11.612903       66.949203   \n",
       "3      201805            13670934  51958993810    32.838710       41.525398   \n",
       "4      201804            16547229  51934098463    28.387097       62.711899   \n",
       "\n",
       "   VCHPACKCHIP  NUMINGRESOTEORICO  NUMMINUTOSENTRANTE_2M  \\\n",
       "0            0            41.5254                    151   \n",
       "1            0            92.3700                     54   \n",
       "2            0                NaN                    792   \n",
       "3            0                NaN                    170   \n",
       "4            0            62.7119                    219   \n",
       "\n",
       "   NUMMINUTOSALIENTE_2M  NUMMINSALIENTEOFFNET_2M          ...           \\\n",
       "0                   596                 590.9832          ...            \n",
       "1                   410                 327.9664          ...            \n",
       "2                   587                 512.2667          ...            \n",
       "3                   144                 100.5000          ...            \n",
       "4                   784                 745.2162          ...            \n",
       "\n",
       "   PCT_MB_ADICIONAL  PCT_USO_TRAFICOTOTAL_2M  PCT_USO_TRAFICOTOTAL_1M  \\\n",
       "0                 0                      0.0                      0.0   \n",
       "1                 0                      0.0                      0.0   \n",
       "2                 0                      0.0                      0.0   \n",
       "3                 0                      0.0                      0.0   \n",
       "4                 0                      0.0                      0.0   \n",
       "\n",
       "   PCT_USO_TRAFICOTOTAL_M0  PCT_USO_TRAFICOTOTAL_U3M  \\\n",
       "0                      0.0                       0.0   \n",
       "1                      0.0                       0.0   \n",
       "2                      0.0                       0.0   \n",
       "3                      0.0                       0.0   \n",
       "4                      0.0                       0.0   \n",
       "\n",
       "   PCT_USO_TRAFICOTOTAL_U2M  FLG_RECARGA  VCHRANGO_RENTA_Alta  \\\n",
       "0                       0.0            0                    0   \n",
       "1                       0.0            0                    1   \n",
       "2                       0.0            0                    0   \n",
       "3                       0.0            0                    0   \n",
       "4                       0.0            1                    0   \n",
       "\n",
       "   VCHRANGO_RENTA_Baja  VCHRANGO_RENTA_Media  \n",
       "0                    1                     0  \n",
       "1                    0                     0  \n",
       "2                    0                     1  \n",
       "3                    1                     0  \n",
       "4                    0                     1  \n",
       "\n",
       "[5 rows x 360 columns]"
      ]
     },
     "execution_count": 10,
     "metadata": {},
     "output_type": "execute_result"
    }
   ],
   "source": [
    "df.head()"
   ]
  },
  {
   "cell_type": "code",
   "execution_count": 11,
   "metadata": {},
   "outputs": [],
   "source": [
    "x_data = df.drop(columns=columns_exec)"
   ]
  },
  {
   "cell_type": "code",
   "execution_count": 12,
   "metadata": {},
   "outputs": [
    {
     "data": {
      "text/html": [
       "<div>\n",
       "<style scoped>\n",
       "    .dataframe tbody tr th:only-of-type {\n",
       "        vertical-align: middle;\n",
       "    }\n",
       "\n",
       "    .dataframe tbody tr th {\n",
       "        vertical-align: top;\n",
       "    }\n",
       "\n",
       "    .dataframe thead th {\n",
       "        text-align: right;\n",
       "    }\n",
       "</style>\n",
       "<table border=\"1\" class=\"dataframe\">\n",
       "  <thead>\n",
       "    <tr style=\"text-align: right;\">\n",
       "      <th></th>\n",
       "      <th>NUMCODCONTRATOBSCS</th>\n",
       "      <th>NUMRENTABASICA</th>\n",
       "      <th>NUMMINUTOSENTRANTE_2M</th>\n",
       "      <th>NUMMINUTOSALIENTE_2M</th>\n",
       "      <th>NUMMINSALIENTEOFFNET_2M</th>\n",
       "      <th>NUMMINENTRANTEOFFNET_2M</th>\n",
       "      <th>NUMMINSALIENTEONNET_2M</th>\n",
       "      <th>NUMMINENTRANTEONNET_2M</th>\n",
       "      <th>NUMTRAFICOFACEBOOK_2M</th>\n",
       "      <th>NUMTRAFICOWHATSAPP_2M</th>\n",
       "      <th>...</th>\n",
       "      <th>NUMKB_ADICIONAL</th>\n",
       "      <th>PCT_MB_ADICIONAL</th>\n",
       "      <th>PCT_USO_TRAFICOTOTAL_2M</th>\n",
       "      <th>PCT_USO_TRAFICOTOTAL_1M</th>\n",
       "      <th>PCT_USO_TRAFICOTOTAL_M0</th>\n",
       "      <th>PCT_USO_TRAFICOTOTAL_U3M</th>\n",
       "      <th>PCT_USO_TRAFICOTOTAL_U2M</th>\n",
       "      <th>VCHRANGO_RENTA_Alta</th>\n",
       "      <th>VCHRANGO_RENTA_Baja</th>\n",
       "      <th>VCHRANGO_RENTA_Media</th>\n",
       "    </tr>\n",
       "  </thead>\n",
       "  <tbody>\n",
       "    <tr>\n",
       "      <th>0</th>\n",
       "      <td>38172100</td>\n",
       "      <td>41.525398</td>\n",
       "      <td>151</td>\n",
       "      <td>596</td>\n",
       "      <td>590.9832</td>\n",
       "      <td>155.5999</td>\n",
       "      <td>5.0168</td>\n",
       "      <td>0.0000</td>\n",
       "      <td>52.437877</td>\n",
       "      <td>291.387089</td>\n",
       "      <td>...</td>\n",
       "      <td>0.0</td>\n",
       "      <td>0</td>\n",
       "      <td>0.0</td>\n",
       "      <td>0.0</td>\n",
       "      <td>0.0</td>\n",
       "      <td>0.0</td>\n",
       "      <td>0.0</td>\n",
       "      <td>0</td>\n",
       "      <td>1</td>\n",
       "      <td>0</td>\n",
       "    </tr>\n",
       "    <tr>\n",
       "      <th>1</th>\n",
       "      <td>9028333</td>\n",
       "      <td>122.879997</td>\n",
       "      <td>54</td>\n",
       "      <td>410</td>\n",
       "      <td>327.9664</td>\n",
       "      <td>14.1669</td>\n",
       "      <td>82.0336</td>\n",
       "      <td>39.8331</td>\n",
       "      <td>33.883530</td>\n",
       "      <td>106.631694</td>\n",
       "      <td>...</td>\n",
       "      <td>0.0</td>\n",
       "      <td>0</td>\n",
       "      <td>0.0</td>\n",
       "      <td>0.0</td>\n",
       "      <td>0.0</td>\n",
       "      <td>0.0</td>\n",
       "      <td>0.0</td>\n",
       "      <td>1</td>\n",
       "      <td>0</td>\n",
       "      <td>0</td>\n",
       "    </tr>\n",
       "    <tr>\n",
       "      <th>2</th>\n",
       "      <td>34979663</td>\n",
       "      <td>66.949203</td>\n",
       "      <td>792</td>\n",
       "      <td>587</td>\n",
       "      <td>512.2667</td>\n",
       "      <td>657.4498</td>\n",
       "      <td>74.7333</td>\n",
       "      <td>134.5502</td>\n",
       "      <td>106.086946</td>\n",
       "      <td>366.092574</td>\n",
       "      <td>...</td>\n",
       "      <td>0.0</td>\n",
       "      <td>0</td>\n",
       "      <td>0.0</td>\n",
       "      <td>0.0</td>\n",
       "      <td>0.0</td>\n",
       "      <td>0.0</td>\n",
       "      <td>0.0</td>\n",
       "      <td>0</td>\n",
       "      <td>0</td>\n",
       "      <td>1</td>\n",
       "    </tr>\n",
       "    <tr>\n",
       "      <th>3</th>\n",
       "      <td>13670934</td>\n",
       "      <td>41.525398</td>\n",
       "      <td>170</td>\n",
       "      <td>144</td>\n",
       "      <td>100.5000</td>\n",
       "      <td>122.3668</td>\n",
       "      <td>43.5000</td>\n",
       "      <td>47.6332</td>\n",
       "      <td>47.410069</td>\n",
       "      <td>739.959649</td>\n",
       "      <td>...</td>\n",
       "      <td>0.0</td>\n",
       "      <td>0</td>\n",
       "      <td>0.0</td>\n",
       "      <td>0.0</td>\n",
       "      <td>0.0</td>\n",
       "      <td>0.0</td>\n",
       "      <td>0.0</td>\n",
       "      <td>0</td>\n",
       "      <td>1</td>\n",
       "      <td>0</td>\n",
       "    </tr>\n",
       "    <tr>\n",
       "      <th>4</th>\n",
       "      <td>16547229</td>\n",
       "      <td>62.711899</td>\n",
       "      <td>219</td>\n",
       "      <td>784</td>\n",
       "      <td>745.2162</td>\n",
       "      <td>193.3838</td>\n",
       "      <td>38.7838</td>\n",
       "      <td>25.6162</td>\n",
       "      <td>237.011286</td>\n",
       "      <td>1114.929423</td>\n",
       "      <td>...</td>\n",
       "      <td>0.0</td>\n",
       "      <td>0</td>\n",
       "      <td>0.0</td>\n",
       "      <td>0.0</td>\n",
       "      <td>0.0</td>\n",
       "      <td>0.0</td>\n",
       "      <td>0.0</td>\n",
       "      <td>0</td>\n",
       "      <td>0</td>\n",
       "      <td>1</td>\n",
       "    </tr>\n",
       "  </tbody>\n",
       "</table>\n",
       "<p>5 rows × 352 columns</p>\n",
       "</div>"
      ],
      "text/plain": [
       "   NUMCODCONTRATOBSCS  NUMRENTABASICA  NUMMINUTOSENTRANTE_2M  \\\n",
       "0            38172100       41.525398                    151   \n",
       "1             9028333      122.879997                     54   \n",
       "2            34979663       66.949203                    792   \n",
       "3            13670934       41.525398                    170   \n",
       "4            16547229       62.711899                    219   \n",
       "\n",
       "   NUMMINUTOSALIENTE_2M  NUMMINSALIENTEOFFNET_2M  NUMMINENTRANTEOFFNET_2M  \\\n",
       "0                   596                 590.9832                 155.5999   \n",
       "1                   410                 327.9664                  14.1669   \n",
       "2                   587                 512.2667                 657.4498   \n",
       "3                   144                 100.5000                 122.3668   \n",
       "4                   784                 745.2162                 193.3838   \n",
       "\n",
       "   NUMMINSALIENTEONNET_2M  NUMMINENTRANTEONNET_2M  NUMTRAFICOFACEBOOK_2M  \\\n",
       "0                  5.0168                  0.0000              52.437877   \n",
       "1                 82.0336                 39.8331              33.883530   \n",
       "2                 74.7333                134.5502             106.086946   \n",
       "3                 43.5000                 47.6332              47.410069   \n",
       "4                 38.7838                 25.6162             237.011286   \n",
       "\n",
       "   NUMTRAFICOWHATSAPP_2M          ...           NUMKB_ADICIONAL  \\\n",
       "0             291.387089          ...                       0.0   \n",
       "1             106.631694          ...                       0.0   \n",
       "2             366.092574          ...                       0.0   \n",
       "3             739.959649          ...                       0.0   \n",
       "4            1114.929423          ...                       0.0   \n",
       "\n",
       "   PCT_MB_ADICIONAL  PCT_USO_TRAFICOTOTAL_2M  PCT_USO_TRAFICOTOTAL_1M  \\\n",
       "0                 0                      0.0                      0.0   \n",
       "1                 0                      0.0                      0.0   \n",
       "2                 0                      0.0                      0.0   \n",
       "3                 0                      0.0                      0.0   \n",
       "4                 0                      0.0                      0.0   \n",
       "\n",
       "   PCT_USO_TRAFICOTOTAL_M0  PCT_USO_TRAFICOTOTAL_U3M  \\\n",
       "0                      0.0                       0.0   \n",
       "1                      0.0                       0.0   \n",
       "2                      0.0                       0.0   \n",
       "3                      0.0                       0.0   \n",
       "4                      0.0                       0.0   \n",
       "\n",
       "   PCT_USO_TRAFICOTOTAL_U2M  VCHRANGO_RENTA_Alta  VCHRANGO_RENTA_Baja  \\\n",
       "0                       0.0                    0                    1   \n",
       "1                       0.0                    1                    0   \n",
       "2                       0.0                    0                    0   \n",
       "3                       0.0                    0                    1   \n",
       "4                       0.0                    0                    0   \n",
       "\n",
       "   VCHRANGO_RENTA_Media  \n",
       "0                     0  \n",
       "1                     0  \n",
       "2                     1  \n",
       "3                     0  \n",
       "4                     1  \n",
       "\n",
       "[5 rows x 352 columns]"
      ]
     },
     "execution_count": 12,
     "metadata": {},
     "output_type": "execute_result"
    }
   ],
   "source": [
    "x_data.head()"
   ]
  },
  {
   "cell_type": "code",
   "execution_count": 13,
   "metadata": {},
   "outputs": [],
   "source": [
    "y_data = df['FLG_RECARGA']"
   ]
  },
  {
   "cell_type": "code",
   "execution_count": 14,
   "metadata": {},
   "outputs": [
    {
     "name": "stderr",
     "output_type": "stream",
     "text": [
      "C:\\Users\\mmejia\\AppData\\Local\\Continuum\\anaconda3\\lib\\site-packages\\sklearn\\cross_validation.py:41: DeprecationWarning: This module was deprecated in version 0.18 in favor of the model_selection module into which all the refactored classes and functions are moved. Also note that the interface of the new CV iterators are different from that of this module. This module will be removed in 0.20.\n",
      "  \"This module will be removed in 0.20.\", DeprecationWarning)\n"
     ]
    }
   ],
   "source": [
    "from sklearn.cross_validation import train_test_split"
   ]
  },
  {
   "cell_type": "code",
   "execution_count": 166,
   "metadata": {},
   "outputs": [],
   "source": [
    "X_train, X_test, y_train, y_test = train_test_split(x_data,y_data,train_size=0.65,random_state=50)"
   ]
  },
  {
   "cell_type": "code",
   "execution_count": 167,
   "metadata": {},
   "outputs": [],
   "source": [
    "X_train.reset_index(inplace=True,drop=True)\n",
    "X_test.reset_index(inplace=True,drop=True)\n",
    "y_train.reset_index(inplace=True,drop=True)\n",
    "y_test.reset_index(inplace=True,drop=True)"
   ]
  },
  {
   "cell_type": "markdown",
   "metadata": {},
   "source": [
    "# Scaling"
   ]
  },
  {
   "cell_type": "code",
   "execution_count": 168,
   "metadata": {},
   "outputs": [
    {
     "data": {
      "text/html": [
       "<div>\n",
       "<style scoped>\n",
       "    .dataframe tbody tr th:only-of-type {\n",
       "        vertical-align: middle;\n",
       "    }\n",
       "\n",
       "    .dataframe tbody tr th {\n",
       "        vertical-align: top;\n",
       "    }\n",
       "\n",
       "    .dataframe thead th {\n",
       "        text-align: right;\n",
       "    }\n",
       "</style>\n",
       "<table border=\"1\" class=\"dataframe\">\n",
       "  <thead>\n",
       "    <tr style=\"text-align: right;\">\n",
       "      <th></th>\n",
       "      <th>NUMCODCONTRATOBSCS</th>\n",
       "      <th>NUMRENTABASICA</th>\n",
       "      <th>NUMMINUTOSENTRANTE_2M</th>\n",
       "      <th>NUMMINUTOSALIENTE_2M</th>\n",
       "      <th>NUMMINSALIENTEOFFNET_2M</th>\n",
       "      <th>NUMMINENTRANTEOFFNET_2M</th>\n",
       "      <th>NUMMINSALIENTEONNET_2M</th>\n",
       "      <th>NUMMINENTRANTEONNET_2M</th>\n",
       "      <th>NUMTRAFICOFACEBOOK_2M</th>\n",
       "      <th>NUMTRAFICOWHATSAPP_2M</th>\n",
       "      <th>...</th>\n",
       "      <th>NUMKB_ADICIONAL</th>\n",
       "      <th>PCT_MB_ADICIONAL</th>\n",
       "      <th>PCT_USO_TRAFICOTOTAL_2M</th>\n",
       "      <th>PCT_USO_TRAFICOTOTAL_1M</th>\n",
       "      <th>PCT_USO_TRAFICOTOTAL_M0</th>\n",
       "      <th>PCT_USO_TRAFICOTOTAL_U3M</th>\n",
       "      <th>PCT_USO_TRAFICOTOTAL_U2M</th>\n",
       "      <th>VCHRANGO_RENTA_Alta</th>\n",
       "      <th>VCHRANGO_RENTA_Baja</th>\n",
       "      <th>VCHRANGO_RENTA_Media</th>\n",
       "    </tr>\n",
       "  </thead>\n",
       "  <tbody>\n",
       "    <tr>\n",
       "      <th>0</th>\n",
       "      <td>11538633</td>\n",
       "      <td>66.949203</td>\n",
       "      <td>512</td>\n",
       "      <td>705</td>\n",
       "      <td>420.0667</td>\n",
       "      <td>267.8005</td>\n",
       "      <td>284.9333</td>\n",
       "      <td>244.1995</td>\n",
       "      <td>42.972771</td>\n",
       "      <td>76.336844</td>\n",
       "      <td>...</td>\n",
       "      <td>0.0</td>\n",
       "      <td>0</td>\n",
       "      <td>0.0</td>\n",
       "      <td>0.0</td>\n",
       "      <td>0.0</td>\n",
       "      <td>0.0</td>\n",
       "      <td>0.0</td>\n",
       "      <td>0</td>\n",
       "      <td>0</td>\n",
       "      <td>1</td>\n",
       "    </tr>\n",
       "    <tr>\n",
       "      <th>1</th>\n",
       "      <td>10051904</td>\n",
       "      <td>109.321999</td>\n",
       "      <td>347</td>\n",
       "      <td>587</td>\n",
       "      <td>395.9825</td>\n",
       "      <td>229.9501</td>\n",
       "      <td>191.0175</td>\n",
       "      <td>117.0499</td>\n",
       "      <td>52.954968</td>\n",
       "      <td>1046.706100</td>\n",
       "      <td>...</td>\n",
       "      <td>0.0</td>\n",
       "      <td>0</td>\n",
       "      <td>0.0</td>\n",
       "      <td>0.0</td>\n",
       "      <td>0.0</td>\n",
       "      <td>0.0</td>\n",
       "      <td>0.0</td>\n",
       "      <td>1</td>\n",
       "      <td>0</td>\n",
       "      <td>0</td>\n",
       "    </tr>\n",
       "    <tr>\n",
       "      <th>2</th>\n",
       "      <td>25077292</td>\n",
       "      <td>62.711899</td>\n",
       "      <td>185</td>\n",
       "      <td>173</td>\n",
       "      <td>96.9832</td>\n",
       "      <td>25.4501</td>\n",
       "      <td>76.0168</td>\n",
       "      <td>159.5499</td>\n",
       "      <td>11.346016</td>\n",
       "      <td>17.900717</td>\n",
       "      <td>...</td>\n",
       "      <td>0.0</td>\n",
       "      <td>0</td>\n",
       "      <td>0.0</td>\n",
       "      <td>0.0</td>\n",
       "      <td>0.0</td>\n",
       "      <td>0.0</td>\n",
       "      <td>0.0</td>\n",
       "      <td>0</td>\n",
       "      <td>0</td>\n",
       "      <td>1</td>\n",
       "    </tr>\n",
       "    <tr>\n",
       "      <th>3</th>\n",
       "      <td>30858312</td>\n",
       "      <td>66.949203</td>\n",
       "      <td>269</td>\n",
       "      <td>526</td>\n",
       "      <td>272.7163</td>\n",
       "      <td>187.0336</td>\n",
       "      <td>253.2837</td>\n",
       "      <td>81.9664</td>\n",
       "      <td>7.147714</td>\n",
       "      <td>48.908687</td>\n",
       "      <td>...</td>\n",
       "      <td>0.0</td>\n",
       "      <td>0</td>\n",
       "      <td>0.0</td>\n",
       "      <td>0.0</td>\n",
       "      <td>0.0</td>\n",
       "      <td>0.0</td>\n",
       "      <td>0.0</td>\n",
       "      <td>0</td>\n",
       "      <td>0</td>\n",
       "      <td>1</td>\n",
       "    </tr>\n",
       "    <tr>\n",
       "      <th>4</th>\n",
       "      <td>36974733</td>\n",
       "      <td>41.525398</td>\n",
       "      <td>13</td>\n",
       "      <td>16</td>\n",
       "      <td>12.8500</td>\n",
       "      <td>11.6334</td>\n",
       "      <td>3.1500</td>\n",
       "      <td>1.3666</td>\n",
       "      <td>16.388098</td>\n",
       "      <td>3402.328921</td>\n",
       "      <td>...</td>\n",
       "      <td>0.0</td>\n",
       "      <td>0</td>\n",
       "      <td>0.0</td>\n",
       "      <td>0.0</td>\n",
       "      <td>0.0</td>\n",
       "      <td>0.0</td>\n",
       "      <td>0.0</td>\n",
       "      <td>0</td>\n",
       "      <td>1</td>\n",
       "      <td>0</td>\n",
       "    </tr>\n",
       "  </tbody>\n",
       "</table>\n",
       "<p>5 rows × 352 columns</p>\n",
       "</div>"
      ],
      "text/plain": [
       "   NUMCODCONTRATOBSCS  NUMRENTABASICA  NUMMINUTOSENTRANTE_2M  \\\n",
       "0            11538633       66.949203                    512   \n",
       "1            10051904      109.321999                    347   \n",
       "2            25077292       62.711899                    185   \n",
       "3            30858312       66.949203                    269   \n",
       "4            36974733       41.525398                     13   \n",
       "\n",
       "   NUMMINUTOSALIENTE_2M  NUMMINSALIENTEOFFNET_2M  NUMMINENTRANTEOFFNET_2M  \\\n",
       "0                   705                 420.0667                 267.8005   \n",
       "1                   587                 395.9825                 229.9501   \n",
       "2                   173                  96.9832                  25.4501   \n",
       "3                   526                 272.7163                 187.0336   \n",
       "4                    16                  12.8500                  11.6334   \n",
       "\n",
       "   NUMMINSALIENTEONNET_2M  NUMMINENTRANTEONNET_2M  NUMTRAFICOFACEBOOK_2M  \\\n",
       "0                284.9333                244.1995              42.972771   \n",
       "1                191.0175                117.0499              52.954968   \n",
       "2                 76.0168                159.5499              11.346016   \n",
       "3                253.2837                 81.9664               7.147714   \n",
       "4                  3.1500                  1.3666              16.388098   \n",
       "\n",
       "   NUMTRAFICOWHATSAPP_2M          ...           NUMKB_ADICIONAL  \\\n",
       "0              76.336844          ...                       0.0   \n",
       "1            1046.706100          ...                       0.0   \n",
       "2              17.900717          ...                       0.0   \n",
       "3              48.908687          ...                       0.0   \n",
       "4            3402.328921          ...                       0.0   \n",
       "\n",
       "   PCT_MB_ADICIONAL  PCT_USO_TRAFICOTOTAL_2M  PCT_USO_TRAFICOTOTAL_1M  \\\n",
       "0                 0                      0.0                      0.0   \n",
       "1                 0                      0.0                      0.0   \n",
       "2                 0                      0.0                      0.0   \n",
       "3                 0                      0.0                      0.0   \n",
       "4                 0                      0.0                      0.0   \n",
       "\n",
       "   PCT_USO_TRAFICOTOTAL_M0  PCT_USO_TRAFICOTOTAL_U3M  \\\n",
       "0                      0.0                       0.0   \n",
       "1                      0.0                       0.0   \n",
       "2                      0.0                       0.0   \n",
       "3                      0.0                       0.0   \n",
       "4                      0.0                       0.0   \n",
       "\n",
       "   PCT_USO_TRAFICOTOTAL_U2M  VCHRANGO_RENTA_Alta  VCHRANGO_RENTA_Baja  \\\n",
       "0                       0.0                    0                    0   \n",
       "1                       0.0                    1                    0   \n",
       "2                       0.0                    0                    0   \n",
       "3                       0.0                    0                    0   \n",
       "4                       0.0                    0                    1   \n",
       "\n",
       "   VCHRANGO_RENTA_Media  \n",
       "0                     1  \n",
       "1                     0  \n",
       "2                     1  \n",
       "3                     1  \n",
       "4                     0  \n",
       "\n",
       "[5 rows x 352 columns]"
      ]
     },
     "execution_count": 168,
     "metadata": {},
     "output_type": "execute_result"
    }
   ],
   "source": [
    "X_train.head()"
   ]
  },
  {
   "cell_type": "code",
   "execution_count": 169,
   "metadata": {},
   "outputs": [
    {
     "data": {
      "text/plain": [
       "StandardScaler(copy=True, with_mean=True, with_std=True)"
      ]
     },
     "execution_count": 169,
     "metadata": {},
     "output_type": "execute_result"
    }
   ],
   "source": [
    "from sklearn.preprocessing import StandardScaler\n",
    "scaler = StandardScaler()\n",
    "scaler.fit(X_train)"
   ]
  },
  {
   "cell_type": "code",
   "execution_count": 170,
   "metadata": {},
   "outputs": [
    {
     "data": {
      "text/html": [
       "<div>\n",
       "<style scoped>\n",
       "    .dataframe tbody tr th:only-of-type {\n",
       "        vertical-align: middle;\n",
       "    }\n",
       "\n",
       "    .dataframe tbody tr th {\n",
       "        vertical-align: top;\n",
       "    }\n",
       "\n",
       "    .dataframe thead th {\n",
       "        text-align: right;\n",
       "    }\n",
       "</style>\n",
       "<table border=\"1\" class=\"dataframe\">\n",
       "  <thead>\n",
       "    <tr style=\"text-align: right;\">\n",
       "      <th></th>\n",
       "      <th>NUMCODCONTRATOBSCS</th>\n",
       "      <th>NUMRENTABASICA</th>\n",
       "      <th>NUMMINUTOSENTRANTE_2M</th>\n",
       "      <th>NUMMINUTOSALIENTE_2M</th>\n",
       "      <th>NUMMINSALIENTEOFFNET_2M</th>\n",
       "      <th>NUMMINENTRANTEOFFNET_2M</th>\n",
       "      <th>NUMMINSALIENTEONNET_2M</th>\n",
       "      <th>NUMMINENTRANTEONNET_2M</th>\n",
       "      <th>NUMTRAFICOFACEBOOK_2M</th>\n",
       "      <th>NUMTRAFICOWHATSAPP_2M</th>\n",
       "      <th>...</th>\n",
       "      <th>NUMKB_ADICIONAL</th>\n",
       "      <th>PCT_MB_ADICIONAL</th>\n",
       "      <th>PCT_USO_TRAFICOTOTAL_2M</th>\n",
       "      <th>PCT_USO_TRAFICOTOTAL_1M</th>\n",
       "      <th>PCT_USO_TRAFICOTOTAL_M0</th>\n",
       "      <th>PCT_USO_TRAFICOTOTAL_U3M</th>\n",
       "      <th>PCT_USO_TRAFICOTOTAL_U2M</th>\n",
       "      <th>VCHRANGO_RENTA_Alta</th>\n",
       "      <th>VCHRANGO_RENTA_Baja</th>\n",
       "      <th>VCHRANGO_RENTA_Media</th>\n",
       "    </tr>\n",
       "  </thead>\n",
       "  <tbody>\n",
       "    <tr>\n",
       "      <th>0</th>\n",
       "      <td>-1.408671</td>\n",
       "      <td>0.098087</td>\n",
       "      <td>0.435142</td>\n",
       "      <td>0.518477</td>\n",
       "      <td>0.333913</td>\n",
       "      <td>0.237923</td>\n",
       "      <td>0.491938</td>\n",
       "      <td>0.433751</td>\n",
       "      <td>-0.270907</td>\n",
       "      <td>-0.590015</td>\n",
       "      <td>...</td>\n",
       "      <td>-0.492917</td>\n",
       "      <td>0.0</td>\n",
       "      <td>-0.333305</td>\n",
       "      <td>-0.34785</td>\n",
       "      <td>-0.372911</td>\n",
       "      <td>-0.363294</td>\n",
       "      <td>-0.361065</td>\n",
       "      <td>-0.242536</td>\n",
       "      <td>-0.703836</td>\n",
       "      <td>0.794275</td>\n",
       "    </tr>\n",
       "    <tr>\n",
       "      <th>1</th>\n",
       "      <td>-1.540446</td>\n",
       "      <td>1.849302</td>\n",
       "      <td>-0.074342</td>\n",
       "      <td>0.230251</td>\n",
       "      <td>0.251391</td>\n",
       "      <td>0.049064</td>\n",
       "      <td>0.089417</td>\n",
       "      <td>-0.158484</td>\n",
       "      <td>-0.253968</td>\n",
       "      <td>0.311830</td>\n",
       "      <td>...</td>\n",
       "      <td>-0.492917</td>\n",
       "      <td>0.0</td>\n",
       "      <td>-0.333305</td>\n",
       "      <td>-0.34785</td>\n",
       "      <td>-0.372911</td>\n",
       "      <td>-0.363294</td>\n",
       "      <td>-0.361065</td>\n",
       "      <td>4.123106</td>\n",
       "      <td>-0.703836</td>\n",
       "      <td>-1.259010</td>\n",
       "    </tr>\n",
       "    <tr>\n",
       "      <th>2</th>\n",
       "      <td>-0.208683</td>\n",
       "      <td>-0.077036</td>\n",
       "      <td>-0.574562</td>\n",
       "      <td>-0.780979</td>\n",
       "      <td>-0.773097</td>\n",
       "      <td>-0.971313</td>\n",
       "      <td>-0.403473</td>\n",
       "      <td>0.039472</td>\n",
       "      <td>-0.324576</td>\n",
       "      <td>-0.644324</td>\n",
       "      <td>...</td>\n",
       "      <td>-0.492917</td>\n",
       "      <td>0.0</td>\n",
       "      <td>-0.333305</td>\n",
       "      <td>-0.34785</td>\n",
       "      <td>-0.372911</td>\n",
       "      <td>-0.363294</td>\n",
       "      <td>-0.361065</td>\n",
       "      <td>-0.242536</td>\n",
       "      <td>-0.703836</td>\n",
       "      <td>0.794275</td>\n",
       "    </tr>\n",
       "  </tbody>\n",
       "</table>\n",
       "<p>3 rows × 352 columns</p>\n",
       "</div>"
      ],
      "text/plain": [
       "   NUMCODCONTRATOBSCS  NUMRENTABASICA  NUMMINUTOSENTRANTE_2M  \\\n",
       "0           -1.408671        0.098087               0.435142   \n",
       "1           -1.540446        1.849302              -0.074342   \n",
       "2           -0.208683       -0.077036              -0.574562   \n",
       "\n",
       "   NUMMINUTOSALIENTE_2M  NUMMINSALIENTEOFFNET_2M  NUMMINENTRANTEOFFNET_2M  \\\n",
       "0              0.518477                 0.333913                 0.237923   \n",
       "1              0.230251                 0.251391                 0.049064   \n",
       "2             -0.780979                -0.773097                -0.971313   \n",
       "\n",
       "   NUMMINSALIENTEONNET_2M  NUMMINENTRANTEONNET_2M  NUMTRAFICOFACEBOOK_2M  \\\n",
       "0                0.491938                0.433751              -0.270907   \n",
       "1                0.089417               -0.158484              -0.253968   \n",
       "2               -0.403473                0.039472              -0.324576   \n",
       "\n",
       "   NUMTRAFICOWHATSAPP_2M          ...           NUMKB_ADICIONAL  \\\n",
       "0              -0.590015          ...                 -0.492917   \n",
       "1               0.311830          ...                 -0.492917   \n",
       "2              -0.644324          ...                 -0.492917   \n",
       "\n",
       "   PCT_MB_ADICIONAL  PCT_USO_TRAFICOTOTAL_2M  PCT_USO_TRAFICOTOTAL_1M  \\\n",
       "0               0.0                -0.333305                 -0.34785   \n",
       "1               0.0                -0.333305                 -0.34785   \n",
       "2               0.0                -0.333305                 -0.34785   \n",
       "\n",
       "   PCT_USO_TRAFICOTOTAL_M0  PCT_USO_TRAFICOTOTAL_U3M  \\\n",
       "0                -0.372911                 -0.363294   \n",
       "1                -0.372911                 -0.363294   \n",
       "2                -0.372911                 -0.363294   \n",
       "\n",
       "   PCT_USO_TRAFICOTOTAL_U2M  VCHRANGO_RENTA_Alta  VCHRANGO_RENTA_Baja  \\\n",
       "0                 -0.361065            -0.242536            -0.703836   \n",
       "1                 -0.361065             4.123106            -0.703836   \n",
       "2                 -0.361065            -0.242536            -0.703836   \n",
       "\n",
       "   VCHRANGO_RENTA_Media  \n",
       "0              0.794275  \n",
       "1             -1.259010  \n",
       "2              0.794275  \n",
       "\n",
       "[3 rows x 352 columns]"
      ]
     },
     "execution_count": 170,
     "metadata": {},
     "output_type": "execute_result"
    }
   ],
   "source": [
    "X_train_scaler = scaler.transform(X_train)\n",
    "X_train_scaler = pd.DataFrame(X_train_scaler, columns = X_train.columns)\n",
    "X_train_scaler.head(3)"
   ]
  },
  {
   "cell_type": "code",
   "execution_count": 171,
   "metadata": {},
   "outputs": [
    {
     "data": {
      "text/html": [
       "<div>\n",
       "<style scoped>\n",
       "    .dataframe tbody tr th:only-of-type {\n",
       "        vertical-align: middle;\n",
       "    }\n",
       "\n",
       "    .dataframe tbody tr th {\n",
       "        vertical-align: top;\n",
       "    }\n",
       "\n",
       "    .dataframe thead th {\n",
       "        text-align: right;\n",
       "    }\n",
       "</style>\n",
       "<table border=\"1\" class=\"dataframe\">\n",
       "  <thead>\n",
       "    <tr style=\"text-align: right;\">\n",
       "      <th></th>\n",
       "      <th>NUMCODCONTRATOBSCS</th>\n",
       "      <th>NUMRENTABASICA</th>\n",
       "      <th>NUMMINUTOSENTRANTE_2M</th>\n",
       "      <th>NUMMINUTOSALIENTE_2M</th>\n",
       "      <th>NUMMINSALIENTEOFFNET_2M</th>\n",
       "      <th>NUMMINENTRANTEOFFNET_2M</th>\n",
       "      <th>NUMMINSALIENTEONNET_2M</th>\n",
       "      <th>NUMMINENTRANTEONNET_2M</th>\n",
       "      <th>NUMTRAFICOFACEBOOK_2M</th>\n",
       "      <th>NUMTRAFICOWHATSAPP_2M</th>\n",
       "      <th>...</th>\n",
       "      <th>NUMKB_ADICIONAL</th>\n",
       "      <th>PCT_MB_ADICIONAL</th>\n",
       "      <th>PCT_USO_TRAFICOTOTAL_2M</th>\n",
       "      <th>PCT_USO_TRAFICOTOTAL_1M</th>\n",
       "      <th>PCT_USO_TRAFICOTOTAL_M0</th>\n",
       "      <th>PCT_USO_TRAFICOTOTAL_U3M</th>\n",
       "      <th>PCT_USO_TRAFICOTOTAL_U2M</th>\n",
       "      <th>VCHRANGO_RENTA_Alta</th>\n",
       "      <th>VCHRANGO_RENTA_Baja</th>\n",
       "      <th>VCHRANGO_RENTA_Media</th>\n",
       "    </tr>\n",
       "  </thead>\n",
       "  <tbody>\n",
       "    <tr>\n",
       "      <th>0</th>\n",
       "      <td>-1.617386</td>\n",
       "      <td>-0.952648</td>\n",
       "      <td>-0.710424</td>\n",
       "      <td>-0.062859</td>\n",
       "      <td>-0.198662</td>\n",
       "      <td>-0.465947</td>\n",
       "      <td>0.138059</td>\n",
       "      <td>-0.637228</td>\n",
       "      <td>-0.340991</td>\n",
       "      <td>-0.657123</td>\n",
       "      <td>...</td>\n",
       "      <td>-0.492917</td>\n",
       "      <td>0.0</td>\n",
       "      <td>-0.333305</td>\n",
       "      <td>-0.34785</td>\n",
       "      <td>-0.372911</td>\n",
       "      <td>-0.363294</td>\n",
       "      <td>-0.361065</td>\n",
       "      <td>-0.242536</td>\n",
       "      <td>1.420786</td>\n",
       "      <td>-1.259010</td>\n",
       "    </tr>\n",
       "    <tr>\n",
       "      <th>1</th>\n",
       "      <td>0.893504</td>\n",
       "      <td>1.148817</td>\n",
       "      <td>-0.478841</td>\n",
       "      <td>-0.680833</td>\n",
       "      <td>-0.523370</td>\n",
       "      <td>-0.153929</td>\n",
       "      <td>-0.540125</td>\n",
       "      <td>-0.579162</td>\n",
       "      <td>-0.272753</td>\n",
       "      <td>-0.544398</td>\n",
       "      <td>...</td>\n",
       "      <td>-0.492917</td>\n",
       "      <td>0.0</td>\n",
       "      <td>-0.333305</td>\n",
       "      <td>-0.34785</td>\n",
       "      <td>-0.372911</td>\n",
       "      <td>-0.363294</td>\n",
       "      <td>-0.361065</td>\n",
       "      <td>-0.242536</td>\n",
       "      <td>-0.703836</td>\n",
       "      <td>0.794275</td>\n",
       "    </tr>\n",
       "    <tr>\n",
       "      <th>2</th>\n",
       "      <td>0.661753</td>\n",
       "      <td>0.448327</td>\n",
       "      <td>0.095486</td>\n",
       "      <td>-0.026220</td>\n",
       "      <td>-0.638096</td>\n",
       "      <td>0.398251</td>\n",
       "      <td>0.752026</td>\n",
       "      <td>-0.228271</td>\n",
       "      <td>-0.323279</td>\n",
       "      <td>-0.573337</td>\n",
       "      <td>...</td>\n",
       "      <td>-0.492917</td>\n",
       "      <td>0.0</td>\n",
       "      <td>-0.333305</td>\n",
       "      <td>-0.34785</td>\n",
       "      <td>-0.372911</td>\n",
       "      <td>-0.363294</td>\n",
       "      <td>-0.361065</td>\n",
       "      <td>-0.242536</td>\n",
       "      <td>-0.703836</td>\n",
       "      <td>0.794275</td>\n",
       "    </tr>\n",
       "  </tbody>\n",
       "</table>\n",
       "<p>3 rows × 352 columns</p>\n",
       "</div>"
      ],
      "text/plain": [
       "   NUMCODCONTRATOBSCS  NUMRENTABASICA  NUMMINUTOSENTRANTE_2M  \\\n",
       "0           -1.617386       -0.952648              -0.710424   \n",
       "1            0.893504        1.148817              -0.478841   \n",
       "2            0.661753        0.448327               0.095486   \n",
       "\n",
       "   NUMMINUTOSALIENTE_2M  NUMMINSALIENTEOFFNET_2M  NUMMINENTRANTEOFFNET_2M  \\\n",
       "0             -0.062859                -0.198662                -0.465947   \n",
       "1             -0.680833                -0.523370                -0.153929   \n",
       "2             -0.026220                -0.638096                 0.398251   \n",
       "\n",
       "   NUMMINSALIENTEONNET_2M  NUMMINENTRANTEONNET_2M  NUMTRAFICOFACEBOOK_2M  \\\n",
       "0                0.138059               -0.637228              -0.340991   \n",
       "1               -0.540125               -0.579162              -0.272753   \n",
       "2                0.752026               -0.228271              -0.323279   \n",
       "\n",
       "   NUMTRAFICOWHATSAPP_2M          ...           NUMKB_ADICIONAL  \\\n",
       "0              -0.657123          ...                 -0.492917   \n",
       "1              -0.544398          ...                 -0.492917   \n",
       "2              -0.573337          ...                 -0.492917   \n",
       "\n",
       "   PCT_MB_ADICIONAL  PCT_USO_TRAFICOTOTAL_2M  PCT_USO_TRAFICOTOTAL_1M  \\\n",
       "0               0.0                -0.333305                 -0.34785   \n",
       "1               0.0                -0.333305                 -0.34785   \n",
       "2               0.0                -0.333305                 -0.34785   \n",
       "\n",
       "   PCT_USO_TRAFICOTOTAL_M0  PCT_USO_TRAFICOTOTAL_U3M  \\\n",
       "0                -0.372911                 -0.363294   \n",
       "1                -0.372911                 -0.363294   \n",
       "2                -0.372911                 -0.363294   \n",
       "\n",
       "   PCT_USO_TRAFICOTOTAL_U2M  VCHRANGO_RENTA_Alta  VCHRANGO_RENTA_Baja  \\\n",
       "0                 -0.361065            -0.242536             1.420786   \n",
       "1                 -0.361065            -0.242536            -0.703836   \n",
       "2                 -0.361065            -0.242536            -0.703836   \n",
       "\n",
       "   VCHRANGO_RENTA_Media  \n",
       "0             -1.259010  \n",
       "1              0.794275  \n",
       "2              0.794275  \n",
       "\n",
       "[3 rows x 352 columns]"
      ]
     },
     "execution_count": 171,
     "metadata": {},
     "output_type": "execute_result"
    }
   ],
   "source": [
    "X_test_scaler = scaler.transform(X_test)\n",
    "X_test_scaler = pd.DataFrame(X_test_scaler, columns = X_test.columns)\n",
    "X_test_scaler.head(3)"
   ]
  },
  {
   "cell_type": "code",
   "execution_count": 172,
   "metadata": {},
   "outputs": [],
   "source": [
    "X_train = X_train_scaler.copy()\n",
    "X_test = X_test_scaler.copy()"
   ]
  },
  {
   "cell_type": "code",
   "execution_count": 173,
   "metadata": {},
   "outputs": [
    {
     "name": "stdout",
     "output_type": "stream",
     "text": [
      "(486, 352)\n",
      "(263, 352)\n"
     ]
    }
   ],
   "source": [
    "print(X_train.shape)\n",
    "print(X_test.shape)"
   ]
  },
  {
   "cell_type": "markdown",
   "metadata": {},
   "source": [
    "## Modelamiento"
   ]
  },
  {
   "cell_type": "code",
   "execution_count": 174,
   "metadata": {},
   "outputs": [],
   "source": [
    "def print_mc(matriz_conf):\n",
    "    matriz_conf = pd.DataFrame(matriz_conf)\n",
    "    matriz_conf.index = [\"Real_0\",\"Real_1\"]\n",
    "    matriz_conf.columns = [\"Pred_0\",\"Pred_1\"]\n",
    "    print(matriz_conf)"
   ]
  },
  {
   "cell_type": "code",
   "execution_count": 175,
   "metadata": {},
   "outputs": [],
   "source": [
    "################################## CURVA ROC ###############################\n",
    "def graficar_roc(y_test,y_pred_proba):\n",
    "    import matplotlib.pyplot as plt\n",
    "    from sklearn import metrics as mt\n",
    "    from sklearn.cross_validation import train_test_split\n",
    "\n",
    "    fpr, tpr, thresholds  = mt.roc_curve(y_test.astype('int'),y_pred_proba[:,1], pos_label = 1)\n",
    "\n",
    "    roc_auc = mt.auc(fpr, tpr)\n",
    "\n",
    "    print ('ROC AUC: %0.4f' % roc_auc)\n",
    "    gini_print = (2*roc_auc - 1)\n",
    "\n",
    "    # Plot of a ROC curve for a specific class\n",
    "    plt.figure(figsize=(8,6))\n",
    "    plt.plot(fpr, tpr, label='ROC curve (area = %0.4f) \\nGini (2*roc_auc - 1) = %0.4f' %(roc_auc,gini_print))\n",
    "    plt.plot([0, 1], [0, 1], 'k--')\n",
    "    plt.xlim([0.0, 1.0])\n",
    "    plt.ylim([0.0, 1.05])\n",
    "    plt.xlabel('False Positive Rate')\n",
    "    plt.ylabel('True Positive Rate')\n",
    "    plt.title('ROC Curve')\n",
    "    plt.legend(loc=\"lower right\")\n",
    "    plt.show()"
   ]
  },
  {
   "cell_type": "code",
   "execution_count": 176,
   "metadata": {},
   "outputs": [],
   "source": [
    "# modelo\n",
    "from sklearn.linear_model import LogisticRegression"
   ]
  },
  {
   "cell_type": "code",
   "execution_count": 177,
   "metadata": {},
   "outputs": [],
   "source": [
    "# Crear objeto modelo (Instanciar)\n",
    "model_regl = LogisticRegression()"
   ]
  },
  {
   "cell_type": "code",
   "execution_count": 178,
   "metadata": {},
   "outputs": [],
   "source": [
    "# Entrenar (ajustar) el modelo:\n",
    "model = model_regl.fit(X_train,y_train)"
   ]
  },
  {
   "cell_type": "code",
   "execution_count": 179,
   "metadata": {},
   "outputs": [],
   "source": [
    "# Generar las predicciones:\n",
    "pred_train = model.predict(X_train)\n",
    "pred_test = model.predict(X_test)\n",
    "\n",
    "# Generar las probabilidades\n",
    "pred_proba_train = model.predict_proba(X_train)\n",
    "pred_proba_test = model.predict_proba(X_test)"
   ]
  },
  {
   "cell_type": "code",
   "execution_count": 180,
   "metadata": {},
   "outputs": [],
   "source": [
    "from sklearn import metrics as mt"
   ]
  },
  {
   "cell_type": "code",
   "execution_count": 181,
   "metadata": {},
   "outputs": [
    {
     "name": "stdout",
     "output_type": "stream",
     "text": [
      "Metricas del Training...\n"
     ]
    }
   ],
   "source": [
    "# Sobre el Training Data\n",
    "print(\"Metricas del Training...\")"
   ]
  },
  {
   "cell_type": "code",
   "execution_count": 182,
   "metadata": {},
   "outputs": [
    {
     "name": "stdout",
     "output_type": "stream",
     "text": [
      "        Pred_0  Pred_1\n",
      "Real_0     211      21\n",
      "Real_1      36     218\n"
     ]
    }
   ],
   "source": [
    "matriz_conf = mt.confusion_matrix(y_train,pred_train)\n",
    "print_mc(matriz_conf)"
   ]
  },
  {
   "cell_type": "code",
   "execution_count": 183,
   "metadata": {},
   "outputs": [
    {
     "name": "stdout",
     "output_type": "stream",
     "text": [
      "Accuracy - Train: 0.8827160493827161\n"
     ]
    }
   ],
   "source": [
    "accuracy_train = mt.accuracy_score(y_train,pred_train)\n",
    "print(\"Accuracy - Train:\", accuracy_train) # 0.8775055679287305"
   ]
  },
  {
   "cell_type": "code",
   "execution_count": 184,
   "metadata": {},
   "outputs": [
    {
     "name": "stdout",
     "output_type": "stream",
     "text": [
      "             precision    recall  f1-score   support\n",
      "\n",
      "          0      0.854     0.909     0.881       232\n",
      "          1      0.912     0.858     0.884       254\n",
      "\n",
      "avg / total      0.885     0.883     0.883       486\n",
      "\n"
     ]
    }
   ],
   "source": [
    "print(mt.classification_report(y_train,pred_train,digits = 3))"
   ]
  },
  {
   "cell_type": "code",
   "execution_count": 185,
   "metadata": {},
   "outputs": [
    {
     "name": "stdout",
     "output_type": "stream",
     "text": [
      "ROC AUC: 0.9484\n"
     ]
    },
    {
     "data": {
      "image/png": "[encoded data removed]",
      "text/plain": [
       "<Figure size 576x432 with 1 Axes>"
      ]
     },
     "metadata": {
      "needs_background": "light"
     },
     "output_type": "display_data"
    }
   ],
   "source": [
    "graficar_roc(y_train,pred_proba_train) # 0.9534"
   ]
  },
  {
   "cell_type": "code",
   "execution_count": 186,
   "metadata": {},
   "outputs": [
    {
     "name": "stdout",
     "output_type": "stream",
     "text": [
      "Metricas del testing...\n"
     ]
    }
   ],
   "source": [
    "# Sobre el testing Data\n",
    "print(\"Metricas del testing...\")"
   ]
  },
  {
   "cell_type": "code",
   "execution_count": 187,
   "metadata": {},
   "outputs": [
    {
     "name": "stdout",
     "output_type": "stream",
     "text": [
      "        Pred_0  Pred_1\n",
      "Real_0     110      23\n",
      "Real_1      27     103\n"
     ]
    }
   ],
   "source": [
    "matriz_conf = mt.confusion_matrix(y_test,pred_test)\n",
    "print_mc(matriz_conf)"
   ]
  },
  {
   "cell_type": "code",
   "execution_count": 188,
   "metadata": {},
   "outputs": [
    {
     "name": "stdout",
     "output_type": "stream",
     "text": [
      "Accuracy - test: 0.8098859315589354\n"
     ]
    }
   ],
   "source": [
    "accuracy_test = mt.accuracy_score(y_test,pred_test)\n",
    "print(\"Accuracy - test:\", accuracy_test) # 0.8233333333333334"
   ]
  },
  {
   "cell_type": "code",
   "execution_count": 189,
   "metadata": {
    "scrolled": true
   },
   "outputs": [
    {
     "name": "stdout",
     "output_type": "stream",
     "text": [
      "             precision    recall  f1-score   support\n",
      "\n",
      "          0      0.803     0.827     0.815       133\n",
      "          1      0.817     0.792     0.805       130\n",
      "\n",
      "avg / total      0.810     0.810     0.810       263\n",
      "\n"
     ]
    }
   ],
   "source": [
    "print(mt.classification_report(y_test,pred_test,digits = 3))"
   ]
  },
  {
   "cell_type": "code",
   "execution_count": 190,
   "metadata": {},
   "outputs": [
    {
     "name": "stdout",
     "output_type": "stream",
     "text": [
      "ROC AUC: 0.8805\n"
     ]
    },
    {
     "data": {
      "image/png": "[encoded data removed]",
      "text/plain": [
       "<Figure size 576x432 with 1 Axes>"
      ]
     },
     "metadata": {
      "needs_background": "light"
     },
     "output_type": "display_data"
    }
   ],
   "source": [
    "graficar_roc(y_test,pred_proba_test) # 0.8731"
   ]
  },
  {
   "cell_type": "markdown",
   "metadata": {},
   "source": [
    "## Cross_Validation"
   ]
  },
  {
   "cell_type": "code",
   "execution_count": 191,
   "metadata": {},
   "outputs": [],
   "source": [
    "import matplotlib.pyplot as plt"
   ]
  },
  {
   "cell_type": "code",
   "execution_count": 192,
   "metadata": {},
   "outputs": [],
   "source": [
    "X_train_cv = X_train.copy()\n",
    "y_train_cv = y_train.copy()"
   ]
  },
  {
   "cell_type": "code",
   "execution_count": 193,
   "metadata": {},
   "outputs": [],
   "source": [
    "# Instanciar Modelo Base:\n",
    "#from sklearn.ensemble import RandomForestClassifier\n",
    "#model_rf = RandomForestClassifier(max_depth=5, n_estimators= 50, \n",
    "#                                  random_state=100, max_features = 5)"
   ]
  },
  {
   "cell_type": "code",
   "execution_count": 203,
   "metadata": {},
   "outputs": [],
   "source": [
    "# croos Validation\n",
    "from sklearn.base import clone\n",
    "from sklearn import cross_validation\n",
    "from sklearn.metrics import roc_auc_score\n",
    "k=20 #n_folds\n",
    "metric = 'roc_auc'\n",
    "\n",
    "cv = cross_validation.KFold(len(X_train_cv), n_folds=k, random_state = 121, shuffle = True)\n",
    "\n",
    "results_train = []\n",
    "results_test = []\n",
    "list_models = [] "
   ]
  },
  {
   "cell_type": "code",
   "execution_count": 204,
   "metadata": {},
   "outputs": [
    {
     "name": "stdout",
     "output_type": "stream",
     "text": [
      "Ok -  1 :  0.948941 0.858974\n",
      "Ok -  2 :  0.951336 0.86\n",
      "Ok -  3 :  0.953197 0.798611\n",
      "Ok -  4 :  0.948767 0.909091\n",
      "Ok -  5 :  0.954904 0.730769\n",
      "Ok -  6 :  0.957262 0.746753\n",
      "Ok -  7 :  0.950279 0.837037\n",
      "Ok -  8 :  0.952742 0.777778\n",
      "Ok -  9 :  0.949753 0.93007\n",
      "Ok -  10 :  0.948757 0.72028\n",
      "Ok -  11 :  0.949265 0.874074\n",
      "Ok -  12 :  0.947053 0.914286\n",
      "Ok -  13 :  0.954676 0.818182\n",
      "Ok -  14 :  0.947813 0.976562\n",
      "Ok -  15 :  0.947034 0.909091\n",
      "Ok -  16 :  0.949775 0.868056\n",
      "Ok -  17 :  0.945279 0.983193\n",
      "Ok -  18 :  0.951034 0.853147\n",
      "Ok -  19 :  0.950882 0.871429\n",
      "Ok -  20 :  0.95787 0.792857\n",
      "max CV roc - train 0.9578696044517973\n",
      "min CV roc - train 0.9452789498359119\n",
      "max CV roc - test 0.9831932773109244\n",
      "min CV roc - test 0.7202797202797202\n",
      "CV roc - train : 0.9508310241179192\n",
      "CV roc - test  : 0.8515119868897443\n"
     ]
    },
    {
     "data": {
      "image/png": "[encoded data removed]",
      "text/plain": [
       "<Figure size 432x288 with 1 Axes>"
      ]
     },
     "metadata": {
      "needs_background": "light"
     },
     "output_type": "display_data"
    }
   ],
   "source": [
    "i = 1\n",
    "for traincv, testcv in cv:\n",
    "    model = clone(model_regl)\n",
    "    # Entrenar el modelo\n",
    "    model = model.fit(X_train_cv.values[traincv], y_train_cv[traincv])\n",
    "    # Calcular probabilidades\n",
    "    probas_train = model.predict_proba(X_train_cv.values[traincv])[:,1]\n",
    "    probas_test = model.predict_proba(X_train_cv.values[testcv])[:,1]\n",
    "    # Calcular indicadores\n",
    "    metric_train = roc_auc_score(y_train_cv[traincv],probas_train)\n",
    "    metric_test = roc_auc_score(y_train_cv[testcv],probas_test)\n",
    "    # Almacenar metricas y modelos\n",
    "    results_train.append(metric_train)\n",
    "    results_test.append(metric_test)\n",
    "    list_models.append(model)\n",
    "    \n",
    "    print(\"Ok - \",str(i),\": \", str(round(metric_train,6)), str(round(metric_test,6)))\n",
    "    #print(\"Mean Target: \", str(round(y_train_cv[traincv].mean(),4)), str(round(y_train_cv[testcv].mean(),4)))\n",
    "\n",
    "    i = i + 1\n",
    "\n",
    "print(\"max CV roc - train\",np.max(results_train))\n",
    "print(\"min CV roc - train\",np.min(results_train))\n",
    "print(\"max CV roc - test\",np.max(results_test))\n",
    "print(\"min CV roc - test\",np.min(results_test))\n",
    "\n",
    "plt.plot(range(len(results_train)),results_train, 'k--', linewidth = 2)\n",
    "\n",
    "result_final_train = np.mean(results_train)\n",
    "result_final_test = np.mean(results_test)\n",
    "\n",
    "print(\"CV roc - train :\",result_final_train)\n",
    "print(\"CV roc - test  :\",result_final_test)"
   ]
  },
  {
   "cell_type": "markdown",
   "metadata": {},
   "source": [
    "#### Calcular las predicciones sobre el X_test .."
   ]
  },
  {
   "cell_type": "code",
   "execution_count": 205,
   "metadata": {},
   "outputs": [],
   "source": [
    "df_probas_subm = pd.DataFrame()\n",
    "i = 1\n",
    "for model in list_models:\n",
    "    probas_tmp = model.predict_proba(X_test)[:,1]\n",
    "    df_probas_subm[\"model\"+str(i)] = probas_tmp\n",
    "    i += 1"
   ]
  },
  {
   "cell_type": "code",
   "execution_count": 197,
   "metadata": {},
   "outputs": [
    {
     "data": {
      "text/html": [
       "<div>\n",
       "<style scoped>\n",
       "    .dataframe tbody tr th:only-of-type {\n",
       "        vertical-align: middle;\n",
       "    }\n",
       "\n",
       "    .dataframe tbody tr th {\n",
       "        vertical-align: top;\n",
       "    }\n",
       "\n",
       "    .dataframe thead th {\n",
       "        text-align: right;\n",
       "    }\n",
       "</style>\n",
       "<table border=\"1\" class=\"dataframe\">\n",
       "  <thead>\n",
       "    <tr style=\"text-align: right;\">\n",
       "      <th></th>\n",
       "      <th>model1</th>\n",
       "      <th>model2</th>\n",
       "      <th>model3</th>\n",
       "      <th>model4</th>\n",
       "      <th>model5</th>\n",
       "      <th>model6</th>\n",
       "      <th>model7</th>\n",
       "      <th>model8</th>\n",
       "      <th>model9</th>\n",
       "      <th>model10</th>\n",
       "      <th>model11</th>\n",
       "      <th>model12</th>\n",
       "      <th>model13</th>\n",
       "      <th>model14</th>\n",
       "      <th>model15</th>\n",
       "      <th>model16</th>\n",
       "      <th>model17</th>\n",
       "      <th>model18</th>\n",
       "      <th>model19</th>\n",
       "      <th>model20</th>\n",
       "    </tr>\n",
       "  </thead>\n",
       "  <tbody>\n",
       "    <tr>\n",
       "      <th>0</th>\n",
       "      <td>0.093409</td>\n",
       "      <td>0.120646</td>\n",
       "      <td>0.150299</td>\n",
       "      <td>0.073472</td>\n",
       "      <td>0.103801</td>\n",
       "      <td>0.104432</td>\n",
       "      <td>0.108916</td>\n",
       "      <td>0.085996</td>\n",
       "      <td>0.105223</td>\n",
       "      <td>0.082025</td>\n",
       "      <td>0.112931</td>\n",
       "      <td>0.126031</td>\n",
       "      <td>0.086379</td>\n",
       "      <td>0.110917</td>\n",
       "      <td>0.081507</td>\n",
       "      <td>0.074581</td>\n",
       "      <td>0.082107</td>\n",
       "      <td>0.107958</td>\n",
       "      <td>0.128318</td>\n",
       "      <td>0.085456</td>\n",
       "    </tr>\n",
       "    <tr>\n",
       "      <th>1</th>\n",
       "      <td>0.919152</td>\n",
       "      <td>0.957503</td>\n",
       "      <td>0.964455</td>\n",
       "      <td>0.966169</td>\n",
       "      <td>0.961364</td>\n",
       "      <td>0.955172</td>\n",
       "      <td>0.963885</td>\n",
       "      <td>0.967628</td>\n",
       "      <td>0.972842</td>\n",
       "      <td>0.974391</td>\n",
       "      <td>0.971559</td>\n",
       "      <td>0.993412</td>\n",
       "      <td>0.964245</td>\n",
       "      <td>0.953781</td>\n",
       "      <td>0.960993</td>\n",
       "      <td>0.978019</td>\n",
       "      <td>0.950758</td>\n",
       "      <td>0.975130</td>\n",
       "      <td>0.963264</td>\n",
       "      <td>0.967205</td>\n",
       "    </tr>\n",
       "    <tr>\n",
       "      <th>2</th>\n",
       "      <td>1.000000</td>\n",
       "      <td>1.000000</td>\n",
       "      <td>1.000000</td>\n",
       "      <td>1.000000</td>\n",
       "      <td>1.000000</td>\n",
       "      <td>1.000000</td>\n",
       "      <td>1.000000</td>\n",
       "      <td>1.000000</td>\n",
       "      <td>1.000000</td>\n",
       "      <td>1.000000</td>\n",
       "      <td>1.000000</td>\n",
       "      <td>1.000000</td>\n",
       "      <td>1.000000</td>\n",
       "      <td>1.000000</td>\n",
       "      <td>1.000000</td>\n",
       "      <td>1.000000</td>\n",
       "      <td>1.000000</td>\n",
       "      <td>1.000000</td>\n",
       "      <td>1.000000</td>\n",
       "      <td>1.000000</td>\n",
       "    </tr>\n",
       "    <tr>\n",
       "      <th>3</th>\n",
       "      <td>0.589335</td>\n",
       "      <td>0.623360</td>\n",
       "      <td>0.707073</td>\n",
       "      <td>0.689901</td>\n",
       "      <td>0.606596</td>\n",
       "      <td>0.648364</td>\n",
       "      <td>0.628164</td>\n",
       "      <td>0.681139</td>\n",
       "      <td>0.613732</td>\n",
       "      <td>0.627032</td>\n",
       "      <td>0.707386</td>\n",
       "      <td>0.638780</td>\n",
       "      <td>0.642600</td>\n",
       "      <td>0.612076</td>\n",
       "      <td>0.657129</td>\n",
       "      <td>0.733134</td>\n",
       "      <td>0.674143</td>\n",
       "      <td>0.513302</td>\n",
       "      <td>0.623479</td>\n",
       "      <td>0.622088</td>\n",
       "    </tr>\n",
       "    <tr>\n",
       "      <th>4</th>\n",
       "      <td>0.997453</td>\n",
       "      <td>0.998477</td>\n",
       "      <td>0.997421</td>\n",
       "      <td>0.998847</td>\n",
       "      <td>0.997044</td>\n",
       "      <td>0.998748</td>\n",
       "      <td>0.998950</td>\n",
       "      <td>0.999207</td>\n",
       "      <td>0.997997</td>\n",
       "      <td>0.999278</td>\n",
       "      <td>0.998865</td>\n",
       "      <td>0.999581</td>\n",
       "      <td>0.998692</td>\n",
       "      <td>0.998521</td>\n",
       "      <td>0.998663</td>\n",
       "      <td>0.999013</td>\n",
       "      <td>0.998964</td>\n",
       "      <td>0.998847</td>\n",
       "      <td>0.999568</td>\n",
       "      <td>0.998730</td>\n",
       "    </tr>\n",
       "  </tbody>\n",
       "</table>\n",
       "</div>"
      ],
      "text/plain": [
       "     model1    model2    model3    model4    model5    model6    model7  \\\n",
       "0  0.093409  0.120646  0.150299  0.073472  0.103801  0.104432  0.108916   \n",
       "1  0.919152  0.957503  0.964455  0.966169  0.961364  0.955172  0.963885   \n",
       "2  1.000000  1.000000  1.000000  1.000000  1.000000  1.000000  1.000000   \n",
       "3  0.589335  0.623360  0.707073  0.689901  0.606596  0.648364  0.628164   \n",
       "4  0.997453  0.998477  0.997421  0.998847  0.997044  0.998748  0.998950   \n",
       "\n",
       "     model8    model9   model10   model11   model12   model13   model14  \\\n",
       "0  0.085996  0.105223  0.082025  0.112931  0.126031  0.086379  0.110917   \n",
       "1  0.967628  0.972842  0.974391  0.971559  0.993412  0.964245  0.953781   \n",
       "2  1.000000  1.000000  1.000000  1.000000  1.000000  1.000000  1.000000   \n",
       "3  0.681139  0.613732  0.627032  0.707386  0.638780  0.642600  0.612076   \n",
       "4  0.999207  0.997997  0.999278  0.998865  0.999581  0.998692  0.998521   \n",
       "\n",
       "    model15   model16   model17   model18   model19   model20  \n",
       "0  0.081507  0.074581  0.082107  0.107958  0.128318  0.085456  \n",
       "1  0.960993  0.978019  0.950758  0.975130  0.963264  0.967205  \n",
       "2  1.000000  1.000000  1.000000  1.000000  1.000000  1.000000  \n",
       "3  0.657129  0.733134  0.674143  0.513302  0.623479  0.622088  \n",
       "4  0.998663  0.999013  0.998964  0.998847  0.999568  0.998730  "
      ]
     },
     "execution_count": 197,
     "metadata": {},
     "output_type": "execute_result"
    }
   ],
   "source": [
    "df_probas_subm.head()"
   ]
  },
  {
   "cell_type": "code",
   "execution_count": 198,
   "metadata": {},
   "outputs": [
    {
     "data": {
      "text/plain": [
       "0      1.012202e-01\n",
       "1      9.640464e-01\n",
       "2      1.000000e+00\n",
       "3      6.419406e-01\n",
       "4      9.986433e-01\n",
       "5      1.806251e-01\n",
       "6      1.781339e-01\n",
       "7      2.058300e-01\n",
       "8      9.991737e-01\n",
       "9      6.806578e-04\n",
       "10     1.557364e-02\n",
       "11     9.942052e-01\n",
       "12     2.234209e-01\n",
       "13     9.542209e-01\n",
       "14     2.124502e-05\n",
       "15     9.999267e-01\n",
       "16     1.218848e-01\n",
       "17     3.809853e-01\n",
       "18     5.959711e-02\n",
       "19     9.517413e-01\n",
       "20     9.999168e-01\n",
       "21     7.178778e-01\n",
       "22     1.000000e+00\n",
       "23     5.842439e-07\n",
       "24     9.998591e-01\n",
       "25     2.775368e-01\n",
       "26     6.544926e-01\n",
       "27     9.893045e-01\n",
       "28     4.865030e-01\n",
       "29     1.776004e-01\n",
       "           ...     \n",
       "233    9.998971e-01\n",
       "234    6.525955e-01\n",
       "235    2.156769e-01\n",
       "236    7.391573e-01\n",
       "237    9.967577e-01\n",
       "238    3.702075e-02\n",
       "239    4.780490e-01\n",
       "240    9.999227e-01\n",
       "241    2.202433e-01\n",
       "242    9.987152e-01\n",
       "243    6.070167e-01\n",
       "244    4.216002e-01\n",
       "245    1.383126e-03\n",
       "246    9.668037e-01\n",
       "247    5.325206e-02\n",
       "248    9.731362e-01\n",
       "249    2.343280e-01\n",
       "250    4.780136e-01\n",
       "251    5.445285e-03\n",
       "252    6.892742e-01\n",
       "253    9.997070e-01\n",
       "254    9.574849e-01\n",
       "255    9.997513e-01\n",
       "256    9.644285e-02\n",
       "257    8.109863e-01\n",
       "258    9.992610e-01\n",
       "259    5.853963e-01\n",
       "260    9.998166e-03\n",
       "261    7.401066e-01\n",
       "262    1.372142e-01\n",
       "Length: 263, dtype: float64"
      ]
     },
     "execution_count": 198,
     "metadata": {},
     "output_type": "execute_result"
    }
   ],
   "source": [
    "y_probas_subm = df_probas_subm.apply(np.mean, axis = 1)\n",
    "y_probas_subm"
   ]
  },
  {
   "cell_type": "code",
   "execution_count": 199,
   "metadata": {},
   "outputs": [
    {
     "data": {
      "text/plain": [
       "0.8833140543666859"
      ]
     },
     "execution_count": 199,
     "metadata": {},
     "output_type": "execute_result"
    }
   ],
   "source": [
    "roc_auc_score(y_test,y_probas_subm)"
   ]
  },
  {
   "cell_type": "code",
   "execution_count": null,
   "metadata": {},
   "outputs": [],
   "source": []
  },
  {
   "cell_type": "code",
   "execution_count": null,
   "metadata": {},
   "outputs": [],
   "source": []
  },
  {
   "cell_type": "code",
   "execution_count": null,
   "metadata": {},
   "outputs": [],
   "source": []
  },
  {
   "cell_type": "code",
   "execution_count": null,
   "metadata": {},
   "outputs": [],
   "source": []
  },
  {
   "cell_type": "code",
   "execution_count": null,
   "metadata": {},
   "outputs": [],
   "source": []
  },
  {
   "cell_type": "code",
   "execution_count": null,
   "metadata": {},
   "outputs": [],
   "source": []
  },
  {
   "cell_type": "code",
   "execution_count": null,
   "metadata": {},
   "outputs": [],
   "source": []
  },
  {
   "cell_type": "code",
   "execution_count": null,
   "metadata": {},
   "outputs": [],
   "source": []
  },
  {
   "cell_type": "code",
   "execution_count": null,
   "metadata": {},
   "outputs": [],
   "source": []
  },
  {
   "cell_type": "code",
   "execution_count": null,
   "metadata": {},
   "outputs": [],
   "source": []
  },
  {
   "cell_type": "code",
   "execution_count": null,
   "metadata": {},
   "outputs": [],
   "source": []
  },
  {
   "cell_type": "code",
   "execution_count": null,
   "metadata": {},
   "outputs": [],
   "source": []
  },
  {
   "cell_type": "code",
   "execution_count": null,
   "metadata": {},
   "outputs": [],
   "source": []
  },
  {
   "cell_type": "code",
   "execution_count": null,
   "metadata": {},
   "outputs": [],
   "source": []
  }
 ],
 "metadata": {
  "kernelspec": {
   "display_name": "Python 3",
   "language": "python",
   "name": "python3"
  },
  "language_info": {
   "codemirror_mode": {
    "name": "ipython",
    "version": 3
   },
   "file_extension": ".py",
   "mimetype": "text/x-python",
   "name": "python",
   "nbconvert_exporter": "python",
   "pygments_lexer": "ipython3",
   "version": "3.7.0"
  }
 },
 "nbformat": 4,
 "nbformat_minor": 2
}

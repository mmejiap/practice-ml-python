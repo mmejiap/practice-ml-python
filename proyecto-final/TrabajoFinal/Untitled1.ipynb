{
 "cells": [
  {
   "cell_type": "code",
   "execution_count": 1,
   "metadata": {},
   "outputs": [],
   "source": [
    "# Librerias\n",
    "import numpy as np\n",
    "import pandas as pd\n",
    "import seaborn as sns"
   ]
  },
  {
   "cell_type": "code",
   "execution_count": 2,
   "metadata": {},
   "outputs": [],
   "source": [
    "# carga de datos\n",
    "data1 = pd.read_csv(\"./data/train_1.csv\",sep=\";\",index_col=None,header=0)\n",
    "data2 = pd.read_csv(\"./data/train_2.csv\",sep=\";\",index_col=None,header=0)\n",
    "salida = pd.read_csv(\"./data/train_3.csv\",sep=\";\",index_col=None,header=0)"
   ]
  },
  {
   "cell_type": "code",
   "execution_count": 3,
   "metadata": {},
   "outputs": [],
   "source": [
    "#uniendo la data\n",
    "data = data1.merge(data2,how='inner',on=['NUMPERIODO', 'NUMCODCONTRATOBSCS', 'VCHTELEFONO'])\n",
    "data = data.merge(salida,how='inner',on=['NUMPERIODO', 'NUMCODCONTRATOBSCS', 'VCHTELEFONO'])"
   ]
  },
  {
   "cell_type": "code",
   "execution_count": 4,
   "metadata": {},
   "outputs": [
    {
     "data": {
      "text/html": [
       "<div>\n",
       "<style scoped>\n",
       "    .dataframe tbody tr th:only-of-type {\n",
       "        vertical-align: middle;\n",
       "    }\n",
       "\n",
       "    .dataframe tbody tr th {\n",
       "        vertical-align: top;\n",
       "    }\n",
       "\n",
       "    .dataframe thead th {\n",
       "        text-align: right;\n",
       "    }\n",
       "</style>\n",
       "<table border=\"1\" class=\"dataframe\">\n",
       "  <thead>\n",
       "    <tr style=\"text-align: right;\">\n",
       "      <th></th>\n",
       "      <th>NUMPERIODO</th>\n",
       "      <th>NUMCODCONTRATOBSCS</th>\n",
       "      <th>VCHTELEFONO</th>\n",
       "      <th>ANT_CLIENTE</th>\n",
       "      <th>NUMRENTABASICA</th>\n",
       "      <th>VCHPACKCHIP</th>\n",
       "      <th>NUMINGRESOTEORICO</th>\n",
       "      <th>NUMMINUTOSENTRANTE_2M</th>\n",
       "      <th>NUMMINUTOSALIENTE_2M</th>\n",
       "      <th>NUMMINSALIENTEOFFNET_2M</th>\n",
       "      <th>...</th>\n",
       "      <th>NUMMB</th>\n",
       "      <th>NUMMB_ADICIONAL</th>\n",
       "      <th>NUMKB_ADICIONAL</th>\n",
       "      <th>PCT_MB_ADICIONAL</th>\n",
       "      <th>PCT_USO_TRAFICOTOTAL_2M</th>\n",
       "      <th>PCT_USO_TRAFICOTOTAL_1M</th>\n",
       "      <th>PCT_USO_TRAFICOTOTAL_M0</th>\n",
       "      <th>PCT_USO_TRAFICOTOTAL_U3M</th>\n",
       "      <th>PCT_USO_TRAFICOTOTAL_U2M</th>\n",
       "      <th>FLG_RECARGA</th>\n",
       "    </tr>\n",
       "  </thead>\n",
       "  <tbody>\n",
       "    <tr>\n",
       "      <th>0</th>\n",
       "      <td>201804</td>\n",
       "      <td>38172100</td>\n",
       "      <td>51982603192</td>\n",
       "      <td>7.645161</td>\n",
       "      <td>41.525398</td>\n",
       "      <td>PACK</td>\n",
       "      <td>41.5254</td>\n",
       "      <td>151</td>\n",
       "      <td>596</td>\n",
       "      <td>590.9832</td>\n",
       "      <td>...</td>\n",
       "      <td>0</td>\n",
       "      <td>0</td>\n",
       "      <td>0.0</td>\n",
       "      <td>0</td>\n",
       "      <td>0.0</td>\n",
       "      <td>0.0</td>\n",
       "      <td>0.0</td>\n",
       "      <td>0.0</td>\n",
       "      <td>0.0</td>\n",
       "      <td>0</td>\n",
       "    </tr>\n",
       "    <tr>\n",
       "      <th>1</th>\n",
       "      <td>201804</td>\n",
       "      <td>9028333</td>\n",
       "      <td>51983661925</td>\n",
       "      <td>45.903226</td>\n",
       "      <td>122.879997</td>\n",
       "      <td>SIM</td>\n",
       "      <td>92.3700</td>\n",
       "      <td>54</td>\n",
       "      <td>410</td>\n",
       "      <td>327.9664</td>\n",
       "      <td>...</td>\n",
       "      <td>0</td>\n",
       "      <td>0</td>\n",
       "      <td>0.0</td>\n",
       "      <td>0</td>\n",
       "      <td>0.0</td>\n",
       "      <td>0.0</td>\n",
       "      <td>0.0</td>\n",
       "      <td>0.0</td>\n",
       "      <td>0.0</td>\n",
       "      <td>0</td>\n",
       "    </tr>\n",
       "    <tr>\n",
       "      <th>2</th>\n",
       "      <td>201805</td>\n",
       "      <td>34979663</td>\n",
       "      <td>51942976545</td>\n",
       "      <td>11.612903</td>\n",
       "      <td>66.949203</td>\n",
       "      <td>PACK</td>\n",
       "      <td>NaN</td>\n",
       "      <td>792</td>\n",
       "      <td>587</td>\n",
       "      <td>512.2667</td>\n",
       "      <td>...</td>\n",
       "      <td>0</td>\n",
       "      <td>0</td>\n",
       "      <td>0.0</td>\n",
       "      <td>0</td>\n",
       "      <td>0.0</td>\n",
       "      <td>0.0</td>\n",
       "      <td>0.0</td>\n",
       "      <td>0.0</td>\n",
       "      <td>0.0</td>\n",
       "      <td>0</td>\n",
       "    </tr>\n",
       "    <tr>\n",
       "      <th>3</th>\n",
       "      <td>201805</td>\n",
       "      <td>13670934</td>\n",
       "      <td>51958993810</td>\n",
       "      <td>32.838710</td>\n",
       "      <td>41.525398</td>\n",
       "      <td>PACK</td>\n",
       "      <td>NaN</td>\n",
       "      <td>170</td>\n",
       "      <td>144</td>\n",
       "      <td>100.5000</td>\n",
       "      <td>...</td>\n",
       "      <td>0</td>\n",
       "      <td>0</td>\n",
       "      <td>0.0</td>\n",
       "      <td>0</td>\n",
       "      <td>0.0</td>\n",
       "      <td>0.0</td>\n",
       "      <td>0.0</td>\n",
       "      <td>0.0</td>\n",
       "      <td>0.0</td>\n",
       "      <td>0</td>\n",
       "    </tr>\n",
       "    <tr>\n",
       "      <th>4</th>\n",
       "      <td>201804</td>\n",
       "      <td>16547229</td>\n",
       "      <td>51934098463</td>\n",
       "      <td>28.387097</td>\n",
       "      <td>62.711899</td>\n",
       "      <td>PACK</td>\n",
       "      <td>62.7119</td>\n",
       "      <td>219</td>\n",
       "      <td>784</td>\n",
       "      <td>745.2162</td>\n",
       "      <td>...</td>\n",
       "      <td>0</td>\n",
       "      <td>0</td>\n",
       "      <td>0.0</td>\n",
       "      <td>0</td>\n",
       "      <td>0.0</td>\n",
       "      <td>0.0</td>\n",
       "      <td>0.0</td>\n",
       "      <td>0.0</td>\n",
       "      <td>0.0</td>\n",
       "      <td>1</td>\n",
       "    </tr>\n",
       "  </tbody>\n",
       "</table>\n",
       "<p>5 rows × 357 columns</p>\n",
       "</div>"
      ],
      "text/plain": [
       "   NUMPERIODO  NUMCODCONTRATOBSCS  VCHTELEFONO  ANT_CLIENTE  NUMRENTABASICA  \\\n",
       "0      201804            38172100  51982603192     7.645161       41.525398   \n",
       "1      201804             9028333  51983661925    45.903226      122.879997   \n",
       "2      201805            34979663  51942976545    11.612903       66.949203   \n",
       "3      201805            13670934  51958993810    32.838710       41.525398   \n",
       "4      201804            16547229  51934098463    28.387097       62.711899   \n",
       "\n",
       "  VCHPACKCHIP  NUMINGRESOTEORICO  NUMMINUTOSENTRANTE_2M  NUMMINUTOSALIENTE_2M  \\\n",
       "0        PACK            41.5254                    151                   596   \n",
       "1         SIM            92.3700                     54                   410   \n",
       "2        PACK                NaN                    792                   587   \n",
       "3        PACK                NaN                    170                   144   \n",
       "4        PACK            62.7119                    219                   784   \n",
       "\n",
       "   NUMMINSALIENTEOFFNET_2M     ...       NUMMB  NUMMB_ADICIONAL  \\\n",
       "0                 590.9832     ...           0                0   \n",
       "1                 327.9664     ...           0                0   \n",
       "2                 512.2667     ...           0                0   \n",
       "3                 100.5000     ...           0                0   \n",
       "4                 745.2162     ...           0                0   \n",
       "\n",
       "   NUMKB_ADICIONAL  PCT_MB_ADICIONAL  PCT_USO_TRAFICOTOTAL_2M  \\\n",
       "0              0.0                 0                      0.0   \n",
       "1              0.0                 0                      0.0   \n",
       "2              0.0                 0                      0.0   \n",
       "3              0.0                 0                      0.0   \n",
       "4              0.0                 0                      0.0   \n",
       "\n",
       "   PCT_USO_TRAFICOTOTAL_1M  PCT_USO_TRAFICOTOTAL_M0  PCT_USO_TRAFICOTOTAL_U3M  \\\n",
       "0                      0.0                      0.0                       0.0   \n",
       "1                      0.0                      0.0                       0.0   \n",
       "2                      0.0                      0.0                       0.0   \n",
       "3                      0.0                      0.0                       0.0   \n",
       "4                      0.0                      0.0                       0.0   \n",
       "\n",
       "   PCT_USO_TRAFICOTOTAL_U2M  FLG_RECARGA  \n",
       "0                       0.0            0  \n",
       "1                       0.0            0  \n",
       "2                       0.0            0  \n",
       "3                       0.0            0  \n",
       "4                       0.0            1  \n",
       "\n",
       "[5 rows x 357 columns]"
      ]
     },
     "execution_count": 4,
     "metadata": {},
     "output_type": "execute_result"
    }
   ],
   "source": [
    "data.head()"
   ]
  },
  {
   "cell_type": "code",
   "execution_count": 5,
   "metadata": {},
   "outputs": [],
   "source": [
    "df_data = data.copy()"
   ]
  },
  {
   "cell_type": "code",
   "execution_count": 6,
   "metadata": {},
   "outputs": [
    {
     "data": {
      "text/html": [
       "<div>\n",
       "<style scoped>\n",
       "    .dataframe tbody tr th:only-of-type {\n",
       "        vertical-align: middle;\n",
       "    }\n",
       "\n",
       "    .dataframe tbody tr th {\n",
       "        vertical-align: top;\n",
       "    }\n",
       "\n",
       "    .dataframe thead th {\n",
       "        text-align: right;\n",
       "    }\n",
       "</style>\n",
       "<table border=\"1\" class=\"dataframe\">\n",
       "  <thead>\n",
       "    <tr style=\"text-align: right;\">\n",
       "      <th></th>\n",
       "      <th>NUMPERIODO</th>\n",
       "      <th>NUMCODCONTRATOBSCS</th>\n",
       "      <th>VCHTELEFONO</th>\n",
       "      <th>ANT_CLIENTE</th>\n",
       "      <th>NUMRENTABASICA</th>\n",
       "      <th>VCHPACKCHIP</th>\n",
       "      <th>NUMINGRESOTEORICO</th>\n",
       "      <th>NUMMINUTOSENTRANTE_2M</th>\n",
       "      <th>NUMMINUTOSALIENTE_2M</th>\n",
       "      <th>NUMMINSALIENTEOFFNET_2M</th>\n",
       "      <th>...</th>\n",
       "      <th>NUMMB</th>\n",
       "      <th>NUMMB_ADICIONAL</th>\n",
       "      <th>NUMKB_ADICIONAL</th>\n",
       "      <th>PCT_MB_ADICIONAL</th>\n",
       "      <th>PCT_USO_TRAFICOTOTAL_2M</th>\n",
       "      <th>PCT_USO_TRAFICOTOTAL_1M</th>\n",
       "      <th>PCT_USO_TRAFICOTOTAL_M0</th>\n",
       "      <th>PCT_USO_TRAFICOTOTAL_U3M</th>\n",
       "      <th>PCT_USO_TRAFICOTOTAL_U2M</th>\n",
       "      <th>FLG_RECARGA</th>\n",
       "    </tr>\n",
       "  </thead>\n",
       "  <tbody>\n",
       "    <tr>\n",
       "      <th>0</th>\n",
       "      <td>201804</td>\n",
       "      <td>38172100</td>\n",
       "      <td>51982603192</td>\n",
       "      <td>7.645161</td>\n",
       "      <td>41.525398</td>\n",
       "      <td>PACK</td>\n",
       "      <td>41.5254</td>\n",
       "      <td>151</td>\n",
       "      <td>596</td>\n",
       "      <td>590.9832</td>\n",
       "      <td>...</td>\n",
       "      <td>0</td>\n",
       "      <td>0</td>\n",
       "      <td>0.0</td>\n",
       "      <td>0</td>\n",
       "      <td>0.0</td>\n",
       "      <td>0.0</td>\n",
       "      <td>0.0</td>\n",
       "      <td>0.0</td>\n",
       "      <td>0.0</td>\n",
       "      <td>0</td>\n",
       "    </tr>\n",
       "    <tr>\n",
       "      <th>1</th>\n",
       "      <td>201804</td>\n",
       "      <td>9028333</td>\n",
       "      <td>51983661925</td>\n",
       "      <td>45.903226</td>\n",
       "      <td>122.879997</td>\n",
       "      <td>SIM</td>\n",
       "      <td>92.3700</td>\n",
       "      <td>54</td>\n",
       "      <td>410</td>\n",
       "      <td>327.9664</td>\n",
       "      <td>...</td>\n",
       "      <td>0</td>\n",
       "      <td>0</td>\n",
       "      <td>0.0</td>\n",
       "      <td>0</td>\n",
       "      <td>0.0</td>\n",
       "      <td>0.0</td>\n",
       "      <td>0.0</td>\n",
       "      <td>0.0</td>\n",
       "      <td>0.0</td>\n",
       "      <td>0</td>\n",
       "    </tr>\n",
       "    <tr>\n",
       "      <th>2</th>\n",
       "      <td>201805</td>\n",
       "      <td>34979663</td>\n",
       "      <td>51942976545</td>\n",
       "      <td>11.612903</td>\n",
       "      <td>66.949203</td>\n",
       "      <td>PACK</td>\n",
       "      <td>NaN</td>\n",
       "      <td>792</td>\n",
       "      <td>587</td>\n",
       "      <td>512.2667</td>\n",
       "      <td>...</td>\n",
       "      <td>0</td>\n",
       "      <td>0</td>\n",
       "      <td>0.0</td>\n",
       "      <td>0</td>\n",
       "      <td>0.0</td>\n",
       "      <td>0.0</td>\n",
       "      <td>0.0</td>\n",
       "      <td>0.0</td>\n",
       "      <td>0.0</td>\n",
       "      <td>0</td>\n",
       "    </tr>\n",
       "    <tr>\n",
       "      <th>3</th>\n",
       "      <td>201805</td>\n",
       "      <td>13670934</td>\n",
       "      <td>51958993810</td>\n",
       "      <td>32.838710</td>\n",
       "      <td>41.525398</td>\n",
       "      <td>PACK</td>\n",
       "      <td>NaN</td>\n",
       "      <td>170</td>\n",
       "      <td>144</td>\n",
       "      <td>100.5000</td>\n",
       "      <td>...</td>\n",
       "      <td>0</td>\n",
       "      <td>0</td>\n",
       "      <td>0.0</td>\n",
       "      <td>0</td>\n",
       "      <td>0.0</td>\n",
       "      <td>0.0</td>\n",
       "      <td>0.0</td>\n",
       "      <td>0.0</td>\n",
       "      <td>0.0</td>\n",
       "      <td>0</td>\n",
       "    </tr>\n",
       "    <tr>\n",
       "      <th>4</th>\n",
       "      <td>201804</td>\n",
       "      <td>16547229</td>\n",
       "      <td>51934098463</td>\n",
       "      <td>28.387097</td>\n",
       "      <td>62.711899</td>\n",
       "      <td>PACK</td>\n",
       "      <td>62.7119</td>\n",
       "      <td>219</td>\n",
       "      <td>784</td>\n",
       "      <td>745.2162</td>\n",
       "      <td>...</td>\n",
       "      <td>0</td>\n",
       "      <td>0</td>\n",
       "      <td>0.0</td>\n",
       "      <td>0</td>\n",
       "      <td>0.0</td>\n",
       "      <td>0.0</td>\n",
       "      <td>0.0</td>\n",
       "      <td>0.0</td>\n",
       "      <td>0.0</td>\n",
       "      <td>1</td>\n",
       "    </tr>\n",
       "  </tbody>\n",
       "</table>\n",
       "<p>5 rows × 357 columns</p>\n",
       "</div>"
      ],
      "text/plain": [
       "   NUMPERIODO  NUMCODCONTRATOBSCS  VCHTELEFONO  ANT_CLIENTE  NUMRENTABASICA  \\\n",
       "0      201804            38172100  51982603192     7.645161       41.525398   \n",
       "1      201804             9028333  51983661925    45.903226      122.879997   \n",
       "2      201805            34979663  51942976545    11.612903       66.949203   \n",
       "3      201805            13670934  51958993810    32.838710       41.525398   \n",
       "4      201804            16547229  51934098463    28.387097       62.711899   \n",
       "\n",
       "  VCHPACKCHIP  NUMINGRESOTEORICO  NUMMINUTOSENTRANTE_2M  NUMMINUTOSALIENTE_2M  \\\n",
       "0        PACK            41.5254                    151                   596   \n",
       "1         SIM            92.3700                     54                   410   \n",
       "2        PACK                NaN                    792                   587   \n",
       "3        PACK                NaN                    170                   144   \n",
       "4        PACK            62.7119                    219                   784   \n",
       "\n",
       "   NUMMINSALIENTEOFFNET_2M     ...       NUMMB  NUMMB_ADICIONAL  \\\n",
       "0                 590.9832     ...           0                0   \n",
       "1                 327.9664     ...           0                0   \n",
       "2                 512.2667     ...           0                0   \n",
       "3                 100.5000     ...           0                0   \n",
       "4                 745.2162     ...           0                0   \n",
       "\n",
       "   NUMKB_ADICIONAL  PCT_MB_ADICIONAL  PCT_USO_TRAFICOTOTAL_2M  \\\n",
       "0              0.0                 0                      0.0   \n",
       "1              0.0                 0                      0.0   \n",
       "2              0.0                 0                      0.0   \n",
       "3              0.0                 0                      0.0   \n",
       "4              0.0                 0                      0.0   \n",
       "\n",
       "   PCT_USO_TRAFICOTOTAL_1M  PCT_USO_TRAFICOTOTAL_M0  PCT_USO_TRAFICOTOTAL_U3M  \\\n",
       "0                      0.0                      0.0                       0.0   \n",
       "1                      0.0                      0.0                       0.0   \n",
       "2                      0.0                      0.0                       0.0   \n",
       "3                      0.0                      0.0                       0.0   \n",
       "4                      0.0                      0.0                       0.0   \n",
       "\n",
       "   PCT_USO_TRAFICOTOTAL_U2M  FLG_RECARGA  \n",
       "0                       0.0            0  \n",
       "1                       0.0            0  \n",
       "2                       0.0            0  \n",
       "3                       0.0            0  \n",
       "4                       0.0            1  \n",
       "\n",
       "[5 rows x 357 columns]"
      ]
     },
     "execution_count": 6,
     "metadata": {},
     "output_type": "execute_result"
    }
   ],
   "source": [
    "df_data.head()"
   ]
  },
  {
   "cell_type": "code",
   "execution_count": 7,
   "metadata": {},
   "outputs": [
    {
     "name": "stdout",
     "output_type": "stream",
     "text": [
      "<class 'pandas.core.frame.DataFrame'>\n",
      "Int64Index: 749 entries, 0 to 748\n",
      "Columns: 357 entries, NUMPERIODO to FLG_RECARGA\n",
      "dtypes: float64(285), int64(69), object(3)\n",
      "memory usage: 2.0+ MB\n"
     ]
    }
   ],
   "source": [
    "df_data.info()"
   ]
  },
  {
   "cell_type": "code",
   "execution_count": 8,
   "metadata": {},
   "outputs": [
    {
     "data": {
      "text/plain": [
       "(749, 357)"
      ]
     },
     "execution_count": 8,
     "metadata": {},
     "output_type": "execute_result"
    }
   ],
   "source": [
    "df_data.shape"
   ]
  },
  {
   "cell_type": "code",
   "execution_count": 9,
   "metadata": {},
   "outputs": [
    {
     "data": {
      "text/html": [
       "<div>\n",
       "<style scoped>\n",
       "    .dataframe tbody tr th:only-of-type {\n",
       "        vertical-align: middle;\n",
       "    }\n",
       "\n",
       "    .dataframe tbody tr th {\n",
       "        vertical-align: top;\n",
       "    }\n",
       "\n",
       "    .dataframe thead th {\n",
       "        text-align: right;\n",
       "    }\n",
       "</style>\n",
       "<table border=\"1\" class=\"dataframe\">\n",
       "  <thead>\n",
       "    <tr style=\"text-align: right;\">\n",
       "      <th></th>\n",
       "      <th>0</th>\n",
       "    </tr>\n",
       "  </thead>\n",
       "  <tbody>\n",
       "    <tr>\n",
       "      <th>ANT_CLIENTE</th>\n",
       "      <td>float64</td>\n",
       "    </tr>\n",
       "    <tr>\n",
       "      <th>NUMRENTABASICA</th>\n",
       "      <td>float64</td>\n",
       "    </tr>\n",
       "    <tr>\n",
       "      <th>NUMINGRESOTEORICO</th>\n",
       "      <td>float64</td>\n",
       "    </tr>\n",
       "    <tr>\n",
       "      <th>NUMMINSALIENTEOFFNET_2M</th>\n",
       "      <td>float64</td>\n",
       "    </tr>\n",
       "    <tr>\n",
       "      <th>NUMMINENTRANTEOFFNET_2M</th>\n",
       "      <td>float64</td>\n",
       "    </tr>\n",
       "    <tr>\n",
       "      <th>NUMMINSALIENTEONNET_2M</th>\n",
       "      <td>float64</td>\n",
       "    </tr>\n",
       "    <tr>\n",
       "      <th>NUMMINENTRANTEONNET_2M</th>\n",
       "      <td>float64</td>\n",
       "    </tr>\n",
       "    <tr>\n",
       "      <th>NUMTRAFICOFACEBOOK_2M</th>\n",
       "      <td>float64</td>\n",
       "    </tr>\n",
       "    <tr>\n",
       "      <th>NUMTRAFICOWHATSAPP_2M</th>\n",
       "      <td>float64</td>\n",
       "    </tr>\n",
       "    <tr>\n",
       "      <th>NUMTRAFICOYOUTUBE_2M</th>\n",
       "      <td>float64</td>\n",
       "    </tr>\n",
       "    <tr>\n",
       "      <th>NUMTRAFICOSPOTIFY_2M</th>\n",
       "      <td>float64</td>\n",
       "    </tr>\n",
       "    <tr>\n",
       "      <th>NUMTRAFICOSOUNDCLOUD_2M</th>\n",
       "      <td>float64</td>\n",
       "    </tr>\n",
       "    <tr>\n",
       "      <th>NUMTRAFICOAPPLEMUSIC_2M</th>\n",
       "      <td>float64</td>\n",
       "    </tr>\n",
       "    <tr>\n",
       "      <th>NUMTRAFICOINSTAGRAM_2M</th>\n",
       "      <td>float64</td>\n",
       "    </tr>\n",
       "    <tr>\n",
       "      <th>NUMTRAFICOMAILILIMITADO_2M</th>\n",
       "      <td>float64</td>\n",
       "    </tr>\n",
       "    <tr>\n",
       "      <th>NUMTRAFICONETFLIX_2M</th>\n",
       "      <td>float64</td>\n",
       "    </tr>\n",
       "    <tr>\n",
       "      <th>NUMTRAFICOPAGADO_2M</th>\n",
       "      <td>float64</td>\n",
       "    </tr>\n",
       "    <tr>\n",
       "      <th>NUMTRAFICOTOTAL_2M</th>\n",
       "      <td>float64</td>\n",
       "    </tr>\n",
       "    <tr>\n",
       "      <th>NUMMINSALIENTEOFFNET_1M</th>\n",
       "      <td>float64</td>\n",
       "    </tr>\n",
       "    <tr>\n",
       "      <th>NUMMINENTRANTEOFFNET_1M</th>\n",
       "      <td>float64</td>\n",
       "    </tr>\n",
       "  </tbody>\n",
       "</table>\n",
       "</div>"
      ],
      "text/plain": [
       "                                  0\n",
       "ANT_CLIENTE                 float64\n",
       "NUMRENTABASICA              float64\n",
       "NUMINGRESOTEORICO           float64\n",
       "NUMMINSALIENTEOFFNET_2M     float64\n",
       "NUMMINENTRANTEOFFNET_2M     float64\n",
       "NUMMINSALIENTEONNET_2M      float64\n",
       "NUMMINENTRANTEONNET_2M      float64\n",
       "NUMTRAFICOFACEBOOK_2M       float64\n",
       "NUMTRAFICOWHATSAPP_2M       float64\n",
       "NUMTRAFICOYOUTUBE_2M        float64\n",
       "NUMTRAFICOSPOTIFY_2M        float64\n",
       "NUMTRAFICOSOUNDCLOUD_2M     float64\n",
       "NUMTRAFICOAPPLEMUSIC_2M     float64\n",
       "NUMTRAFICOINSTAGRAM_2M      float64\n",
       "NUMTRAFICOMAILILIMITADO_2M  float64\n",
       "NUMTRAFICONETFLIX_2M        float64\n",
       "NUMTRAFICOPAGADO_2M         float64\n",
       "NUMTRAFICOTOTAL_2M          float64\n",
       "NUMMINSALIENTEOFFNET_1M     float64\n",
       "NUMMINENTRANTEOFFNET_1M     float64"
      ]
     },
     "execution_count": 9,
     "metadata": {},
     "output_type": "execute_result"
    }
   ],
   "source": [
    "pd.DataFrame(df_data.dtypes[df_data.dtypes=='float64']).head(20)"
   ]
  },
  {
   "cell_type": "code",
   "execution_count": 10,
   "metadata": {},
   "outputs": [
    {
     "data": {
      "text/html": [
       "<div>\n",
       "<style scoped>\n",
       "    .dataframe tbody tr th:only-of-type {\n",
       "        vertical-align: middle;\n",
       "    }\n",
       "\n",
       "    .dataframe tbody tr th {\n",
       "        vertical-align: top;\n",
       "    }\n",
       "\n",
       "    .dataframe thead th {\n",
       "        text-align: right;\n",
       "    }\n",
       "</style>\n",
       "<table border=\"1\" class=\"dataframe\">\n",
       "  <thead>\n",
       "    <tr style=\"text-align: right;\">\n",
       "      <th></th>\n",
       "      <th>0</th>\n",
       "    </tr>\n",
       "  </thead>\n",
       "  <tbody>\n",
       "    <tr>\n",
       "      <th>NUMPERIODO</th>\n",
       "      <td>int64</td>\n",
       "    </tr>\n",
       "    <tr>\n",
       "      <th>NUMCODCONTRATOBSCS</th>\n",
       "      <td>int64</td>\n",
       "    </tr>\n",
       "    <tr>\n",
       "      <th>VCHTELEFONO</th>\n",
       "      <td>int64</td>\n",
       "    </tr>\n",
       "    <tr>\n",
       "      <th>NUMMINUTOSENTRANTE_2M</th>\n",
       "      <td>int64</td>\n",
       "    </tr>\n",
       "    <tr>\n",
       "      <th>NUMMINUTOSALIENTE_2M</th>\n",
       "      <td>int64</td>\n",
       "    </tr>\n",
       "    <tr>\n",
       "      <th>NUMTRAFICOYOUTUBEPAGADO_2M</th>\n",
       "      <td>int64</td>\n",
       "    </tr>\n",
       "    <tr>\n",
       "      <th>NUMMINUTOSENTRANTE_1M</th>\n",
       "      <td>int64</td>\n",
       "    </tr>\n",
       "    <tr>\n",
       "      <th>NUMMINUTOSALIENTE_1M</th>\n",
       "      <td>int64</td>\n",
       "    </tr>\n",
       "    <tr>\n",
       "      <th>NUMTRAFICOYOUTUBEPAGADO_1M</th>\n",
       "      <td>int64</td>\n",
       "    </tr>\n",
       "    <tr>\n",
       "      <th>NUMTRAFICOAPPLEMUSIC_1M</th>\n",
       "      <td>int64</td>\n",
       "    </tr>\n",
       "    <tr>\n",
       "      <th>NUMMINUTOSALIENTE_M0</th>\n",
       "      <td>int64</td>\n",
       "    </tr>\n",
       "    <tr>\n",
       "      <th>NUMTRAFICOAPPLEMUSIC_M0</th>\n",
       "      <td>int64</td>\n",
       "    </tr>\n",
       "    <tr>\n",
       "      <th>NUMMINUTOSALIENTE_U2M</th>\n",
       "      <td>int64</td>\n",
       "    </tr>\n",
       "    <tr>\n",
       "      <th>NUMMINUTOSALIENTE_U3M</th>\n",
       "      <td>int64</td>\n",
       "    </tr>\n",
       "    <tr>\n",
       "      <th>MAX_NUMMINUTOSENTRANTE_U2M</th>\n",
       "      <td>int64</td>\n",
       "    </tr>\n",
       "    <tr>\n",
       "      <th>MAX_NUMMINUTOSALIENTE_U2M</th>\n",
       "      <td>int64</td>\n",
       "    </tr>\n",
       "    <tr>\n",
       "      <th>MAX_NUMMINUTOSENTRANTE_U3M</th>\n",
       "      <td>int64</td>\n",
       "    </tr>\n",
       "    <tr>\n",
       "      <th>MAX_NUMMINUTOSALIENTE_U3M</th>\n",
       "      <td>int64</td>\n",
       "    </tr>\n",
       "    <tr>\n",
       "      <th>MIN_NUMMINUTOSENTRANTE_U2M</th>\n",
       "      <td>int64</td>\n",
       "    </tr>\n",
       "    <tr>\n",
       "      <th>MIN_NUMMINUTOSALIENTE_U2M</th>\n",
       "      <td>int64</td>\n",
       "    </tr>\n",
       "  </tbody>\n",
       "</table>\n",
       "</div>"
      ],
      "text/plain": [
       "                                0\n",
       "NUMPERIODO                  int64\n",
       "NUMCODCONTRATOBSCS          int64\n",
       "VCHTELEFONO                 int64\n",
       "NUMMINUTOSENTRANTE_2M       int64\n",
       "NUMMINUTOSALIENTE_2M        int64\n",
       "NUMTRAFICOYOUTUBEPAGADO_2M  int64\n",
       "NUMMINUTOSENTRANTE_1M       int64\n",
       "NUMMINUTOSALIENTE_1M        int64\n",
       "NUMTRAFICOYOUTUBEPAGADO_1M  int64\n",
       "NUMTRAFICOAPPLEMUSIC_1M     int64\n",
       "NUMMINUTOSALIENTE_M0        int64\n",
       "NUMTRAFICOAPPLEMUSIC_M0     int64\n",
       "NUMMINUTOSALIENTE_U2M       int64\n",
       "NUMMINUTOSALIENTE_U3M       int64\n",
       "MAX_NUMMINUTOSENTRANTE_U2M  int64\n",
       "MAX_NUMMINUTOSALIENTE_U2M   int64\n",
       "MAX_NUMMINUTOSENTRANTE_U3M  int64\n",
       "MAX_NUMMINUTOSALIENTE_U3M   int64\n",
       "MIN_NUMMINUTOSENTRANTE_U2M  int64\n",
       "MIN_NUMMINUTOSALIENTE_U2M   int64"
      ]
     },
     "execution_count": 10,
     "metadata": {},
     "output_type": "execute_result"
    }
   ],
   "source": [
    "pd.DataFrame(df_data.dtypes[df_data.dtypes=='int64']).head(20)"
   ]
  },
  {
   "cell_type": "code",
   "execution_count": 11,
   "metadata": {},
   "outputs": [
    {
     "data": {
      "text/html": [
       "<div>\n",
       "<style scoped>\n",
       "    .dataframe tbody tr th:only-of-type {\n",
       "        vertical-align: middle;\n",
       "    }\n",
       "\n",
       "    .dataframe tbody tr th {\n",
       "        vertical-align: top;\n",
       "    }\n",
       "\n",
       "    .dataframe thead th {\n",
       "        text-align: right;\n",
       "    }\n",
       "</style>\n",
       "<table border=\"1\" class=\"dataframe\">\n",
       "  <thead>\n",
       "    <tr style=\"text-align: right;\">\n",
       "      <th></th>\n",
       "      <th>0</th>\n",
       "    </tr>\n",
       "  </thead>\n",
       "  <tbody>\n",
       "    <tr>\n",
       "      <th>VCHPACKCHIP</th>\n",
       "      <td>object</td>\n",
       "    </tr>\n",
       "    <tr>\n",
       "      <th>VCHRANGO_RENTA</th>\n",
       "      <td>object</td>\n",
       "    </tr>\n",
       "    <tr>\n",
       "      <th>VCHFAMILIA_PLAN</th>\n",
       "      <td>object</td>\n",
       "    </tr>\n",
       "  </tbody>\n",
       "</table>\n",
       "</div>"
      ],
      "text/plain": [
       "                      0\n",
       "VCHPACKCHIP      object\n",
       "VCHRANGO_RENTA   object\n",
       "VCHFAMILIA_PLAN  object"
      ]
     },
     "execution_count": 11,
     "metadata": {},
     "output_type": "execute_result"
    }
   ],
   "source": [
    "pd.DataFrame(df_data.dtypes[df_data.dtypes=='object'])"
   ]
  },
  {
   "cell_type": "code",
   "execution_count": 12,
   "metadata": {},
   "outputs": [
    {
     "data": {
      "text/plain": [
       "PACK    510\n",
       "SIM     239\n",
       "Name: VCHPACKCHIP, dtype: int64"
      ]
     },
     "execution_count": 12,
     "metadata": {},
     "output_type": "execute_result"
    }
   ],
   "source": [
    "df_data['VCHPACKCHIP'].value_counts()"
   ]
  },
  {
   "cell_type": "code",
   "execution_count": 13,
   "metadata": {},
   "outputs": [
    {
     "data": {
      "text/plain": [
       "Media    468\n",
       "Baja     239\n",
       "Alta      42\n",
       "Name: VCHRANGO_RENTA, dtype: int64"
      ]
     },
     "execution_count": 13,
     "metadata": {},
     "output_type": "execute_result"
    }
   ],
   "source": [
    "df_data['VCHRANGO_RENTA'].value_counts()"
   ]
  },
  {
   "cell_type": "code",
   "execution_count": 14,
   "metadata": {},
   "outputs": [
    {
     "data": {
      "text/plain": [
       "Control Negocio    747\n",
       "Empresa Plus         2\n",
       "Name: VCHFAMILIA_PLAN, dtype: int64"
      ]
     },
     "execution_count": 14,
     "metadata": {},
     "output_type": "execute_result"
    }
   ],
   "source": [
    "df_data['VCHFAMILIA_PLAN'].value_counts()"
   ]
  },
  {
   "cell_type": "code",
   "execution_count": 15,
   "metadata": {},
   "outputs": [
    {
     "data": {
      "text/plain": [
       "(62.556, 72.61]       0.145527\n",
       "(32.394, 42.448]      0.132176\n",
       "(82.664, 92.718]      0.109479\n",
       "(22.34, 32.394]       0.042724\n",
       "(42.448, 52.502]      0.041389\n",
       "(72.61, 82.664]       0.024032\n",
       "(112.826, 122.88]     0.022697\n",
       "(52.502, 62.556]      0.012016\n",
       "(12.175, 22.34]       0.008011\n",
       "(102.772, 112.826]    0.001335\n",
       "(92.718, 102.772]     0.000000\n",
       "Name: NUMINGRESOTEORICO, dtype: float64"
      ]
     },
     "execution_count": 15,
     "metadata": {},
     "output_type": "execute_result"
    }
   ],
   "source": [
    "df_data['NUMINGRESOTEORICO'].value_counts(bins=11,normalize=True)"
   ]
  },
  {
   "cell_type": "markdown",
   "metadata": {},
   "source": [
    "### procesando los datos NUMINGRESOTEORICO"
   ]
  },
  {
   "cell_type": "code",
   "execution_count": 16,
   "metadata": {},
   "outputs": [
    {
     "name": "stdout",
     "output_type": "stream",
     "text": [
      "mean con NaN ->  61.954822029702875\n",
      "mean sin NaN ->  61.954822029702875\n",
      "minimo con NaN ->  12.2863\n",
      "minimo sin NaN ->  12.2863\n"
     ]
    }
   ],
   "source": [
    "## procesando los datos NUMINGRESOTEORICO\n",
    "data_temp1 = df_data['NUMINGRESOTEORICO'].copy()\n",
    "data_temp2 = df_data['NUMINGRESOTEORICO'].copy()\n",
    "print(\"mean con NaN -> \",data_temp1.mean())\n",
    "print(\"mean sin NaN -> \",data_temp1[data_temp1.notnull()].mean())\n",
    "\n",
    "print(\"minimo con NaN -> \",data_temp1.min())\n",
    "print(\"minimo sin NaN -> \",data_temp1[data_temp1.notnull()].min())"
   ]
  },
  {
   "cell_type": "code",
   "execution_count": 17,
   "metadata": {},
   "outputs": [],
   "source": [
    "values = data_temp1[data_temp1.notnull()].value_counts().keys().tolist()\n",
    "counts = data_temp1[data_temp1.notnull()].value_counts().tolist()"
   ]
  },
  {
   "cell_type": "code",
   "execution_count": 18,
   "metadata": {},
   "outputs": [
    {
     "data": {
      "text/plain": [
       "[76, 69, 51, 32, 28, 21, 18, 17, 15, 13]"
      ]
     },
     "execution_count": 18,
     "metadata": {},
     "output_type": "execute_result"
    }
   ],
   "source": [
    "counts[:10]"
   ]
  },
  {
   "cell_type": "code",
   "execution_count": 19,
   "metadata": {},
   "outputs": [
    {
     "name": "stderr",
     "output_type": "stream",
     "text": [
      "C:\\Users\\mmejia\\AppData\\Local\\Continuum\\anaconda3\\lib\\site-packages\\scipy\\stats\\stats.py:1713: FutureWarning: Using a non-tuple sequence for multidimensional indexing is deprecated; use `arr[tuple(seq)]` instead of `arr[seq]`. In the future this will be interpreted as an array index, `arr[np.array(seq)]`, which will result either in an error or a different result.\n",
      "  return np.add.reduce(sorted[indexer] * weights, axis=axis) / sumval\n"
     ]
    },
    {
     "data": {
      "text/plain": [
       "<matplotlib.axes._subplots.AxesSubplot at 0x28fb4f1e940>"
      ]
     },
     "execution_count": 19,
     "metadata": {},
     "output_type": "execute_result"
    },
    {
     "data": {
      "image/png": "[encoded data removed]",
      "text/plain": [
       "<Figure size 432x288 with 1 Axes>"
      ]
     },
     "metadata": {
      "needs_background": "light"
     },
     "output_type": "display_data"
    }
   ],
   "source": [
    "sns.distplot(data_temp1[data_temp1.notnull()].value_counts())"
   ]
  },
  {
   "cell_type": "code",
   "execution_count": 20,
   "metadata": {},
   "outputs": [],
   "source": [
    "values = data_temp1[data_temp1].value_counts().keys().tolist()\n",
    "counts = data_temp1[data_temp1].value_counts().tolist()"
   ]
  },
  {
   "cell_type": "code",
   "execution_count": 21,
   "metadata": {},
   "outputs": [
    {
     "data": {
      "text/plain": [
       "<seaborn.axisgrid.PairGrid at 0x28fb52bd128>"
      ]
     },
     "execution_count": 21,
     "metadata": {},
     "output_type": "execute_result"
    },
    {
     "data": {
      "image/png": "[encoded data removed]",
      "text/plain": [
       "<Figure size 180x180 with 2 Axes>"
      ]
     },
     "metadata": {
      "needs_background": "light"
     },
     "output_type": "display_data"
    }
   ],
   "source": [
    "a = pd.DataFrame(data_temp1.value_counts())\n",
    "b=a.index.values\n",
    "b.sort()\n",
    "sns.pairplot(pd.DataFrame(b))\n",
    "#a['NUMINGRESOTEORICO'].values_counts(bins=5,normalize=True)"
   ]
  },
  {
   "cell_type": "code",
   "execution_count": 22,
   "metadata": {},
   "outputs": [],
   "source": [
    "#print(data_temp1.head())\n",
    "#print(data_temp1.notnull()*1)"
   ]
  },
  {
   "cell_type": "code",
   "execution_count": null,
   "metadata": {},
   "outputs": [],
   "source": []
  },
  {
   "cell_type": "code",
   "execution_count": 23,
   "metadata": {},
   "outputs": [
    {
     "data": {
      "text/plain": [
       "0    66.9492\n",
       "dtype: float64"
      ]
     },
     "execution_count": 23,
     "metadata": {},
     "output_type": "execute_result"
    }
   ],
   "source": [
    "data_temp2 = df_data['NUMINGRESOTEORICO'].copy()\n",
    "data_temp2[data_temp2.notnull()].mode()"
   ]
  },
  {
   "cell_type": "markdown",
   "metadata": {},
   "source": [
    "### Exceptuando columnas"
   ]
  },
  {
   "cell_type": "code",
   "execution_count": 24,
   "metadata": {},
   "outputs": [],
   "source": [
    "columns_exec = []\n",
    "columns_exec.append('NUMINGRESOTEORICO')\n",
    "columns_exec.append('VCHFAMILIA_PLAN')\n",
    "columns_exec.append('NUMPERIODO')\n",
    "columns_exec.append('VCHTELEFONO')\n",
    "columns_exec.append('ANT_CLIENTE')\n",
    "columns_exec.append('FLG_RECARGA')\n",
    "columns_exec.append('VCHPACKCHIP')\n",
    "columns_exec.append('VCHRANGO_RENTA')\n"
   ]
  },
  {
   "cell_type": "code",
   "execution_count": 25,
   "metadata": {},
   "outputs": [
    {
     "data": {
      "text/html": [
       "<div>\n",
       "<style scoped>\n",
       "    .dataframe tbody tr th:only-of-type {\n",
       "        vertical-align: middle;\n",
       "    }\n",
       "\n",
       "    .dataframe tbody tr th {\n",
       "        vertical-align: top;\n",
       "    }\n",
       "\n",
       "    .dataframe thead th {\n",
       "        text-align: right;\n",
       "    }\n",
       "</style>\n",
       "<table border=\"1\" class=\"dataframe\">\n",
       "  <thead>\n",
       "    <tr style=\"text-align: right;\">\n",
       "      <th></th>\n",
       "      <th>NUMPERIODO</th>\n",
       "      <th>NUMCODCONTRATOBSCS</th>\n",
       "      <th>VCHTELEFONO</th>\n",
       "      <th>ANT_CLIENTE</th>\n",
       "      <th>NUMRENTABASICA</th>\n",
       "      <th>VCHPACKCHIP</th>\n",
       "      <th>NUMINGRESOTEORICO</th>\n",
       "      <th>NUMMINUTOSENTRANTE_2M</th>\n",
       "      <th>NUMMINUTOSALIENTE_2M</th>\n",
       "      <th>NUMMINSALIENTEOFFNET_2M</th>\n",
       "      <th>...</th>\n",
       "      <th>NUMMB</th>\n",
       "      <th>NUMMB_ADICIONAL</th>\n",
       "      <th>NUMKB_ADICIONAL</th>\n",
       "      <th>PCT_MB_ADICIONAL</th>\n",
       "      <th>PCT_USO_TRAFICOTOTAL_2M</th>\n",
       "      <th>PCT_USO_TRAFICOTOTAL_1M</th>\n",
       "      <th>PCT_USO_TRAFICOTOTAL_M0</th>\n",
       "      <th>PCT_USO_TRAFICOTOTAL_U3M</th>\n",
       "      <th>PCT_USO_TRAFICOTOTAL_U2M</th>\n",
       "      <th>FLG_RECARGA</th>\n",
       "    </tr>\n",
       "  </thead>\n",
       "  <tbody>\n",
       "    <tr>\n",
       "      <th>0</th>\n",
       "      <td>201804</td>\n",
       "      <td>38172100</td>\n",
       "      <td>51982603192</td>\n",
       "      <td>7.645161</td>\n",
       "      <td>41.525398</td>\n",
       "      <td>PACK</td>\n",
       "      <td>41.5254</td>\n",
       "      <td>151</td>\n",
       "      <td>596</td>\n",
       "      <td>590.9832</td>\n",
       "      <td>...</td>\n",
       "      <td>0</td>\n",
       "      <td>0</td>\n",
       "      <td>0.0</td>\n",
       "      <td>0</td>\n",
       "      <td>0.0</td>\n",
       "      <td>0.0</td>\n",
       "      <td>0.0</td>\n",
       "      <td>0.0</td>\n",
       "      <td>0.0</td>\n",
       "      <td>0</td>\n",
       "    </tr>\n",
       "    <tr>\n",
       "      <th>1</th>\n",
       "      <td>201804</td>\n",
       "      <td>9028333</td>\n",
       "      <td>51983661925</td>\n",
       "      <td>45.903226</td>\n",
       "      <td>122.879997</td>\n",
       "      <td>SIM</td>\n",
       "      <td>92.3700</td>\n",
       "      <td>54</td>\n",
       "      <td>410</td>\n",
       "      <td>327.9664</td>\n",
       "      <td>...</td>\n",
       "      <td>0</td>\n",
       "      <td>0</td>\n",
       "      <td>0.0</td>\n",
       "      <td>0</td>\n",
       "      <td>0.0</td>\n",
       "      <td>0.0</td>\n",
       "      <td>0.0</td>\n",
       "      <td>0.0</td>\n",
       "      <td>0.0</td>\n",
       "      <td>0</td>\n",
       "    </tr>\n",
       "    <tr>\n",
       "      <th>2</th>\n",
       "      <td>201805</td>\n",
       "      <td>34979663</td>\n",
       "      <td>51942976545</td>\n",
       "      <td>11.612903</td>\n",
       "      <td>66.949203</td>\n",
       "      <td>PACK</td>\n",
       "      <td>NaN</td>\n",
       "      <td>792</td>\n",
       "      <td>587</td>\n",
       "      <td>512.2667</td>\n",
       "      <td>...</td>\n",
       "      <td>0</td>\n",
       "      <td>0</td>\n",
       "      <td>0.0</td>\n",
       "      <td>0</td>\n",
       "      <td>0.0</td>\n",
       "      <td>0.0</td>\n",
       "      <td>0.0</td>\n",
       "      <td>0.0</td>\n",
       "      <td>0.0</td>\n",
       "      <td>0</td>\n",
       "    </tr>\n",
       "    <tr>\n",
       "      <th>3</th>\n",
       "      <td>201805</td>\n",
       "      <td>13670934</td>\n",
       "      <td>51958993810</td>\n",
       "      <td>32.838710</td>\n",
       "      <td>41.525398</td>\n",
       "      <td>PACK</td>\n",
       "      <td>NaN</td>\n",
       "      <td>170</td>\n",
       "      <td>144</td>\n",
       "      <td>100.5000</td>\n",
       "      <td>...</td>\n",
       "      <td>0</td>\n",
       "      <td>0</td>\n",
       "      <td>0.0</td>\n",
       "      <td>0</td>\n",
       "      <td>0.0</td>\n",
       "      <td>0.0</td>\n",
       "      <td>0.0</td>\n",
       "      <td>0.0</td>\n",
       "      <td>0.0</td>\n",
       "      <td>0</td>\n",
       "    </tr>\n",
       "    <tr>\n",
       "      <th>4</th>\n",
       "      <td>201804</td>\n",
       "      <td>16547229</td>\n",
       "      <td>51934098463</td>\n",
       "      <td>28.387097</td>\n",
       "      <td>62.711899</td>\n",
       "      <td>PACK</td>\n",
       "      <td>62.7119</td>\n",
       "      <td>219</td>\n",
       "      <td>784</td>\n",
       "      <td>745.2162</td>\n",
       "      <td>...</td>\n",
       "      <td>0</td>\n",
       "      <td>0</td>\n",
       "      <td>0.0</td>\n",
       "      <td>0</td>\n",
       "      <td>0.0</td>\n",
       "      <td>0.0</td>\n",
       "      <td>0.0</td>\n",
       "      <td>0.0</td>\n",
       "      <td>0.0</td>\n",
       "      <td>1</td>\n",
       "    </tr>\n",
       "  </tbody>\n",
       "</table>\n",
       "<p>5 rows × 357 columns</p>\n",
       "</div>"
      ],
      "text/plain": [
       "   NUMPERIODO  NUMCODCONTRATOBSCS  VCHTELEFONO  ANT_CLIENTE  NUMRENTABASICA  \\\n",
       "0      201804            38172100  51982603192     7.645161       41.525398   \n",
       "1      201804             9028333  51983661925    45.903226      122.879997   \n",
       "2      201805            34979663  51942976545    11.612903       66.949203   \n",
       "3      201805            13670934  51958993810    32.838710       41.525398   \n",
       "4      201804            16547229  51934098463    28.387097       62.711899   \n",
       "\n",
       "  VCHPACKCHIP  NUMINGRESOTEORICO  NUMMINUTOSENTRANTE_2M  NUMMINUTOSALIENTE_2M  \\\n",
       "0        PACK            41.5254                    151                   596   \n",
       "1         SIM            92.3700                     54                   410   \n",
       "2        PACK                NaN                    792                   587   \n",
       "3        PACK                NaN                    170                   144   \n",
       "4        PACK            62.7119                    219                   784   \n",
       "\n",
       "   NUMMINSALIENTEOFFNET_2M     ...       NUMMB  NUMMB_ADICIONAL  \\\n",
       "0                 590.9832     ...           0                0   \n",
       "1                 327.9664     ...           0                0   \n",
       "2                 512.2667     ...           0                0   \n",
       "3                 100.5000     ...           0                0   \n",
       "4                 745.2162     ...           0                0   \n",
       "\n",
       "   NUMKB_ADICIONAL  PCT_MB_ADICIONAL  PCT_USO_TRAFICOTOTAL_2M  \\\n",
       "0              0.0                 0                      0.0   \n",
       "1              0.0                 0                      0.0   \n",
       "2              0.0                 0                      0.0   \n",
       "3              0.0                 0                      0.0   \n",
       "4              0.0                 0                      0.0   \n",
       "\n",
       "   PCT_USO_TRAFICOTOTAL_1M  PCT_USO_TRAFICOTOTAL_M0  PCT_USO_TRAFICOTOTAL_U3M  \\\n",
       "0                      0.0                      0.0                       0.0   \n",
       "1                      0.0                      0.0                       0.0   \n",
       "2                      0.0                      0.0                       0.0   \n",
       "3                      0.0                      0.0                       0.0   \n",
       "4                      0.0                      0.0                       0.0   \n",
       "\n",
       "   PCT_USO_TRAFICOTOTAL_U2M  FLG_RECARGA  \n",
       "0                       0.0            0  \n",
       "1                       0.0            0  \n",
       "2                       0.0            0  \n",
       "3                       0.0            0  \n",
       "4                       0.0            1  \n",
       "\n",
       "[5 rows x 357 columns]"
      ]
     },
     "execution_count": 25,
     "metadata": {},
     "output_type": "execute_result"
    }
   ],
   "source": [
    "df_data.head()"
   ]
  },
  {
   "cell_type": "markdown",
   "metadata": {},
   "source": [
    "### CONVERSION DE VARIABLES"
   ]
  },
  {
   "cell_type": "code",
   "execution_count": 26,
   "metadata": {},
   "outputs": [],
   "source": [
    "df = df_data.copy()"
   ]
  },
  {
   "cell_type": "code",
   "execution_count": 27,
   "metadata": {},
   "outputs": [
    {
     "data": {
      "text/html": [
       "<div>\n",
       "<style scoped>\n",
       "    .dataframe tbody tr th:only-of-type {\n",
       "        vertical-align: middle;\n",
       "    }\n",
       "\n",
       "    .dataframe tbody tr th {\n",
       "        vertical-align: top;\n",
       "    }\n",
       "\n",
       "    .dataframe thead th {\n",
       "        text-align: right;\n",
       "    }\n",
       "</style>\n",
       "<table border=\"1\" class=\"dataframe\">\n",
       "  <thead>\n",
       "    <tr style=\"text-align: right;\">\n",
       "      <th></th>\n",
       "      <th>0</th>\n",
       "    </tr>\n",
       "  </thead>\n",
       "  <tbody>\n",
       "    <tr>\n",
       "      <th>VCHPACKCHIP</th>\n",
       "      <td>object</td>\n",
       "    </tr>\n",
       "    <tr>\n",
       "      <th>VCHRANGO_RENTA</th>\n",
       "      <td>object</td>\n",
       "    </tr>\n",
       "    <tr>\n",
       "      <th>VCHFAMILIA_PLAN</th>\n",
       "      <td>object</td>\n",
       "    </tr>\n",
       "  </tbody>\n",
       "</table>\n",
       "</div>"
      ],
      "text/plain": [
       "                      0\n",
       "VCHPACKCHIP      object\n",
       "VCHRANGO_RENTA   object\n",
       "VCHFAMILIA_PLAN  object"
      ]
     },
     "execution_count": 27,
     "metadata": {},
     "output_type": "execute_result"
    }
   ],
   "source": [
    "pd.DataFrame(df.dtypes[df.dtypes=='object'])"
   ]
  },
  {
   "cell_type": "code",
   "execution_count": 28,
   "metadata": {},
   "outputs": [
    {
     "data": {
      "text/plain": [
       "PACK    510\n",
       "SIM     239\n",
       "Name: VCHPACKCHIP, dtype: int64"
      ]
     },
     "execution_count": 28,
     "metadata": {},
     "output_type": "execute_result"
    }
   ],
   "source": [
    "df_data['VCHPACKCHIP'].value_counts()"
   ]
  },
  {
   "cell_type": "code",
   "execution_count": 29,
   "metadata": {},
   "outputs": [],
   "source": [
    "# VCHPACKCHIP\n",
    "dicc_VCHPACKCHIP = {'PACK':0,\n",
    "                   'SIM':0}\n",
    "df['VCHPACKCHIP'] = df['VCHPACKCHIP'].map(dicc_VCHPACKCHIP)"
   ]
  },
  {
   "cell_type": "code",
   "execution_count": 30,
   "metadata": {},
   "outputs": [],
   "source": [
    "# VCHRANGO_RENTA\n",
    "df_VCHRANGO_RENTA_dummies = pd.get_dummies(df['VCHRANGO_RENTA'],prefix='VCHRANGO_RENTA')"
   ]
  },
  {
   "cell_type": "code",
   "execution_count": 31,
   "metadata": {},
   "outputs": [],
   "source": [
    "# VCHFAMILIA_PLAN\n",
    "#########"
   ]
  },
  {
   "cell_type": "code",
   "execution_count": 32,
   "metadata": {},
   "outputs": [],
   "source": [
    "df = pd.concat([df,df_VCHRANGO_RENTA_dummies],axis=1)"
   ]
  },
  {
   "cell_type": "code",
   "execution_count": 33,
   "metadata": {},
   "outputs": [
    {
     "data": {
      "text/html": [
       "<div>\n",
       "<style scoped>\n",
       "    .dataframe tbody tr th:only-of-type {\n",
       "        vertical-align: middle;\n",
       "    }\n",
       "\n",
       "    .dataframe tbody tr th {\n",
       "        vertical-align: top;\n",
       "    }\n",
       "\n",
       "    .dataframe thead th {\n",
       "        text-align: right;\n",
       "    }\n",
       "</style>\n",
       "<table border=\"1\" class=\"dataframe\">\n",
       "  <thead>\n",
       "    <tr style=\"text-align: right;\">\n",
       "      <th></th>\n",
       "      <th>NUMPERIODO</th>\n",
       "      <th>NUMCODCONTRATOBSCS</th>\n",
       "      <th>VCHTELEFONO</th>\n",
       "      <th>ANT_CLIENTE</th>\n",
       "      <th>NUMRENTABASICA</th>\n",
       "      <th>VCHPACKCHIP</th>\n",
       "      <th>NUMINGRESOTEORICO</th>\n",
       "      <th>NUMMINUTOSENTRANTE_2M</th>\n",
       "      <th>NUMMINUTOSALIENTE_2M</th>\n",
       "      <th>NUMMINSALIENTEOFFNET_2M</th>\n",
       "      <th>...</th>\n",
       "      <th>PCT_MB_ADICIONAL</th>\n",
       "      <th>PCT_USO_TRAFICOTOTAL_2M</th>\n",
       "      <th>PCT_USO_TRAFICOTOTAL_1M</th>\n",
       "      <th>PCT_USO_TRAFICOTOTAL_M0</th>\n",
       "      <th>PCT_USO_TRAFICOTOTAL_U3M</th>\n",
       "      <th>PCT_USO_TRAFICOTOTAL_U2M</th>\n",
       "      <th>FLG_RECARGA</th>\n",
       "      <th>VCHRANGO_RENTA_Alta</th>\n",
       "      <th>VCHRANGO_RENTA_Baja</th>\n",
       "      <th>VCHRANGO_RENTA_Media</th>\n",
       "    </tr>\n",
       "  </thead>\n",
       "  <tbody>\n",
       "    <tr>\n",
       "      <th>0</th>\n",
       "      <td>201804</td>\n",
       "      <td>38172100</td>\n",
       "      <td>51982603192</td>\n",
       "      <td>7.645161</td>\n",
       "      <td>41.525398</td>\n",
       "      <td>0</td>\n",
       "      <td>41.5254</td>\n",
       "      <td>151</td>\n",
       "      <td>596</td>\n",
       "      <td>590.9832</td>\n",
       "      <td>...</td>\n",
       "      <td>0</td>\n",
       "      <td>0.0</td>\n",
       "      <td>0.0</td>\n",
       "      <td>0.0</td>\n",
       "      <td>0.0</td>\n",
       "      <td>0.0</td>\n",
       "      <td>0</td>\n",
       "      <td>0</td>\n",
       "      <td>1</td>\n",
       "      <td>0</td>\n",
       "    </tr>\n",
       "    <tr>\n",
       "      <th>1</th>\n",
       "      <td>201804</td>\n",
       "      <td>9028333</td>\n",
       "      <td>51983661925</td>\n",
       "      <td>45.903226</td>\n",
       "      <td>122.879997</td>\n",
       "      <td>0</td>\n",
       "      <td>92.3700</td>\n",
       "      <td>54</td>\n",
       "      <td>410</td>\n",
       "      <td>327.9664</td>\n",
       "      <td>...</td>\n",
       "      <td>0</td>\n",
       "      <td>0.0</td>\n",
       "      <td>0.0</td>\n",
       "      <td>0.0</td>\n",
       "      <td>0.0</td>\n",
       "      <td>0.0</td>\n",
       "      <td>0</td>\n",
       "      <td>1</td>\n",
       "      <td>0</td>\n",
       "      <td>0</td>\n",
       "    </tr>\n",
       "    <tr>\n",
       "      <th>2</th>\n",
       "      <td>201805</td>\n",
       "      <td>34979663</td>\n",
       "      <td>51942976545</td>\n",
       "      <td>11.612903</td>\n",
       "      <td>66.949203</td>\n",
       "      <td>0</td>\n",
       "      <td>NaN</td>\n",
       "      <td>792</td>\n",
       "      <td>587</td>\n",
       "      <td>512.2667</td>\n",
       "      <td>...</td>\n",
       "      <td>0</td>\n",
       "      <td>0.0</td>\n",
       "      <td>0.0</td>\n",
       "      <td>0.0</td>\n",
       "      <td>0.0</td>\n",
       "      <td>0.0</td>\n",
       "      <td>0</td>\n",
       "      <td>0</td>\n",
       "      <td>0</td>\n",
       "      <td>1</td>\n",
       "    </tr>\n",
       "    <tr>\n",
       "      <th>3</th>\n",
       "      <td>201805</td>\n",
       "      <td>13670934</td>\n",
       "      <td>51958993810</td>\n",
       "      <td>32.838710</td>\n",
       "      <td>41.525398</td>\n",
       "      <td>0</td>\n",
       "      <td>NaN</td>\n",
       "      <td>170</td>\n",
       "      <td>144</td>\n",
       "      <td>100.5000</td>\n",
       "      <td>...</td>\n",
       "      <td>0</td>\n",
       "      <td>0.0</td>\n",
       "      <td>0.0</td>\n",
       "      <td>0.0</td>\n",
       "      <td>0.0</td>\n",
       "      <td>0.0</td>\n",
       "      <td>0</td>\n",
       "      <td>0</td>\n",
       "      <td>1</td>\n",
       "      <td>0</td>\n",
       "    </tr>\n",
       "    <tr>\n",
       "      <th>4</th>\n",
       "      <td>201804</td>\n",
       "      <td>16547229</td>\n",
       "      <td>51934098463</td>\n",
       "      <td>28.387097</td>\n",
       "      <td>62.711899</td>\n",
       "      <td>0</td>\n",
       "      <td>62.7119</td>\n",
       "      <td>219</td>\n",
       "      <td>784</td>\n",
       "      <td>745.2162</td>\n",
       "      <td>...</td>\n",
       "      <td>0</td>\n",
       "      <td>0.0</td>\n",
       "      <td>0.0</td>\n",
       "      <td>0.0</td>\n",
       "      <td>0.0</td>\n",
       "      <td>0.0</td>\n",
       "      <td>1</td>\n",
       "      <td>0</td>\n",
       "      <td>0</td>\n",
       "      <td>1</td>\n",
       "    </tr>\n",
       "  </tbody>\n",
       "</table>\n",
       "<p>5 rows × 360 columns</p>\n",
       "</div>"
      ],
      "text/plain": [
       "   NUMPERIODO  NUMCODCONTRATOBSCS  VCHTELEFONO  ANT_CLIENTE  NUMRENTABASICA  \\\n",
       "0      201804            38172100  51982603192     7.645161       41.525398   \n",
       "1      201804             9028333  51983661925    45.903226      122.879997   \n",
       "2      201805            34979663  51942976545    11.612903       66.949203   \n",
       "3      201805            13670934  51958993810    32.838710       41.525398   \n",
       "4      201804            16547229  51934098463    28.387097       62.711899   \n",
       "\n",
       "   VCHPACKCHIP  NUMINGRESOTEORICO  NUMMINUTOSENTRANTE_2M  \\\n",
       "0            0            41.5254                    151   \n",
       "1            0            92.3700                     54   \n",
       "2            0                NaN                    792   \n",
       "3            0                NaN                    170   \n",
       "4            0            62.7119                    219   \n",
       "\n",
       "   NUMMINUTOSALIENTE_2M  NUMMINSALIENTEOFFNET_2M          ...           \\\n",
       "0                   596                 590.9832          ...            \n",
       "1                   410                 327.9664          ...            \n",
       "2                   587                 512.2667          ...            \n",
       "3                   144                 100.5000          ...            \n",
       "4                   784                 745.2162          ...            \n",
       "\n",
       "   PCT_MB_ADICIONAL  PCT_USO_TRAFICOTOTAL_2M  PCT_USO_TRAFICOTOTAL_1M  \\\n",
       "0                 0                      0.0                      0.0   \n",
       "1                 0                      0.0                      0.0   \n",
       "2                 0                      0.0                      0.0   \n",
       "3                 0                      0.0                      0.0   \n",
       "4                 0                      0.0                      0.0   \n",
       "\n",
       "   PCT_USO_TRAFICOTOTAL_M0  PCT_USO_TRAFICOTOTAL_U3M  \\\n",
       "0                      0.0                       0.0   \n",
       "1                      0.0                       0.0   \n",
       "2                      0.0                       0.0   \n",
       "3                      0.0                       0.0   \n",
       "4                      0.0                       0.0   \n",
       "\n",
       "   PCT_USO_TRAFICOTOTAL_U2M  FLG_RECARGA  VCHRANGO_RENTA_Alta  \\\n",
       "0                       0.0            0                    0   \n",
       "1                       0.0            0                    1   \n",
       "2                       0.0            0                    0   \n",
       "3                       0.0            0                    0   \n",
       "4                       0.0            1                    0   \n",
       "\n",
       "   VCHRANGO_RENTA_Baja  VCHRANGO_RENTA_Media  \n",
       "0                    1                     0  \n",
       "1                    0                     0  \n",
       "2                    0                     1  \n",
       "3                    1                     0  \n",
       "4                    0                     1  \n",
       "\n",
       "[5 rows x 360 columns]"
      ]
     },
     "execution_count": 33,
     "metadata": {},
     "output_type": "execute_result"
    }
   ],
   "source": [
    "df.head()"
   ]
  },
  {
   "cell_type": "code",
   "execution_count": 34,
   "metadata": {},
   "outputs": [],
   "source": [
    "x_data = df.drop(columns=columns_exec)"
   ]
  },
  {
   "cell_type": "code",
   "execution_count": 35,
   "metadata": {},
   "outputs": [
    {
     "data": {
      "text/html": [
       "<div>\n",
       "<style scoped>\n",
       "    .dataframe tbody tr th:only-of-type {\n",
       "        vertical-align: middle;\n",
       "    }\n",
       "\n",
       "    .dataframe tbody tr th {\n",
       "        vertical-align: top;\n",
       "    }\n",
       "\n",
       "    .dataframe thead th {\n",
       "        text-align: right;\n",
       "    }\n",
       "</style>\n",
       "<table border=\"1\" class=\"dataframe\">\n",
       "  <thead>\n",
       "    <tr style=\"text-align: right;\">\n",
       "      <th></th>\n",
       "      <th>NUMCODCONTRATOBSCS</th>\n",
       "      <th>NUMRENTABASICA</th>\n",
       "      <th>NUMMINUTOSENTRANTE_2M</th>\n",
       "      <th>NUMMINUTOSALIENTE_2M</th>\n",
       "      <th>NUMMINSALIENTEOFFNET_2M</th>\n",
       "      <th>NUMMINENTRANTEOFFNET_2M</th>\n",
       "      <th>NUMMINSALIENTEONNET_2M</th>\n",
       "      <th>NUMMINENTRANTEONNET_2M</th>\n",
       "      <th>NUMTRAFICOFACEBOOK_2M</th>\n",
       "      <th>NUMTRAFICOWHATSAPP_2M</th>\n",
       "      <th>...</th>\n",
       "      <th>NUMKB_ADICIONAL</th>\n",
       "      <th>PCT_MB_ADICIONAL</th>\n",
       "      <th>PCT_USO_TRAFICOTOTAL_2M</th>\n",
       "      <th>PCT_USO_TRAFICOTOTAL_1M</th>\n",
       "      <th>PCT_USO_TRAFICOTOTAL_M0</th>\n",
       "      <th>PCT_USO_TRAFICOTOTAL_U3M</th>\n",
       "      <th>PCT_USO_TRAFICOTOTAL_U2M</th>\n",
       "      <th>VCHRANGO_RENTA_Alta</th>\n",
       "      <th>VCHRANGO_RENTA_Baja</th>\n",
       "      <th>VCHRANGO_RENTA_Media</th>\n",
       "    </tr>\n",
       "  </thead>\n",
       "  <tbody>\n",
       "    <tr>\n",
       "      <th>0</th>\n",
       "      <td>38172100</td>\n",
       "      <td>41.525398</td>\n",
       "      <td>151</td>\n",
       "      <td>596</td>\n",
       "      <td>590.9832</td>\n",
       "      <td>155.5999</td>\n",
       "      <td>5.0168</td>\n",
       "      <td>0.0000</td>\n",
       "      <td>52.437877</td>\n",
       "      <td>291.387089</td>\n",
       "      <td>...</td>\n",
       "      <td>0.0</td>\n",
       "      <td>0</td>\n",
       "      <td>0.0</td>\n",
       "      <td>0.0</td>\n",
       "      <td>0.0</td>\n",
       "      <td>0.0</td>\n",
       "      <td>0.0</td>\n",
       "      <td>0</td>\n",
       "      <td>1</td>\n",
       "      <td>0</td>\n",
       "    </tr>\n",
       "    <tr>\n",
       "      <th>1</th>\n",
       "      <td>9028333</td>\n",
       "      <td>122.879997</td>\n",
       "      <td>54</td>\n",
       "      <td>410</td>\n",
       "      <td>327.9664</td>\n",
       "      <td>14.1669</td>\n",
       "      <td>82.0336</td>\n",
       "      <td>39.8331</td>\n",
       "      <td>33.883530</td>\n",
       "      <td>106.631694</td>\n",
       "      <td>...</td>\n",
       "      <td>0.0</td>\n",
       "      <td>0</td>\n",
       "      <td>0.0</td>\n",
       "      <td>0.0</td>\n",
       "      <td>0.0</td>\n",
       "      <td>0.0</td>\n",
       "      <td>0.0</td>\n",
       "      <td>1</td>\n",
       "      <td>0</td>\n",
       "      <td>0</td>\n",
       "    </tr>\n",
       "    <tr>\n",
       "      <th>2</th>\n",
       "      <td>34979663</td>\n",
       "      <td>66.949203</td>\n",
       "      <td>792</td>\n",
       "      <td>587</td>\n",
       "      <td>512.2667</td>\n",
       "      <td>657.4498</td>\n",
       "      <td>74.7333</td>\n",
       "      <td>134.5502</td>\n",
       "      <td>106.086946</td>\n",
       "      <td>366.092574</td>\n",
       "      <td>...</td>\n",
       "      <td>0.0</td>\n",
       "      <td>0</td>\n",
       "      <td>0.0</td>\n",
       "      <td>0.0</td>\n",
       "      <td>0.0</td>\n",
       "      <td>0.0</td>\n",
       "      <td>0.0</td>\n",
       "      <td>0</td>\n",
       "      <td>0</td>\n",
       "      <td>1</td>\n",
       "    </tr>\n",
       "    <tr>\n",
       "      <th>3</th>\n",
       "      <td>13670934</td>\n",
       "      <td>41.525398</td>\n",
       "      <td>170</td>\n",
       "      <td>144</td>\n",
       "      <td>100.5000</td>\n",
       "      <td>122.3668</td>\n",
       "      <td>43.5000</td>\n",
       "      <td>47.6332</td>\n",
       "      <td>47.410069</td>\n",
       "      <td>739.959649</td>\n",
       "      <td>...</td>\n",
       "      <td>0.0</td>\n",
       "      <td>0</td>\n",
       "      <td>0.0</td>\n",
       "      <td>0.0</td>\n",
       "      <td>0.0</td>\n",
       "      <td>0.0</td>\n",
       "      <td>0.0</td>\n",
       "      <td>0</td>\n",
       "      <td>1</td>\n",
       "      <td>0</td>\n",
       "    </tr>\n",
       "    <tr>\n",
       "      <th>4</th>\n",
       "      <td>16547229</td>\n",
       "      <td>62.711899</td>\n",
       "      <td>219</td>\n",
       "      <td>784</td>\n",
       "      <td>745.2162</td>\n",
       "      <td>193.3838</td>\n",
       "      <td>38.7838</td>\n",
       "      <td>25.6162</td>\n",
       "      <td>237.011286</td>\n",
       "      <td>1114.929423</td>\n",
       "      <td>...</td>\n",
       "      <td>0.0</td>\n",
       "      <td>0</td>\n",
       "      <td>0.0</td>\n",
       "      <td>0.0</td>\n",
       "      <td>0.0</td>\n",
       "      <td>0.0</td>\n",
       "      <td>0.0</td>\n",
       "      <td>0</td>\n",
       "      <td>0</td>\n",
       "      <td>1</td>\n",
       "    </tr>\n",
       "  </tbody>\n",
       "</table>\n",
       "<p>5 rows × 352 columns</p>\n",
       "</div>"
      ],
      "text/plain": [
       "   NUMCODCONTRATOBSCS  NUMRENTABASICA  NUMMINUTOSENTRANTE_2M  \\\n",
       "0            38172100       41.525398                    151   \n",
       "1             9028333      122.879997                     54   \n",
       "2            34979663       66.949203                    792   \n",
       "3            13670934       41.525398                    170   \n",
       "4            16547229       62.711899                    219   \n",
       "\n",
       "   NUMMINUTOSALIENTE_2M  NUMMINSALIENTEOFFNET_2M  NUMMINENTRANTEOFFNET_2M  \\\n",
       "0                   596                 590.9832                 155.5999   \n",
       "1                   410                 327.9664                  14.1669   \n",
       "2                   587                 512.2667                 657.4498   \n",
       "3                   144                 100.5000                 122.3668   \n",
       "4                   784                 745.2162                 193.3838   \n",
       "\n",
       "   NUMMINSALIENTEONNET_2M  NUMMINENTRANTEONNET_2M  NUMTRAFICOFACEBOOK_2M  \\\n",
       "0                  5.0168                  0.0000              52.437877   \n",
       "1                 82.0336                 39.8331              33.883530   \n",
       "2                 74.7333                134.5502             106.086946   \n",
       "3                 43.5000                 47.6332              47.410069   \n",
       "4                 38.7838                 25.6162             237.011286   \n",
       "\n",
       "   NUMTRAFICOWHATSAPP_2M          ...           NUMKB_ADICIONAL  \\\n",
       "0             291.387089          ...                       0.0   \n",
       "1             106.631694          ...                       0.0   \n",
       "2             366.092574          ...                       0.0   \n",
       "3             739.959649          ...                       0.0   \n",
       "4            1114.929423          ...                       0.0   \n",
       "\n",
       "   PCT_MB_ADICIONAL  PCT_USO_TRAFICOTOTAL_2M  PCT_USO_TRAFICOTOTAL_1M  \\\n",
       "0                 0                      0.0                      0.0   \n",
       "1                 0                      0.0                      0.0   \n",
       "2                 0                      0.0                      0.0   \n",
       "3                 0                      0.0                      0.0   \n",
       "4                 0                      0.0                      0.0   \n",
       "\n",
       "   PCT_USO_TRAFICOTOTAL_M0  PCT_USO_TRAFICOTOTAL_U3M  \\\n",
       "0                      0.0                       0.0   \n",
       "1                      0.0                       0.0   \n",
       "2                      0.0                       0.0   \n",
       "3                      0.0                       0.0   \n",
       "4                      0.0                       0.0   \n",
       "\n",
       "   PCT_USO_TRAFICOTOTAL_U2M  VCHRANGO_RENTA_Alta  VCHRANGO_RENTA_Baja  \\\n",
       "0                       0.0                    0                    1   \n",
       "1                       0.0                    1                    0   \n",
       "2                       0.0                    0                    0   \n",
       "3                       0.0                    0                    1   \n",
       "4                       0.0                    0                    0   \n",
       "\n",
       "   VCHRANGO_RENTA_Media  \n",
       "0                     0  \n",
       "1                     0  \n",
       "2                     1  \n",
       "3                     0  \n",
       "4                     1  \n",
       "\n",
       "[5 rows x 352 columns]"
      ]
     },
     "execution_count": 35,
     "metadata": {},
     "output_type": "execute_result"
    }
   ],
   "source": [
    "x_data.head()"
   ]
  },
  {
   "cell_type": "code",
   "execution_count": 36,
   "metadata": {},
   "outputs": [],
   "source": [
    "y_data = df['FLG_RECARGA']"
   ]
  },
  {
   "cell_type": "code",
   "execution_count": 37,
   "metadata": {},
   "outputs": [
    {
     "name": "stderr",
     "output_type": "stream",
     "text": [
      "C:\\Users\\mmejia\\AppData\\Local\\Continuum\\anaconda3\\lib\\site-packages\\sklearn\\cross_validation.py:41: DeprecationWarning: This module was deprecated in version 0.18 in favor of the model_selection module into which all the refactored classes and functions are moved. Also note that the interface of the new CV iterators are different from that of this module. This module will be removed in 0.20.\n",
      "  \"This module will be removed in 0.20.\", DeprecationWarning)\n"
     ]
    }
   ],
   "source": [
    "from sklearn.cross_validation import train_test_split"
   ]
  },
  {
   "cell_type": "code",
   "execution_count": 64,
   "metadata": {},
   "outputs": [],
   "source": [
    "X_train, X_test, y_train, y_test = train_test_split(x_data,y_data,train_size=0.60,random_state=50)"
   ]
  },
  {
   "cell_type": "code",
   "execution_count": 65,
   "metadata": {},
   "outputs": [],
   "source": [
    "X_train.reset_index(inplace=True,drop=True)\n",
    "X_test.reset_index(inplace=True,drop=True)\n",
    "y_train.reset_index(inplace=True,drop=True)\n",
    "y_test.reset_index(inplace=True,drop=True)"
   ]
  },
  {
   "cell_type": "markdown",
   "metadata": {},
   "source": [
    "## Scaling"
   ]
  },
  {
   "cell_type": "code",
   "execution_count": 66,
   "metadata": {},
   "outputs": [
    {
     "data": {
      "text/html": [
       "<div>\n",
       "<style scoped>\n",
       "    .dataframe tbody tr th:only-of-type {\n",
       "        vertical-align: middle;\n",
       "    }\n",
       "\n",
       "    .dataframe tbody tr th {\n",
       "        vertical-align: top;\n",
       "    }\n",
       "\n",
       "    .dataframe thead th {\n",
       "        text-align: right;\n",
       "    }\n",
       "</style>\n",
       "<table border=\"1\" class=\"dataframe\">\n",
       "  <thead>\n",
       "    <tr style=\"text-align: right;\">\n",
       "      <th></th>\n",
       "      <th>NUMCODCONTRATOBSCS</th>\n",
       "      <th>NUMRENTABASICA</th>\n",
       "      <th>NUMMINUTOSENTRANTE_2M</th>\n",
       "      <th>NUMMINUTOSALIENTE_2M</th>\n",
       "      <th>NUMMINSALIENTEOFFNET_2M</th>\n",
       "      <th>NUMMINENTRANTEOFFNET_2M</th>\n",
       "      <th>NUMMINSALIENTEONNET_2M</th>\n",
       "      <th>NUMMINENTRANTEONNET_2M</th>\n",
       "      <th>NUMTRAFICOFACEBOOK_2M</th>\n",
       "      <th>NUMTRAFICOWHATSAPP_2M</th>\n",
       "      <th>...</th>\n",
       "      <th>NUMKB_ADICIONAL</th>\n",
       "      <th>PCT_MB_ADICIONAL</th>\n",
       "      <th>PCT_USO_TRAFICOTOTAL_2M</th>\n",
       "      <th>PCT_USO_TRAFICOTOTAL_1M</th>\n",
       "      <th>PCT_USO_TRAFICOTOTAL_M0</th>\n",
       "      <th>PCT_USO_TRAFICOTOTAL_U3M</th>\n",
       "      <th>PCT_USO_TRAFICOTOTAL_U2M</th>\n",
       "      <th>VCHRANGO_RENTA_Alta</th>\n",
       "      <th>VCHRANGO_RENTA_Baja</th>\n",
       "      <th>VCHRANGO_RENTA_Media</th>\n",
       "    </tr>\n",
       "  </thead>\n",
       "  <tbody>\n",
       "    <tr>\n",
       "      <th>0</th>\n",
       "      <td>39309279</td>\n",
       "      <td>38.135601</td>\n",
       "      <td>48</td>\n",
       "      <td>59</td>\n",
       "      <td>58.8331</td>\n",
       "      <td>44.7000</td>\n",
       "      <td>0.1669</td>\n",
       "      <td>3.3000</td>\n",
       "      <td>843.076318</td>\n",
       "      <td>627.968464</td>\n",
       "      <td>...</td>\n",
       "      <td>0.0</td>\n",
       "      <td>0</td>\n",
       "      <td>0.0</td>\n",
       "      <td>0.0</td>\n",
       "      <td>0.0</td>\n",
       "      <td>0.0</td>\n",
       "      <td>0.0</td>\n",
       "      <td>0</td>\n",
       "      <td>1</td>\n",
       "      <td>0</td>\n",
       "    </tr>\n",
       "    <tr>\n",
       "      <th>1</th>\n",
       "      <td>26844455</td>\n",
       "      <td>29.660999</td>\n",
       "      <td>239</td>\n",
       "      <td>168</td>\n",
       "      <td>106.3170</td>\n",
       "      <td>178.3997</td>\n",
       "      <td>61.6830</td>\n",
       "      <td>60.6003</td>\n",
       "      <td>84.157905</td>\n",
       "      <td>104.282163</td>\n",
       "      <td>...</td>\n",
       "      <td>0.0</td>\n",
       "      <td>0</td>\n",
       "      <td>0.0</td>\n",
       "      <td>0.0</td>\n",
       "      <td>0.0</td>\n",
       "      <td>0.0</td>\n",
       "      <td>0.0</td>\n",
       "      <td>0</td>\n",
       "      <td>1</td>\n",
       "      <td>0</td>\n",
       "    </tr>\n",
       "    <tr>\n",
       "      <th>2</th>\n",
       "      <td>41364966</td>\n",
       "      <td>109.321999</td>\n",
       "      <td>211</td>\n",
       "      <td>153</td>\n",
       "      <td>129.0500</td>\n",
       "      <td>196.5998</td>\n",
       "      <td>23.9500</td>\n",
       "      <td>14.4002</td>\n",
       "      <td>36.987111</td>\n",
       "      <td>1729.155943</td>\n",
       "      <td>...</td>\n",
       "      <td>0.0</td>\n",
       "      <td>0</td>\n",
       "      <td>0.0</td>\n",
       "      <td>0.0</td>\n",
       "      <td>0.0</td>\n",
       "      <td>0.0</td>\n",
       "      <td>0.0</td>\n",
       "      <td>1</td>\n",
       "      <td>0</td>\n",
       "      <td>0</td>\n",
       "    </tr>\n",
       "    <tr>\n",
       "      <th>3</th>\n",
       "      <td>33229405</td>\n",
       "      <td>75.423698</td>\n",
       "      <td>704</td>\n",
       "      <td>650</td>\n",
       "      <td>489.1998</td>\n",
       "      <td>520.3665</td>\n",
       "      <td>160.8002</td>\n",
       "      <td>183.6335</td>\n",
       "      <td>429.282798</td>\n",
       "      <td>732.092386</td>\n",
       "      <td>...</td>\n",
       "      <td>0.0</td>\n",
       "      <td>0</td>\n",
       "      <td>0.0</td>\n",
       "      <td>0.0</td>\n",
       "      <td>0.0</td>\n",
       "      <td>0.0</td>\n",
       "      <td>0.0</td>\n",
       "      <td>0</td>\n",
       "      <td>0</td>\n",
       "      <td>1</td>\n",
       "    </tr>\n",
       "    <tr>\n",
       "      <th>4</th>\n",
       "      <td>10413380</td>\n",
       "      <td>66.949203</td>\n",
       "      <td>177</td>\n",
       "      <td>156</td>\n",
       "      <td>135.6499</td>\n",
       "      <td>132.7000</td>\n",
       "      <td>20.3501</td>\n",
       "      <td>44.3000</td>\n",
       "      <td>10.628861</td>\n",
       "      <td>215.430846</td>\n",
       "      <td>...</td>\n",
       "      <td>0.0</td>\n",
       "      <td>0</td>\n",
       "      <td>0.0</td>\n",
       "      <td>0.0</td>\n",
       "      <td>0.0</td>\n",
       "      <td>0.0</td>\n",
       "      <td>0.0</td>\n",
       "      <td>0</td>\n",
       "      <td>0</td>\n",
       "      <td>1</td>\n",
       "    </tr>\n",
       "  </tbody>\n",
       "</table>\n",
       "<p>5 rows × 352 columns</p>\n",
       "</div>"
      ],
      "text/plain": [
       "   NUMCODCONTRATOBSCS  NUMRENTABASICA  NUMMINUTOSENTRANTE_2M  \\\n",
       "0            39309279       38.135601                     48   \n",
       "1            26844455       29.660999                    239   \n",
       "2            41364966      109.321999                    211   \n",
       "3            33229405       75.423698                    704   \n",
       "4            10413380       66.949203                    177   \n",
       "\n",
       "   NUMMINUTOSALIENTE_2M  NUMMINSALIENTEOFFNET_2M  NUMMINENTRANTEOFFNET_2M  \\\n",
       "0                    59                  58.8331                  44.7000   \n",
       "1                   168                 106.3170                 178.3997   \n",
       "2                   153                 129.0500                 196.5998   \n",
       "3                   650                 489.1998                 520.3665   \n",
       "4                   156                 135.6499                 132.7000   \n",
       "\n",
       "   NUMMINSALIENTEONNET_2M  NUMMINENTRANTEONNET_2M  NUMTRAFICOFACEBOOK_2M  \\\n",
       "0                  0.1669                  3.3000             843.076318   \n",
       "1                 61.6830                 60.6003              84.157905   \n",
       "2                 23.9500                 14.4002              36.987111   \n",
       "3                160.8002                183.6335             429.282798   \n",
       "4                 20.3501                 44.3000              10.628861   \n",
       "\n",
       "   NUMTRAFICOWHATSAPP_2M          ...           NUMKB_ADICIONAL  \\\n",
       "0             627.968464          ...                       0.0   \n",
       "1             104.282163          ...                       0.0   \n",
       "2            1729.155943          ...                       0.0   \n",
       "3             732.092386          ...                       0.0   \n",
       "4             215.430846          ...                       0.0   \n",
       "\n",
       "   PCT_MB_ADICIONAL  PCT_USO_TRAFICOTOTAL_2M  PCT_USO_TRAFICOTOTAL_1M  \\\n",
       "0                 0                      0.0                      0.0   \n",
       "1                 0                      0.0                      0.0   \n",
       "2                 0                      0.0                      0.0   \n",
       "3                 0                      0.0                      0.0   \n",
       "4                 0                      0.0                      0.0   \n",
       "\n",
       "   PCT_USO_TRAFICOTOTAL_M0  PCT_USO_TRAFICOTOTAL_U3M  \\\n",
       "0                      0.0                       0.0   \n",
       "1                      0.0                       0.0   \n",
       "2                      0.0                       0.0   \n",
       "3                      0.0                       0.0   \n",
       "4                      0.0                       0.0   \n",
       "\n",
       "   PCT_USO_TRAFICOTOTAL_U2M  VCHRANGO_RENTA_Alta  VCHRANGO_RENTA_Baja  \\\n",
       "0                       0.0                    0                    1   \n",
       "1                       0.0                    0                    1   \n",
       "2                       0.0                    1                    0   \n",
       "3                       0.0                    0                    0   \n",
       "4                       0.0                    0                    0   \n",
       "\n",
       "   VCHRANGO_RENTA_Media  \n",
       "0                     0  \n",
       "1                     0  \n",
       "2                     0  \n",
       "3                     1  \n",
       "4                     1  \n",
       "\n",
       "[5 rows x 352 columns]"
      ]
     },
     "execution_count": 66,
     "metadata": {},
     "output_type": "execute_result"
    }
   ],
   "source": [
    "X_train.head()"
   ]
  },
  {
   "cell_type": "code",
   "execution_count": 67,
   "metadata": {},
   "outputs": [
    {
     "data": {
      "text/plain": [
       "StandardScaler(copy=True, with_mean=True, with_std=True)"
      ]
     },
     "execution_count": 67,
     "metadata": {},
     "output_type": "execute_result"
    }
   ],
   "source": [
    "from sklearn.preprocessing import StandardScaler\n",
    "scaler = StandardScaler()\n",
    "scaler.fit(X_train)"
   ]
  },
  {
   "cell_type": "code",
   "execution_count": 68,
   "metadata": {},
   "outputs": [
    {
     "data": {
      "text/html": [
       "<div>\n",
       "<style scoped>\n",
       "    .dataframe tbody tr th:only-of-type {\n",
       "        vertical-align: middle;\n",
       "    }\n",
       "\n",
       "    .dataframe tbody tr th {\n",
       "        vertical-align: top;\n",
       "    }\n",
       "\n",
       "    .dataframe thead th {\n",
       "        text-align: right;\n",
       "    }\n",
       "</style>\n",
       "<table border=\"1\" class=\"dataframe\">\n",
       "  <thead>\n",
       "    <tr style=\"text-align: right;\">\n",
       "      <th></th>\n",
       "      <th>NUMCODCONTRATOBSCS</th>\n",
       "      <th>NUMRENTABASICA</th>\n",
       "      <th>NUMMINUTOSENTRANTE_2M</th>\n",
       "      <th>NUMMINUTOSALIENTE_2M</th>\n",
       "      <th>NUMMINSALIENTEOFFNET_2M</th>\n",
       "      <th>NUMMINENTRANTEOFFNET_2M</th>\n",
       "      <th>NUMMINSALIENTEONNET_2M</th>\n",
       "      <th>NUMMINENTRANTEONNET_2M</th>\n",
       "      <th>NUMTRAFICOFACEBOOK_2M</th>\n",
       "      <th>NUMTRAFICOWHATSAPP_2M</th>\n",
       "      <th>...</th>\n",
       "      <th>NUMKB_ADICIONAL</th>\n",
       "      <th>PCT_MB_ADICIONAL</th>\n",
       "      <th>PCT_USO_TRAFICOTOTAL_2M</th>\n",
       "      <th>PCT_USO_TRAFICOTOTAL_1M</th>\n",
       "      <th>PCT_USO_TRAFICOTOTAL_M0</th>\n",
       "      <th>PCT_USO_TRAFICOTOTAL_U3M</th>\n",
       "      <th>PCT_USO_TRAFICOTOTAL_U2M</th>\n",
       "      <th>VCHRANGO_RENTA_Alta</th>\n",
       "      <th>VCHRANGO_RENTA_Baja</th>\n",
       "      <th>VCHRANGO_RENTA_Media</th>\n",
       "    </tr>\n",
       "  </thead>\n",
       "  <tbody>\n",
       "    <tr>\n",
       "      <th>0</th>\n",
       "      <td>1.036144</td>\n",
       "      <td>-1.092367</td>\n",
       "      <td>-0.987566</td>\n",
       "      <td>-1.058589</td>\n",
       "      <td>-0.914572</td>\n",
       "      <td>-0.865046</td>\n",
       "      <td>-0.722390</td>\n",
       "      <td>-0.686704</td>\n",
       "      <td>1.073023</td>\n",
       "      <td>-0.062033</td>\n",
       "      <td>...</td>\n",
       "      <td>-0.500696</td>\n",
       "      <td>0.0</td>\n",
       "      <td>-0.353366</td>\n",
       "      <td>-0.354518</td>\n",
       "      <td>-0.387578</td>\n",
       "      <td>-0.379639</td>\n",
       "      <td>-0.372748</td>\n",
       "      <td>-0.242821</td>\n",
       "      <td>1.418951</td>\n",
       "      <td>-1.257163</td>\n",
       "    </tr>\n",
       "    <tr>\n",
       "      <th>1</th>\n",
       "      <td>-0.065617</td>\n",
       "      <td>-1.440791</td>\n",
       "      <td>-0.409404</td>\n",
       "      <td>-0.792629</td>\n",
       "      <td>-0.748969</td>\n",
       "      <td>-0.203059</td>\n",
       "      <td>-0.463495</td>\n",
       "      <td>-0.427260</td>\n",
       "      <td>-0.193784</td>\n",
       "      <td>-0.560091</td>\n",
       "      <td>...</td>\n",
       "      <td>-0.500696</td>\n",
       "      <td>0.0</td>\n",
       "      <td>-0.353366</td>\n",
       "      <td>-0.354518</td>\n",
       "      <td>-0.387578</td>\n",
       "      <td>-0.379639</td>\n",
       "      <td>-0.372748</td>\n",
       "      <td>-0.242821</td>\n",
       "      <td>1.418951</td>\n",
       "      <td>-1.257163</td>\n",
       "    </tr>\n",
       "    <tr>\n",
       "      <th>2</th>\n",
       "      <td>1.217845</td>\n",
       "      <td>1.834378</td>\n",
       "      <td>-0.494161</td>\n",
       "      <td>-0.829229</td>\n",
       "      <td>-0.669686</td>\n",
       "      <td>-0.112945</td>\n",
       "      <td>-0.622297</td>\n",
       "      <td>-0.636445</td>\n",
       "      <td>-0.272523</td>\n",
       "      <td>0.985266</td>\n",
       "      <td>...</td>\n",
       "      <td>-0.500696</td>\n",
       "      <td>0.0</td>\n",
       "      <td>-0.353366</td>\n",
       "      <td>-0.354518</td>\n",
       "      <td>-0.387578</td>\n",
       "      <td>-0.379639</td>\n",
       "      <td>-0.372748</td>\n",
       "      <td>4.118252</td>\n",
       "      <td>-0.704746</td>\n",
       "      <td>-1.257163</td>\n",
       "    </tr>\n",
       "  </tbody>\n",
       "</table>\n",
       "<p>3 rows × 352 columns</p>\n",
       "</div>"
      ],
      "text/plain": [
       "   NUMCODCONTRATOBSCS  NUMRENTABASICA  NUMMINUTOSENTRANTE_2M  \\\n",
       "0            1.036144       -1.092367              -0.987566   \n",
       "1           -0.065617       -1.440791              -0.409404   \n",
       "2            1.217845        1.834378              -0.494161   \n",
       "\n",
       "   NUMMINUTOSALIENTE_2M  NUMMINSALIENTEOFFNET_2M  NUMMINENTRANTEOFFNET_2M  \\\n",
       "0             -1.058589                -0.914572                -0.865046   \n",
       "1             -0.792629                -0.748969                -0.203059   \n",
       "2             -0.829229                -0.669686                -0.112945   \n",
       "\n",
       "   NUMMINSALIENTEONNET_2M  NUMMINENTRANTEONNET_2M  NUMTRAFICOFACEBOOK_2M  \\\n",
       "0               -0.722390               -0.686704               1.073023   \n",
       "1               -0.463495               -0.427260              -0.193784   \n",
       "2               -0.622297               -0.636445              -0.272523   \n",
       "\n",
       "   NUMTRAFICOWHATSAPP_2M          ...           NUMKB_ADICIONAL  \\\n",
       "0              -0.062033          ...                 -0.500696   \n",
       "1              -0.560091          ...                 -0.500696   \n",
       "2               0.985266          ...                 -0.500696   \n",
       "\n",
       "   PCT_MB_ADICIONAL  PCT_USO_TRAFICOTOTAL_2M  PCT_USO_TRAFICOTOTAL_1M  \\\n",
       "0               0.0                -0.353366                -0.354518   \n",
       "1               0.0                -0.353366                -0.354518   \n",
       "2               0.0                -0.353366                -0.354518   \n",
       "\n",
       "   PCT_USO_TRAFICOTOTAL_M0  PCT_USO_TRAFICOTOTAL_U3M  \\\n",
       "0                -0.387578                 -0.379639   \n",
       "1                -0.387578                 -0.379639   \n",
       "2                -0.387578                 -0.379639   \n",
       "\n",
       "   PCT_USO_TRAFICOTOTAL_U2M  VCHRANGO_RENTA_Alta  VCHRANGO_RENTA_Baja  \\\n",
       "0                 -0.372748            -0.242821             1.418951   \n",
       "1                 -0.372748            -0.242821             1.418951   \n",
       "2                 -0.372748             4.118252            -0.704746   \n",
       "\n",
       "   VCHRANGO_RENTA_Media  \n",
       "0             -1.257163  \n",
       "1             -1.257163  \n",
       "2             -1.257163  \n",
       "\n",
       "[3 rows x 352 columns]"
      ]
     },
     "execution_count": 68,
     "metadata": {},
     "output_type": "execute_result"
    }
   ],
   "source": [
    "X_train_scaler = scaler.transform(X_train)\n",
    "X_train_scaler = pd.DataFrame(X_train_scaler, columns = X_train.columns)\n",
    "X_train_scaler.head(3)"
   ]
  },
  {
   "cell_type": "code",
   "execution_count": 69,
   "metadata": {},
   "outputs": [
    {
     "data": {
      "text/html": [
       "<div>\n",
       "<style scoped>\n",
       "    .dataframe tbody tr th:only-of-type {\n",
       "        vertical-align: middle;\n",
       "    }\n",
       "\n",
       "    .dataframe tbody tr th {\n",
       "        vertical-align: top;\n",
       "    }\n",
       "\n",
       "    .dataframe thead th {\n",
       "        text-align: right;\n",
       "    }\n",
       "</style>\n",
       "<table border=\"1\" class=\"dataframe\">\n",
       "  <thead>\n",
       "    <tr style=\"text-align: right;\">\n",
       "      <th></th>\n",
       "      <th>NUMCODCONTRATOBSCS</th>\n",
       "      <th>NUMRENTABASICA</th>\n",
       "      <th>NUMMINUTOSENTRANTE_2M</th>\n",
       "      <th>NUMMINUTOSALIENTE_2M</th>\n",
       "      <th>NUMMINSALIENTEOFFNET_2M</th>\n",
       "      <th>NUMMINENTRANTEOFFNET_2M</th>\n",
       "      <th>NUMMINSALIENTEONNET_2M</th>\n",
       "      <th>NUMMINENTRANTEONNET_2M</th>\n",
       "      <th>NUMTRAFICOFACEBOOK_2M</th>\n",
       "      <th>NUMTRAFICOWHATSAPP_2M</th>\n",
       "      <th>...</th>\n",
       "      <th>NUMKB_ADICIONAL</th>\n",
       "      <th>PCT_MB_ADICIONAL</th>\n",
       "      <th>PCT_USO_TRAFICOTOTAL_2M</th>\n",
       "      <th>PCT_USO_TRAFICOTOTAL_1M</th>\n",
       "      <th>PCT_USO_TRAFICOTOTAL_M0</th>\n",
       "      <th>PCT_USO_TRAFICOTOTAL_U3M</th>\n",
       "      <th>PCT_USO_TRAFICOTOTAL_U2M</th>\n",
       "      <th>VCHRANGO_RENTA_Alta</th>\n",
       "      <th>VCHRANGO_RENTA_Baja</th>\n",
       "      <th>VCHRANGO_RENTA_Media</th>\n",
       "    </tr>\n",
       "  </thead>\n",
       "  <tbody>\n",
       "    <tr>\n",
       "      <th>0</th>\n",
       "      <td>-1.626632</td>\n",
       "      <td>-0.953000</td>\n",
       "      <td>-0.706053</td>\n",
       "      <td>-0.063070</td>\n",
       "      <td>-0.196828</td>\n",
       "      <td>-0.458873</td>\n",
       "      <td>0.128581</td>\n",
       "      <td>-0.637051</td>\n",
       "      <td>-0.331470</td>\n",
       "      <td>-0.655343</td>\n",
       "      <td>...</td>\n",
       "      <td>-0.500696</td>\n",
       "      <td>0.0</td>\n",
       "      <td>-0.353366</td>\n",
       "      <td>-0.354518</td>\n",
       "      <td>-0.387578</td>\n",
       "      <td>-0.379639</td>\n",
       "      <td>-0.372748</td>\n",
       "      <td>-0.242821</td>\n",
       "      <td>1.418951</td>\n",
       "      <td>-1.257163</td>\n",
       "    </tr>\n",
       "    <tr>\n",
       "      <th>1</th>\n",
       "      <td>0.877330</td>\n",
       "      <td>1.137536</td>\n",
       "      <td>-0.479026</td>\n",
       "      <td>-0.680389</td>\n",
       "      <td>-0.527334</td>\n",
       "      <td>-0.149252</td>\n",
       "      <td>-0.537354</td>\n",
       "      <td>-0.580605</td>\n",
       "      <td>-0.264347</td>\n",
       "      <td>-0.539988</td>\n",
       "      <td>...</td>\n",
       "      <td>-0.500696</td>\n",
       "      <td>0.0</td>\n",
       "      <td>-0.353366</td>\n",
       "      <td>-0.354518</td>\n",
       "      <td>-0.387578</td>\n",
       "      <td>-0.379639</td>\n",
       "      <td>-0.372748</td>\n",
       "      <td>-0.242821</td>\n",
       "      <td>-0.704746</td>\n",
       "      <td>0.795442</td>\n",
       "    </tr>\n",
       "    <tr>\n",
       "      <th>2</th>\n",
       "      <td>0.646218</td>\n",
       "      <td>0.440689</td>\n",
       "      <td>0.084002</td>\n",
       "      <td>-0.026470</td>\n",
       "      <td>-0.644110</td>\n",
       "      <td>0.398687</td>\n",
       "      <td>0.731458</td>\n",
       "      <td>-0.239507</td>\n",
       "      <td>-0.314048</td>\n",
       "      <td>-0.569602</td>\n",
       "      <td>...</td>\n",
       "      <td>-0.500696</td>\n",
       "      <td>0.0</td>\n",
       "      <td>-0.353366</td>\n",
       "      <td>-0.354518</td>\n",
       "      <td>-0.387578</td>\n",
       "      <td>-0.379639</td>\n",
       "      <td>-0.372748</td>\n",
       "      <td>-0.242821</td>\n",
       "      <td>-0.704746</td>\n",
       "      <td>0.795442</td>\n",
       "    </tr>\n",
       "  </tbody>\n",
       "</table>\n",
       "<p>3 rows × 352 columns</p>\n",
       "</div>"
      ],
      "text/plain": [
       "   NUMCODCONTRATOBSCS  NUMRENTABASICA  NUMMINUTOSENTRANTE_2M  \\\n",
       "0           -1.626632       -0.953000              -0.706053   \n",
       "1            0.877330        1.137536              -0.479026   \n",
       "2            0.646218        0.440689               0.084002   \n",
       "\n",
       "   NUMMINUTOSALIENTE_2M  NUMMINSALIENTEOFFNET_2M  NUMMINENTRANTEOFFNET_2M  \\\n",
       "0             -0.063070                -0.196828                -0.458873   \n",
       "1             -0.680389                -0.527334                -0.149252   \n",
       "2             -0.026470                -0.644110                 0.398687   \n",
       "\n",
       "   NUMMINSALIENTEONNET_2M  NUMMINENTRANTEONNET_2M  NUMTRAFICOFACEBOOK_2M  \\\n",
       "0                0.128581               -0.637051              -0.331470   \n",
       "1               -0.537354               -0.580605              -0.264347   \n",
       "2                0.731458               -0.239507              -0.314048   \n",
       "\n",
       "   NUMTRAFICOWHATSAPP_2M          ...           NUMKB_ADICIONAL  \\\n",
       "0              -0.655343          ...                 -0.500696   \n",
       "1              -0.539988          ...                 -0.500696   \n",
       "2              -0.569602          ...                 -0.500696   \n",
       "\n",
       "   PCT_MB_ADICIONAL  PCT_USO_TRAFICOTOTAL_2M  PCT_USO_TRAFICOTOTAL_1M  \\\n",
       "0               0.0                -0.353366                -0.354518   \n",
       "1               0.0                -0.353366                -0.354518   \n",
       "2               0.0                -0.353366                -0.354518   \n",
       "\n",
       "   PCT_USO_TRAFICOTOTAL_M0  PCT_USO_TRAFICOTOTAL_U3M  \\\n",
       "0                -0.387578                 -0.379639   \n",
       "1                -0.387578                 -0.379639   \n",
       "2                -0.387578                 -0.379639   \n",
       "\n",
       "   PCT_USO_TRAFICOTOTAL_U2M  VCHRANGO_RENTA_Alta  VCHRANGO_RENTA_Baja  \\\n",
       "0                 -0.372748            -0.242821             1.418951   \n",
       "1                 -0.372748            -0.242821            -0.704746   \n",
       "2                 -0.372748            -0.242821            -0.704746   \n",
       "\n",
       "   VCHRANGO_RENTA_Media  \n",
       "0             -1.257163  \n",
       "1              0.795442  \n",
       "2              0.795442  \n",
       "\n",
       "[3 rows x 352 columns]"
      ]
     },
     "execution_count": 69,
     "metadata": {},
     "output_type": "execute_result"
    }
   ],
   "source": [
    "X_test_scaler = scaler.transform(X_test)\n",
    "X_test_scaler = pd.DataFrame(X_test_scaler, columns = X_test.columns)\n",
    "X_test_scaler.head(3)"
   ]
  },
  {
   "cell_type": "code",
   "execution_count": 70,
   "metadata": {},
   "outputs": [],
   "source": [
    "X_train = X_train_scaler.copy()\n",
    "X_test = X_test_scaler.copy()"
   ]
  },
  {
   "cell_type": "code",
   "execution_count": 71,
   "metadata": {},
   "outputs": [
    {
     "name": "stdout",
     "output_type": "stream",
     "text": [
      "(449, 352)\n",
      "(300, 352)\n"
     ]
    }
   ],
   "source": [
    "print(X_train.shape)\n",
    "print(X_test.shape)"
   ]
  },
  {
   "cell_type": "markdown",
   "metadata": {},
   "source": [
    "## MODELAMIENTO"
   ]
  },
  {
   "cell_type": "code",
   "execution_count": 72,
   "metadata": {},
   "outputs": [],
   "source": [
    "def print_mc(matriz_conf):\n",
    "    matriz_conf = pd.DataFrame(matriz_conf)\n",
    "    matriz_conf.index = [\"Real_0\",\"Real_1\"]\n",
    "    matriz_conf.columns = [\"Pred_0\",\"Pred_1\"]\n",
    "    print(matriz_conf)"
   ]
  },
  {
   "cell_type": "code",
   "execution_count": 73,
   "metadata": {},
   "outputs": [],
   "source": [
    "################################## CURVA ROC ###############################\n",
    "def graficar_roc(y_test,y_pred_proba):\n",
    "    import matplotlib.pyplot as plt\n",
    "    from sklearn import metrics as mt\n",
    "    from sklearn.cross_validation import train_test_split\n",
    "\n",
    "    fpr, tpr, thresholds  = mt.roc_curve(y_test.astype('int'),y_pred_proba[:,1], pos_label = 1)\n",
    "\n",
    "    roc_auc = mt.auc(fpr, tpr)\n",
    "\n",
    "    print ('ROC AUC: %0.4f' % roc_auc)\n",
    "    gini_print = (2*roc_auc - 1)\n",
    "\n",
    "    # Plot of a ROC curve for a specific class\n",
    "    plt.figure(figsize=(8,6))\n",
    "    plt.plot(fpr, tpr, label='ROC curve (area = %0.4f) \\nGini (2*roc_auc - 1) = %0.4f' %(roc_auc,gini_print))\n",
    "    plt.plot([0, 1], [0, 1], 'k--')\n",
    "    plt.xlim([0.0, 1.0])\n",
    "    plt.ylim([0.0, 1.05])\n",
    "    plt.xlabel('False Positive Rate')\n",
    "    plt.ylabel('True Positive Rate')\n",
    "    plt.title('ROC Curve')\n",
    "    plt.legend(loc=\"lower right\")\n",
    "    plt.show()"
   ]
  },
  {
   "cell_type": "code",
   "execution_count": 74,
   "metadata": {},
   "outputs": [],
   "source": [
    "from sklearn.linear_model import LogisticRegression"
   ]
  },
  {
   "cell_type": "code",
   "execution_count": 75,
   "metadata": {},
   "outputs": [],
   "source": [
    "# Crear objeto modelo (Instanciar)\n",
    "model_regl = LogisticRegression()"
   ]
  },
  {
   "cell_type": "code",
   "execution_count": 76,
   "metadata": {},
   "outputs": [],
   "source": [
    "# Entrenar (ajustar) el modelo:\n",
    "model = model_regl.fit(X_train,y_train)"
   ]
  },
  {
   "cell_type": "code",
   "execution_count": 77,
   "metadata": {},
   "outputs": [],
   "source": [
    "# Generar las predicciones:\n",
    "pred_train = model.predict(X_train)\n",
    "pred_test = model.predict(X_test)\n",
    "\n",
    "# Generar las probabilidades\n",
    "pred_proba_train = model.predict_proba(X_train)\n",
    "pred_proba_test = model.predict_proba(X_test)"
   ]
  },
  {
   "cell_type": "code",
   "execution_count": 78,
   "metadata": {},
   "outputs": [],
   "source": [
    "from sklearn import metrics as mt"
   ]
  },
  {
   "cell_type": "code",
   "execution_count": 79,
   "metadata": {},
   "outputs": [
    {
     "name": "stdout",
     "output_type": "stream",
     "text": [
      "Metricas del Training...\n"
     ]
    }
   ],
   "source": [
    "# Sobre el Training Data\n",
    "print(\"Metricas del Training...\")"
   ]
  },
  {
   "cell_type": "code",
   "execution_count": 80,
   "metadata": {},
   "outputs": [
    {
     "name": "stdout",
     "output_type": "stream",
     "text": [
      "        Pred_0  Pred_1\n",
      "Real_0     197      21\n",
      "Real_1      28     203\n"
     ]
    }
   ],
   "source": [
    "matriz_conf = mt.confusion_matrix(y_train,pred_train)\n",
    "print_mc(matriz_conf)"
   ]
  },
  {
   "cell_type": "code",
   "execution_count": 81,
   "metadata": {},
   "outputs": [
    {
     "name": "stdout",
     "output_type": "stream",
     "text": [
      "Accuracy - Train: 0.89086859688196\n"
     ]
    }
   ],
   "source": [
    "accuracy_train = mt.accuracy_score(y_train,pred_train)\n",
    "print(\"Accuracy - Train:\", accuracy_train) # 0.8775055679287305"
   ]
  },
  {
   "cell_type": "code",
   "execution_count": 82,
   "metadata": {},
   "outputs": [
    {
     "name": "stdout",
     "output_type": "stream",
     "text": [
      "             precision    recall  f1-score   support\n",
      "\n",
      "          0      0.876     0.904     0.889       218\n",
      "          1      0.906     0.879     0.892       231\n",
      "\n",
      "avg / total      0.891     0.891     0.891       449\n",
      "\n"
     ]
    }
   ],
   "source": [
    "print(mt.classification_report(y_train,pred_train,digits = 3))"
   ]
  },
  {
   "cell_type": "code",
   "execution_count": 83,
   "metadata": {},
   "outputs": [
    {
     "name": "stdout",
     "output_type": "stream",
     "text": [
      "ROC AUC: 0.9563\n"
     ]
    },
    {
     "data": {
      "image/png": "[encoded data removed]",
      "text/plain": [
       "<Figure size 576x432 with 1 Axes>"
      ]
     },
     "metadata": {
      "needs_background": "light"
     },
     "output_type": "display_data"
    }
   ],
   "source": [
    "graficar_roc(y_train,pred_proba_train) # 0.9534"
   ]
  },
  {
   "cell_type": "code",
   "execution_count": 84,
   "metadata": {},
   "outputs": [
    {
     "name": "stdout",
     "output_type": "stream",
     "text": [
      "Metricas del testing...\n"
     ]
    }
   ],
   "source": [
    "# Sobre el testing Data\n",
    "print(\"Metricas del testing...\")"
   ]
  },
  {
   "cell_type": "code",
   "execution_count": 85,
   "metadata": {},
   "outputs": [
    {
     "name": "stdout",
     "output_type": "stream",
     "text": [
      "        Pred_0  Pred_1\n",
      "Real_0     118      29\n",
      "Real_1      35     118\n"
     ]
    }
   ],
   "source": [
    "matriz_conf = mt.confusion_matrix(y_test,pred_test)\n",
    "print_mc(matriz_conf)"
   ]
  },
  {
   "cell_type": "code",
   "execution_count": 86,
   "metadata": {},
   "outputs": [
    {
     "name": "stdout",
     "output_type": "stream",
     "text": [
      "Accuracy - test: 0.7866666666666666\n"
     ]
    }
   ],
   "source": [
    "accuracy_test = mt.accuracy_score(y_test,pred_test)\n",
    "print(\"Accuracy - test:\", accuracy_test) # 0.8233333333333334"
   ]
  },
  {
   "cell_type": "code",
   "execution_count": 87,
   "metadata": {},
   "outputs": [
    {
     "name": "stdout",
     "output_type": "stream",
     "text": [
      "             precision    recall  f1-score   support\n",
      "\n",
      "          0      0.771     0.803     0.787       147\n",
      "          1      0.803     0.771     0.787       153\n",
      "\n",
      "avg / total      0.787     0.787     0.787       300\n",
      "\n"
     ]
    }
   ],
   "source": [
    "print(mt.classification_report(y_test,pred_test,digits = 3))"
   ]
  },
  {
   "cell_type": "code",
   "execution_count": 88,
   "metadata": {},
   "outputs": [
    {
     "name": "stdout",
     "output_type": "stream",
     "text": [
      "ROC AUC: 0.8544\n"
     ]
    },
    {
     "data": {
      "image/png": "[encoded data removed]",
      "text/plain": [
       "<Figure size 576x432 with 1 Axes>"
      ]
     },
     "metadata": {
      "needs_background": "light"
     },
     "output_type": "display_data"
    }
   ],
   "source": [
    "graficar_roc(y_test,pred_proba_test) # 0.8731"
   ]
  },
  {
   "cell_type": "markdown",
   "metadata": {},
   "source": [
    "# continuar con la clase 7 ultima clase..."
   ]
  },
  {
   "cell_type": "code",
   "execution_count": null,
   "metadata": {},
   "outputs": [],
   "source": []
  },
  {
   "cell_type": "code",
   "execution_count": null,
   "metadata": {},
   "outputs": [],
   "source": []
  },
  {
   "cell_type": "code",
   "execution_count": null,
   "metadata": {},
   "outputs": [],
   "source": []
  },
  {
   "cell_type": "code",
   "execution_count": null,
   "metadata": {},
   "outputs": [],
   "source": []
  },
  {
   "cell_type": "code",
   "execution_count": null,
   "metadata": {},
   "outputs": [],
   "source": []
  },
  {
   "cell_type": "code",
   "execution_count": null,
   "metadata": {},
   "outputs": [],
   "source": []
  },
  {
   "cell_type": "code",
   "execution_count": null,
   "metadata": {},
   "outputs": [],
   "source": []
  },
  {
   "cell_type": "code",
   "execution_count": null,
   "metadata": {},
   "outputs": [],
   "source": []
  },
  {
   "cell_type": "code",
   "execution_count": null,
   "metadata": {},
   "outputs": [],
   "source": []
  },
  {
   "cell_type": "code",
   "execution_count": null,
   "metadata": {},
   "outputs": [],
   "source": []
  },
  {
   "cell_type": "code",
   "execution_count": null,
   "metadata": {},
   "outputs": [],
   "source": []
  },
  {
   "cell_type": "code",
   "execution_count": null,
   "metadata": {},
   "outputs": [],
   "source": []
  },
  {
   "cell_type": "code",
   "execution_count": null,
   "metadata": {},
   "outputs": [],
   "source": []
  },
  {
   "cell_type": "code",
   "execution_count": null,
   "metadata": {},
   "outputs": [],
   "source": []
  },
  {
   "cell_type": "code",
   "execution_count": null,
   "metadata": {},
   "outputs": [],
   "source": []
  },
  {
   "cell_type": "code",
   "execution_count": null,
   "metadata": {},
   "outputs": [],
   "source": []
  },
  {
   "cell_type": "code",
   "execution_count": null,
   "metadata": {},
   "outputs": [],
   "source": []
  },
  {
   "cell_type": "code",
   "execution_count": null,
   "metadata": {},
   "outputs": [],
   "source": []
  },
  {
   "cell_type": "code",
   "execution_count": null,
   "metadata": {},
   "outputs": [],
   "source": []
  },
  {
   "cell_type": "code",
   "execution_count": null,
   "metadata": {},
   "outputs": [],
   "source": []
  },
  {
   "cell_type": "code",
   "execution_count": null,
   "metadata": {},
   "outputs": [],
   "source": []
  },
  {
   "cell_type": "code",
   "execution_count": null,
   "metadata": {},
   "outputs": [],
   "source": []
  },
  {
   "cell_type": "code",
   "execution_count": null,
   "metadata": {},
   "outputs": [],
   "source": []
  }
 ],
 "metadata": {
  "kernelspec": {
   "display_name": "Python 3",
   "language": "python",
   "name": "python3"
  },
  "language_info": {
   "codemirror_mode": {
    "name": "ipython",
    "version": 3
   },
   "file_extension": ".py",
   "mimetype": "text/x-python",
   "name": "python",
   "nbconvert_exporter": "python",
   "pygments_lexer": "ipython3",
   "version": "3.7.0"
  }
 },
 "nbformat": 4,
 "nbformat_minor": 2
}

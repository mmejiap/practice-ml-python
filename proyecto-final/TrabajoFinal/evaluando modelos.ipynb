{
 "cells": [
  {
   "cell_type": "code",
   "execution_count": 1,
   "metadata": {},
   "outputs": [],
   "source": [
    "# Librerias\n",
    "import numpy as np\n",
    "import pandas as pd\n",
    "import seaborn as sns"
   ]
  },
  {
   "cell_type": "code",
   "execution_count": 2,
   "metadata": {},
   "outputs": [],
   "source": [
    "# carga de datos\n",
    "data1 = pd.read_csv(\"./data/train_1.csv\",sep=\";\",index_col=None,header=0)\n",
    "data2 = pd.read_csv(\"./data/train_2.csv\",sep=\";\",index_col=None,header=0)\n",
    "salida = pd.read_csv(\"./data/train_3.csv\",sep=\";\",index_col=None,header=0)"
   ]
  },
  {
   "cell_type": "code",
   "execution_count": 3,
   "metadata": {},
   "outputs": [],
   "source": [
    "#uniendo la data\n",
    "data = data1.merge(data2,how='inner',on=['NUMPERIODO', 'NUMCODCONTRATOBSCS', 'VCHTELEFONO'])\n",
    "data = data.merge(salida,how='inner',on=['NUMPERIODO', 'NUMCODCONTRATOBSCS', 'VCHTELEFONO'])"
   ]
  },
  {
   "cell_type": "code",
   "execution_count": 4,
   "metadata": {},
   "outputs": [
    {
     "data": {
      "text/html": [
       "<div>\n",
       "<style scoped>\n",
       "    .dataframe tbody tr th:only-of-type {\n",
       "        vertical-align: middle;\n",
       "    }\n",
       "\n",
       "    .dataframe tbody tr th {\n",
       "        vertical-align: top;\n",
       "    }\n",
       "\n",
       "    .dataframe thead th {\n",
       "        text-align: right;\n",
       "    }\n",
       "</style>\n",
       "<table border=\"1\" class=\"dataframe\">\n",
       "  <thead>\n",
       "    <tr style=\"text-align: right;\">\n",
       "      <th></th>\n",
       "      <th>NUMPERIODO</th>\n",
       "      <th>NUMCODCONTRATOBSCS</th>\n",
       "      <th>VCHTELEFONO</th>\n",
       "      <th>ANT_CLIENTE</th>\n",
       "      <th>NUMRENTABASICA</th>\n",
       "      <th>VCHPACKCHIP</th>\n",
       "      <th>NUMINGRESOTEORICO</th>\n",
       "      <th>NUMMINUTOSENTRANTE_2M</th>\n",
       "      <th>NUMMINUTOSALIENTE_2M</th>\n",
       "      <th>NUMMINSALIENTEOFFNET_2M</th>\n",
       "      <th>...</th>\n",
       "      <th>NUMMB</th>\n",
       "      <th>NUMMB_ADICIONAL</th>\n",
       "      <th>NUMKB_ADICIONAL</th>\n",
       "      <th>PCT_MB_ADICIONAL</th>\n",
       "      <th>PCT_USO_TRAFICOTOTAL_2M</th>\n",
       "      <th>PCT_USO_TRAFICOTOTAL_1M</th>\n",
       "      <th>PCT_USO_TRAFICOTOTAL_M0</th>\n",
       "      <th>PCT_USO_TRAFICOTOTAL_U3M</th>\n",
       "      <th>PCT_USO_TRAFICOTOTAL_U2M</th>\n",
       "      <th>FLG_RECARGA</th>\n",
       "    </tr>\n",
       "  </thead>\n",
       "  <tbody>\n",
       "    <tr>\n",
       "      <th>0</th>\n",
       "      <td>201804</td>\n",
       "      <td>38172100</td>\n",
       "      <td>51982603192</td>\n",
       "      <td>7.645161</td>\n",
       "      <td>41.525398</td>\n",
       "      <td>PACK</td>\n",
       "      <td>41.5254</td>\n",
       "      <td>151</td>\n",
       "      <td>596</td>\n",
       "      <td>590.9832</td>\n",
       "      <td>...</td>\n",
       "      <td>0</td>\n",
       "      <td>0</td>\n",
       "      <td>0.0</td>\n",
       "      <td>0</td>\n",
       "      <td>0.0</td>\n",
       "      <td>0.0</td>\n",
       "      <td>0.0</td>\n",
       "      <td>0.0</td>\n",
       "      <td>0.0</td>\n",
       "      <td>0</td>\n",
       "    </tr>\n",
       "    <tr>\n",
       "      <th>1</th>\n",
       "      <td>201804</td>\n",
       "      <td>9028333</td>\n",
       "      <td>51983661925</td>\n",
       "      <td>45.903226</td>\n",
       "      <td>122.879997</td>\n",
       "      <td>SIM</td>\n",
       "      <td>92.3700</td>\n",
       "      <td>54</td>\n",
       "      <td>410</td>\n",
       "      <td>327.9664</td>\n",
       "      <td>...</td>\n",
       "      <td>0</td>\n",
       "      <td>0</td>\n",
       "      <td>0.0</td>\n",
       "      <td>0</td>\n",
       "      <td>0.0</td>\n",
       "      <td>0.0</td>\n",
       "      <td>0.0</td>\n",
       "      <td>0.0</td>\n",
       "      <td>0.0</td>\n",
       "      <td>0</td>\n",
       "    </tr>\n",
       "    <tr>\n",
       "      <th>2</th>\n",
       "      <td>201805</td>\n",
       "      <td>34979663</td>\n",
       "      <td>51942976545</td>\n",
       "      <td>11.612903</td>\n",
       "      <td>66.949203</td>\n",
       "      <td>PACK</td>\n",
       "      <td>NaN</td>\n",
       "      <td>792</td>\n",
       "      <td>587</td>\n",
       "      <td>512.2667</td>\n",
       "      <td>...</td>\n",
       "      <td>0</td>\n",
       "      <td>0</td>\n",
       "      <td>0.0</td>\n",
       "      <td>0</td>\n",
       "      <td>0.0</td>\n",
       "      <td>0.0</td>\n",
       "      <td>0.0</td>\n",
       "      <td>0.0</td>\n",
       "      <td>0.0</td>\n",
       "      <td>0</td>\n",
       "    </tr>\n",
       "    <tr>\n",
       "      <th>3</th>\n",
       "      <td>201805</td>\n",
       "      <td>13670934</td>\n",
       "      <td>51958993810</td>\n",
       "      <td>32.838710</td>\n",
       "      <td>41.525398</td>\n",
       "      <td>PACK</td>\n",
       "      <td>NaN</td>\n",
       "      <td>170</td>\n",
       "      <td>144</td>\n",
       "      <td>100.5000</td>\n",
       "      <td>...</td>\n",
       "      <td>0</td>\n",
       "      <td>0</td>\n",
       "      <td>0.0</td>\n",
       "      <td>0</td>\n",
       "      <td>0.0</td>\n",
       "      <td>0.0</td>\n",
       "      <td>0.0</td>\n",
       "      <td>0.0</td>\n",
       "      <td>0.0</td>\n",
       "      <td>0</td>\n",
       "    </tr>\n",
       "    <tr>\n",
       "      <th>4</th>\n",
       "      <td>201804</td>\n",
       "      <td>16547229</td>\n",
       "      <td>51934098463</td>\n",
       "      <td>28.387097</td>\n",
       "      <td>62.711899</td>\n",
       "      <td>PACK</td>\n",
       "      <td>62.7119</td>\n",
       "      <td>219</td>\n",
       "      <td>784</td>\n",
       "      <td>745.2162</td>\n",
       "      <td>...</td>\n",
       "      <td>0</td>\n",
       "      <td>0</td>\n",
       "      <td>0.0</td>\n",
       "      <td>0</td>\n",
       "      <td>0.0</td>\n",
       "      <td>0.0</td>\n",
       "      <td>0.0</td>\n",
       "      <td>0.0</td>\n",
       "      <td>0.0</td>\n",
       "      <td>1</td>\n",
       "    </tr>\n",
       "  </tbody>\n",
       "</table>\n",
       "<p>5 rows × 357 columns</p>\n",
       "</div>"
      ],
      "text/plain": [
       "   NUMPERIODO  NUMCODCONTRATOBSCS  VCHTELEFONO  ANT_CLIENTE  NUMRENTABASICA  \\\n",
       "0      201804            38172100  51982603192     7.645161       41.525398   \n",
       "1      201804             9028333  51983661925    45.903226      122.879997   \n",
       "2      201805            34979663  51942976545    11.612903       66.949203   \n",
       "3      201805            13670934  51958993810    32.838710       41.525398   \n",
       "4      201804            16547229  51934098463    28.387097       62.711899   \n",
       "\n",
       "  VCHPACKCHIP  NUMINGRESOTEORICO  NUMMINUTOSENTRANTE_2M  NUMMINUTOSALIENTE_2M  \\\n",
       "0        PACK            41.5254                    151                   596   \n",
       "1         SIM            92.3700                     54                   410   \n",
       "2        PACK                NaN                    792                   587   \n",
       "3        PACK                NaN                    170                   144   \n",
       "4        PACK            62.7119                    219                   784   \n",
       "\n",
       "   NUMMINSALIENTEOFFNET_2M     ...       NUMMB  NUMMB_ADICIONAL  \\\n",
       "0                 590.9832     ...           0                0   \n",
       "1                 327.9664     ...           0                0   \n",
       "2                 512.2667     ...           0                0   \n",
       "3                 100.5000     ...           0                0   \n",
       "4                 745.2162     ...           0                0   \n",
       "\n",
       "   NUMKB_ADICIONAL  PCT_MB_ADICIONAL  PCT_USO_TRAFICOTOTAL_2M  \\\n",
       "0              0.0                 0                      0.0   \n",
       "1              0.0                 0                      0.0   \n",
       "2              0.0                 0                      0.0   \n",
       "3              0.0                 0                      0.0   \n",
       "4              0.0                 0                      0.0   \n",
       "\n",
       "   PCT_USO_TRAFICOTOTAL_1M  PCT_USO_TRAFICOTOTAL_M0  PCT_USO_TRAFICOTOTAL_U3M  \\\n",
       "0                      0.0                      0.0                       0.0   \n",
       "1                      0.0                      0.0                       0.0   \n",
       "2                      0.0                      0.0                       0.0   \n",
       "3                      0.0                      0.0                       0.0   \n",
       "4                      0.0                      0.0                       0.0   \n",
       "\n",
       "   PCT_USO_TRAFICOTOTAL_U2M  FLG_RECARGA  \n",
       "0                       0.0            0  \n",
       "1                       0.0            0  \n",
       "2                       0.0            0  \n",
       "3                       0.0            0  \n",
       "4                       0.0            1  \n",
       "\n",
       "[5 rows x 357 columns]"
      ]
     },
     "execution_count": 4,
     "metadata": {},
     "output_type": "execute_result"
    }
   ],
   "source": [
    "data.head()"
   ]
  },
  {
   "cell_type": "code",
   "execution_count": 5,
   "metadata": {},
   "outputs": [],
   "source": [
    "df_data = data.copy()"
   ]
  },
  {
   "cell_type": "code",
   "execution_count": 6,
   "metadata": {},
   "outputs": [
    {
     "data": {
      "text/html": [
       "<div>\n",
       "<style scoped>\n",
       "    .dataframe tbody tr th:only-of-type {\n",
       "        vertical-align: middle;\n",
       "    }\n",
       "\n",
       "    .dataframe tbody tr th {\n",
       "        vertical-align: top;\n",
       "    }\n",
       "\n",
       "    .dataframe thead th {\n",
       "        text-align: right;\n",
       "    }\n",
       "</style>\n",
       "<table border=\"1\" class=\"dataframe\">\n",
       "  <thead>\n",
       "    <tr style=\"text-align: right;\">\n",
       "      <th></th>\n",
       "      <th>NUMPERIODO</th>\n",
       "      <th>NUMCODCONTRATOBSCS</th>\n",
       "      <th>VCHTELEFONO</th>\n",
       "      <th>ANT_CLIENTE</th>\n",
       "      <th>NUMRENTABASICA</th>\n",
       "      <th>VCHPACKCHIP</th>\n",
       "      <th>NUMINGRESOTEORICO</th>\n",
       "      <th>NUMMINUTOSENTRANTE_2M</th>\n",
       "      <th>NUMMINUTOSALIENTE_2M</th>\n",
       "      <th>NUMMINSALIENTEOFFNET_2M</th>\n",
       "      <th>...</th>\n",
       "      <th>NUMMB</th>\n",
       "      <th>NUMMB_ADICIONAL</th>\n",
       "      <th>NUMKB_ADICIONAL</th>\n",
       "      <th>PCT_MB_ADICIONAL</th>\n",
       "      <th>PCT_USO_TRAFICOTOTAL_2M</th>\n",
       "      <th>PCT_USO_TRAFICOTOTAL_1M</th>\n",
       "      <th>PCT_USO_TRAFICOTOTAL_M0</th>\n",
       "      <th>PCT_USO_TRAFICOTOTAL_U3M</th>\n",
       "      <th>PCT_USO_TRAFICOTOTAL_U2M</th>\n",
       "      <th>FLG_RECARGA</th>\n",
       "    </tr>\n",
       "  </thead>\n",
       "  <tbody>\n",
       "    <tr>\n",
       "      <th>0</th>\n",
       "      <td>201804</td>\n",
       "      <td>38172100</td>\n",
       "      <td>51982603192</td>\n",
       "      <td>7.645161</td>\n",
       "      <td>41.525398</td>\n",
       "      <td>PACK</td>\n",
       "      <td>41.5254</td>\n",
       "      <td>151</td>\n",
       "      <td>596</td>\n",
       "      <td>590.9832</td>\n",
       "      <td>...</td>\n",
       "      <td>0</td>\n",
       "      <td>0</td>\n",
       "      <td>0.0</td>\n",
       "      <td>0</td>\n",
       "      <td>0.0</td>\n",
       "      <td>0.0</td>\n",
       "      <td>0.0</td>\n",
       "      <td>0.0</td>\n",
       "      <td>0.0</td>\n",
       "      <td>0</td>\n",
       "    </tr>\n",
       "    <tr>\n",
       "      <th>1</th>\n",
       "      <td>201804</td>\n",
       "      <td>9028333</td>\n",
       "      <td>51983661925</td>\n",
       "      <td>45.903226</td>\n",
       "      <td>122.879997</td>\n",
       "      <td>SIM</td>\n",
       "      <td>92.3700</td>\n",
       "      <td>54</td>\n",
       "      <td>410</td>\n",
       "      <td>327.9664</td>\n",
       "      <td>...</td>\n",
       "      <td>0</td>\n",
       "      <td>0</td>\n",
       "      <td>0.0</td>\n",
       "      <td>0</td>\n",
       "      <td>0.0</td>\n",
       "      <td>0.0</td>\n",
       "      <td>0.0</td>\n",
       "      <td>0.0</td>\n",
       "      <td>0.0</td>\n",
       "      <td>0</td>\n",
       "    </tr>\n",
       "    <tr>\n",
       "      <th>2</th>\n",
       "      <td>201805</td>\n",
       "      <td>34979663</td>\n",
       "      <td>51942976545</td>\n",
       "      <td>11.612903</td>\n",
       "      <td>66.949203</td>\n",
       "      <td>PACK</td>\n",
       "      <td>NaN</td>\n",
       "      <td>792</td>\n",
       "      <td>587</td>\n",
       "      <td>512.2667</td>\n",
       "      <td>...</td>\n",
       "      <td>0</td>\n",
       "      <td>0</td>\n",
       "      <td>0.0</td>\n",
       "      <td>0</td>\n",
       "      <td>0.0</td>\n",
       "      <td>0.0</td>\n",
       "      <td>0.0</td>\n",
       "      <td>0.0</td>\n",
       "      <td>0.0</td>\n",
       "      <td>0</td>\n",
       "    </tr>\n",
       "    <tr>\n",
       "      <th>3</th>\n",
       "      <td>201805</td>\n",
       "      <td>13670934</td>\n",
       "      <td>51958993810</td>\n",
       "      <td>32.838710</td>\n",
       "      <td>41.525398</td>\n",
       "      <td>PACK</td>\n",
       "      <td>NaN</td>\n",
       "      <td>170</td>\n",
       "      <td>144</td>\n",
       "      <td>100.5000</td>\n",
       "      <td>...</td>\n",
       "      <td>0</td>\n",
       "      <td>0</td>\n",
       "      <td>0.0</td>\n",
       "      <td>0</td>\n",
       "      <td>0.0</td>\n",
       "      <td>0.0</td>\n",
       "      <td>0.0</td>\n",
       "      <td>0.0</td>\n",
       "      <td>0.0</td>\n",
       "      <td>0</td>\n",
       "    </tr>\n",
       "    <tr>\n",
       "      <th>4</th>\n",
       "      <td>201804</td>\n",
       "      <td>16547229</td>\n",
       "      <td>51934098463</td>\n",
       "      <td>28.387097</td>\n",
       "      <td>62.711899</td>\n",
       "      <td>PACK</td>\n",
       "      <td>62.7119</td>\n",
       "      <td>219</td>\n",
       "      <td>784</td>\n",
       "      <td>745.2162</td>\n",
       "      <td>...</td>\n",
       "      <td>0</td>\n",
       "      <td>0</td>\n",
       "      <td>0.0</td>\n",
       "      <td>0</td>\n",
       "      <td>0.0</td>\n",
       "      <td>0.0</td>\n",
       "      <td>0.0</td>\n",
       "      <td>0.0</td>\n",
       "      <td>0.0</td>\n",
       "      <td>1</td>\n",
       "    </tr>\n",
       "  </tbody>\n",
       "</table>\n",
       "<p>5 rows × 357 columns</p>\n",
       "</div>"
      ],
      "text/plain": [
       "   NUMPERIODO  NUMCODCONTRATOBSCS  VCHTELEFONO  ANT_CLIENTE  NUMRENTABASICA  \\\n",
       "0      201804            38172100  51982603192     7.645161       41.525398   \n",
       "1      201804             9028333  51983661925    45.903226      122.879997   \n",
       "2      201805            34979663  51942976545    11.612903       66.949203   \n",
       "3      201805            13670934  51958993810    32.838710       41.525398   \n",
       "4      201804            16547229  51934098463    28.387097       62.711899   \n",
       "\n",
       "  VCHPACKCHIP  NUMINGRESOTEORICO  NUMMINUTOSENTRANTE_2M  NUMMINUTOSALIENTE_2M  \\\n",
       "0        PACK            41.5254                    151                   596   \n",
       "1         SIM            92.3700                     54                   410   \n",
       "2        PACK                NaN                    792                   587   \n",
       "3        PACK                NaN                    170                   144   \n",
       "4        PACK            62.7119                    219                   784   \n",
       "\n",
       "   NUMMINSALIENTEOFFNET_2M     ...       NUMMB  NUMMB_ADICIONAL  \\\n",
       "0                 590.9832     ...           0                0   \n",
       "1                 327.9664     ...           0                0   \n",
       "2                 512.2667     ...           0                0   \n",
       "3                 100.5000     ...           0                0   \n",
       "4                 745.2162     ...           0                0   \n",
       "\n",
       "   NUMKB_ADICIONAL  PCT_MB_ADICIONAL  PCT_USO_TRAFICOTOTAL_2M  \\\n",
       "0              0.0                 0                      0.0   \n",
       "1              0.0                 0                      0.0   \n",
       "2              0.0                 0                      0.0   \n",
       "3              0.0                 0                      0.0   \n",
       "4              0.0                 0                      0.0   \n",
       "\n",
       "   PCT_USO_TRAFICOTOTAL_1M  PCT_USO_TRAFICOTOTAL_M0  PCT_USO_TRAFICOTOTAL_U3M  \\\n",
       "0                      0.0                      0.0                       0.0   \n",
       "1                      0.0                      0.0                       0.0   \n",
       "2                      0.0                      0.0                       0.0   \n",
       "3                      0.0                      0.0                       0.0   \n",
       "4                      0.0                      0.0                       0.0   \n",
       "\n",
       "   PCT_USO_TRAFICOTOTAL_U2M  FLG_RECARGA  \n",
       "0                       0.0            0  \n",
       "1                       0.0            0  \n",
       "2                       0.0            0  \n",
       "3                       0.0            0  \n",
       "4                       0.0            1  \n",
       "\n",
       "[5 rows x 357 columns]"
      ]
     },
     "execution_count": 6,
     "metadata": {},
     "output_type": "execute_result"
    }
   ],
   "source": [
    "df_data.head()"
   ]
  },
  {
   "cell_type": "code",
   "execution_count": 7,
   "metadata": {},
   "outputs": [
    {
     "name": "stdout",
     "output_type": "stream",
     "text": [
      "<class 'pandas.core.frame.DataFrame'>\n",
      "Int64Index: 749 entries, 0 to 748\n",
      "Columns: 357 entries, NUMPERIODO to FLG_RECARGA\n",
      "dtypes: float64(285), int64(69), object(3)\n",
      "memory usage: 2.0+ MB\n"
     ]
    }
   ],
   "source": [
    "df_data.info()"
   ]
  },
  {
   "cell_type": "code",
   "execution_count": 8,
   "metadata": {},
   "outputs": [
    {
     "data": {
      "text/plain": [
       "(749, 357)"
      ]
     },
     "execution_count": 8,
     "metadata": {},
     "output_type": "execute_result"
    }
   ],
   "source": [
    "df_data.shape"
   ]
  },
  {
   "cell_type": "code",
   "execution_count": 9,
   "metadata": {},
   "outputs": [
    {
     "data": {
      "text/html": [
       "<div>\n",
       "<style scoped>\n",
       "    .dataframe tbody tr th:only-of-type {\n",
       "        vertical-align: middle;\n",
       "    }\n",
       "\n",
       "    .dataframe tbody tr th {\n",
       "        vertical-align: top;\n",
       "    }\n",
       "\n",
       "    .dataframe thead th {\n",
       "        text-align: right;\n",
       "    }\n",
       "</style>\n",
       "<table border=\"1\" class=\"dataframe\">\n",
       "  <thead>\n",
       "    <tr style=\"text-align: right;\">\n",
       "      <th></th>\n",
       "      <th>0</th>\n",
       "    </tr>\n",
       "  </thead>\n",
       "  <tbody>\n",
       "    <tr>\n",
       "      <th>ANT_CLIENTE</th>\n",
       "      <td>float64</td>\n",
       "    </tr>\n",
       "    <tr>\n",
       "      <th>NUMRENTABASICA</th>\n",
       "      <td>float64</td>\n",
       "    </tr>\n",
       "    <tr>\n",
       "      <th>NUMINGRESOTEORICO</th>\n",
       "      <td>float64</td>\n",
       "    </tr>\n",
       "    <tr>\n",
       "      <th>NUMMINSALIENTEOFFNET_2M</th>\n",
       "      <td>float64</td>\n",
       "    </tr>\n",
       "    <tr>\n",
       "      <th>NUMMINENTRANTEOFFNET_2M</th>\n",
       "      <td>float64</td>\n",
       "    </tr>\n",
       "    <tr>\n",
       "      <th>NUMMINSALIENTEONNET_2M</th>\n",
       "      <td>float64</td>\n",
       "    </tr>\n",
       "    <tr>\n",
       "      <th>NUMMINENTRANTEONNET_2M</th>\n",
       "      <td>float64</td>\n",
       "    </tr>\n",
       "    <tr>\n",
       "      <th>NUMTRAFICOFACEBOOK_2M</th>\n",
       "      <td>float64</td>\n",
       "    </tr>\n",
       "    <tr>\n",
       "      <th>NUMTRAFICOWHATSAPP_2M</th>\n",
       "      <td>float64</td>\n",
       "    </tr>\n",
       "    <tr>\n",
       "      <th>NUMTRAFICOYOUTUBE_2M</th>\n",
       "      <td>float64</td>\n",
       "    </tr>\n",
       "    <tr>\n",
       "      <th>NUMTRAFICOSPOTIFY_2M</th>\n",
       "      <td>float64</td>\n",
       "    </tr>\n",
       "    <tr>\n",
       "      <th>NUMTRAFICOSOUNDCLOUD_2M</th>\n",
       "      <td>float64</td>\n",
       "    </tr>\n",
       "    <tr>\n",
       "      <th>NUMTRAFICOAPPLEMUSIC_2M</th>\n",
       "      <td>float64</td>\n",
       "    </tr>\n",
       "    <tr>\n",
       "      <th>NUMTRAFICOINSTAGRAM_2M</th>\n",
       "      <td>float64</td>\n",
       "    </tr>\n",
       "    <tr>\n",
       "      <th>NUMTRAFICOMAILILIMITADO_2M</th>\n",
       "      <td>float64</td>\n",
       "    </tr>\n",
       "    <tr>\n",
       "      <th>NUMTRAFICONETFLIX_2M</th>\n",
       "      <td>float64</td>\n",
       "    </tr>\n",
       "    <tr>\n",
       "      <th>NUMTRAFICOPAGADO_2M</th>\n",
       "      <td>float64</td>\n",
       "    </tr>\n",
       "    <tr>\n",
       "      <th>NUMTRAFICOTOTAL_2M</th>\n",
       "      <td>float64</td>\n",
       "    </tr>\n",
       "    <tr>\n",
       "      <th>NUMMINSALIENTEOFFNET_1M</th>\n",
       "      <td>float64</td>\n",
       "    </tr>\n",
       "    <tr>\n",
       "      <th>NUMMINENTRANTEOFFNET_1M</th>\n",
       "      <td>float64</td>\n",
       "    </tr>\n",
       "  </tbody>\n",
       "</table>\n",
       "</div>"
      ],
      "text/plain": [
       "                                  0\n",
       "ANT_CLIENTE                 float64\n",
       "NUMRENTABASICA              float64\n",
       "NUMINGRESOTEORICO           float64\n",
       "NUMMINSALIENTEOFFNET_2M     float64\n",
       "NUMMINENTRANTEOFFNET_2M     float64\n",
       "NUMMINSALIENTEONNET_2M      float64\n",
       "NUMMINENTRANTEONNET_2M      float64\n",
       "NUMTRAFICOFACEBOOK_2M       float64\n",
       "NUMTRAFICOWHATSAPP_2M       float64\n",
       "NUMTRAFICOYOUTUBE_2M        float64\n",
       "NUMTRAFICOSPOTIFY_2M        float64\n",
       "NUMTRAFICOSOUNDCLOUD_2M     float64\n",
       "NUMTRAFICOAPPLEMUSIC_2M     float64\n",
       "NUMTRAFICOINSTAGRAM_2M      float64\n",
       "NUMTRAFICOMAILILIMITADO_2M  float64\n",
       "NUMTRAFICONETFLIX_2M        float64\n",
       "NUMTRAFICOPAGADO_2M         float64\n",
       "NUMTRAFICOTOTAL_2M          float64\n",
       "NUMMINSALIENTEOFFNET_1M     float64\n",
       "NUMMINENTRANTEOFFNET_1M     float64"
      ]
     },
     "execution_count": 9,
     "metadata": {},
     "output_type": "execute_result"
    }
   ],
   "source": [
    "pd.DataFrame(df_data.dtypes[df_data.dtypes=='float64']).head(20)"
   ]
  },
  {
   "cell_type": "code",
   "execution_count": 10,
   "metadata": {},
   "outputs": [
    {
     "data": {
      "text/html": [
       "<div>\n",
       "<style scoped>\n",
       "    .dataframe tbody tr th:only-of-type {\n",
       "        vertical-align: middle;\n",
       "    }\n",
       "\n",
       "    .dataframe tbody tr th {\n",
       "        vertical-align: top;\n",
       "    }\n",
       "\n",
       "    .dataframe thead th {\n",
       "        text-align: right;\n",
       "    }\n",
       "</style>\n",
       "<table border=\"1\" class=\"dataframe\">\n",
       "  <thead>\n",
       "    <tr style=\"text-align: right;\">\n",
       "      <th></th>\n",
       "      <th>0</th>\n",
       "    </tr>\n",
       "  </thead>\n",
       "  <tbody>\n",
       "    <tr>\n",
       "      <th>NUMPERIODO</th>\n",
       "      <td>int64</td>\n",
       "    </tr>\n",
       "    <tr>\n",
       "      <th>NUMCODCONTRATOBSCS</th>\n",
       "      <td>int64</td>\n",
       "    </tr>\n",
       "    <tr>\n",
       "      <th>VCHTELEFONO</th>\n",
       "      <td>int64</td>\n",
       "    </tr>\n",
       "    <tr>\n",
       "      <th>NUMMINUTOSENTRANTE_2M</th>\n",
       "      <td>int64</td>\n",
       "    </tr>\n",
       "    <tr>\n",
       "      <th>NUMMINUTOSALIENTE_2M</th>\n",
       "      <td>int64</td>\n",
       "    </tr>\n",
       "    <tr>\n",
       "      <th>NUMTRAFICOYOUTUBEPAGADO_2M</th>\n",
       "      <td>int64</td>\n",
       "    </tr>\n",
       "    <tr>\n",
       "      <th>NUMMINUTOSENTRANTE_1M</th>\n",
       "      <td>int64</td>\n",
       "    </tr>\n",
       "    <tr>\n",
       "      <th>NUMMINUTOSALIENTE_1M</th>\n",
       "      <td>int64</td>\n",
       "    </tr>\n",
       "    <tr>\n",
       "      <th>NUMTRAFICOYOUTUBEPAGADO_1M</th>\n",
       "      <td>int64</td>\n",
       "    </tr>\n",
       "    <tr>\n",
       "      <th>NUMTRAFICOAPPLEMUSIC_1M</th>\n",
       "      <td>int64</td>\n",
       "    </tr>\n",
       "    <tr>\n",
       "      <th>NUMMINUTOSALIENTE_M0</th>\n",
       "      <td>int64</td>\n",
       "    </tr>\n",
       "    <tr>\n",
       "      <th>NUMTRAFICOAPPLEMUSIC_M0</th>\n",
       "      <td>int64</td>\n",
       "    </tr>\n",
       "    <tr>\n",
       "      <th>NUMMINUTOSALIENTE_U2M</th>\n",
       "      <td>int64</td>\n",
       "    </tr>\n",
       "    <tr>\n",
       "      <th>NUMMINUTOSALIENTE_U3M</th>\n",
       "      <td>int64</td>\n",
       "    </tr>\n",
       "    <tr>\n",
       "      <th>MAX_NUMMINUTOSENTRANTE_U2M</th>\n",
       "      <td>int64</td>\n",
       "    </tr>\n",
       "    <tr>\n",
       "      <th>MAX_NUMMINUTOSALIENTE_U2M</th>\n",
       "      <td>int64</td>\n",
       "    </tr>\n",
       "    <tr>\n",
       "      <th>MAX_NUMMINUTOSENTRANTE_U3M</th>\n",
       "      <td>int64</td>\n",
       "    </tr>\n",
       "    <tr>\n",
       "      <th>MAX_NUMMINUTOSALIENTE_U3M</th>\n",
       "      <td>int64</td>\n",
       "    </tr>\n",
       "    <tr>\n",
       "      <th>MIN_NUMMINUTOSENTRANTE_U2M</th>\n",
       "      <td>int64</td>\n",
       "    </tr>\n",
       "    <tr>\n",
       "      <th>MIN_NUMMINUTOSALIENTE_U2M</th>\n",
       "      <td>int64</td>\n",
       "    </tr>\n",
       "  </tbody>\n",
       "</table>\n",
       "</div>"
      ],
      "text/plain": [
       "                                0\n",
       "NUMPERIODO                  int64\n",
       "NUMCODCONTRATOBSCS          int64\n",
       "VCHTELEFONO                 int64\n",
       "NUMMINUTOSENTRANTE_2M       int64\n",
       "NUMMINUTOSALIENTE_2M        int64\n",
       "NUMTRAFICOYOUTUBEPAGADO_2M  int64\n",
       "NUMMINUTOSENTRANTE_1M       int64\n",
       "NUMMINUTOSALIENTE_1M        int64\n",
       "NUMTRAFICOYOUTUBEPAGADO_1M  int64\n",
       "NUMTRAFICOAPPLEMUSIC_1M     int64\n",
       "NUMMINUTOSALIENTE_M0        int64\n",
       "NUMTRAFICOAPPLEMUSIC_M0     int64\n",
       "NUMMINUTOSALIENTE_U2M       int64\n",
       "NUMMINUTOSALIENTE_U3M       int64\n",
       "MAX_NUMMINUTOSENTRANTE_U2M  int64\n",
       "MAX_NUMMINUTOSALIENTE_U2M   int64\n",
       "MAX_NUMMINUTOSENTRANTE_U3M  int64\n",
       "MAX_NUMMINUTOSALIENTE_U3M   int64\n",
       "MIN_NUMMINUTOSENTRANTE_U2M  int64\n",
       "MIN_NUMMINUTOSALIENTE_U2M   int64"
      ]
     },
     "execution_count": 10,
     "metadata": {},
     "output_type": "execute_result"
    }
   ],
   "source": [
    "pd.DataFrame(df_data.dtypes[df_data.dtypes=='int64']).head(20)"
   ]
  },
  {
   "cell_type": "code",
   "execution_count": 11,
   "metadata": {},
   "outputs": [
    {
     "data": {
      "text/html": [
       "<div>\n",
       "<style scoped>\n",
       "    .dataframe tbody tr th:only-of-type {\n",
       "        vertical-align: middle;\n",
       "    }\n",
       "\n",
       "    .dataframe tbody tr th {\n",
       "        vertical-align: top;\n",
       "    }\n",
       "\n",
       "    .dataframe thead th {\n",
       "        text-align: right;\n",
       "    }\n",
       "</style>\n",
       "<table border=\"1\" class=\"dataframe\">\n",
       "  <thead>\n",
       "    <tr style=\"text-align: right;\">\n",
       "      <th></th>\n",
       "      <th>0</th>\n",
       "    </tr>\n",
       "  </thead>\n",
       "  <tbody>\n",
       "    <tr>\n",
       "      <th>VCHPACKCHIP</th>\n",
       "      <td>object</td>\n",
       "    </tr>\n",
       "    <tr>\n",
       "      <th>VCHRANGO_RENTA</th>\n",
       "      <td>object</td>\n",
       "    </tr>\n",
       "    <tr>\n",
       "      <th>VCHFAMILIA_PLAN</th>\n",
       "      <td>object</td>\n",
       "    </tr>\n",
       "  </tbody>\n",
       "</table>\n",
       "</div>"
      ],
      "text/plain": [
       "                      0\n",
       "VCHPACKCHIP      object\n",
       "VCHRANGO_RENTA   object\n",
       "VCHFAMILIA_PLAN  object"
      ]
     },
     "execution_count": 11,
     "metadata": {},
     "output_type": "execute_result"
    }
   ],
   "source": [
    "pd.DataFrame(df_data.dtypes[df_data.dtypes=='object'])"
   ]
  },
  {
   "cell_type": "code",
   "execution_count": 12,
   "metadata": {},
   "outputs": [
    {
     "data": {
      "text/plain": [
       "PACK    510\n",
       "SIM     239\n",
       "Name: VCHPACKCHIP, dtype: int64"
      ]
     },
     "execution_count": 12,
     "metadata": {},
     "output_type": "execute_result"
    }
   ],
   "source": [
    "df_data['VCHPACKCHIP'].value_counts()"
   ]
  },
  {
   "cell_type": "code",
   "execution_count": 13,
   "metadata": {},
   "outputs": [
    {
     "data": {
      "text/plain": [
       "Media    468\n",
       "Baja     239\n",
       "Alta      42\n",
       "Name: VCHRANGO_RENTA, dtype: int64"
      ]
     },
     "execution_count": 13,
     "metadata": {},
     "output_type": "execute_result"
    }
   ],
   "source": [
    "df_data['VCHRANGO_RENTA'].value_counts()"
   ]
  },
  {
   "cell_type": "code",
   "execution_count": 14,
   "metadata": {},
   "outputs": [
    {
     "data": {
      "text/plain": [
       "Control Negocio    747\n",
       "Empresa Plus         2\n",
       "Name: VCHFAMILIA_PLAN, dtype: int64"
      ]
     },
     "execution_count": 14,
     "metadata": {},
     "output_type": "execute_result"
    }
   ],
   "source": [
    "df_data['VCHFAMILIA_PLAN'].value_counts()"
   ]
  },
  {
   "cell_type": "code",
   "execution_count": 15,
   "metadata": {},
   "outputs": [
    {
     "data": {
      "text/plain": [
       "(62.556, 72.61]       0.145527\n",
       "(32.394, 42.448]      0.132176\n",
       "(82.664, 92.718]      0.109479\n",
       "(22.34, 32.394]       0.042724\n",
       "(42.448, 52.502]      0.041389\n",
       "(72.61, 82.664]       0.024032\n",
       "(112.826, 122.88]     0.022697\n",
       "(52.502, 62.556]      0.012016\n",
       "(12.175, 22.34]       0.008011\n",
       "(102.772, 112.826]    0.001335\n",
       "(92.718, 102.772]     0.000000\n",
       "Name: NUMINGRESOTEORICO, dtype: float64"
      ]
     },
     "execution_count": 15,
     "metadata": {},
     "output_type": "execute_result"
    }
   ],
   "source": [
    "df_data['NUMINGRESOTEORICO'].value_counts(bins=11,normalize=True)"
   ]
  },
  {
   "cell_type": "markdown",
   "metadata": {},
   "source": [
    "### procesando los datos NUMINGRESOTEORICO"
   ]
  },
  {
   "cell_type": "code",
   "execution_count": 16,
   "metadata": {},
   "outputs": [
    {
     "name": "stdout",
     "output_type": "stream",
     "text": [
      "mean con NaN ->  61.954822029702875\n",
      "mean sin NaN ->  61.954822029702875\n",
      "minimo con NaN ->  12.2863\n",
      "minimo sin NaN ->  12.2863\n"
     ]
    }
   ],
   "source": [
    "## procesando los datos NUMINGRESOTEORICO\n",
    "data_temp1 = df_data['NUMINGRESOTEORICO'].copy()\n",
    "data_temp2 = df_data['NUMINGRESOTEORICO'].copy()\n",
    "print(\"mean con NaN -> \",data_temp1.mean())\n",
    "print(\"mean sin NaN -> \",data_temp1[data_temp1.notnull()].mean())\n",
    "\n",
    "print(\"minimo con NaN -> \",data_temp1.min())\n",
    "print(\"minimo sin NaN -> \",data_temp1[data_temp1.notnull()].min())"
   ]
  },
  {
   "cell_type": "code",
   "execution_count": 17,
   "metadata": {},
   "outputs": [],
   "source": [
    "values = data_temp1[data_temp1.notnull()].value_counts().keys().tolist()\n",
    "counts = data_temp1[data_temp1.notnull()].value_counts().tolist()"
   ]
  },
  {
   "cell_type": "code",
   "execution_count": 18,
   "metadata": {},
   "outputs": [
    {
     "data": {
      "text/plain": [
       "[76, 69, 51, 32, 28, 21, 18, 17, 15, 13]"
      ]
     },
     "execution_count": 18,
     "metadata": {},
     "output_type": "execute_result"
    }
   ],
   "source": [
    "counts[:10]"
   ]
  },
  {
   "cell_type": "code",
   "execution_count": 19,
   "metadata": {},
   "outputs": [
    {
     "name": "stderr",
     "output_type": "stream",
     "text": [
      "C:\\Users\\miguel\\Anaconda3\\lib\\site-packages\\scipy\\stats\\stats.py:1713: FutureWarning: Using a non-tuple sequence for multidimensional indexing is deprecated; use `arr[tuple(seq)]` instead of `arr[seq]`. In the future this will be interpreted as an array index, `arr[np.array(seq)]`, which will result either in an error or a different result.\n",
      "  return np.add.reduce(sorted[indexer] * weights, axis=axis) / sumval\n"
     ]
    },
    {
     "data": {
      "text/plain": [
       "<matplotlib.axes._subplots.AxesSubplot at 0x25c60c44e80>"
      ]
     },
     "execution_count": 19,
     "metadata": {},
     "output_type": "execute_result"
    },
    {
     "data": {
      "image/png": "[encoded data removed]",
      "text/plain": [
       "<Figure size 432x288 with 1 Axes>"
      ]
     },
     "metadata": {
      "needs_background": "light"
     },
     "output_type": "display_data"
    }
   ],
   "source": [
    "sns.distplot(data_temp1[data_temp1.notnull()].value_counts())"
   ]
  },
  {
   "cell_type": "code",
   "execution_count": 20,
   "metadata": {},
   "outputs": [],
   "source": [
    "values = data_temp1[data_temp1].value_counts().keys().tolist()\n",
    "counts = data_temp1[data_temp1].value_counts().tolist()"
   ]
  },
  {
   "cell_type": "code",
   "execution_count": 21,
   "metadata": {},
   "outputs": [
    {
     "data": {
      "text/plain": [
       "<seaborn.axisgrid.PairGrid at 0x25c6133d4a8>"
      ]
     },
     "execution_count": 21,
     "metadata": {},
     "output_type": "execute_result"
    },
    {
     "data": {
      "image/png": "[encoded data removed]",
      "text/plain": [
       "<Figure size 180x180 with 2 Axes>"
      ]
     },
     "metadata": {
      "needs_background": "light"
     },
     "output_type": "display_data"
    }
   ],
   "source": [
    "a = pd.DataFrame(data_temp1.value_counts())\n",
    "b=a.index.values\n",
    "b.sort()\n",
    "sns.pairplot(pd.DataFrame(b))\n",
    "#a['NUMINGRESOTEORICO'].values_counts(bins=5,normalize=True)"
   ]
  },
  {
   "cell_type": "code",
   "execution_count": 22,
   "metadata": {},
   "outputs": [],
   "source": [
    "#print(data_temp1.head())\n",
    "#print(data_temp1.notnull()*1)"
   ]
  },
  {
   "cell_type": "code",
   "execution_count": null,
   "metadata": {},
   "outputs": [],
   "source": []
  },
  {
   "cell_type": "code",
   "execution_count": 23,
   "metadata": {},
   "outputs": [
    {
     "data": {
      "text/plain": [
       "0    66.9492\n",
       "dtype: float64"
      ]
     },
     "execution_count": 23,
     "metadata": {},
     "output_type": "execute_result"
    }
   ],
   "source": [
    "data_temp2 = df_data['NUMINGRESOTEORICO'].copy()\n",
    "data_temp2[data_temp2.notnull()].mode()"
   ]
  },
  {
   "cell_type": "markdown",
   "metadata": {},
   "source": [
    "### Exceptuando columnas"
   ]
  },
  {
   "cell_type": "code",
   "execution_count": 24,
   "metadata": {},
   "outputs": [],
   "source": [
    "columns_exec = []\n",
    "columns_exec.append('NUMINGRESOTEORICO')\n",
    "columns_exec.append('VCHFAMILIA_PLAN')\n",
    "columns_exec.append('NUMPERIODO')\n",
    "columns_exec.append('VCHTELEFONO')\n",
    "columns_exec.append('ANT_CLIENTE')\n",
    "columns_exec.append('FLG_RECARGA')\n",
    "columns_exec.append('VCHPACKCHIP')\n",
    "columns_exec.append('VCHRANGO_RENTA')\n"
   ]
  },
  {
   "cell_type": "code",
   "execution_count": 25,
   "metadata": {},
   "outputs": [
    {
     "data": {
      "text/html": [
       "<div>\n",
       "<style scoped>\n",
       "    .dataframe tbody tr th:only-of-type {\n",
       "        vertical-align: middle;\n",
       "    }\n",
       "\n",
       "    .dataframe tbody tr th {\n",
       "        vertical-align: top;\n",
       "    }\n",
       "\n",
       "    .dataframe thead th {\n",
       "        text-align: right;\n",
       "    }\n",
       "</style>\n",
       "<table border=\"1\" class=\"dataframe\">\n",
       "  <thead>\n",
       "    <tr style=\"text-align: right;\">\n",
       "      <th></th>\n",
       "      <th>NUMPERIODO</th>\n",
       "      <th>NUMCODCONTRATOBSCS</th>\n",
       "      <th>VCHTELEFONO</th>\n",
       "      <th>ANT_CLIENTE</th>\n",
       "      <th>NUMRENTABASICA</th>\n",
       "      <th>VCHPACKCHIP</th>\n",
       "      <th>NUMINGRESOTEORICO</th>\n",
       "      <th>NUMMINUTOSENTRANTE_2M</th>\n",
       "      <th>NUMMINUTOSALIENTE_2M</th>\n",
       "      <th>NUMMINSALIENTEOFFNET_2M</th>\n",
       "      <th>...</th>\n",
       "      <th>NUMMB</th>\n",
       "      <th>NUMMB_ADICIONAL</th>\n",
       "      <th>NUMKB_ADICIONAL</th>\n",
       "      <th>PCT_MB_ADICIONAL</th>\n",
       "      <th>PCT_USO_TRAFICOTOTAL_2M</th>\n",
       "      <th>PCT_USO_TRAFICOTOTAL_1M</th>\n",
       "      <th>PCT_USO_TRAFICOTOTAL_M0</th>\n",
       "      <th>PCT_USO_TRAFICOTOTAL_U3M</th>\n",
       "      <th>PCT_USO_TRAFICOTOTAL_U2M</th>\n",
       "      <th>FLG_RECARGA</th>\n",
       "    </tr>\n",
       "  </thead>\n",
       "  <tbody>\n",
       "    <tr>\n",
       "      <th>0</th>\n",
       "      <td>201804</td>\n",
       "      <td>38172100</td>\n",
       "      <td>51982603192</td>\n",
       "      <td>7.645161</td>\n",
       "      <td>41.525398</td>\n",
       "      <td>PACK</td>\n",
       "      <td>41.5254</td>\n",
       "      <td>151</td>\n",
       "      <td>596</td>\n",
       "      <td>590.9832</td>\n",
       "      <td>...</td>\n",
       "      <td>0</td>\n",
       "      <td>0</td>\n",
       "      <td>0.0</td>\n",
       "      <td>0</td>\n",
       "      <td>0.0</td>\n",
       "      <td>0.0</td>\n",
       "      <td>0.0</td>\n",
       "      <td>0.0</td>\n",
       "      <td>0.0</td>\n",
       "      <td>0</td>\n",
       "    </tr>\n",
       "    <tr>\n",
       "      <th>1</th>\n",
       "      <td>201804</td>\n",
       "      <td>9028333</td>\n",
       "      <td>51983661925</td>\n",
       "      <td>45.903226</td>\n",
       "      <td>122.879997</td>\n",
       "      <td>SIM</td>\n",
       "      <td>92.3700</td>\n",
       "      <td>54</td>\n",
       "      <td>410</td>\n",
       "      <td>327.9664</td>\n",
       "      <td>...</td>\n",
       "      <td>0</td>\n",
       "      <td>0</td>\n",
       "      <td>0.0</td>\n",
       "      <td>0</td>\n",
       "      <td>0.0</td>\n",
       "      <td>0.0</td>\n",
       "      <td>0.0</td>\n",
       "      <td>0.0</td>\n",
       "      <td>0.0</td>\n",
       "      <td>0</td>\n",
       "    </tr>\n",
       "    <tr>\n",
       "      <th>2</th>\n",
       "      <td>201805</td>\n",
       "      <td>34979663</td>\n",
       "      <td>51942976545</td>\n",
       "      <td>11.612903</td>\n",
       "      <td>66.949203</td>\n",
       "      <td>PACK</td>\n",
       "      <td>NaN</td>\n",
       "      <td>792</td>\n",
       "      <td>587</td>\n",
       "      <td>512.2667</td>\n",
       "      <td>...</td>\n",
       "      <td>0</td>\n",
       "      <td>0</td>\n",
       "      <td>0.0</td>\n",
       "      <td>0</td>\n",
       "      <td>0.0</td>\n",
       "      <td>0.0</td>\n",
       "      <td>0.0</td>\n",
       "      <td>0.0</td>\n",
       "      <td>0.0</td>\n",
       "      <td>0</td>\n",
       "    </tr>\n",
       "    <tr>\n",
       "      <th>3</th>\n",
       "      <td>201805</td>\n",
       "      <td>13670934</td>\n",
       "      <td>51958993810</td>\n",
       "      <td>32.838710</td>\n",
       "      <td>41.525398</td>\n",
       "      <td>PACK</td>\n",
       "      <td>NaN</td>\n",
       "      <td>170</td>\n",
       "      <td>144</td>\n",
       "      <td>100.5000</td>\n",
       "      <td>...</td>\n",
       "      <td>0</td>\n",
       "      <td>0</td>\n",
       "      <td>0.0</td>\n",
       "      <td>0</td>\n",
       "      <td>0.0</td>\n",
       "      <td>0.0</td>\n",
       "      <td>0.0</td>\n",
       "      <td>0.0</td>\n",
       "      <td>0.0</td>\n",
       "      <td>0</td>\n",
       "    </tr>\n",
       "    <tr>\n",
       "      <th>4</th>\n",
       "      <td>201804</td>\n",
       "      <td>16547229</td>\n",
       "      <td>51934098463</td>\n",
       "      <td>28.387097</td>\n",
       "      <td>62.711899</td>\n",
       "      <td>PACK</td>\n",
       "      <td>62.7119</td>\n",
       "      <td>219</td>\n",
       "      <td>784</td>\n",
       "      <td>745.2162</td>\n",
       "      <td>...</td>\n",
       "      <td>0</td>\n",
       "      <td>0</td>\n",
       "      <td>0.0</td>\n",
       "      <td>0</td>\n",
       "      <td>0.0</td>\n",
       "      <td>0.0</td>\n",
       "      <td>0.0</td>\n",
       "      <td>0.0</td>\n",
       "      <td>0.0</td>\n",
       "      <td>1</td>\n",
       "    </tr>\n",
       "  </tbody>\n",
       "</table>\n",
       "<p>5 rows × 357 columns</p>\n",
       "</div>"
      ],
      "text/plain": [
       "   NUMPERIODO  NUMCODCONTRATOBSCS  VCHTELEFONO  ANT_CLIENTE  NUMRENTABASICA  \\\n",
       "0      201804            38172100  51982603192     7.645161       41.525398   \n",
       "1      201804             9028333  51983661925    45.903226      122.879997   \n",
       "2      201805            34979663  51942976545    11.612903       66.949203   \n",
       "3      201805            13670934  51958993810    32.838710       41.525398   \n",
       "4      201804            16547229  51934098463    28.387097       62.711899   \n",
       "\n",
       "  VCHPACKCHIP  NUMINGRESOTEORICO  NUMMINUTOSENTRANTE_2M  NUMMINUTOSALIENTE_2M  \\\n",
       "0        PACK            41.5254                    151                   596   \n",
       "1         SIM            92.3700                     54                   410   \n",
       "2        PACK                NaN                    792                   587   \n",
       "3        PACK                NaN                    170                   144   \n",
       "4        PACK            62.7119                    219                   784   \n",
       "\n",
       "   NUMMINSALIENTEOFFNET_2M     ...       NUMMB  NUMMB_ADICIONAL  \\\n",
       "0                 590.9832     ...           0                0   \n",
       "1                 327.9664     ...           0                0   \n",
       "2                 512.2667     ...           0                0   \n",
       "3                 100.5000     ...           0                0   \n",
       "4                 745.2162     ...           0                0   \n",
       "\n",
       "   NUMKB_ADICIONAL  PCT_MB_ADICIONAL  PCT_USO_TRAFICOTOTAL_2M  \\\n",
       "0              0.0                 0                      0.0   \n",
       "1              0.0                 0                      0.0   \n",
       "2              0.0                 0                      0.0   \n",
       "3              0.0                 0                      0.0   \n",
       "4              0.0                 0                      0.0   \n",
       "\n",
       "   PCT_USO_TRAFICOTOTAL_1M  PCT_USO_TRAFICOTOTAL_M0  PCT_USO_TRAFICOTOTAL_U3M  \\\n",
       "0                      0.0                      0.0                       0.0   \n",
       "1                      0.0                      0.0                       0.0   \n",
       "2                      0.0                      0.0                       0.0   \n",
       "3                      0.0                      0.0                       0.0   \n",
       "4                      0.0                      0.0                       0.0   \n",
       "\n",
       "   PCT_USO_TRAFICOTOTAL_U2M  FLG_RECARGA  \n",
       "0                       0.0            0  \n",
       "1                       0.0            0  \n",
       "2                       0.0            0  \n",
       "3                       0.0            0  \n",
       "4                       0.0            1  \n",
       "\n",
       "[5 rows x 357 columns]"
      ]
     },
     "execution_count": 25,
     "metadata": {},
     "output_type": "execute_result"
    }
   ],
   "source": [
    "df_data.head()"
   ]
  },
  {
   "cell_type": "markdown",
   "metadata": {},
   "source": [
    "### CONVERSION DE VARIABLES"
   ]
  },
  {
   "cell_type": "code",
   "execution_count": 26,
   "metadata": {},
   "outputs": [],
   "source": [
    "df = df_data.copy()"
   ]
  },
  {
   "cell_type": "code",
   "execution_count": 27,
   "metadata": {},
   "outputs": [
    {
     "data": {
      "text/html": [
       "<div>\n",
       "<style scoped>\n",
       "    .dataframe tbody tr th:only-of-type {\n",
       "        vertical-align: middle;\n",
       "    }\n",
       "\n",
       "    .dataframe tbody tr th {\n",
       "        vertical-align: top;\n",
       "    }\n",
       "\n",
       "    .dataframe thead th {\n",
       "        text-align: right;\n",
       "    }\n",
       "</style>\n",
       "<table border=\"1\" class=\"dataframe\">\n",
       "  <thead>\n",
       "    <tr style=\"text-align: right;\">\n",
       "      <th></th>\n",
       "      <th>0</th>\n",
       "    </tr>\n",
       "  </thead>\n",
       "  <tbody>\n",
       "    <tr>\n",
       "      <th>VCHPACKCHIP</th>\n",
       "      <td>object</td>\n",
       "    </tr>\n",
       "    <tr>\n",
       "      <th>VCHRANGO_RENTA</th>\n",
       "      <td>object</td>\n",
       "    </tr>\n",
       "    <tr>\n",
       "      <th>VCHFAMILIA_PLAN</th>\n",
       "      <td>object</td>\n",
       "    </tr>\n",
       "  </tbody>\n",
       "</table>\n",
       "</div>"
      ],
      "text/plain": [
       "                      0\n",
       "VCHPACKCHIP      object\n",
       "VCHRANGO_RENTA   object\n",
       "VCHFAMILIA_PLAN  object"
      ]
     },
     "execution_count": 27,
     "metadata": {},
     "output_type": "execute_result"
    }
   ],
   "source": [
    "pd.DataFrame(df.dtypes[df.dtypes=='object'])"
   ]
  },
  {
   "cell_type": "code",
   "execution_count": 28,
   "metadata": {},
   "outputs": [
    {
     "data": {
      "text/plain": [
       "PACK    510\n",
       "SIM     239\n",
       "Name: VCHPACKCHIP, dtype: int64"
      ]
     },
     "execution_count": 28,
     "metadata": {},
     "output_type": "execute_result"
    }
   ],
   "source": [
    "df_data['VCHPACKCHIP'].value_counts()"
   ]
  },
  {
   "cell_type": "code",
   "execution_count": 29,
   "metadata": {},
   "outputs": [],
   "source": [
    "# VCHPACKCHIP\n",
    "dicc_VCHPACKCHIP = {'PACK':0,\n",
    "                   'SIM':0}\n",
    "df['VCHPACKCHIP'] = df['VCHPACKCHIP'].map(dicc_VCHPACKCHIP)"
   ]
  },
  {
   "cell_type": "code",
   "execution_count": 30,
   "metadata": {},
   "outputs": [],
   "source": [
    "# VCHRANGO_RENTA\n",
    "df_VCHRANGO_RENTA_dummies = pd.get_dummies(df['VCHRANGO_RENTA'],prefix='VCHRANGO_RENTA')"
   ]
  },
  {
   "cell_type": "code",
   "execution_count": 31,
   "metadata": {},
   "outputs": [],
   "source": [
    "# VCHFAMILIA_PLAN\n",
    "#########"
   ]
  },
  {
   "cell_type": "code",
   "execution_count": 32,
   "metadata": {},
   "outputs": [],
   "source": [
    "df = pd.concat([df,df_VCHRANGO_RENTA_dummies],axis=1)"
   ]
  },
  {
   "cell_type": "markdown",
   "metadata": {},
   "source": [
    "df.head()"
   ]
  },
  {
   "cell_type": "code",
   "execution_count": 34,
   "metadata": {},
   "outputs": [],
   "source": [
    "x_data = df.drop(columns=columns_exec)"
   ]
  },
  {
   "cell_type": "code",
   "execution_count": 35,
   "metadata": {},
   "outputs": [
    {
     "data": {
      "text/html": [
       "<div>\n",
       "<style scoped>\n",
       "    .dataframe tbody tr th:only-of-type {\n",
       "        vertical-align: middle;\n",
       "    }\n",
       "\n",
       "    .dataframe tbody tr th {\n",
       "        vertical-align: top;\n",
       "    }\n",
       "\n",
       "    .dataframe thead th {\n",
       "        text-align: right;\n",
       "    }\n",
       "</style>\n",
       "<table border=\"1\" class=\"dataframe\">\n",
       "  <thead>\n",
       "    <tr style=\"text-align: right;\">\n",
       "      <th></th>\n",
       "      <th>NUMCODCONTRATOBSCS</th>\n",
       "      <th>NUMRENTABASICA</th>\n",
       "      <th>NUMMINUTOSENTRANTE_2M</th>\n",
       "      <th>NUMMINUTOSALIENTE_2M</th>\n",
       "      <th>NUMMINSALIENTEOFFNET_2M</th>\n",
       "      <th>NUMMINENTRANTEOFFNET_2M</th>\n",
       "      <th>NUMMINSALIENTEONNET_2M</th>\n",
       "      <th>NUMMINENTRANTEONNET_2M</th>\n",
       "      <th>NUMTRAFICOFACEBOOK_2M</th>\n",
       "      <th>NUMTRAFICOWHATSAPP_2M</th>\n",
       "      <th>...</th>\n",
       "      <th>NUMKB_ADICIONAL</th>\n",
       "      <th>PCT_MB_ADICIONAL</th>\n",
       "      <th>PCT_USO_TRAFICOTOTAL_2M</th>\n",
       "      <th>PCT_USO_TRAFICOTOTAL_1M</th>\n",
       "      <th>PCT_USO_TRAFICOTOTAL_M0</th>\n",
       "      <th>PCT_USO_TRAFICOTOTAL_U3M</th>\n",
       "      <th>PCT_USO_TRAFICOTOTAL_U2M</th>\n",
       "      <th>VCHRANGO_RENTA_Alta</th>\n",
       "      <th>VCHRANGO_RENTA_Baja</th>\n",
       "      <th>VCHRANGO_RENTA_Media</th>\n",
       "    </tr>\n",
       "  </thead>\n",
       "  <tbody>\n",
       "    <tr>\n",
       "      <th>0</th>\n",
       "      <td>38172100</td>\n",
       "      <td>41.525398</td>\n",
       "      <td>151</td>\n",
       "      <td>596</td>\n",
       "      <td>590.9832</td>\n",
       "      <td>155.5999</td>\n",
       "      <td>5.0168</td>\n",
       "      <td>0.0000</td>\n",
       "      <td>52.437877</td>\n",
       "      <td>291.387089</td>\n",
       "      <td>...</td>\n",
       "      <td>0.0</td>\n",
       "      <td>0</td>\n",
       "      <td>0.0</td>\n",
       "      <td>0.0</td>\n",
       "      <td>0.0</td>\n",
       "      <td>0.0</td>\n",
       "      <td>0.0</td>\n",
       "      <td>0</td>\n",
       "      <td>1</td>\n",
       "      <td>0</td>\n",
       "    </tr>\n",
       "    <tr>\n",
       "      <th>1</th>\n",
       "      <td>9028333</td>\n",
       "      <td>122.879997</td>\n",
       "      <td>54</td>\n",
       "      <td>410</td>\n",
       "      <td>327.9664</td>\n",
       "      <td>14.1669</td>\n",
       "      <td>82.0336</td>\n",
       "      <td>39.8331</td>\n",
       "      <td>33.883530</td>\n",
       "      <td>106.631694</td>\n",
       "      <td>...</td>\n",
       "      <td>0.0</td>\n",
       "      <td>0</td>\n",
       "      <td>0.0</td>\n",
       "      <td>0.0</td>\n",
       "      <td>0.0</td>\n",
       "      <td>0.0</td>\n",
       "      <td>0.0</td>\n",
       "      <td>1</td>\n",
       "      <td>0</td>\n",
       "      <td>0</td>\n",
       "    </tr>\n",
       "    <tr>\n",
       "      <th>2</th>\n",
       "      <td>34979663</td>\n",
       "      <td>66.949203</td>\n",
       "      <td>792</td>\n",
       "      <td>587</td>\n",
       "      <td>512.2667</td>\n",
       "      <td>657.4498</td>\n",
       "      <td>74.7333</td>\n",
       "      <td>134.5502</td>\n",
       "      <td>106.086946</td>\n",
       "      <td>366.092574</td>\n",
       "      <td>...</td>\n",
       "      <td>0.0</td>\n",
       "      <td>0</td>\n",
       "      <td>0.0</td>\n",
       "      <td>0.0</td>\n",
       "      <td>0.0</td>\n",
       "      <td>0.0</td>\n",
       "      <td>0.0</td>\n",
       "      <td>0</td>\n",
       "      <td>0</td>\n",
       "      <td>1</td>\n",
       "    </tr>\n",
       "    <tr>\n",
       "      <th>3</th>\n",
       "      <td>13670934</td>\n",
       "      <td>41.525398</td>\n",
       "      <td>170</td>\n",
       "      <td>144</td>\n",
       "      <td>100.5000</td>\n",
       "      <td>122.3668</td>\n",
       "      <td>43.5000</td>\n",
       "      <td>47.6332</td>\n",
       "      <td>47.410069</td>\n",
       "      <td>739.959649</td>\n",
       "      <td>...</td>\n",
       "      <td>0.0</td>\n",
       "      <td>0</td>\n",
       "      <td>0.0</td>\n",
       "      <td>0.0</td>\n",
       "      <td>0.0</td>\n",
       "      <td>0.0</td>\n",
       "      <td>0.0</td>\n",
       "      <td>0</td>\n",
       "      <td>1</td>\n",
       "      <td>0</td>\n",
       "    </tr>\n",
       "    <tr>\n",
       "      <th>4</th>\n",
       "      <td>16547229</td>\n",
       "      <td>62.711899</td>\n",
       "      <td>219</td>\n",
       "      <td>784</td>\n",
       "      <td>745.2162</td>\n",
       "      <td>193.3838</td>\n",
       "      <td>38.7838</td>\n",
       "      <td>25.6162</td>\n",
       "      <td>237.011286</td>\n",
       "      <td>1114.929423</td>\n",
       "      <td>...</td>\n",
       "      <td>0.0</td>\n",
       "      <td>0</td>\n",
       "      <td>0.0</td>\n",
       "      <td>0.0</td>\n",
       "      <td>0.0</td>\n",
       "      <td>0.0</td>\n",
       "      <td>0.0</td>\n",
       "      <td>0</td>\n",
       "      <td>0</td>\n",
       "      <td>1</td>\n",
       "    </tr>\n",
       "  </tbody>\n",
       "</table>\n",
       "<p>5 rows × 352 columns</p>\n",
       "</div>"
      ],
      "text/plain": [
       "   NUMCODCONTRATOBSCS  NUMRENTABASICA  NUMMINUTOSENTRANTE_2M  \\\n",
       "0            38172100       41.525398                    151   \n",
       "1             9028333      122.879997                     54   \n",
       "2            34979663       66.949203                    792   \n",
       "3            13670934       41.525398                    170   \n",
       "4            16547229       62.711899                    219   \n",
       "\n",
       "   NUMMINUTOSALIENTE_2M  NUMMINSALIENTEOFFNET_2M  NUMMINENTRANTEOFFNET_2M  \\\n",
       "0                   596                 590.9832                 155.5999   \n",
       "1                   410                 327.9664                  14.1669   \n",
       "2                   587                 512.2667                 657.4498   \n",
       "3                   144                 100.5000                 122.3668   \n",
       "4                   784                 745.2162                 193.3838   \n",
       "\n",
       "   NUMMINSALIENTEONNET_2M  NUMMINENTRANTEONNET_2M  NUMTRAFICOFACEBOOK_2M  \\\n",
       "0                  5.0168                  0.0000              52.437877   \n",
       "1                 82.0336                 39.8331              33.883530   \n",
       "2                 74.7333                134.5502             106.086946   \n",
       "3                 43.5000                 47.6332              47.410069   \n",
       "4                 38.7838                 25.6162             237.011286   \n",
       "\n",
       "   NUMTRAFICOWHATSAPP_2M          ...           NUMKB_ADICIONAL  \\\n",
       "0             291.387089          ...                       0.0   \n",
       "1             106.631694          ...                       0.0   \n",
       "2             366.092574          ...                       0.0   \n",
       "3             739.959649          ...                       0.0   \n",
       "4            1114.929423          ...                       0.0   \n",
       "\n",
       "   PCT_MB_ADICIONAL  PCT_USO_TRAFICOTOTAL_2M  PCT_USO_TRAFICOTOTAL_1M  \\\n",
       "0                 0                      0.0                      0.0   \n",
       "1                 0                      0.0                      0.0   \n",
       "2                 0                      0.0                      0.0   \n",
       "3                 0                      0.0                      0.0   \n",
       "4                 0                      0.0                      0.0   \n",
       "\n",
       "   PCT_USO_TRAFICOTOTAL_M0  PCT_USO_TRAFICOTOTAL_U3M  \\\n",
       "0                      0.0                       0.0   \n",
       "1                      0.0                       0.0   \n",
       "2                      0.0                       0.0   \n",
       "3                      0.0                       0.0   \n",
       "4                      0.0                       0.0   \n",
       "\n",
       "   PCT_USO_TRAFICOTOTAL_U2M  VCHRANGO_RENTA_Alta  VCHRANGO_RENTA_Baja  \\\n",
       "0                       0.0                    0                    1   \n",
       "1                       0.0                    1                    0   \n",
       "2                       0.0                    0                    0   \n",
       "3                       0.0                    0                    1   \n",
       "4                       0.0                    0                    0   \n",
       "\n",
       "   VCHRANGO_RENTA_Media  \n",
       "0                     0  \n",
       "1                     0  \n",
       "2                     1  \n",
       "3                     0  \n",
       "4                     1  \n",
       "\n",
       "[5 rows x 352 columns]"
      ]
     },
     "execution_count": 35,
     "metadata": {},
     "output_type": "execute_result"
    }
   ],
   "source": [
    "x_data.head()"
   ]
  },
  {
   "cell_type": "code",
   "execution_count": 36,
   "metadata": {},
   "outputs": [],
   "source": [
    "y_data = df['FLG_RECARGA']"
   ]
  },
  {
   "cell_type": "code",
   "execution_count": 37,
   "metadata": {},
   "outputs": [
    {
     "name": "stderr",
     "output_type": "stream",
     "text": [
      "C:\\Users\\miguel\\Anaconda3\\lib\\site-packages\\sklearn\\cross_validation.py:41: DeprecationWarning: This module was deprecated in version 0.18 in favor of the model_selection module into which all the refactored classes and functions are moved. Also note that the interface of the new CV iterators are different from that of this module. This module will be removed in 0.20.\n",
      "  \"This module will be removed in 0.20.\", DeprecationWarning)\n"
     ]
    }
   ],
   "source": [
    "from sklearn.cross_validation import train_test_split"
   ]
  },
  {
   "cell_type": "code",
   "execution_count": 114,
   "metadata": {},
   "outputs": [],
   "source": [
    "X_train, X_test, y_train, y_test = train_test_split(x_data,y_data,train_size=0.65,random_state=50)"
   ]
  },
  {
   "cell_type": "code",
   "execution_count": 115,
   "metadata": {},
   "outputs": [],
   "source": [
    "X_train.reset_index(inplace=True,drop=True)\n",
    "X_test.reset_index(inplace=True,drop=True)\n",
    "y_train.reset_index(inplace=True,drop=True)\n",
    "y_test.reset_index(inplace=True,drop=True)"
   ]
  },
  {
   "cell_type": "markdown",
   "metadata": {},
   "source": [
    "## Scaling"
   ]
  },
  {
   "cell_type": "code",
   "execution_count": 116,
   "metadata": {},
   "outputs": [
    {
     "data": {
      "text/html": [
       "<div>\n",
       "<style scoped>\n",
       "    .dataframe tbody tr th:only-of-type {\n",
       "        vertical-align: middle;\n",
       "    }\n",
       "\n",
       "    .dataframe tbody tr th {\n",
       "        vertical-align: top;\n",
       "    }\n",
       "\n",
       "    .dataframe thead th {\n",
       "        text-align: right;\n",
       "    }\n",
       "</style>\n",
       "<table border=\"1\" class=\"dataframe\">\n",
       "  <thead>\n",
       "    <tr style=\"text-align: right;\">\n",
       "      <th></th>\n",
       "      <th>NUMCODCONTRATOBSCS</th>\n",
       "      <th>NUMRENTABASICA</th>\n",
       "      <th>NUMMINUTOSENTRANTE_2M</th>\n",
       "      <th>NUMMINUTOSALIENTE_2M</th>\n",
       "      <th>NUMMINSALIENTEOFFNET_2M</th>\n",
       "      <th>NUMMINENTRANTEOFFNET_2M</th>\n",
       "      <th>NUMMINSALIENTEONNET_2M</th>\n",
       "      <th>NUMMINENTRANTEONNET_2M</th>\n",
       "      <th>NUMTRAFICOFACEBOOK_2M</th>\n",
       "      <th>NUMTRAFICOWHATSAPP_2M</th>\n",
       "      <th>...</th>\n",
       "      <th>NUMKB_ADICIONAL</th>\n",
       "      <th>PCT_MB_ADICIONAL</th>\n",
       "      <th>PCT_USO_TRAFICOTOTAL_2M</th>\n",
       "      <th>PCT_USO_TRAFICOTOTAL_1M</th>\n",
       "      <th>PCT_USO_TRAFICOTOTAL_M0</th>\n",
       "      <th>PCT_USO_TRAFICOTOTAL_U3M</th>\n",
       "      <th>PCT_USO_TRAFICOTOTAL_U2M</th>\n",
       "      <th>VCHRANGO_RENTA_Alta</th>\n",
       "      <th>VCHRANGO_RENTA_Baja</th>\n",
       "      <th>VCHRANGO_RENTA_Media</th>\n",
       "    </tr>\n",
       "  </thead>\n",
       "  <tbody>\n",
       "    <tr>\n",
       "      <th>0</th>\n",
       "      <td>11538633</td>\n",
       "      <td>66.949203</td>\n",
       "      <td>512</td>\n",
       "      <td>705</td>\n",
       "      <td>420.0667</td>\n",
       "      <td>267.8005</td>\n",
       "      <td>284.9333</td>\n",
       "      <td>244.1995</td>\n",
       "      <td>42.972771</td>\n",
       "      <td>76.336844</td>\n",
       "      <td>...</td>\n",
       "      <td>0.0</td>\n",
       "      <td>0</td>\n",
       "      <td>0.0</td>\n",
       "      <td>0.0</td>\n",
       "      <td>0.0</td>\n",
       "      <td>0.0</td>\n",
       "      <td>0.0</td>\n",
       "      <td>0</td>\n",
       "      <td>0</td>\n",
       "      <td>1</td>\n",
       "    </tr>\n",
       "    <tr>\n",
       "      <th>1</th>\n",
       "      <td>10051904</td>\n",
       "      <td>109.321999</td>\n",
       "      <td>347</td>\n",
       "      <td>587</td>\n",
       "      <td>395.9825</td>\n",
       "      <td>229.9501</td>\n",
       "      <td>191.0175</td>\n",
       "      <td>117.0499</td>\n",
       "      <td>52.954968</td>\n",
       "      <td>1046.706100</td>\n",
       "      <td>...</td>\n",
       "      <td>0.0</td>\n",
       "      <td>0</td>\n",
       "      <td>0.0</td>\n",
       "      <td>0.0</td>\n",
       "      <td>0.0</td>\n",
       "      <td>0.0</td>\n",
       "      <td>0.0</td>\n",
       "      <td>1</td>\n",
       "      <td>0</td>\n",
       "      <td>0</td>\n",
       "    </tr>\n",
       "    <tr>\n",
       "      <th>2</th>\n",
       "      <td>25077292</td>\n",
       "      <td>62.711899</td>\n",
       "      <td>185</td>\n",
       "      <td>173</td>\n",
       "      <td>96.9832</td>\n",
       "      <td>25.4501</td>\n",
       "      <td>76.0168</td>\n",
       "      <td>159.5499</td>\n",
       "      <td>11.346016</td>\n",
       "      <td>17.900717</td>\n",
       "      <td>...</td>\n",
       "      <td>0.0</td>\n",
       "      <td>0</td>\n",
       "      <td>0.0</td>\n",
       "      <td>0.0</td>\n",
       "      <td>0.0</td>\n",
       "      <td>0.0</td>\n",
       "      <td>0.0</td>\n",
       "      <td>0</td>\n",
       "      <td>0</td>\n",
       "      <td>1</td>\n",
       "    </tr>\n",
       "    <tr>\n",
       "      <th>3</th>\n",
       "      <td>30858312</td>\n",
       "      <td>66.949203</td>\n",
       "      <td>269</td>\n",
       "      <td>526</td>\n",
       "      <td>272.7163</td>\n",
       "      <td>187.0336</td>\n",
       "      <td>253.2837</td>\n",
       "      <td>81.9664</td>\n",
       "      <td>7.147714</td>\n",
       "      <td>48.908687</td>\n",
       "      <td>...</td>\n",
       "      <td>0.0</td>\n",
       "      <td>0</td>\n",
       "      <td>0.0</td>\n",
       "      <td>0.0</td>\n",
       "      <td>0.0</td>\n",
       "      <td>0.0</td>\n",
       "      <td>0.0</td>\n",
       "      <td>0</td>\n",
       "      <td>0</td>\n",
       "      <td>1</td>\n",
       "    </tr>\n",
       "    <tr>\n",
       "      <th>4</th>\n",
       "      <td>36974733</td>\n",
       "      <td>41.525398</td>\n",
       "      <td>13</td>\n",
       "      <td>16</td>\n",
       "      <td>12.8500</td>\n",
       "      <td>11.6334</td>\n",
       "      <td>3.1500</td>\n",
       "      <td>1.3666</td>\n",
       "      <td>16.388098</td>\n",
       "      <td>3402.328921</td>\n",
       "      <td>...</td>\n",
       "      <td>0.0</td>\n",
       "      <td>0</td>\n",
       "      <td>0.0</td>\n",
       "      <td>0.0</td>\n",
       "      <td>0.0</td>\n",
       "      <td>0.0</td>\n",
       "      <td>0.0</td>\n",
       "      <td>0</td>\n",
       "      <td>1</td>\n",
       "      <td>0</td>\n",
       "    </tr>\n",
       "  </tbody>\n",
       "</table>\n",
       "<p>5 rows × 352 columns</p>\n",
       "</div>"
      ],
      "text/plain": [
       "   NUMCODCONTRATOBSCS  NUMRENTABASICA  NUMMINUTOSENTRANTE_2M  \\\n",
       "0            11538633       66.949203                    512   \n",
       "1            10051904      109.321999                    347   \n",
       "2            25077292       62.711899                    185   \n",
       "3            30858312       66.949203                    269   \n",
       "4            36974733       41.525398                     13   \n",
       "\n",
       "   NUMMINUTOSALIENTE_2M  NUMMINSALIENTEOFFNET_2M  NUMMINENTRANTEOFFNET_2M  \\\n",
       "0                   705                 420.0667                 267.8005   \n",
       "1                   587                 395.9825                 229.9501   \n",
       "2                   173                  96.9832                  25.4501   \n",
       "3                   526                 272.7163                 187.0336   \n",
       "4                    16                  12.8500                  11.6334   \n",
       "\n",
       "   NUMMINSALIENTEONNET_2M  NUMMINENTRANTEONNET_2M  NUMTRAFICOFACEBOOK_2M  \\\n",
       "0                284.9333                244.1995              42.972771   \n",
       "1                191.0175                117.0499              52.954968   \n",
       "2                 76.0168                159.5499              11.346016   \n",
       "3                253.2837                 81.9664               7.147714   \n",
       "4                  3.1500                  1.3666              16.388098   \n",
       "\n",
       "   NUMTRAFICOWHATSAPP_2M          ...           NUMKB_ADICIONAL  \\\n",
       "0              76.336844          ...                       0.0   \n",
       "1            1046.706100          ...                       0.0   \n",
       "2              17.900717          ...                       0.0   \n",
       "3              48.908687          ...                       0.0   \n",
       "4            3402.328921          ...                       0.0   \n",
       "\n",
       "   PCT_MB_ADICIONAL  PCT_USO_TRAFICOTOTAL_2M  PCT_USO_TRAFICOTOTAL_1M  \\\n",
       "0                 0                      0.0                      0.0   \n",
       "1                 0                      0.0                      0.0   \n",
       "2                 0                      0.0                      0.0   \n",
       "3                 0                      0.0                      0.0   \n",
       "4                 0                      0.0                      0.0   \n",
       "\n",
       "   PCT_USO_TRAFICOTOTAL_M0  PCT_USO_TRAFICOTOTAL_U3M  \\\n",
       "0                      0.0                       0.0   \n",
       "1                      0.0                       0.0   \n",
       "2                      0.0                       0.0   \n",
       "3                      0.0                       0.0   \n",
       "4                      0.0                       0.0   \n",
       "\n",
       "   PCT_USO_TRAFICOTOTAL_U2M  VCHRANGO_RENTA_Alta  VCHRANGO_RENTA_Baja  \\\n",
       "0                       0.0                    0                    0   \n",
       "1                       0.0                    1                    0   \n",
       "2                       0.0                    0                    0   \n",
       "3                       0.0                    0                    0   \n",
       "4                       0.0                    0                    1   \n",
       "\n",
       "   VCHRANGO_RENTA_Media  \n",
       "0                     1  \n",
       "1                     0  \n",
       "2                     1  \n",
       "3                     1  \n",
       "4                     0  \n",
       "\n",
       "[5 rows x 352 columns]"
      ]
     },
     "execution_count": 116,
     "metadata": {},
     "output_type": "execute_result"
    }
   ],
   "source": [
    "X_train.head()"
   ]
  },
  {
   "cell_type": "code",
   "execution_count": 117,
   "metadata": {},
   "outputs": [
    {
     "data": {
      "text/plain": [
       "StandardScaler(copy=True, with_mean=True, with_std=True)"
      ]
     },
     "execution_count": 117,
     "metadata": {},
     "output_type": "execute_result"
    }
   ],
   "source": [
    "from sklearn.preprocessing import StandardScaler\n",
    "scaler = StandardScaler()\n",
    "scaler.fit(X_train)"
   ]
  },
  {
   "cell_type": "code",
   "execution_count": 118,
   "metadata": {},
   "outputs": [
    {
     "data": {
      "text/html": [
       "<div>\n",
       "<style scoped>\n",
       "    .dataframe tbody tr th:only-of-type {\n",
       "        vertical-align: middle;\n",
       "    }\n",
       "\n",
       "    .dataframe tbody tr th {\n",
       "        vertical-align: top;\n",
       "    }\n",
       "\n",
       "    .dataframe thead th {\n",
       "        text-align: right;\n",
       "    }\n",
       "</style>\n",
       "<table border=\"1\" class=\"dataframe\">\n",
       "  <thead>\n",
       "    <tr style=\"text-align: right;\">\n",
       "      <th></th>\n",
       "      <th>NUMCODCONTRATOBSCS</th>\n",
       "      <th>NUMRENTABASICA</th>\n",
       "      <th>NUMMINUTOSENTRANTE_2M</th>\n",
       "      <th>NUMMINUTOSALIENTE_2M</th>\n",
       "      <th>NUMMINSALIENTEOFFNET_2M</th>\n",
       "      <th>NUMMINENTRANTEOFFNET_2M</th>\n",
       "      <th>NUMMINSALIENTEONNET_2M</th>\n",
       "      <th>NUMMINENTRANTEONNET_2M</th>\n",
       "      <th>NUMTRAFICOFACEBOOK_2M</th>\n",
       "      <th>NUMTRAFICOWHATSAPP_2M</th>\n",
       "      <th>...</th>\n",
       "      <th>NUMKB_ADICIONAL</th>\n",
       "      <th>PCT_MB_ADICIONAL</th>\n",
       "      <th>PCT_USO_TRAFICOTOTAL_2M</th>\n",
       "      <th>PCT_USO_TRAFICOTOTAL_1M</th>\n",
       "      <th>PCT_USO_TRAFICOTOTAL_M0</th>\n",
       "      <th>PCT_USO_TRAFICOTOTAL_U3M</th>\n",
       "      <th>PCT_USO_TRAFICOTOTAL_U2M</th>\n",
       "      <th>VCHRANGO_RENTA_Alta</th>\n",
       "      <th>VCHRANGO_RENTA_Baja</th>\n",
       "      <th>VCHRANGO_RENTA_Media</th>\n",
       "    </tr>\n",
       "  </thead>\n",
       "  <tbody>\n",
       "    <tr>\n",
       "      <th>0</th>\n",
       "      <td>-1.408671</td>\n",
       "      <td>0.098087</td>\n",
       "      <td>0.435142</td>\n",
       "      <td>0.518477</td>\n",
       "      <td>0.333913</td>\n",
       "      <td>0.237923</td>\n",
       "      <td>0.491938</td>\n",
       "      <td>0.433751</td>\n",
       "      <td>-0.270907</td>\n",
       "      <td>-0.590015</td>\n",
       "      <td>...</td>\n",
       "      <td>-0.492917</td>\n",
       "      <td>0.0</td>\n",
       "      <td>-0.333305</td>\n",
       "      <td>-0.34785</td>\n",
       "      <td>-0.372911</td>\n",
       "      <td>-0.363294</td>\n",
       "      <td>-0.361065</td>\n",
       "      <td>-0.242536</td>\n",
       "      <td>-0.703836</td>\n",
       "      <td>0.794275</td>\n",
       "    </tr>\n",
       "    <tr>\n",
       "      <th>1</th>\n",
       "      <td>-1.540446</td>\n",
       "      <td>1.849302</td>\n",
       "      <td>-0.074342</td>\n",
       "      <td>0.230251</td>\n",
       "      <td>0.251391</td>\n",
       "      <td>0.049064</td>\n",
       "      <td>0.089417</td>\n",
       "      <td>-0.158484</td>\n",
       "      <td>-0.253968</td>\n",
       "      <td>0.311830</td>\n",
       "      <td>...</td>\n",
       "      <td>-0.492917</td>\n",
       "      <td>0.0</td>\n",
       "      <td>-0.333305</td>\n",
       "      <td>-0.34785</td>\n",
       "      <td>-0.372911</td>\n",
       "      <td>-0.363294</td>\n",
       "      <td>-0.361065</td>\n",
       "      <td>4.123106</td>\n",
       "      <td>-0.703836</td>\n",
       "      <td>-1.259010</td>\n",
       "    </tr>\n",
       "    <tr>\n",
       "      <th>2</th>\n",
       "      <td>-0.208683</td>\n",
       "      <td>-0.077036</td>\n",
       "      <td>-0.574562</td>\n",
       "      <td>-0.780979</td>\n",
       "      <td>-0.773097</td>\n",
       "      <td>-0.971313</td>\n",
       "      <td>-0.403473</td>\n",
       "      <td>0.039472</td>\n",
       "      <td>-0.324576</td>\n",
       "      <td>-0.644324</td>\n",
       "      <td>...</td>\n",
       "      <td>-0.492917</td>\n",
       "      <td>0.0</td>\n",
       "      <td>-0.333305</td>\n",
       "      <td>-0.34785</td>\n",
       "      <td>-0.372911</td>\n",
       "      <td>-0.363294</td>\n",
       "      <td>-0.361065</td>\n",
       "      <td>-0.242536</td>\n",
       "      <td>-0.703836</td>\n",
       "      <td>0.794275</td>\n",
       "    </tr>\n",
       "  </tbody>\n",
       "</table>\n",
       "<p>3 rows × 352 columns</p>\n",
       "</div>"
      ],
      "text/plain": [
       "   NUMCODCONTRATOBSCS  NUMRENTABASICA  NUMMINUTOSENTRANTE_2M  \\\n",
       "0           -1.408671        0.098087               0.435142   \n",
       "1           -1.540446        1.849302              -0.074342   \n",
       "2           -0.208683       -0.077036              -0.574562   \n",
       "\n",
       "   NUMMINUTOSALIENTE_2M  NUMMINSALIENTEOFFNET_2M  NUMMINENTRANTEOFFNET_2M  \\\n",
       "0              0.518477                 0.333913                 0.237923   \n",
       "1              0.230251                 0.251391                 0.049064   \n",
       "2             -0.780979                -0.773097                -0.971313   \n",
       "\n",
       "   NUMMINSALIENTEONNET_2M  NUMMINENTRANTEONNET_2M  NUMTRAFICOFACEBOOK_2M  \\\n",
       "0                0.491938                0.433751              -0.270907   \n",
       "1                0.089417               -0.158484              -0.253968   \n",
       "2               -0.403473                0.039472              -0.324576   \n",
       "\n",
       "   NUMTRAFICOWHATSAPP_2M          ...           NUMKB_ADICIONAL  \\\n",
       "0              -0.590015          ...                 -0.492917   \n",
       "1               0.311830          ...                 -0.492917   \n",
       "2              -0.644324          ...                 -0.492917   \n",
       "\n",
       "   PCT_MB_ADICIONAL  PCT_USO_TRAFICOTOTAL_2M  PCT_USO_TRAFICOTOTAL_1M  \\\n",
       "0               0.0                -0.333305                 -0.34785   \n",
       "1               0.0                -0.333305                 -0.34785   \n",
       "2               0.0                -0.333305                 -0.34785   \n",
       "\n",
       "   PCT_USO_TRAFICOTOTAL_M0  PCT_USO_TRAFICOTOTAL_U3M  \\\n",
       "0                -0.372911                 -0.363294   \n",
       "1                -0.372911                 -0.363294   \n",
       "2                -0.372911                 -0.363294   \n",
       "\n",
       "   PCT_USO_TRAFICOTOTAL_U2M  VCHRANGO_RENTA_Alta  VCHRANGO_RENTA_Baja  \\\n",
       "0                 -0.361065            -0.242536            -0.703836   \n",
       "1                 -0.361065             4.123106            -0.703836   \n",
       "2                 -0.361065            -0.242536            -0.703836   \n",
       "\n",
       "   VCHRANGO_RENTA_Media  \n",
       "0              0.794275  \n",
       "1             -1.259010  \n",
       "2              0.794275  \n",
       "\n",
       "[3 rows x 352 columns]"
      ]
     },
     "execution_count": 118,
     "metadata": {},
     "output_type": "execute_result"
    }
   ],
   "source": [
    "X_train_scaler = scaler.transform(X_train)\n",
    "X_train_scaler = pd.DataFrame(X_train_scaler, columns = X_train.columns)\n",
    "X_train_scaler.head(3)"
   ]
  },
  {
   "cell_type": "code",
   "execution_count": 119,
   "metadata": {},
   "outputs": [
    {
     "data": {
      "text/html": [
       "<div>\n",
       "<style scoped>\n",
       "    .dataframe tbody tr th:only-of-type {\n",
       "        vertical-align: middle;\n",
       "    }\n",
       "\n",
       "    .dataframe tbody tr th {\n",
       "        vertical-align: top;\n",
       "    }\n",
       "\n",
       "    .dataframe thead th {\n",
       "        text-align: right;\n",
       "    }\n",
       "</style>\n",
       "<table border=\"1\" class=\"dataframe\">\n",
       "  <thead>\n",
       "    <tr style=\"text-align: right;\">\n",
       "      <th></th>\n",
       "      <th>NUMCODCONTRATOBSCS</th>\n",
       "      <th>NUMRENTABASICA</th>\n",
       "      <th>NUMMINUTOSENTRANTE_2M</th>\n",
       "      <th>NUMMINUTOSALIENTE_2M</th>\n",
       "      <th>NUMMINSALIENTEOFFNET_2M</th>\n",
       "      <th>NUMMINENTRANTEOFFNET_2M</th>\n",
       "      <th>NUMMINSALIENTEONNET_2M</th>\n",
       "      <th>NUMMINENTRANTEONNET_2M</th>\n",
       "      <th>NUMTRAFICOFACEBOOK_2M</th>\n",
       "      <th>NUMTRAFICOWHATSAPP_2M</th>\n",
       "      <th>...</th>\n",
       "      <th>NUMKB_ADICIONAL</th>\n",
       "      <th>PCT_MB_ADICIONAL</th>\n",
       "      <th>PCT_USO_TRAFICOTOTAL_2M</th>\n",
       "      <th>PCT_USO_TRAFICOTOTAL_1M</th>\n",
       "      <th>PCT_USO_TRAFICOTOTAL_M0</th>\n",
       "      <th>PCT_USO_TRAFICOTOTAL_U3M</th>\n",
       "      <th>PCT_USO_TRAFICOTOTAL_U2M</th>\n",
       "      <th>VCHRANGO_RENTA_Alta</th>\n",
       "      <th>VCHRANGO_RENTA_Baja</th>\n",
       "      <th>VCHRANGO_RENTA_Media</th>\n",
       "    </tr>\n",
       "  </thead>\n",
       "  <tbody>\n",
       "    <tr>\n",
       "      <th>0</th>\n",
       "      <td>-1.617386</td>\n",
       "      <td>-0.952648</td>\n",
       "      <td>-0.710424</td>\n",
       "      <td>-0.062859</td>\n",
       "      <td>-0.198662</td>\n",
       "      <td>-0.465947</td>\n",
       "      <td>0.138059</td>\n",
       "      <td>-0.637228</td>\n",
       "      <td>-0.340991</td>\n",
       "      <td>-0.657123</td>\n",
       "      <td>...</td>\n",
       "      <td>-0.492917</td>\n",
       "      <td>0.0</td>\n",
       "      <td>-0.333305</td>\n",
       "      <td>-0.34785</td>\n",
       "      <td>-0.372911</td>\n",
       "      <td>-0.363294</td>\n",
       "      <td>-0.361065</td>\n",
       "      <td>-0.242536</td>\n",
       "      <td>1.420786</td>\n",
       "      <td>-1.259010</td>\n",
       "    </tr>\n",
       "    <tr>\n",
       "      <th>1</th>\n",
       "      <td>0.893504</td>\n",
       "      <td>1.148817</td>\n",
       "      <td>-0.478841</td>\n",
       "      <td>-0.680833</td>\n",
       "      <td>-0.523370</td>\n",
       "      <td>-0.153929</td>\n",
       "      <td>-0.540125</td>\n",
       "      <td>-0.579162</td>\n",
       "      <td>-0.272753</td>\n",
       "      <td>-0.544398</td>\n",
       "      <td>...</td>\n",
       "      <td>-0.492917</td>\n",
       "      <td>0.0</td>\n",
       "      <td>-0.333305</td>\n",
       "      <td>-0.34785</td>\n",
       "      <td>-0.372911</td>\n",
       "      <td>-0.363294</td>\n",
       "      <td>-0.361065</td>\n",
       "      <td>-0.242536</td>\n",
       "      <td>-0.703836</td>\n",
       "      <td>0.794275</td>\n",
       "    </tr>\n",
       "    <tr>\n",
       "      <th>2</th>\n",
       "      <td>0.661753</td>\n",
       "      <td>0.448327</td>\n",
       "      <td>0.095486</td>\n",
       "      <td>-0.026220</td>\n",
       "      <td>-0.638096</td>\n",
       "      <td>0.398251</td>\n",
       "      <td>0.752026</td>\n",
       "      <td>-0.228271</td>\n",
       "      <td>-0.323279</td>\n",
       "      <td>-0.573337</td>\n",
       "      <td>...</td>\n",
       "      <td>-0.492917</td>\n",
       "      <td>0.0</td>\n",
       "      <td>-0.333305</td>\n",
       "      <td>-0.34785</td>\n",
       "      <td>-0.372911</td>\n",
       "      <td>-0.363294</td>\n",
       "      <td>-0.361065</td>\n",
       "      <td>-0.242536</td>\n",
       "      <td>-0.703836</td>\n",
       "      <td>0.794275</td>\n",
       "    </tr>\n",
       "  </tbody>\n",
       "</table>\n",
       "<p>3 rows × 352 columns</p>\n",
       "</div>"
      ],
      "text/plain": [
       "   NUMCODCONTRATOBSCS  NUMRENTABASICA  NUMMINUTOSENTRANTE_2M  \\\n",
       "0           -1.617386       -0.952648              -0.710424   \n",
       "1            0.893504        1.148817              -0.478841   \n",
       "2            0.661753        0.448327               0.095486   \n",
       "\n",
       "   NUMMINUTOSALIENTE_2M  NUMMINSALIENTEOFFNET_2M  NUMMINENTRANTEOFFNET_2M  \\\n",
       "0             -0.062859                -0.198662                -0.465947   \n",
       "1             -0.680833                -0.523370                -0.153929   \n",
       "2             -0.026220                -0.638096                 0.398251   \n",
       "\n",
       "   NUMMINSALIENTEONNET_2M  NUMMINENTRANTEONNET_2M  NUMTRAFICOFACEBOOK_2M  \\\n",
       "0                0.138059               -0.637228              -0.340991   \n",
       "1               -0.540125               -0.579162              -0.272753   \n",
       "2                0.752026               -0.228271              -0.323279   \n",
       "\n",
       "   NUMTRAFICOWHATSAPP_2M          ...           NUMKB_ADICIONAL  \\\n",
       "0              -0.657123          ...                 -0.492917   \n",
       "1              -0.544398          ...                 -0.492917   \n",
       "2              -0.573337          ...                 -0.492917   \n",
       "\n",
       "   PCT_MB_ADICIONAL  PCT_USO_TRAFICOTOTAL_2M  PCT_USO_TRAFICOTOTAL_1M  \\\n",
       "0               0.0                -0.333305                 -0.34785   \n",
       "1               0.0                -0.333305                 -0.34785   \n",
       "2               0.0                -0.333305                 -0.34785   \n",
       "\n",
       "   PCT_USO_TRAFICOTOTAL_M0  PCT_USO_TRAFICOTOTAL_U3M  \\\n",
       "0                -0.372911                 -0.363294   \n",
       "1                -0.372911                 -0.363294   \n",
       "2                -0.372911                 -0.363294   \n",
       "\n",
       "   PCT_USO_TRAFICOTOTAL_U2M  VCHRANGO_RENTA_Alta  VCHRANGO_RENTA_Baja  \\\n",
       "0                 -0.361065            -0.242536             1.420786   \n",
       "1                 -0.361065            -0.242536            -0.703836   \n",
       "2                 -0.361065            -0.242536            -0.703836   \n",
       "\n",
       "   VCHRANGO_RENTA_Media  \n",
       "0             -1.259010  \n",
       "1              0.794275  \n",
       "2              0.794275  \n",
       "\n",
       "[3 rows x 352 columns]"
      ]
     },
     "execution_count": 119,
     "metadata": {},
     "output_type": "execute_result"
    }
   ],
   "source": [
    "X_test_scaler = scaler.transform(X_test)\n",
    "X_test_scaler = pd.DataFrame(X_test_scaler, columns = X_test.columns)\n",
    "X_test_scaler.head(3)"
   ]
  },
  {
   "cell_type": "code",
   "execution_count": 120,
   "metadata": {},
   "outputs": [],
   "source": [
    "X_train = X_train_scaler.copy()\n",
    "X_test = X_test_scaler.copy()"
   ]
  },
  {
   "cell_type": "code",
   "execution_count": 121,
   "metadata": {},
   "outputs": [
    {
     "name": "stdout",
     "output_type": "stream",
     "text": [
      "(486, 352)\n",
      "(263, 352)\n"
     ]
    }
   ],
   "source": [
    "print(X_train.shape)\n",
    "print(X_test.shape)"
   ]
  },
  {
   "cell_type": "markdown",
   "metadata": {},
   "source": [
    "## MODELAMIENTO"
   ]
  },
  {
   "cell_type": "code",
   "execution_count": 122,
   "metadata": {},
   "outputs": [],
   "source": [
    "def print_mc(matriz_conf):\n",
    "    matriz_conf = pd.DataFrame(matriz_conf)\n",
    "    matriz_conf.index = [\"Real_0\",\"Real_1\"]\n",
    "    matriz_conf.columns = [\"Pred_0\",\"Pred_1\"]\n",
    "    print(matriz_conf)"
   ]
  },
  {
   "cell_type": "code",
   "execution_count": 123,
   "metadata": {},
   "outputs": [],
   "source": [
    "################################## CURVA ROC ###############################\n",
    "def graficar_roc(y_test,y_pred_proba):\n",
    "    import matplotlib.pyplot as plt\n",
    "    from sklearn import metrics as mt\n",
    "    from sklearn.cross_validation import train_test_split\n",
    "\n",
    "    fpr, tpr, thresholds  = mt.roc_curve(y_test.astype('int'),y_pred_proba[:,1], pos_label = 1)\n",
    "\n",
    "    roc_auc = mt.auc(fpr, tpr)\n",
    "\n",
    "    print ('ROC AUC: %0.4f' % roc_auc)\n",
    "    gini_print = (2*roc_auc - 1)\n",
    "\n",
    "    # Plot of a ROC curve for a specific class\n",
    "    plt.figure(figsize=(8,6))\n",
    "    plt.plot(fpr, tpr, label='ROC curve (area = %0.4f) \\nGini (2*roc_auc - 1) = %0.4f' %(roc_auc,gini_print))\n",
    "    plt.plot([0, 1], [0, 1], 'k--')\n",
    "    plt.xlim([0.0, 1.0])\n",
    "    plt.ylim([0.0, 1.05])\n",
    "    plt.xlabel('False Positive Rate')\n",
    "    plt.ylabel('True Positive Rate')\n",
    "    plt.title('ROC Curve')\n",
    "    plt.legend(loc=\"lower right\")\n",
    "    plt.show()"
   ]
  },
  {
   "cell_type": "code",
   "execution_count": 124,
   "metadata": {},
   "outputs": [],
   "source": [
    "from sklearn.linear_model import LogisticRegression"
   ]
  },
  {
   "cell_type": "code",
   "execution_count": 125,
   "metadata": {},
   "outputs": [],
   "source": [
    "# Crear objeto modelo (Instanciar)\n",
    "model_regl = LogisticRegression()"
   ]
  },
  {
   "cell_type": "code",
   "execution_count": 126,
   "metadata": {},
   "outputs": [],
   "source": [
    "# Entrenar (ajustar) el modelo:\n",
    "model = model_regl.fit(X_train,y_train)"
   ]
  },
  {
   "cell_type": "code",
   "execution_count": 127,
   "metadata": {},
   "outputs": [],
   "source": [
    "# Generar las predicciones:\n",
    "pred_train = model.predict(X_train)\n",
    "pred_test = model.predict(X_test)\n",
    "\n",
    "# Generar las probabilidades\n",
    "pred_proba_train = model.predict_proba(X_train)\n",
    "pred_proba_test = model.predict_proba(X_test)"
   ]
  },
  {
   "cell_type": "code",
   "execution_count": 128,
   "metadata": {},
   "outputs": [],
   "source": [
    "from sklearn import metrics as mt"
   ]
  },
  {
   "cell_type": "code",
   "execution_count": 129,
   "metadata": {},
   "outputs": [
    {
     "name": "stdout",
     "output_type": "stream",
     "text": [
      "Metricas del Training...\n"
     ]
    }
   ],
   "source": [
    "# Sobre el Training Data\n",
    "print(\"Metricas del Training...\")"
   ]
  },
  {
   "cell_type": "code",
   "execution_count": 130,
   "metadata": {},
   "outputs": [
    {
     "name": "stdout",
     "output_type": "stream",
     "text": [
      "        Pred_0  Pred_1\n",
      "Real_0     211      21\n",
      "Real_1      36     218\n"
     ]
    }
   ],
   "source": [
    "matriz_conf = mt.confusion_matrix(y_train,pred_train)\n",
    "print_mc(matriz_conf)"
   ]
  },
  {
   "cell_type": "code",
   "execution_count": 131,
   "metadata": {},
   "outputs": [
    {
     "name": "stdout",
     "output_type": "stream",
     "text": [
      "Accuracy - Train: 0.8827160493827161\n"
     ]
    }
   ],
   "source": [
    "accuracy_train = mt.accuracy_score(y_train,pred_train)\n",
    "print(\"Accuracy - Train:\", accuracy_train) # 0.8775055679287305"
   ]
  },
  {
   "cell_type": "code",
   "execution_count": 132,
   "metadata": {},
   "outputs": [
    {
     "name": "stdout",
     "output_type": "stream",
     "text": [
      "             precision    recall  f1-score   support\n",
      "\n",
      "          0      0.854     0.909     0.881       232\n",
      "          1      0.912     0.858     0.884       254\n",
      "\n",
      "avg / total      0.885     0.883     0.883       486\n",
      "\n"
     ]
    }
   ],
   "source": [
    "print(mt.classification_report(y_train,pred_train,digits = 3))"
   ]
  },
  {
   "cell_type": "code",
   "execution_count": 133,
   "metadata": {},
   "outputs": [
    {
     "name": "stdout",
     "output_type": "stream",
     "text": [
      "ROC AUC: 0.9484\n"
     ]
    },
    {
     "data": {
      "image/png": "[encoded data removed]",
      "text/plain": [
       "<Figure size 576x432 with 1 Axes>"
      ]
     },
     "metadata": {
      "needs_background": "light"
     },
     "output_type": "display_data"
    }
   ],
   "source": [
    "graficar_roc(y_train,pred_proba_train) # 0.9534"
   ]
  },
  {
   "cell_type": "code",
   "execution_count": 134,
   "metadata": {},
   "outputs": [
    {
     "name": "stdout",
     "output_type": "stream",
     "text": [
      "Metricas del testing...\n"
     ]
    }
   ],
   "source": [
    "# Sobre el testing Data\n",
    "print(\"Metricas del testing...\")"
   ]
  },
  {
   "cell_type": "code",
   "execution_count": 135,
   "metadata": {},
   "outputs": [
    {
     "name": "stdout",
     "output_type": "stream",
     "text": [
      "        Pred_0  Pred_1\n",
      "Real_0     110      23\n",
      "Real_1      27     103\n"
     ]
    }
   ],
   "source": [
    "matriz_conf = mt.confusion_matrix(y_test,pred_test)\n",
    "print_mc(matriz_conf)"
   ]
  },
  {
   "cell_type": "code",
   "execution_count": 136,
   "metadata": {},
   "outputs": [
    {
     "name": "stdout",
     "output_type": "stream",
     "text": [
      "Accuracy - test: 0.8098859315589354\n"
     ]
    }
   ],
   "source": [
    "accuracy_test = mt.accuracy_score(y_test,pred_test)\n",
    "print(\"Accuracy - test:\", accuracy_test) # 0.8233333333333334"
   ]
  },
  {
   "cell_type": "code",
   "execution_count": 137,
   "metadata": {},
   "outputs": [
    {
     "name": "stdout",
     "output_type": "stream",
     "text": [
      "             precision    recall  f1-score   support\n",
      "\n",
      "          0      0.803     0.827     0.815       133\n",
      "          1      0.817     0.792     0.805       130\n",
      "\n",
      "avg / total      0.810     0.810     0.810       263\n",
      "\n"
     ]
    }
   ],
   "source": [
    "print(mt.classification_report(y_test,pred_test,digits = 3))"
   ]
  },
  {
   "cell_type": "code",
   "execution_count": 138,
   "metadata": {},
   "outputs": [
    {
     "name": "stdout",
     "output_type": "stream",
     "text": [
      "ROC AUC: 0.8805\n"
     ]
    },
    {
     "data": {
      "image/png": "[encoded data removed]",
      "text/plain": [
       "<Figure size 576x432 with 1 Axes>"
      ]
     },
     "metadata": {
      "needs_background": "light"
     },
     "output_type": "display_data"
    }
   ],
   "source": [
    "graficar_roc(y_test,pred_proba_test) # 0.8731"
   ]
  },
  {
   "cell_type": "markdown",
   "metadata": {},
   "source": [
    "# continuar con la clase 7 ultima clase..."
   ]
  },
  {
   "cell_type": "markdown",
   "metadata": {},
   "source": [
    "# DECISION TREE\n",
    "\n",
    "## Entrenamiento y Prediccion"
   ]
  },
  {
   "cell_type": "code",
   "execution_count": 149,
   "metadata": {},
   "outputs": [],
   "source": [
    "from sklearn.tree import DecisionTreeClassifier"
   ]
  },
  {
   "cell_type": "code",
   "execution_count": 150,
   "metadata": {},
   "outputs": [],
   "source": [
    "# crear objeto modelo ( Instanciar )\n",
    "model_tree = DecisionTreeClassifier(max_depth=5)"
   ]
  },
  {
   "cell_type": "code",
   "execution_count": 151,
   "metadata": {},
   "outputs": [],
   "source": [
    "# Entrenar (ajustar) el modelo:\n",
    "model = model_tree.fit(X_train,y_train)"
   ]
  },
  {
   "cell_type": "code",
   "execution_count": 152,
   "metadata": {},
   "outputs": [],
   "source": [
    "# Generar las predicciones:\n",
    "pred_train = model.predict(X_train)\n",
    "pred_test = model.predict(X_test)\n",
    "\n",
    "# Generar las probabilidades\n",
    "pred_proba_train = model.predict_proba(X_train)\n",
    "pred_proba_test = model.predict_proba(X_test)"
   ]
  },
  {
   "cell_type": "markdown",
   "metadata": {},
   "source": [
    "## Evaluacion del Modelo"
   ]
  },
  {
   "cell_type": "code",
   "execution_count": 153,
   "metadata": {},
   "outputs": [],
   "source": [
    "from sklearn import metrics as mt"
   ]
  },
  {
   "cell_type": "code",
   "execution_count": 154,
   "metadata": {},
   "outputs": [
    {
     "name": "stdout",
     "output_type": "stream",
     "text": [
      "Metricas del Training...\n"
     ]
    }
   ],
   "source": [
    "# Sobre el Training Data\n",
    "print(\"Metricas del Training...\")"
   ]
  },
  {
   "cell_type": "code",
   "execution_count": 155,
   "metadata": {},
   "outputs": [
    {
     "name": "stdout",
     "output_type": "stream",
     "text": [
      "        Pred_0  Pred_1\n",
      "Real_0     219      13\n",
      "Real_1      31     223\n"
     ]
    }
   ],
   "source": [
    "matriz_conf = mt.confusion_matrix(y_train,pred_train)\n",
    "print_mc(matriz_conf)\n"
   ]
  },
  {
   "cell_type": "code",
   "execution_count": 156,
   "metadata": {},
   "outputs": [
    {
     "name": "stdout",
     "output_type": "stream",
     "text": [
      "Accuaracy - Train:  0.9094650205761317\n"
     ]
    }
   ],
   "source": [
    "accuracy_train = mt.accuracy_score(y_train,pred_train)\n",
    "print(\"Accuaracy - Train: \", accuracy_train) # 0.9094650205761317"
   ]
  },
  {
   "cell_type": "code",
   "execution_count": 157,
   "metadata": {},
   "outputs": [
    {
     "name": "stdout",
     "output_type": "stream",
     "text": [
      "             precision    recall  f1-score   support\n",
      "\n",
      "          0      0.876     0.944     0.909       232\n",
      "          1      0.945     0.878     0.910       254\n",
      "\n",
      "avg / total      0.912     0.909     0.909       486\n",
      "\n"
     ]
    }
   ],
   "source": [
    "print(mt.classification_report(y_train,pred_train,digits=3))"
   ]
  },
  {
   "cell_type": "code",
   "execution_count": 160,
   "metadata": {},
   "outputs": [
    {
     "name": "stdout",
     "output_type": "stream",
     "text": [
      "ROC AUC: 0.9530\n"
     ]
    },
    {
     "data": {
      "image/png": "[encoded data removed]",
      "text/plain": [
       "<Figure size 576x432 with 1 Axes>"
      ]
     },
     "metadata": {
      "needs_background": "light"
     },
     "output_type": "display_data"
    }
   ],
   "source": [
    "graficar_roc(y_train,pred_proba_train) # 0.9530"
   ]
  },
  {
   "cell_type": "code",
   "execution_count": 164,
   "metadata": {},
   "outputs": [
    {
     "name": "stdout",
     "output_type": "stream",
     "text": [
      "Metricas del testing...\n"
     ]
    }
   ],
   "source": [
    "# sobre el testing Data\n",
    "print(\"Metricas del testing...\")"
   ]
  },
  {
   "cell_type": "code",
   "execution_count": 165,
   "metadata": {},
   "outputs": [
    {
     "name": "stdout",
     "output_type": "stream",
     "text": [
      "        Pred_0  Pred_1\n",
      "Real_0      91      42\n",
      "Real_1      30     100\n"
     ]
    }
   ],
   "source": [
    "matriz_conf = mt.confusion_matrix(y_test,pred_test)\n",
    "print_mc(matriz_conf)"
   ]
  },
  {
   "cell_type": "code",
   "execution_count": 169,
   "metadata": {},
   "outputs": [
    {
     "name": "stdout",
     "output_type": "stream",
     "text": [
      "Accuracy - test:  0.7262357414448669\n"
     ]
    }
   ],
   "source": [
    "accuracy_test = mt.accuracy_score(y_test,pred_test)\n",
    "print(\"Accuracy - test: \", accuracy_test) # 0.7262357414448669"
   ]
  },
  {
   "cell_type": "code",
   "execution_count": 170,
   "metadata": {},
   "outputs": [
    {
     "name": "stdout",
     "output_type": "stream",
     "text": [
      "             precision    recall  f1-score   support\n",
      "\n",
      "          0      0.752     0.684     0.717       133\n",
      "          1      0.704     0.769     0.735       130\n",
      "\n",
      "avg / total      0.728     0.726     0.726       263\n",
      "\n"
     ]
    }
   ],
   "source": [
    "print(mt.classification_report(y_test,pred_test,digits=3))"
   ]
  },
  {
   "cell_type": "code",
   "execution_count": 172,
   "metadata": {},
   "outputs": [
    {
     "name": "stdout",
     "output_type": "stream",
     "text": [
      "ROC AUC: 0.7885\n"
     ]
    },
    {
     "data": {
      "image/png": "[encoded data removed]",
      "text/plain": [
       "<Figure size 576x432 with 1 Axes>"
      ]
     },
     "metadata": {
      "needs_background": "light"
     },
     "output_type": "display_data"
    }
   ],
   "source": [
    "graficar_roc(y_test,pred_proba_test) #ROC AUC: 0.7885"
   ]
  },
  {
   "cell_type": "markdown",
   "metadata": {},
   "source": [
    "# Modelos Ensablados\n",
    "## Random forest\n",
    "### Entrenamiento y prediccion"
   ]
  },
  {
   "cell_type": "code",
   "execution_count": 173,
   "metadata": {},
   "outputs": [],
   "source": [
    "from sklearn.ensemble import RandomForestClassifier"
   ]
  },
  {
   "cell_type": "code",
   "execution_count": 174,
   "metadata": {},
   "outputs": [],
   "source": [
    "# Crear objeto modelo (Instanciar)\n",
    "model_rf = RandomForestClassifier(max_depth=5, n_estimators=50,\n",
    "                                 random_state=100,max_features=5)"
   ]
  },
  {
   "cell_type": "code",
   "execution_count": 175,
   "metadata": {},
   "outputs": [],
   "source": [
    "# Entrena (ajustar) el modelo:\n",
    "model = model_rf.fit(X_train,y_train)"
   ]
  },
  {
   "cell_type": "code",
   "execution_count": 176,
   "metadata": {},
   "outputs": [],
   "source": [
    "# Generar las predicciones:\n",
    "pred_train = model.predict(X_train)\n",
    "pred_test = model.predict(X_test)\n",
    "\n",
    "# Generar las probabilidades\n",
    "pred_proba_train = model.predict_proba(X_train)\n",
    "pred_proba_test = model.predict_proba(X_test)"
   ]
  },
  {
   "cell_type": "markdown",
   "metadata": {},
   "source": [
    "### Evaluaciion del Modelo"
   ]
  },
  {
   "cell_type": "code",
   "execution_count": 177,
   "metadata": {},
   "outputs": [],
   "source": [
    "from sklearn import metrics as mt"
   ]
  },
  {
   "cell_type": "code",
   "execution_count": 179,
   "metadata": {},
   "outputs": [
    {
     "name": "stdout",
     "output_type": "stream",
     "text": [
      "Metricas del Training...\n"
     ]
    }
   ],
   "source": [
    "# Sobre el Training Data\n",
    "print(\"Metricas del Training...\")"
   ]
  },
  {
   "cell_type": "code",
   "execution_count": 180,
   "metadata": {},
   "outputs": [
    {
     "name": "stdout",
     "output_type": "stream",
     "text": [
      "        Pred_0  Pred_1\n",
      "Real_0     209      23\n",
      "Real_1      31     223\n"
     ]
    }
   ],
   "source": [
    "matriz_conf = mt.confusion_matrix(y_train, pred_train)\n",
    "print_mc(matriz_conf)"
   ]
  },
  {
   "cell_type": "code",
   "execution_count": 182,
   "metadata": {
    "scrolled": true
   },
   "outputs": [
    {
     "name": "stdout",
     "output_type": "stream",
     "text": [
      "Accuracy - Train:  0.8888888888888888\n"
     ]
    }
   ],
   "source": [
    "accuracy_train = mt.accuracy_score(y_train,pred_train)\n",
    "print(\"Accuracy - Train: \",accuracy_train) # 0.8888888888888888"
   ]
  },
  {
   "cell_type": "code",
   "execution_count": 183,
   "metadata": {},
   "outputs": [
    {
     "name": "stdout",
     "output_type": "stream",
     "text": [
      "             precision    recall  f1-score   support\n",
      "\n",
      "          0      0.871     0.901     0.886       232\n",
      "          1      0.907     0.878     0.892       254\n",
      "\n",
      "avg / total      0.889     0.889     0.889       486\n",
      "\n"
     ]
    }
   ],
   "source": [
    "print(mt.classification_report(y_train,pred_train,digits=3))"
   ]
  },
  {
   "cell_type": "code",
   "execution_count": 185,
   "metadata": {},
   "outputs": [
    {
     "name": "stdout",
     "output_type": "stream",
     "text": [
      "ROC AUC: 0.9668\n"
     ]
    },
    {
     "data": {
      "image/png": "[encoded data removed]",
      "text/plain": [
       "<Figure size 576x432 with 1 Axes>"
      ]
     },
     "metadata": {
      "needs_background": "light"
     },
     "output_type": "display_data"
    }
   ],
   "source": [
    "graficar_roc(y_train,pred_proba_train) # 0.9668"
   ]
  },
  {
   "cell_type": "code",
   "execution_count": 189,
   "metadata": {},
   "outputs": [
    {
     "name": "stdout",
     "output_type": "stream",
     "text": [
      "Metricas del testing...\n"
     ]
    }
   ],
   "source": [
    "# Sobre el testing Data\n",
    "print(\"Metricas del testing...\")"
   ]
  },
  {
   "cell_type": "code",
   "execution_count": 190,
   "metadata": {},
   "outputs": [
    {
     "name": "stdout",
     "output_type": "stream",
     "text": [
      "        Pred_0  Pred_1\n",
      "Real_0     109      24\n",
      "Real_1      34      96\n"
     ]
    }
   ],
   "source": [
    "matriz_conf = mt.confusion_matrix(y_test,pred_test)\n",
    "print_mc(matriz_conf)"
   ]
  },
  {
   "cell_type": "code",
   "execution_count": 193,
   "metadata": {},
   "outputs": [
    {
     "name": "stdout",
     "output_type": "stream",
     "text": [
      "Accuracy - test:  0.779467680608365\n"
     ]
    }
   ],
   "source": [
    "accuracy_test = mt.accuracy_score(y_test,pred_test)\n",
    "print(\"Accuracy - test: \",accuracy_test)  # 0.779467680608365"
   ]
  },
  {
   "cell_type": "code",
   "execution_count": 194,
   "metadata": {},
   "outputs": [
    {
     "name": "stdout",
     "output_type": "stream",
     "text": [
      "             precision    recall  f1-score   support\n",
      "\n",
      "          0      0.762     0.820     0.790       133\n",
      "          1      0.800     0.738     0.768       130\n",
      "\n",
      "avg / total      0.781     0.779     0.779       263\n",
      "\n"
     ]
    }
   ],
   "source": [
    "print(mt.classification_report(y_test,pred_test,digits = 3))"
   ]
  },
  {
   "cell_type": "code",
   "execution_count": 196,
   "metadata": {},
   "outputs": [
    {
     "name": "stdout",
     "output_type": "stream",
     "text": [
      "ROC AUC: 0.8519\n"
     ]
    },
    {
     "data": {
      "image/png": "[encoded data removed]",
      "text/plain": [
       "<Figure size 576x432 with 1 Axes>"
      ]
     },
     "metadata": {
      "needs_background": "light"
     },
     "output_type": "display_data"
    }
   ],
   "source": [
    "graficar_roc(y_test,pred_proba_test) # 0.8519"
   ]
  },
  {
   "cell_type": "markdown",
   "metadata": {},
   "source": [
    "### Variables Importantes"
   ]
  },
  {
   "cell_type": "code",
   "execution_count": 203,
   "metadata": {},
   "outputs": [],
   "source": [
    "features = pd.DataFrame()\n",
    "features['feature'] = X_train.columns\n",
    "features['importance'] = model.feature_importances_"
   ]
  },
  {
   "cell_type": "code",
   "execution_count": 214,
   "metadata": {},
   "outputs": [],
   "source": [
    "ftrs = features.sort_values(by=['importance','feature'],ascending=False)\n",
    "ftrs = ftrs.reset_index(drop=True)\n",
    "ftrs = ftrs[:5]"
   ]
  },
  {
   "cell_type": "code",
   "execution_count": 215,
   "metadata": {},
   "outputs": [],
   "source": [
    "import seaborn as sns\n",
    "import matplotlib.pyplot as plt\n",
    "\n",
    "%matplotlib inline"
   ]
  },
  {
   "cell_type": "code",
   "execution_count": 216,
   "metadata": {},
   "outputs": [
    {
     "data": {
      "image/png": "[encoded data removed]",
      "text/plain": [
       "<Figure size 720x360 with 1 Axes>"
      ]
     },
     "metadata": {
      "needs_background": "light"
     },
     "output_type": "display_data"
    }
   ],
   "source": [
    "fig, ax = plt.subplots(nrows=1, ncols=1, figsize=(10, 5))\n",
    "g = sns.barplot(x='feature', y='importance', data=ftrs, order=ftrs['feature'], ax=ax, palette='BuGn_r')"
   ]
  },
  {
   "cell_type": "markdown",
   "metadata": {},
   "source": [
    "# Gradient Boosting Machine\n",
    "\n",
    "### Entrenamiento y prediccion"
   ]
  },
  {
   "cell_type": "code",
   "execution_count": 217,
   "metadata": {},
   "outputs": [],
   "source": [
    "from sklearn.ensemble import GradientBoostingClassifier"
   ]
  },
  {
   "cell_type": "code",
   "execution_count": 219,
   "metadata": {},
   "outputs": [],
   "source": [
    "# Crear objeto modelo (Instanciar)\n",
    "model_gbm = GradientBoostingClassifier(max_depth=4, n_estimators=50,\n",
    "                                        random_state=100,max_features=5)"
   ]
  },
  {
   "cell_type": "code",
   "execution_count": 221,
   "metadata": {},
   "outputs": [],
   "source": [
    "# Entrenar (ajustar) el modelo:\n",
    "model = model_gbm.fit(X_train,y_train)"
   ]
  },
  {
   "cell_type": "code",
   "execution_count": 222,
   "metadata": {},
   "outputs": [],
   "source": [
    "# Generar las predicciones:\n",
    "pred_train = model.predict(X_train)\n",
    "pred_test = model.predict(X_test)\n",
    "\n",
    "#Generar las probabilidades\n",
    "pred_proba_train = model.predict_proba(X_train)\n",
    "pred_proba_test = model.predict_proba(X_test)"
   ]
  },
  {
   "cell_type": "markdown",
   "metadata": {},
   "source": [
    "## Evaluacion del modelo"
   ]
  },
  {
   "cell_type": "code",
   "execution_count": 223,
   "metadata": {},
   "outputs": [],
   "source": [
    "from sklearn import metrics as mt"
   ]
  },
  {
   "cell_type": "code",
   "execution_count": 224,
   "metadata": {},
   "outputs": [
    {
     "name": "stdout",
     "output_type": "stream",
     "text": [
      "Metricas del Training...\n"
     ]
    }
   ],
   "source": [
    "# sobre el training Data\n",
    "print(\"Metricas del Training...\")"
   ]
  },
  {
   "cell_type": "code",
   "execution_count": 225,
   "metadata": {},
   "outputs": [
    {
     "name": "stdout",
     "output_type": "stream",
     "text": [
      "        Pred_0  Pred_1\n",
      "Real_0     231       1\n",
      "Real_1       8     246\n"
     ]
    }
   ],
   "source": [
    "matriz_conf = mt.confusion_matrix(y_train,pred_train)\n",
    "print_mc(matriz_conf)"
   ]
  },
  {
   "cell_type": "code",
   "execution_count": 227,
   "metadata": {},
   "outputs": [
    {
     "name": "stdout",
     "output_type": "stream",
     "text": [
      "Accuracy - Tran:  0.9814814814814815\n"
     ]
    }
   ],
   "source": [
    "accuracy_train = mt.accuracy_score(y_train, pred_train)\n",
    "print(\"Accuracy - Tran: \", accuracy_train)  # 0.9814814814814815"
   ]
  },
  {
   "cell_type": "code",
   "execution_count": 228,
   "metadata": {},
   "outputs": [
    {
     "name": "stdout",
     "output_type": "stream",
     "text": [
      "             precision    recall  f1-score   support\n",
      "\n",
      "          0      0.967     0.996     0.981       232\n",
      "          1      0.996     0.969     0.982       254\n",
      "\n",
      "avg / total      0.982     0.981     0.981       486\n",
      "\n"
     ]
    }
   ],
   "source": [
    "print(mt.classification_report(y_train, pred_train,digits=3))"
   ]
  },
  {
   "cell_type": "code",
   "execution_count": 230,
   "metadata": {},
   "outputs": [
    {
     "name": "stdout",
     "output_type": "stream",
     "text": [
      "ROC AUC: 0.9990\n"
     ]
    },
    {
     "data": {
      "image/png": "[encoded data removed]",
      "text/plain": [
       "<Figure size 576x432 with 1 Axes>"
      ]
     },
     "metadata": {
      "needs_background": "light"
     },
     "output_type": "display_data"
    }
   ],
   "source": [
    "graficar_roc(y_train, pred_proba_train) # 0.9990"
   ]
  },
  {
   "cell_type": "code",
   "execution_count": 231,
   "metadata": {},
   "outputs": [
    {
     "name": "stdout",
     "output_type": "stream",
     "text": [
      "Metricas del testing...\n"
     ]
    }
   ],
   "source": [
    "# sobre el testing Data\n",
    "print(\"Metricas del testing...\")"
   ]
  },
  {
   "cell_type": "code",
   "execution_count": 234,
   "metadata": {},
   "outputs": [
    {
     "name": "stdout",
     "output_type": "stream",
     "text": [
      "        Pred_0  Pred_1\n",
      "Real_0     101      32\n",
      "Real_1      27     103\n"
     ]
    }
   ],
   "source": [
    "matriz_conf =  mt.confusion_matrix(y_test, pred_test)\n",
    "print_mc(matriz_conf)"
   ]
  },
  {
   "cell_type": "code",
   "execution_count": 235,
   "metadata": {},
   "outputs": [
    {
     "name": "stdout",
     "output_type": "stream",
     "text": [
      "Accuracy - test: 0.7756653992395437\n"
     ]
    }
   ],
   "source": [
    "accuracy_test = mt.accuracy_score(y_test,pred_test)\n",
    "print(\"Accuracy - test:\", accuracy_test) # 0.7756653992395437"
   ]
  },
  {
   "cell_type": "code",
   "execution_count": 236,
   "metadata": {},
   "outputs": [
    {
     "name": "stdout",
     "output_type": "stream",
     "text": [
      "             precision    recall  f1-score   support\n",
      "\n",
      "          0      0.789     0.759     0.774       133\n",
      "          1      0.763     0.792     0.777       130\n",
      "\n",
      "avg / total      0.776     0.776     0.776       263\n",
      "\n"
     ]
    }
   ],
   "source": [
    "print(mt.classification_report(y_test,pred_test,digits = 3))"
   ]
  },
  {
   "cell_type": "code",
   "execution_count": 238,
   "metadata": {
    "scrolled": true
   },
   "outputs": [
    {
     "name": "stdout",
     "output_type": "stream",
     "text": [
      "ROC AUC: 0.8726\n"
     ]
    },
    {
     "data": {
      "image/png": "[encoded data removed]",
      "text/plain": [
       "<Figure size 576x432 with 1 Axes>"
      ]
     },
     "metadata": {
      "needs_background": "light"
     },
     "output_type": "display_data"
    }
   ],
   "source": [
    "graficar_roc(y_test,pred_proba_test) # 0.8726"
   ]
  },
  {
   "cell_type": "markdown",
   "metadata": {},
   "source": [
    " ## Variables importantes"
   ]
  },
  {
   "cell_type": "code",
   "execution_count": 239,
   "metadata": {},
   "outputs": [],
   "source": [
    "features = pd.DataFrame()\n",
    "features['feature'] = X_train.columns\n",
    "features['importance'] = model.feature_importances_"
   ]
  },
  {
   "cell_type": "code",
   "execution_count": 240,
   "metadata": {},
   "outputs": [
    {
     "data": {
      "text/html": [
       "<div>\n",
       "<style scoped>\n",
       "    .dataframe tbody tr th:only-of-type {\n",
       "        vertical-align: middle;\n",
       "    }\n",
       "\n",
       "    .dataframe tbody tr th {\n",
       "        vertical-align: top;\n",
       "    }\n",
       "\n",
       "    .dataframe thead th {\n",
       "        text-align: right;\n",
       "    }\n",
       "</style>\n",
       "<table border=\"1\" class=\"dataframe\">\n",
       "  <thead>\n",
       "    <tr style=\"text-align: right;\">\n",
       "      <th></th>\n",
       "      <th>feature</th>\n",
       "      <th>importance</th>\n",
       "    </tr>\n",
       "  </thead>\n",
       "  <tbody>\n",
       "    <tr>\n",
       "      <th>0</th>\n",
       "      <td>U_NUMTRAFICOPAGADO_U2M</td>\n",
       "      <td>0.028220</td>\n",
       "    </tr>\n",
       "    <tr>\n",
       "      <th>1</th>\n",
       "      <td>NUMTRAFICOPAGADO_20M</td>\n",
       "      <td>0.028175</td>\n",
       "    </tr>\n",
       "    <tr>\n",
       "      <th>2</th>\n",
       "      <td>NUMTRAFICOTOTAL_20M</td>\n",
       "      <td>0.022583</td>\n",
       "    </tr>\n",
       "    <tr>\n",
       "      <th>3</th>\n",
       "      <td>NUMTRAFICOPAGADO_U2M</td>\n",
       "      <td>0.019109</td>\n",
       "    </tr>\n",
       "    <tr>\n",
       "      <th>4</th>\n",
       "      <td>NUMTRAFICOPAGADO_M0</td>\n",
       "      <td>0.018631</td>\n",
       "    </tr>\n",
       "    <tr>\n",
       "      <th>5</th>\n",
       "      <td>U_NUMTRAFICOPAGADO_U3M</td>\n",
       "      <td>0.018160</td>\n",
       "    </tr>\n",
       "    <tr>\n",
       "      <th>6</th>\n",
       "      <td>NUMTRAFICOTOTAL_M0</td>\n",
       "      <td>0.017864</td>\n",
       "    </tr>\n",
       "    <tr>\n",
       "      <th>7</th>\n",
       "      <td>STD_NUMTRAFICOPAGADO_U3M</td>\n",
       "      <td>0.017613</td>\n",
       "    </tr>\n",
       "    <tr>\n",
       "      <th>8</th>\n",
       "      <td>NUMTRAFICOPAGADO_1M</td>\n",
       "      <td>0.017147</td>\n",
       "    </tr>\n",
       "    <tr>\n",
       "      <th>9</th>\n",
       "      <td>NUMTRAFICOTOTAL_U2M</td>\n",
       "      <td>0.015395</td>\n",
       "    </tr>\n",
       "    <tr>\n",
       "      <th>10</th>\n",
       "      <td>NUMTRAFICOTOTAL_21M</td>\n",
       "      <td>0.015033</td>\n",
       "    </tr>\n",
       "    <tr>\n",
       "      <th>11</th>\n",
       "      <td>NUMMINUTOSALIENTE_21M</td>\n",
       "      <td>0.011375</td>\n",
       "    </tr>\n",
       "    <tr>\n",
       "      <th>12</th>\n",
       "      <td>MAX_NUMTRAFICOPAGADO_U2M</td>\n",
       "      <td>0.011144</td>\n",
       "    </tr>\n",
       "    <tr>\n",
       "      <th>13</th>\n",
       "      <td>NUMTRAFICOWHATSAPP_M0</td>\n",
       "      <td>0.010879</td>\n",
       "    </tr>\n",
       "    <tr>\n",
       "      <th>14</th>\n",
       "      <td>STD_NUMTRAFICOWHATSAPP_U3M</td>\n",
       "      <td>0.010644</td>\n",
       "    </tr>\n",
       "    <tr>\n",
       "      <th>15</th>\n",
       "      <td>U_NUMTRAFICOTOTAL_U2M</td>\n",
       "      <td>0.010096</td>\n",
       "    </tr>\n",
       "    <tr>\n",
       "      <th>16</th>\n",
       "      <td>MAX_NUMMINENTRANTEOFFNET_U3M</td>\n",
       "      <td>0.009810</td>\n",
       "    </tr>\n",
       "    <tr>\n",
       "      <th>17</th>\n",
       "      <td>NUMTRAFICOYOUTUBEPAGADO_U3M</td>\n",
       "      <td>0.009781</td>\n",
       "    </tr>\n",
       "    <tr>\n",
       "      <th>18</th>\n",
       "      <td>NUMTRAFICOTOTAL_U3M</td>\n",
       "      <td>0.009722</td>\n",
       "    </tr>\n",
       "    <tr>\n",
       "      <th>19</th>\n",
       "      <td>NUMTRAFICOPAGADO_21M</td>\n",
       "      <td>0.009554</td>\n",
       "    </tr>\n",
       "    <tr>\n",
       "      <th>20</th>\n",
       "      <td>NUMTRAFICOPAGADO_U3M</td>\n",
       "      <td>0.009536</td>\n",
       "    </tr>\n",
       "    <tr>\n",
       "      <th>21</th>\n",
       "      <td>STD_NUMTRAFICOPAGADO_U2M</td>\n",
       "      <td>0.009510</td>\n",
       "    </tr>\n",
       "    <tr>\n",
       "      <th>22</th>\n",
       "      <td>PCT_TRAFICOPAGADO_1M</td>\n",
       "      <td>0.009224</td>\n",
       "    </tr>\n",
       "    <tr>\n",
       "      <th>23</th>\n",
       "      <td>MAX_NUMTRAFICOMAILILIMITADO_U3</td>\n",
       "      <td>0.009015</td>\n",
       "    </tr>\n",
       "    <tr>\n",
       "      <th>24</th>\n",
       "      <td>U_NUMMINUTOSENTRANTE_U2M</td>\n",
       "      <td>0.008601</td>\n",
       "    </tr>\n",
       "    <tr>\n",
       "      <th>25</th>\n",
       "      <td>NUMMINSALIENTEONNET_M0</td>\n",
       "      <td>0.008499</td>\n",
       "    </tr>\n",
       "    <tr>\n",
       "      <th>26</th>\n",
       "      <td>NUMMINSALIENTEOFFNET_1M</td>\n",
       "      <td>0.008356</td>\n",
       "    </tr>\n",
       "    <tr>\n",
       "      <th>27</th>\n",
       "      <td>STD_NUMTRAFICOYOUTUBEPAGADO_U2</td>\n",
       "      <td>0.008254</td>\n",
       "    </tr>\n",
       "    <tr>\n",
       "      <th>28</th>\n",
       "      <td>MAX_NUMTRAFICOWHATSAPP_U3M</td>\n",
       "      <td>0.008239</td>\n",
       "    </tr>\n",
       "    <tr>\n",
       "      <th>29</th>\n",
       "      <td>STD_NUMTRAFICOTOTAL_U3M</td>\n",
       "      <td>0.008123</td>\n",
       "    </tr>\n",
       "    <tr>\n",
       "      <th>...</th>\n",
       "      <td>...</td>\n",
       "      <td>...</td>\n",
       "    </tr>\n",
       "    <tr>\n",
       "      <th>322</th>\n",
       "      <td>MIN_NUMTRAFICONETFLIX_U3M</td>\n",
       "      <td>0.000000</td>\n",
       "    </tr>\n",
       "    <tr>\n",
       "      <th>323</th>\n",
       "      <td>MIN_NUMTRAFICONETFLIX_U2M</td>\n",
       "      <td>0.000000</td>\n",
       "    </tr>\n",
       "    <tr>\n",
       "      <th>324</th>\n",
       "      <td>MIN_NUMTRAFICOMAILILIMITADO_U3</td>\n",
       "      <td>0.000000</td>\n",
       "    </tr>\n",
       "    <tr>\n",
       "      <th>325</th>\n",
       "      <td>MIN_NUMTRAFICOMAILILIMITADO_U2</td>\n",
       "      <td>0.000000</td>\n",
       "    </tr>\n",
       "    <tr>\n",
       "      <th>326</th>\n",
       "      <td>MIN_NUMTRAFICOINSTAGRAM_U3M</td>\n",
       "      <td>0.000000</td>\n",
       "    </tr>\n",
       "    <tr>\n",
       "      <th>327</th>\n",
       "      <td>MIN_NUMTRAFICOINSTAGRAM_U2M</td>\n",
       "      <td>0.000000</td>\n",
       "    </tr>\n",
       "    <tr>\n",
       "      <th>328</th>\n",
       "      <td>MIN_NUMTRAFICOFACEBOOK_U3M</td>\n",
       "      <td>0.000000</td>\n",
       "    </tr>\n",
       "    <tr>\n",
       "      <th>329</th>\n",
       "      <td>MIN_NUMTRAFICOFACEBOOK_U2M</td>\n",
       "      <td>0.000000</td>\n",
       "    </tr>\n",
       "    <tr>\n",
       "      <th>330</th>\n",
       "      <td>MIN_NUMTRAFICOAPPLEMUSIC_U3M</td>\n",
       "      <td>0.000000</td>\n",
       "    </tr>\n",
       "    <tr>\n",
       "      <th>331</th>\n",
       "      <td>MIN_NUMTRAFICOAPPLEMUSIC_U2M</td>\n",
       "      <td>0.000000</td>\n",
       "    </tr>\n",
       "    <tr>\n",
       "      <th>332</th>\n",
       "      <td>MIN_NUMMINUTOSENTRANTE_U3M</td>\n",
       "      <td>0.000000</td>\n",
       "    </tr>\n",
       "    <tr>\n",
       "      <th>333</th>\n",
       "      <td>MIN_NUMMINUTOSENTRANTE_U2M</td>\n",
       "      <td>0.000000</td>\n",
       "    </tr>\n",
       "    <tr>\n",
       "      <th>334</th>\n",
       "      <td>MIN_NUMMINUTOSALIENTE_U3M</td>\n",
       "      <td>0.000000</td>\n",
       "    </tr>\n",
       "    <tr>\n",
       "      <th>335</th>\n",
       "      <td>MIN_NUMMINUTOSALIENTE_U2M</td>\n",
       "      <td>0.000000</td>\n",
       "    </tr>\n",
       "    <tr>\n",
       "      <th>336</th>\n",
       "      <td>MIN_NUMMINSALIENTEONNET_U3M</td>\n",
       "      <td>0.000000</td>\n",
       "    </tr>\n",
       "    <tr>\n",
       "      <th>337</th>\n",
       "      <td>MIN_NUMMINSALIENTEONNET_U2M</td>\n",
       "      <td>0.000000</td>\n",
       "    </tr>\n",
       "    <tr>\n",
       "      <th>338</th>\n",
       "      <td>MIN_NUMMINSALIENTEOFFNET_U3M</td>\n",
       "      <td>0.000000</td>\n",
       "    </tr>\n",
       "    <tr>\n",
       "      <th>339</th>\n",
       "      <td>MIN_NUMMINSALIENTEOFFNET_U2M</td>\n",
       "      <td>0.000000</td>\n",
       "    </tr>\n",
       "    <tr>\n",
       "      <th>340</th>\n",
       "      <td>MIN_NUMMINENTRANTEONNET_U3M</td>\n",
       "      <td>0.000000</td>\n",
       "    </tr>\n",
       "    <tr>\n",
       "      <th>341</th>\n",
       "      <td>MIN_NUMMINENTRANTEONNET_U2M</td>\n",
       "      <td>0.000000</td>\n",
       "    </tr>\n",
       "    <tr>\n",
       "      <th>342</th>\n",
       "      <td>MIN_NUMMINENTRANTEOFFNET_U3M</td>\n",
       "      <td>0.000000</td>\n",
       "    </tr>\n",
       "    <tr>\n",
       "      <th>343</th>\n",
       "      <td>MIN_NUMMINENTRANTEOFFNET_U2M</td>\n",
       "      <td>0.000000</td>\n",
       "    </tr>\n",
       "    <tr>\n",
       "      <th>344</th>\n",
       "      <td>MAX_NUMTRAFICOYOUTUBE_U3M</td>\n",
       "      <td>0.000000</td>\n",
       "    </tr>\n",
       "    <tr>\n",
       "      <th>345</th>\n",
       "      <td>MAX_NUMTRAFICOSPOTIFY_U3M</td>\n",
       "      <td>0.000000</td>\n",
       "    </tr>\n",
       "    <tr>\n",
       "      <th>346</th>\n",
       "      <td>MAX_NUMTRAFICOSPOTIFY_U2M</td>\n",
       "      <td>0.000000</td>\n",
       "    </tr>\n",
       "    <tr>\n",
       "      <th>347</th>\n",
       "      <td>MAX_NUMTRAFICOSOUNDCLOUD_U3M</td>\n",
       "      <td>0.000000</td>\n",
       "    </tr>\n",
       "    <tr>\n",
       "      <th>348</th>\n",
       "      <td>MAX_NUMTRAFICOINSTAGRAM_U3M</td>\n",
       "      <td>0.000000</td>\n",
       "    </tr>\n",
       "    <tr>\n",
       "      <th>349</th>\n",
       "      <td>MAX_NUMTRAFICOINSTAGRAM_U2M</td>\n",
       "      <td>0.000000</td>\n",
       "    </tr>\n",
       "    <tr>\n",
       "      <th>350</th>\n",
       "      <td>MAX_NUMTRAFICOAPPLEMUSIC_U3M</td>\n",
       "      <td>0.000000</td>\n",
       "    </tr>\n",
       "    <tr>\n",
       "      <th>351</th>\n",
       "      <td>MAX_NUMTRAFICOAPPLEMUSIC_U2M</td>\n",
       "      <td>0.000000</td>\n",
       "    </tr>\n",
       "  </tbody>\n",
       "</table>\n",
       "<p>352 rows × 2 columns</p>\n",
       "</div>"
      ],
      "text/plain": [
       "                            feature  importance\n",
       "0            U_NUMTRAFICOPAGADO_U2M    0.028220\n",
       "1              NUMTRAFICOPAGADO_20M    0.028175\n",
       "2               NUMTRAFICOTOTAL_20M    0.022583\n",
       "3              NUMTRAFICOPAGADO_U2M    0.019109\n",
       "4               NUMTRAFICOPAGADO_M0    0.018631\n",
       "5            U_NUMTRAFICOPAGADO_U3M    0.018160\n",
       "6                NUMTRAFICOTOTAL_M0    0.017864\n",
       "7          STD_NUMTRAFICOPAGADO_U3M    0.017613\n",
       "8               NUMTRAFICOPAGADO_1M    0.017147\n",
       "9               NUMTRAFICOTOTAL_U2M    0.015395\n",
       "10              NUMTRAFICOTOTAL_21M    0.015033\n",
       "11            NUMMINUTOSALIENTE_21M    0.011375\n",
       "12         MAX_NUMTRAFICOPAGADO_U2M    0.011144\n",
       "13            NUMTRAFICOWHATSAPP_M0    0.010879\n",
       "14       STD_NUMTRAFICOWHATSAPP_U3M    0.010644\n",
       "15            U_NUMTRAFICOTOTAL_U2M    0.010096\n",
       "16     MAX_NUMMINENTRANTEOFFNET_U3M    0.009810\n",
       "17      NUMTRAFICOYOUTUBEPAGADO_U3M    0.009781\n",
       "18              NUMTRAFICOTOTAL_U3M    0.009722\n",
       "19             NUMTRAFICOPAGADO_21M    0.009554\n",
       "20             NUMTRAFICOPAGADO_U3M    0.009536\n",
       "21         STD_NUMTRAFICOPAGADO_U2M    0.009510\n",
       "22             PCT_TRAFICOPAGADO_1M    0.009224\n",
       "23   MAX_NUMTRAFICOMAILILIMITADO_U3    0.009015\n",
       "24         U_NUMMINUTOSENTRANTE_U2M    0.008601\n",
       "25           NUMMINSALIENTEONNET_M0    0.008499\n",
       "26          NUMMINSALIENTEOFFNET_1M    0.008356\n",
       "27   STD_NUMTRAFICOYOUTUBEPAGADO_U2    0.008254\n",
       "28       MAX_NUMTRAFICOWHATSAPP_U3M    0.008239\n",
       "29          STD_NUMTRAFICOTOTAL_U3M    0.008123\n",
       "..                              ...         ...\n",
       "322       MIN_NUMTRAFICONETFLIX_U3M    0.000000\n",
       "323       MIN_NUMTRAFICONETFLIX_U2M    0.000000\n",
       "324  MIN_NUMTRAFICOMAILILIMITADO_U3    0.000000\n",
       "325  MIN_NUMTRAFICOMAILILIMITADO_U2    0.000000\n",
       "326     MIN_NUMTRAFICOINSTAGRAM_U3M    0.000000\n",
       "327     MIN_NUMTRAFICOINSTAGRAM_U2M    0.000000\n",
       "328      MIN_NUMTRAFICOFACEBOOK_U3M    0.000000\n",
       "329      MIN_NUMTRAFICOFACEBOOK_U2M    0.000000\n",
       "330    MIN_NUMTRAFICOAPPLEMUSIC_U3M    0.000000\n",
       "331    MIN_NUMTRAFICOAPPLEMUSIC_U2M    0.000000\n",
       "332      MIN_NUMMINUTOSENTRANTE_U3M    0.000000\n",
       "333      MIN_NUMMINUTOSENTRANTE_U2M    0.000000\n",
       "334       MIN_NUMMINUTOSALIENTE_U3M    0.000000\n",
       "335       MIN_NUMMINUTOSALIENTE_U2M    0.000000\n",
       "336     MIN_NUMMINSALIENTEONNET_U3M    0.000000\n",
       "337     MIN_NUMMINSALIENTEONNET_U2M    0.000000\n",
       "338    MIN_NUMMINSALIENTEOFFNET_U3M    0.000000\n",
       "339    MIN_NUMMINSALIENTEOFFNET_U2M    0.000000\n",
       "340     MIN_NUMMINENTRANTEONNET_U3M    0.000000\n",
       "341     MIN_NUMMINENTRANTEONNET_U2M    0.000000\n",
       "342    MIN_NUMMINENTRANTEOFFNET_U3M    0.000000\n",
       "343    MIN_NUMMINENTRANTEOFFNET_U2M    0.000000\n",
       "344       MAX_NUMTRAFICOYOUTUBE_U3M    0.000000\n",
       "345       MAX_NUMTRAFICOSPOTIFY_U3M    0.000000\n",
       "346       MAX_NUMTRAFICOSPOTIFY_U2M    0.000000\n",
       "347    MAX_NUMTRAFICOSOUNDCLOUD_U3M    0.000000\n",
       "348     MAX_NUMTRAFICOINSTAGRAM_U3M    0.000000\n",
       "349     MAX_NUMTRAFICOINSTAGRAM_U2M    0.000000\n",
       "350    MAX_NUMTRAFICOAPPLEMUSIC_U3M    0.000000\n",
       "351    MAX_NUMTRAFICOAPPLEMUSIC_U2M    0.000000\n",
       "\n",
       "[352 rows x 2 columns]"
      ]
     },
     "execution_count": 240,
     "metadata": {},
     "output_type": "execute_result"
    }
   ],
   "source": [
    "ftrs = features.sort_values(by = ['importance','feature'],ascending=False)\n",
    "ftrs = ftrs.reset_index(drop = True)\n",
    "ftrs"
   ]
  },
  {
   "cell_type": "code",
   "execution_count": 241,
   "metadata": {},
   "outputs": [],
   "source": [
    "import seaborn as sns\n",
    "import matplotlib.pyplot as plt\n",
    "\n",
    "%matplotlib inline"
   ]
  },
  {
   "cell_type": "code",
   "execution_count": 242,
   "metadata": {},
   "outputs": [
    {
     "data": {
      "image/png": "[encoded data removed]",
      "text/plain": [
       "<Figure size 720x360 with 1 Axes>"
      ]
     },
     "metadata": {
      "needs_background": "light"
     },
     "output_type": "display_data"
    }
   ],
   "source": [
    "fig, ax = plt.subplots(nrows=1, ncols=1, figsize=(10, 5))\n",
    "g = sns.barplot(x='feature', y='importance', data=ftrs, order=ftrs['feature'], ax=ax, palette='BuGn_r')"
   ]
  },
  {
   "cell_type": "code",
   "execution_count": null,
   "metadata": {},
   "outputs": [],
   "source": []
  },
  {
   "cell_type": "markdown",
   "metadata": {},
   "source": [
    "## Croos Validation"
   ]
  },
  {
   "cell_type": "code",
   "execution_count": 247,
   "metadata": {},
   "outputs": [],
   "source": [
    "X_train_cv = X_train.copy()\n",
    "y_train_cv = y_train.copy()"
   ]
  },
  {
   "cell_type": "code",
   "execution_count": 248,
   "metadata": {},
   "outputs": [],
   "source": [
    "# Instanciar Modelo Base:\n",
    "from sklearn.ensemble import RandomForestClassifier\n",
    "model_rf = RandomForestClassifier(max_depth=5, n_estimators= 50, \n",
    "                                  random_state=100 , max_features = 5)"
   ]
  },
  {
   "cell_type": "code",
   "execution_count": 249,
   "metadata": {},
   "outputs": [],
   "source": [
    "# croos Validation\n",
    "from sklearn.base import clone\n",
    "from sklearn import cross_validation\n",
    "from sklearn.metrics import roc_auc_score\n",
    "k=5 #n_folds\n",
    "metric = 'roc_auc'\n",
    "\n",
    "cv = cross_validation.KFold(len(X_train_cv), n_folds=k, random_state = 123, shuffle = True)\n",
    "\n",
    "results_train = []\n",
    "results_test = []\n",
    "list_models = [] "
   ]
  },
  {
   "cell_type": "code",
   "execution_count": 250,
   "metadata": {},
   "outputs": [
    {
     "name": "stdout",
     "output_type": "stream",
     "text": [
      "Ok -  1 :  0.975037 0.786667\n",
      "Mean Target:  0.5258 0.5102\n",
      "Ok -  2 :  0.970378 0.862771\n",
      "Mean Target:  0.5116 0.567\n",
      "Ok -  3 :  0.97866 0.828833\n",
      "Mean Target:  0.5476 0.4227\n",
      "Ok -  4 :  0.971609 0.889599\n",
      "Mean Target:  0.5219 0.5258\n",
      "Ok -  5 :  0.969332 0.900877\n",
      "Mean Target:  0.5064 0.5876\n",
      "CV roc - train : 0.9730031298330495\n",
      "CV roc - test  : 0.8537492986041982\n"
     ]
    }
   ],
   "source": [
    "i = 1\n",
    "for traincv, testcv in cv:\n",
    "    model = clone(model_rf)\n",
    "    # Entrenar el modelo\n",
    "    model = model.fit(X_train_cv.values[traincv], y_train_cv[traincv])\n",
    "    # Calcular probabilidades\n",
    "    probas_train = model.predict_proba(X_train_cv.values[traincv])[:,1]\n",
    "    probas_test = model.predict_proba(X_train_cv.values[testcv])[:,1]\n",
    "    # Calcular indicadores\n",
    "    metric_train = roc_auc_score(y_train_cv[traincv],probas_train)\n",
    "    metric_test = roc_auc_score(y_train_cv[testcv],probas_test)\n",
    "    # Almacenar metricas y modelos\n",
    "    results_train.append(metric_train)\n",
    "    results_test.append(metric_test)\n",
    "    list_models.append(model)\n",
    "    \n",
    "    print(\"Ok - \",str(i),\": \", str(round(metric_train,6)), str(round(metric_test,6)))\n",
    "    print(\"Mean Target: \", str(round(y_train_cv[traincv].mean(),4)), str(round(y_train_cv[testcv].mean(),4)))\n",
    "\n",
    "    i = i + 1\n",
    "\n",
    "result_final_train = np.mean(results_train)\n",
    "result_final_test = np.mean(results_test)\n",
    "\n",
    "print(\"CV roc - train :\",result_final_train)\n",
    "print(\"CV roc - test  :\",result_final_test)"
   ]
  },
  {
   "cell_type": "markdown",
   "metadata": {},
   "source": [
    "#### Calcular las predicciones sobre el X_test .."
   ]
  },
  {
   "cell_type": "code",
   "execution_count": 251,
   "metadata": {},
   "outputs": [],
   "source": [
    "df_probas_subm = pd.DataFrame()\n",
    "i = 1\n",
    "for model in list_models:\n",
    "    probas_tmp = model.predict_proba(X_test)[:,1]\n",
    "    df_probas_subm[\"model\"+str(i)] = probas_tmp\n",
    "    i += 1"
   ]
  },
  {
   "cell_type": "code",
   "execution_count": 252,
   "metadata": {
    "scrolled": true
   },
   "outputs": [
    {
     "data": {
      "text/html": [
       "<div>\n",
       "<style scoped>\n",
       "    .dataframe tbody tr th:only-of-type {\n",
       "        vertical-align: middle;\n",
       "    }\n",
       "\n",
       "    .dataframe tbody tr th {\n",
       "        vertical-align: top;\n",
       "    }\n",
       "\n",
       "    .dataframe thead th {\n",
       "        text-align: right;\n",
       "    }\n",
       "</style>\n",
       "<table border=\"1\" class=\"dataframe\">\n",
       "  <thead>\n",
       "    <tr style=\"text-align: right;\">\n",
       "      <th></th>\n",
       "      <th>model1</th>\n",
       "      <th>model2</th>\n",
       "      <th>model3</th>\n",
       "      <th>model4</th>\n",
       "      <th>model5</th>\n",
       "    </tr>\n",
       "  </thead>\n",
       "  <tbody>\n",
       "    <tr>\n",
       "      <th>0</th>\n",
       "      <td>0.178049</td>\n",
       "      <td>0.194438</td>\n",
       "      <td>0.244303</td>\n",
       "      <td>0.240641</td>\n",
       "      <td>0.210829</td>\n",
       "    </tr>\n",
       "    <tr>\n",
       "      <th>1</th>\n",
       "      <td>0.832004</td>\n",
       "      <td>0.799697</td>\n",
       "      <td>0.835573</td>\n",
       "      <td>0.820536</td>\n",
       "      <td>0.852561</td>\n",
       "    </tr>\n",
       "    <tr>\n",
       "      <th>2</th>\n",
       "      <td>0.798280</td>\n",
       "      <td>0.759228</td>\n",
       "      <td>0.847417</td>\n",
       "      <td>0.781197</td>\n",
       "      <td>0.765862</td>\n",
       "    </tr>\n",
       "    <tr>\n",
       "      <th>3</th>\n",
       "      <td>0.621694</td>\n",
       "      <td>0.490894</td>\n",
       "      <td>0.587926</td>\n",
       "      <td>0.557211</td>\n",
       "      <td>0.577049</td>\n",
       "    </tr>\n",
       "    <tr>\n",
       "      <th>4</th>\n",
       "      <td>0.836806</td>\n",
       "      <td>0.896690</td>\n",
       "      <td>0.897972</td>\n",
       "      <td>0.901659</td>\n",
       "      <td>0.884442</td>\n",
       "    </tr>\n",
       "  </tbody>\n",
       "</table>\n",
       "</div>"
      ],
      "text/plain": [
       "     model1    model2    model3    model4    model5\n",
       "0  0.178049  0.194438  0.244303  0.240641  0.210829\n",
       "1  0.832004  0.799697  0.835573  0.820536  0.852561\n",
       "2  0.798280  0.759228  0.847417  0.781197  0.765862\n",
       "3  0.621694  0.490894  0.587926  0.557211  0.577049\n",
       "4  0.836806  0.896690  0.897972  0.901659  0.884442"
      ]
     },
     "execution_count": 252,
     "metadata": {},
     "output_type": "execute_result"
    }
   ],
   "source": [
    "df_probas_subm.head()"
   ]
  },
  {
   "cell_type": "code",
   "execution_count": 253,
   "metadata": {},
   "outputs": [
    {
     "data": {
      "text/plain": [
       "0      0.213652\n",
       "1      0.828074\n",
       "2      0.790397\n",
       "3      0.566955\n",
       "4      0.883514\n",
       "5      0.419768\n",
       "6      0.267342\n",
       "7      0.339059\n",
       "8      0.733791\n",
       "9      0.428118\n",
       "10     0.436610\n",
       "11     0.874291\n",
       "12     0.500678\n",
       "13     0.288154\n",
       "14     0.258135\n",
       "15     0.858464\n",
       "16     0.394393\n",
       "17     0.570385\n",
       "18     0.269249\n",
       "19     0.817621\n",
       "20     0.849364\n",
       "21     0.744278\n",
       "22     0.911994\n",
       "23     0.781064\n",
       "24     0.876310\n",
       "25     0.558808\n",
       "26     0.556064\n",
       "27     0.818698\n",
       "28     0.791325\n",
       "29     0.415918\n",
       "         ...   \n",
       "233    0.772229\n",
       "234    0.674628\n",
       "235    0.741427\n",
       "236    0.283776\n",
       "237    0.740980\n",
       "238    0.433232\n",
       "239    0.475796\n",
       "240    0.856392\n",
       "241    0.346310\n",
       "242    0.706284\n",
       "243    0.402506\n",
       "244    0.374565\n",
       "245    0.182658\n",
       "246    0.788788\n",
       "247    0.616956\n",
       "248    0.472153\n",
       "249    0.253371\n",
       "250    0.345765\n",
       "251    0.263937\n",
       "252    0.482012\n",
       "253    0.831244\n",
       "254    0.824257\n",
       "255    0.725385\n",
       "256    0.200893\n",
       "257    0.504315\n",
       "258    0.922588\n",
       "259    0.460400\n",
       "260    0.404258\n",
       "261    0.270860\n",
       "262    0.364028\n",
       "Length: 263, dtype: float64"
      ]
     },
     "execution_count": 253,
     "metadata": {},
     "output_type": "execute_result"
    }
   ],
   "source": [
    "y_probas_subm = df_probas_subm.apply(np.mean, axis = 1)\n",
    "y_probas_subm"
   ]
  },
  {
   "cell_type": "code",
   "execution_count": 254,
   "metadata": {},
   "outputs": [
    {
     "data": {
      "text/plain": [
       "0.8452284557547716"
      ]
     },
     "execution_count": 254,
     "metadata": {},
     "output_type": "execute_result"
    }
   ],
   "source": [
    "roc_auc_score(y_test,y_probas_subm)"
   ]
  },
  {
   "cell_type": "code",
   "execution_count": null,
   "metadata": {},
   "outputs": [],
   "source": []
  },
  {
   "cell_type": "markdown",
   "metadata": {},
   "source": [
    "## Stacking Ensembling"
   ]
  },
  {
   "cell_type": "code",
   "execution_count": 255,
   "metadata": {},
   "outputs": [],
   "source": [
    "model_regl = LogisticRegression()\n",
    "model_rf = RandomForestClassifier(max_depth=5, n_estimators= 50, random_state=100 , max_features = 5)\n",
    "model_gbm = GradientBoostingClassifier(max_depth=4, n_estimators= 50, random_state=100 , max_features = 5)"
   ]
  },
  {
   "cell_type": "code",
   "execution_count": 256,
   "metadata": {},
   "outputs": [],
   "source": [
    "model_regl = model_regl.fit(X_train,y_train)\n",
    "model_rf = model_rf.fit(X_train,y_train)\n",
    "model_gbm = model_gbm.fit(X_train,y_train)"
   ]
  },
  {
   "cell_type": "code",
   "execution_count": 257,
   "metadata": {},
   "outputs": [],
   "source": [
    "# Probabilidades - Training\n",
    "pred_proba_train_regl = pd.DataFrame(model_regl.predict_proba(X_train)[:,1],columns = [\"pre_rlog\"])\n",
    "pred_proba_train_rf = pd.DataFrame(model_rf.predict_proba(X_train)[:,1],columns = [\"pre_rf\"])\n",
    "pred_proba_train_gbm = pd.DataFrame(model_gbm.predict_proba(X_train)[:,1],columns = [\"pre_rgbm\"])"
   ]
  },
  {
   "cell_type": "code",
   "execution_count": 258,
   "metadata": {},
   "outputs": [],
   "source": [
    "# Probabilidades - testing\n",
    "pred_proba_test_regl = pd.DataFrame(model_regl.predict_proba(X_test)[:,1],columns = [\"pre_rlog\"])\n",
    "pred_proba_test_rf = pd.DataFrame(model_rf.predict_proba(X_test)[:,1],columns = [\"pre_rf\"])\n",
    "pred_proba_test_gbm = pd.DataFrame(model_gbm.predict_proba(X_test)[:,1],columns = [\"pre_rgbm\"])"
   ]
  },
  {
   "cell_type": "code",
   "execution_count": 259,
   "metadata": {},
   "outputs": [],
   "source": [
    "roc_regl = mt.roc_auc_score(y_test,pred_proba_test_regl)\n",
    "roc_rf = mt.roc_auc_score(y_test,pred_proba_test_rf)\n",
    "roc_gbm = mt.roc_auc_score(y_test,pred_proba_test_gbm)"
   ]
  },
  {
   "cell_type": "code",
   "execution_count": 260,
   "metadata": {},
   "outputs": [
    {
     "name": "stdout",
     "output_type": "stream",
     "text": [
      "REG LOG:  0.8804800462695199\n",
      "RF:       0.8519375361480624\n",
      "GBM:      0.8725853094274146\n"
     ]
    }
   ],
   "source": [
    "print(\"REG LOG: \",roc_regl)\n",
    "print(\"RF:      \",roc_rf)\n",
    "print(\"GBM:     \",roc_gbm)"
   ]
  },
  {
   "cell_type": "code",
   "execution_count": 261,
   "metadata": {},
   "outputs": [
    {
     "data": {
      "text/html": [
       "<div>\n",
       "<style scoped>\n",
       "    .dataframe tbody tr th:only-of-type {\n",
       "        vertical-align: middle;\n",
       "    }\n",
       "\n",
       "    .dataframe tbody tr th {\n",
       "        vertical-align: top;\n",
       "    }\n",
       "\n",
       "    .dataframe thead th {\n",
       "        text-align: right;\n",
       "    }\n",
       "</style>\n",
       "<table border=\"1\" class=\"dataframe\">\n",
       "  <thead>\n",
       "    <tr style=\"text-align: right;\">\n",
       "      <th></th>\n",
       "      <th>pre_rlog</th>\n",
       "      <th>pre_rf</th>\n",
       "      <th>pre_rgbm</th>\n",
       "    </tr>\n",
       "  </thead>\n",
       "  <tbody>\n",
       "    <tr>\n",
       "      <th>0</th>\n",
       "      <td>0.283792</td>\n",
       "      <td>0.415988</td>\n",
       "      <td>0.402403</td>\n",
       "    </tr>\n",
       "    <tr>\n",
       "      <th>1</th>\n",
       "      <td>0.991193</td>\n",
       "      <td>0.860066</td>\n",
       "      <td>0.907666</td>\n",
       "    </tr>\n",
       "    <tr>\n",
       "      <th>2</th>\n",
       "      <td>0.854753</td>\n",
       "      <td>0.657637</td>\n",
       "      <td>0.811002</td>\n",
       "    </tr>\n",
       "    <tr>\n",
       "      <th>3</th>\n",
       "      <td>0.000563</td>\n",
       "      <td>0.112575</td>\n",
       "      <td>0.022983</td>\n",
       "    </tr>\n",
       "    <tr>\n",
       "      <th>4</th>\n",
       "      <td>0.438610</td>\n",
       "      <td>0.377633</td>\n",
       "      <td>0.109270</td>\n",
       "    </tr>\n",
       "  </tbody>\n",
       "</table>\n",
       "</div>"
      ],
      "text/plain": [
       "   pre_rlog    pre_rf  pre_rgbm\n",
       "0  0.283792  0.415988  0.402403\n",
       "1  0.991193  0.860066  0.907666\n",
       "2  0.854753  0.657637  0.811002\n",
       "3  0.000563  0.112575  0.022983\n",
       "4  0.438610  0.377633  0.109270"
      ]
     },
     "execution_count": 261,
     "metadata": {},
     "output_type": "execute_result"
    }
   ],
   "source": [
    "# Crear New DF Train:\n",
    "df_train_2 = pd.concat([pred_proba_train_regl, \n",
    "                        pred_proba_train_rf, \n",
    "                        pred_proba_train_gbm], axis = 1)\n",
    "df_train_2.head()"
   ]
  },
  {
   "cell_type": "code",
   "execution_count": 262,
   "metadata": {},
   "outputs": [
    {
     "data": {
      "text/html": [
       "<div>\n",
       "<style scoped>\n",
       "    .dataframe tbody tr th:only-of-type {\n",
       "        vertical-align: middle;\n",
       "    }\n",
       "\n",
       "    .dataframe tbody tr th {\n",
       "        vertical-align: top;\n",
       "    }\n",
       "\n",
       "    .dataframe thead th {\n",
       "        text-align: right;\n",
       "    }\n",
       "</style>\n",
       "<table border=\"1\" class=\"dataframe\">\n",
       "  <thead>\n",
       "    <tr style=\"text-align: right;\">\n",
       "      <th></th>\n",
       "      <th>pre_rlog</th>\n",
       "      <th>pre_rf</th>\n",
       "      <th>pre_rgbm</th>\n",
       "    </tr>\n",
       "  </thead>\n",
       "  <tbody>\n",
       "    <tr>\n",
       "      <th>0</th>\n",
       "      <td>0.100589</td>\n",
       "      <td>0.213131</td>\n",
       "      <td>0.073258</td>\n",
       "    </tr>\n",
       "    <tr>\n",
       "      <th>1</th>\n",
       "      <td>0.965028</td>\n",
       "      <td>0.898951</td>\n",
       "      <td>0.927579</td>\n",
       "    </tr>\n",
       "    <tr>\n",
       "      <th>2</th>\n",
       "      <td>1.000000</td>\n",
       "      <td>0.763670</td>\n",
       "      <td>0.837566</td>\n",
       "    </tr>\n",
       "    <tr>\n",
       "      <th>3</th>\n",
       "      <td>0.640265</td>\n",
       "      <td>0.598086</td>\n",
       "      <td>0.733340</td>\n",
       "    </tr>\n",
       "    <tr>\n",
       "      <th>4</th>\n",
       "      <td>0.998732</td>\n",
       "      <td>0.856467</td>\n",
       "      <td>0.949211</td>\n",
       "    </tr>\n",
       "  </tbody>\n",
       "</table>\n",
       "</div>"
      ],
      "text/plain": [
       "   pre_rlog    pre_rf  pre_rgbm\n",
       "0  0.100589  0.213131  0.073258\n",
       "1  0.965028  0.898951  0.927579\n",
       "2  1.000000  0.763670  0.837566\n",
       "3  0.640265  0.598086  0.733340\n",
       "4  0.998732  0.856467  0.949211"
      ]
     },
     "execution_count": 262,
     "metadata": {},
     "output_type": "execute_result"
    }
   ],
   "source": [
    "# Crear New DF Test:\n",
    "df_test_2 = pd.concat([pred_proba_test_regl, \n",
    "                        pred_proba_test_rf, \n",
    "                        pred_proba_test_gbm], axis = 1)\n",
    "df_test_2.head()"
   ]
  },
  {
   "cell_type": "code",
   "execution_count": 263,
   "metadata": {},
   "outputs": [],
   "source": [
    "#Modelo Nivel 2"
   ]
  },
  {
   "cell_type": "code",
   "execution_count": 264,
   "metadata": {},
   "outputs": [],
   "source": [
    "from sklearn.neural_network import MLPClassifier"
   ]
  },
  {
   "cell_type": "code",
   "execution_count": 309,
   "metadata": {},
   "outputs": [],
   "source": [
    "model_rn_stacking = MLPClassifier(hidden_layer_sizes=(500,500), max_iter=1000,\n",
    "                                     random_state=20, activation='tanh')"
   ]
  },
  {
   "cell_type": "code",
   "execution_count": 310,
   "metadata": {},
   "outputs": [],
   "source": [
    "model_rn_stacking = model_rn_stacking.fit(df_train_2,y_train)"
   ]
  },
  {
   "cell_type": "code",
   "execution_count": null,
   "metadata": {},
   "outputs": [],
   "source": [
    "prob_stack_train = model_rn_stacking.predict_proba(df_train_2)[:,1]\n",
    "prob_stack_train = model_rn_stacking.predict_proba(df_test_2)[:,1]\n",
    "df_train_2"
   ]
  },
  {
   "cell_type": "raw",
   "metadata": {},
   "source": [
    "roc_stack_train = mt.roc_auc_score(y_train,prob_stack_train)\n",
    "roc_stack_test = mt.roc_auc_score(y_test,prob_stack_test)"
   ]
  },
  {
   "cell_type": "markdown",
   "metadata": {},
   "source": [
    "## ANN_SK Modelo"
   ]
  },
  {
   "cell_type": "code",
   "execution_count": 313,
   "metadata": {},
   "outputs": [
    {
     "data": {
      "text/html": [
       "<div>\n",
       "<style scoped>\n",
       "    .dataframe tbody tr th:only-of-type {\n",
       "        vertical-align: middle;\n",
       "    }\n",
       "\n",
       "    .dataframe tbody tr th {\n",
       "        vertical-align: top;\n",
       "    }\n",
       "\n",
       "    .dataframe thead th {\n",
       "        text-align: right;\n",
       "    }\n",
       "</style>\n",
       "<table border=\"1\" class=\"dataframe\">\n",
       "  <thead>\n",
       "    <tr style=\"text-align: right;\">\n",
       "      <th></th>\n",
       "      <th>NUMCODCONTRATOBSCS</th>\n",
       "      <th>NUMRENTABASICA</th>\n",
       "      <th>NUMMINUTOSENTRANTE_2M</th>\n",
       "      <th>NUMMINUTOSALIENTE_2M</th>\n",
       "      <th>NUMMINSALIENTEOFFNET_2M</th>\n",
       "      <th>NUMMINENTRANTEOFFNET_2M</th>\n",
       "      <th>NUMMINSALIENTEONNET_2M</th>\n",
       "      <th>NUMMINENTRANTEONNET_2M</th>\n",
       "      <th>NUMTRAFICOFACEBOOK_2M</th>\n",
       "      <th>NUMTRAFICOWHATSAPP_2M</th>\n",
       "      <th>...</th>\n",
       "      <th>NUMKB_ADICIONAL</th>\n",
       "      <th>PCT_MB_ADICIONAL</th>\n",
       "      <th>PCT_USO_TRAFICOTOTAL_2M</th>\n",
       "      <th>PCT_USO_TRAFICOTOTAL_1M</th>\n",
       "      <th>PCT_USO_TRAFICOTOTAL_M0</th>\n",
       "      <th>PCT_USO_TRAFICOTOTAL_U3M</th>\n",
       "      <th>PCT_USO_TRAFICOTOTAL_U2M</th>\n",
       "      <th>VCHRANGO_RENTA_Alta</th>\n",
       "      <th>VCHRANGO_RENTA_Baja</th>\n",
       "      <th>VCHRANGO_RENTA_Media</th>\n",
       "    </tr>\n",
       "  </thead>\n",
       "  <tbody>\n",
       "    <tr>\n",
       "      <th>0</th>\n",
       "      <td>-1.408671</td>\n",
       "      <td>0.098087</td>\n",
       "      <td>0.435142</td>\n",
       "      <td>0.518477</td>\n",
       "      <td>0.333913</td>\n",
       "      <td>0.237923</td>\n",
       "      <td>0.491938</td>\n",
       "      <td>0.433751</td>\n",
       "      <td>-0.270907</td>\n",
       "      <td>-0.590015</td>\n",
       "      <td>...</td>\n",
       "      <td>-0.492917</td>\n",
       "      <td>0.0</td>\n",
       "      <td>-0.333305</td>\n",
       "      <td>-0.34785</td>\n",
       "      <td>-0.372911</td>\n",
       "      <td>-0.363294</td>\n",
       "      <td>-0.361065</td>\n",
       "      <td>-0.242536</td>\n",
       "      <td>-0.703836</td>\n",
       "      <td>0.794275</td>\n",
       "    </tr>\n",
       "    <tr>\n",
       "      <th>1</th>\n",
       "      <td>-1.540446</td>\n",
       "      <td>1.849302</td>\n",
       "      <td>-0.074342</td>\n",
       "      <td>0.230251</td>\n",
       "      <td>0.251391</td>\n",
       "      <td>0.049064</td>\n",
       "      <td>0.089417</td>\n",
       "      <td>-0.158484</td>\n",
       "      <td>-0.253968</td>\n",
       "      <td>0.311830</td>\n",
       "      <td>...</td>\n",
       "      <td>-0.492917</td>\n",
       "      <td>0.0</td>\n",
       "      <td>-0.333305</td>\n",
       "      <td>-0.34785</td>\n",
       "      <td>-0.372911</td>\n",
       "      <td>-0.363294</td>\n",
       "      <td>-0.361065</td>\n",
       "      <td>4.123106</td>\n",
       "      <td>-0.703836</td>\n",
       "      <td>-1.259010</td>\n",
       "    </tr>\n",
       "    <tr>\n",
       "      <th>2</th>\n",
       "      <td>-0.208683</td>\n",
       "      <td>-0.077036</td>\n",
       "      <td>-0.574562</td>\n",
       "      <td>-0.780979</td>\n",
       "      <td>-0.773097</td>\n",
       "      <td>-0.971313</td>\n",
       "      <td>-0.403473</td>\n",
       "      <td>0.039472</td>\n",
       "      <td>-0.324576</td>\n",
       "      <td>-0.644324</td>\n",
       "      <td>...</td>\n",
       "      <td>-0.492917</td>\n",
       "      <td>0.0</td>\n",
       "      <td>-0.333305</td>\n",
       "      <td>-0.34785</td>\n",
       "      <td>-0.372911</td>\n",
       "      <td>-0.363294</td>\n",
       "      <td>-0.361065</td>\n",
       "      <td>-0.242536</td>\n",
       "      <td>-0.703836</td>\n",
       "      <td>0.794275</td>\n",
       "    </tr>\n",
       "    <tr>\n",
       "      <th>3</th>\n",
       "      <td>0.303713</td>\n",
       "      <td>0.098087</td>\n",
       "      <td>-0.315188</td>\n",
       "      <td>0.081254</td>\n",
       "      <td>-0.170967</td>\n",
       "      <td>-0.165073</td>\n",
       "      <td>0.356289</td>\n",
       "      <td>-0.321896</td>\n",
       "      <td>-0.331701</td>\n",
       "      <td>-0.615506</td>\n",
       "      <td>...</td>\n",
       "      <td>-0.492917</td>\n",
       "      <td>0.0</td>\n",
       "      <td>-0.333305</td>\n",
       "      <td>-0.34785</td>\n",
       "      <td>-0.372911</td>\n",
       "      <td>-0.363294</td>\n",
       "      <td>-0.361065</td>\n",
       "      <td>-0.242536</td>\n",
       "      <td>-0.703836</td>\n",
       "      <td>0.794275</td>\n",
       "    </tr>\n",
       "    <tr>\n",
       "      <th>4</th>\n",
       "      <td>0.845837</td>\n",
       "      <td>-0.952648</td>\n",
       "      <td>-1.105659</td>\n",
       "      <td>-1.164465</td>\n",
       "      <td>-1.061370</td>\n",
       "      <td>-1.040253</td>\n",
       "      <td>-0.715779</td>\n",
       "      <td>-0.697313</td>\n",
       "      <td>-0.316020</td>\n",
       "      <td>2.501106</td>\n",
       "      <td>...</td>\n",
       "      <td>-0.492917</td>\n",
       "      <td>0.0</td>\n",
       "      <td>-0.333305</td>\n",
       "      <td>-0.34785</td>\n",
       "      <td>-0.372911</td>\n",
       "      <td>-0.363294</td>\n",
       "      <td>-0.361065</td>\n",
       "      <td>-0.242536</td>\n",
       "      <td>1.420786</td>\n",
       "      <td>-1.259010</td>\n",
       "    </tr>\n",
       "  </tbody>\n",
       "</table>\n",
       "<p>5 rows × 352 columns</p>\n",
       "</div>"
      ],
      "text/plain": [
       "   NUMCODCONTRATOBSCS  NUMRENTABASICA  NUMMINUTOSENTRANTE_2M  \\\n",
       "0           -1.408671        0.098087               0.435142   \n",
       "1           -1.540446        1.849302              -0.074342   \n",
       "2           -0.208683       -0.077036              -0.574562   \n",
       "3            0.303713        0.098087              -0.315188   \n",
       "4            0.845837       -0.952648              -1.105659   \n",
       "\n",
       "   NUMMINUTOSALIENTE_2M  NUMMINSALIENTEOFFNET_2M  NUMMINENTRANTEOFFNET_2M  \\\n",
       "0              0.518477                 0.333913                 0.237923   \n",
       "1              0.230251                 0.251391                 0.049064   \n",
       "2             -0.780979                -0.773097                -0.971313   \n",
       "3              0.081254                -0.170967                -0.165073   \n",
       "4             -1.164465                -1.061370                -1.040253   \n",
       "\n",
       "   NUMMINSALIENTEONNET_2M  NUMMINENTRANTEONNET_2M  NUMTRAFICOFACEBOOK_2M  \\\n",
       "0                0.491938                0.433751              -0.270907   \n",
       "1                0.089417               -0.158484              -0.253968   \n",
       "2               -0.403473                0.039472              -0.324576   \n",
       "3                0.356289               -0.321896              -0.331701   \n",
       "4               -0.715779               -0.697313              -0.316020   \n",
       "\n",
       "   NUMTRAFICOWHATSAPP_2M          ...           NUMKB_ADICIONAL  \\\n",
       "0              -0.590015          ...                 -0.492917   \n",
       "1               0.311830          ...                 -0.492917   \n",
       "2              -0.644324          ...                 -0.492917   \n",
       "3              -0.615506          ...                 -0.492917   \n",
       "4               2.501106          ...                 -0.492917   \n",
       "\n",
       "   PCT_MB_ADICIONAL  PCT_USO_TRAFICOTOTAL_2M  PCT_USO_TRAFICOTOTAL_1M  \\\n",
       "0               0.0                -0.333305                 -0.34785   \n",
       "1               0.0                -0.333305                 -0.34785   \n",
       "2               0.0                -0.333305                 -0.34785   \n",
       "3               0.0                -0.333305                 -0.34785   \n",
       "4               0.0                -0.333305                 -0.34785   \n",
       "\n",
       "   PCT_USO_TRAFICOTOTAL_M0  PCT_USO_TRAFICOTOTAL_U3M  \\\n",
       "0                -0.372911                 -0.363294   \n",
       "1                -0.372911                 -0.363294   \n",
       "2                -0.372911                 -0.363294   \n",
       "3                -0.372911                 -0.363294   \n",
       "4                -0.372911                 -0.363294   \n",
       "\n",
       "   PCT_USO_TRAFICOTOTAL_U2M  VCHRANGO_RENTA_Alta  VCHRANGO_RENTA_Baja  \\\n",
       "0                 -0.361065            -0.242536            -0.703836   \n",
       "1                 -0.361065             4.123106            -0.703836   \n",
       "2                 -0.361065            -0.242536            -0.703836   \n",
       "3                 -0.361065            -0.242536            -0.703836   \n",
       "4                 -0.361065            -0.242536             1.420786   \n",
       "\n",
       "   VCHRANGO_RENTA_Media  \n",
       "0              0.794275  \n",
       "1             -1.259010  \n",
       "2              0.794275  \n",
       "3              0.794275  \n",
       "4             -1.259010  \n",
       "\n",
       "[5 rows x 352 columns]"
      ]
     },
     "execution_count": 313,
     "metadata": {},
     "output_type": "execute_result"
    }
   ],
   "source": [
    "X_train.head()"
   ]
  },
  {
   "cell_type": "code",
   "execution_count": 316,
   "metadata": {},
   "outputs": [
    {
     "data": {
      "text/plain": [
       "0    0\n",
       "1    1\n",
       "2    1\n",
       "3    0\n",
       "4    0\n",
       "Name: FLG_RECARGA, dtype: int64"
      ]
     },
     "execution_count": 316,
     "metadata": {},
     "output_type": "execute_result"
    }
   ],
   "source": [
    "y_train.head()"
   ]
  },
  {
   "cell_type": "code",
   "execution_count": 344,
   "metadata": {},
   "outputs": [],
   "source": [
    "clf = MLPClassifier(hidden_layer_sizes=(8, 20,10), solver='lbfgs', epsilon=1e-3,\n",
    "                   random_state=1,learning_rate_init=0.3, max_iter=10,\n",
    "                   momentum=0.2)"
   ]
  },
  {
   "cell_type": "code",
   "execution_count": 345,
   "metadata": {},
   "outputs": [
    {
     "data": {
      "text/plain": [
       "MLPClassifier(activation='relu', alpha=0.0001, batch_size='auto', beta_1=0.9,\n",
       "       beta_2=0.999, early_stopping=False, epsilon=0.001,\n",
       "       hidden_layer_sizes=(8, 20, 10), learning_rate='constant',\n",
       "       learning_rate_init=0.3, max_iter=10, momentum=0.2,\n",
       "       nesterovs_momentum=True, power_t=0.5, random_state=1, shuffle=True,\n",
       "       solver='lbfgs', tol=0.0001, validation_fraction=0.1, verbose=False,\n",
       "       warm_start=False)"
      ]
     },
     "execution_count": 345,
     "metadata": {},
     "output_type": "execute_result"
    }
   ],
   "source": [
    "clf.fit(X_train,y_train)"
   ]
  },
  {
   "cell_type": "code",
   "execution_count": 346,
   "metadata": {},
   "outputs": [
    {
     "name": "stdout",
     "output_type": "stream",
     "text": [
      "[[121  12]\n",
      " [ 37  93]]\n"
     ]
    }
   ],
   "source": [
    "note_predictions = clf.predict(X_test)\n",
    "from sklearn.metrics import classification_report,confusion_matrix\n",
    "print(confusion_matrix(y_test , note_predictions))"
   ]
  },
  {
   "cell_type": "code",
   "execution_count": 347,
   "metadata": {},
   "outputs": [
    {
     "name": "stdout",
     "output_type": "stream",
     "text": [
      "             precision    recall  f1-score   support\n",
      "\n",
      "          0       0.77      0.91      0.83       133\n",
      "          1       0.89      0.72      0.79       130\n",
      "\n",
      "avg / total       0.83      0.81      0.81       263\n",
      "\n"
     ]
    }
   ],
   "source": [
    "print(classification_report(y_test , note_predictions))"
   ]
  },
  {
   "cell_type": "code",
   "execution_count": 360,
   "metadata": {},
   "outputs": [],
   "source": [
    "#Comparando con Random Forest\n",
    "from sklearn.ensemble import RandomForestClassifier"
   ]
  },
  {
   "cell_type": "code",
   "execution_count": 361,
   "metadata": {},
   "outputs": [],
   "source": [
    "rfc = RandomForestClassifier(n_estimators=50 , random_state= 454545)"
   ]
  },
  {
   "cell_type": "code",
   "execution_count": 362,
   "metadata": {},
   "outputs": [],
   "source": [
    "model = rfc.fit(X_train , y_train)"
   ]
  },
  {
   "cell_type": "code",
   "execution_count": 363,
   "metadata": {},
   "outputs": [],
   "source": [
    "# Generar las predicciones:\n",
    "pred_train = model.predict(X_train)\n",
    "pred_test = model.predict(X_test)\n",
    "\n",
    "# Generar las probabilidades\n",
    "pred_proba_train = model.predict_proba(X_train)\n",
    "pred_proba_test = model.predict_proba(X_test)"
   ]
  },
  {
   "cell_type": "code",
   "execution_count": 364,
   "metadata": {},
   "outputs": [
    {
     "name": "stdout",
     "output_type": "stream",
     "text": [
      "        Pred_0  Pred_1\n",
      "Real_0     232       0\n",
      "Real_1       0     254\n"
     ]
    }
   ],
   "source": [
    "rfc_preds = rfc.predict(X_test)\n",
    "\n",
    "matriz_conf = mt.confusion_matrix(y_train,pred_train)\n",
    "print_mc(matriz_conf)\n",
    "\n"
   ]
  },
  {
   "cell_type": "code",
   "execution_count": 365,
   "metadata": {},
   "outputs": [
    {
     "name": "stdout",
     "output_type": "stream",
     "text": [
      "Accuracy - Tran:  1.0\n"
     ]
    }
   ],
   "source": [
    "accuracy_train = mt.accuracy_score(y_train, pred_train)\n",
    "print(\"Accuracy - Tran: \", accuracy_train)  # 0.9814814814814815"
   ]
  },
  {
   "cell_type": "code",
   "execution_count": 366,
   "metadata": {},
   "outputs": [
    {
     "name": "stdout",
     "output_type": "stream",
     "text": [
      "             precision    recall  f1-score   support\n",
      "\n",
      "          0       0.81      0.80      0.81       133\n",
      "          1       0.80      0.81      0.80       130\n",
      "\n",
      "avg / total       0.81      0.81      0.81       263\n",
      "\n"
     ]
    }
   ],
   "source": [
    "print(classification_report(y_test , rfc_preds))"
   ]
  },
  {
   "cell_type": "code",
   "execution_count": 353,
   "metadata": {},
   "outputs": [
    {
     "name": "stdout",
     "output_type": "stream",
     "text": [
      "[[107  26]\n",
      " [ 25 105]]\n"
     ]
    }
   ],
   "source": [
    "print(confusion_matrix(y_test , rfc_preds))"
   ]
  },
  {
   "cell_type": "code",
   "execution_count": 367,
   "metadata": {},
   "outputs": [
    {
     "name": "stdout",
     "output_type": "stream",
     "text": [
      "             precision    recall  f1-score   support\n",
      "\n",
      "          0      1.000     1.000     1.000       232\n",
      "          1      1.000     1.000     1.000       254\n",
      "\n",
      "avg / total      1.000     1.000     1.000       486\n",
      "\n"
     ]
    }
   ],
   "source": [
    "print(mt.classification_report(y_train, pred_train,digits=3))"
   ]
  },
  {
   "cell_type": "code",
   "execution_count": 369,
   "metadata": {},
   "outputs": [
    {
     "name": "stdout",
     "output_type": "stream",
     "text": [
      "ROC AUC: 1.0000\n"
     ]
    },
    {
     "data": {
      "image/png": "[encoded data removed]",
      "text/plain": [
       "<Figure size 576x432 with 1 Axes>"
      ]
     },
     "metadata": {
      "needs_background": "light"
     },
     "output_type": "display_data"
    }
   ],
   "source": [
    "graficar_roc(y_train, pred_proba_train) # 1.000"
   ]
  },
  {
   "cell_type": "code",
   "execution_count": 370,
   "metadata": {},
   "outputs": [
    {
     "name": "stdout",
     "output_type": "stream",
     "text": [
      "        Pred_0  Pred_1\n",
      "Real_0     107      26\n",
      "Real_1      25     105\n"
     ]
    }
   ],
   "source": [
    "matriz_conf =  mt.confusion_matrix(y_test, pred_test)\n",
    "print_mc(matriz_conf)"
   ]
  },
  {
   "cell_type": "code",
   "execution_count": 371,
   "metadata": {},
   "outputs": [
    {
     "name": "stdout",
     "output_type": "stream",
     "text": [
      "Accuracy - test: 0.8060836501901141\n"
     ]
    }
   ],
   "source": [
    "accuracy_test = mt.accuracy_score(y_test,pred_test)\n",
    "print(\"Accuracy - test:\", accuracy_test) # 0.7756653992395437"
   ]
  },
  {
   "cell_type": "code",
   "execution_count": 372,
   "metadata": {},
   "outputs": [
    {
     "name": "stdout",
     "output_type": "stream",
     "text": [
      "             precision    recall  f1-score   support\n",
      "\n",
      "          0      0.811     0.805     0.808       133\n",
      "          1      0.802     0.808     0.805       130\n",
      "\n",
      "avg / total      0.806     0.806     0.806       263\n",
      "\n"
     ]
    }
   ],
   "source": [
    "print(mt.classification_report(y_test,pred_test,digits = 3))"
   ]
  },
  {
   "cell_type": "code",
   "execution_count": 373,
   "metadata": {},
   "outputs": [
    {
     "name": "stdout",
     "output_type": "stream",
     "text": [
      "ROC AUC: 0.8695\n"
     ]
    },
    {
     "data": {
      "image/png": "[encoded data removed]",
      "text/plain": [
       "<Figure size 576x432 with 1 Axes>"
      ]
     },
     "metadata": {
      "needs_background": "light"
     },
     "output_type": "display_data"
    }
   ],
   "source": [
    "graficar_roc(y_test,pred_proba_test) # 0.8726"
   ]
  },
  {
   "cell_type": "code",
   "execution_count": 354,
   "metadata": {},
   "outputs": [
    {
     "name": "stdout",
     "output_type": "stream",
     "text": [
      "None\n"
     ]
    }
   ],
   "source": [
    "print(rfc.feature_importances_.sort())"
   ]
  },
  {
   "cell_type": "code",
   "execution_count": 339,
   "metadata": {},
   "outputs": [
    {
     "data": {
      "text/plain": [
       "array([0.00325795, 0.00564893, 0.00256996, 0.00213882, 0.00329865,\n",
       "       0.0018873 , 0.00305053, 0.00179367, 0.00142757, 0.00339499,\n",
       "       0.        , 0.        , 0.        , 0.        , 0.        ,\n",
       "       0.        , 0.00409956, 0.00055426, 0.00411946, 0.01485964,\n",
       "       0.00187856, 0.00306352, 0.00495933, 0.00492879, 0.00356493,\n",
       "       0.00252489, 0.00292324, 0.00466199, 0.        , 0.        ,\n",
       "       0.        , 0.        , 0.        , 0.        , 0.00400925,\n",
       "       0.        , 0.01643518, 0.02807439, 0.00221929, 0.00430405,\n",
       "       0.00273053, 0.00329343, 0.0019847 , 0.00400162, 0.00445687,\n",
       "       0.00231552, 0.        , 0.00105124, 0.        , 0.        ,\n",
       "       0.        , 0.        , 0.00133996, 0.00013169, 0.03695538,\n",
       "       0.01587022, 0.00284611, 0.00271116, 0.00417198, 0.00126202,\n",
       "       0.00175726, 0.00155647, 0.00320633, 0.00388449, 0.00039297,\n",
       "       0.0076659 , 0.        , 0.        , 0.00017382, 0.        ,\n",
       "       0.00194184, 0.        , 0.03608157, 0.0099493 , 0.0040282 ,\n",
       "       0.00187349, 0.00172836, 0.00771977, 0.00105067, 0.00237384,\n",
       "       0.00331212, 0.00385465, 0.        , 0.01273621, 0.        ,\n",
       "       0.        , 0.        , 0.        , 0.00318566, 0.00094471,\n",
       "       0.02364877, 0.01301391, 0.00259415, 0.0036091 , 0.00142503,\n",
       "       0.00314634, 0.00323247, 0.00207859, 0.00408202, 0.0037223 ,\n",
       "       0.        , 0.00558046, 0.        , 0.        , 0.        ,\n",
       "       0.        , 0.00272856, 0.        , 0.01044102, 0.02254538,\n",
       "       0.00207435, 0.00197623, 0.0028605 , 0.0040469 , 0.00496124,\n",
       "       0.00277996, 0.00313065, 0.00353876, 0.00014457, 0.00536121,\n",
       "       0.        , 0.00016193, 0.        , 0.        , 0.00345652,\n",
       "       0.00039498, 0.01571444, 0.00518834, 0.00227931, 0.00231211,\n",
       "       0.00677049, 0.0028776 , 0.0027408 , 0.00175299, 0.00235376,\n",
       "       0.00552339, 0.00169731, 0.0024135 , 0.        , 0.        ,\n",
       "       0.        , 0.        , 0.00272506, 0.        , 0.02253286,\n",
       "       0.01184561, 0.00125629, 0.00420706, 0.00787587, 0.00407532,\n",
       "       0.00203706, 0.00452691, 0.00286322, 0.00416405, 0.        ,\n",
       "       0.00561695, 0.        , 0.        , 0.        , 0.        ,\n",
       "       0.00455096, 0.        , 0.00786392, 0.01611286, 0.00202885,\n",
       "       0.001366  , 0.0044744 , 0.00543506, 0.00254781, 0.00196941,\n",
       "       0.00335203, 0.00480629, 0.        , 0.00582326, 0.        ,\n",
       "       0.        , 0.        , 0.        , 0.00274152, 0.00029156,\n",
       "       0.01715903, 0.02129692, 0.00313958, 0.0043888 , 0.00390713,\n",
       "       0.0048523 , 0.00242693, 0.00189508, 0.00423744, 0.00206614,\n",
       "       0.        , 0.00301813, 0.        , 0.        , 0.        ,\n",
       "       0.        , 0.00273847, 0.0001318 , 0.00680364, 0.00932948,\n",
       "       0.        , 0.        , 0.        , 0.        , 0.        ,\n",
       "       0.        , 0.        , 0.        , 0.        , 0.        ,\n",
       "       0.        , 0.        , 0.        , 0.        , 0.        ,\n",
       "       0.        , 0.        , 0.        , 0.        , 0.        ,\n",
       "       0.        , 0.        , 0.        , 0.        , 0.        ,\n",
       "       0.        , 0.        , 0.        , 0.        , 0.        ,\n",
       "       0.        , 0.        , 0.        , 0.        , 0.        ,\n",
       "       0.        , 0.00247635, 0.00252158, 0.00359376, 0.00085857,\n",
       "       0.00330715, 0.00395902, 0.00535478, 0.00738253, 0.        ,\n",
       "       0.00254609, 0.        , 0.        , 0.00027481, 0.        ,\n",
       "       0.00293475, 0.00026165, 0.02244008, 0.02864146, 0.00480538,\n",
       "       0.0028126 , 0.0083247 , 0.00530052, 0.00244181, 0.00255495,\n",
       "       0.00409559, 0.00538652, 0.        , 0.        , 0.        ,\n",
       "       0.        , 0.        , 0.        , 0.00346412, 0.        ,\n",
       "       0.00464672, 0.00397454, 0.00238657, 0.0019201 , 0.00392299,\n",
       "       0.00301736, 0.00127712, 0.00213081, 0.00352837, 0.00279296,\n",
       "       0.00014469, 0.00184863, 0.        , 0.        , 0.        ,\n",
       "       0.        , 0.00173656, 0.        , 0.00128379, 0.00323721,\n",
       "       0.0019465 , 0.00214602, 0.00015823, 0.        , 0.        ,\n",
       "       0.        , 0.        , 0.0049561 , 0.00026282, 0.00167535,\n",
       "       0.00382084, 0.0021505 , 0.00029659, 0.        , 0.        ,\n",
       "       0.        , 0.        , 0.00428558, 0.        , 0.00390073,\n",
       "       0.00457434, 0.00217129, 0.        , 0.00211773, 0.        ,\n",
       "       0.        , 0.        , 0.00292771, 0.        , 0.0036691 ,\n",
       "       0.00349099, 0.00360407, 0.        , 0.00440572, 0.        ,\n",
       "       0.        , 0.        , 0.00514632, 0.0010679 , 0.00210487,\n",
       "       0.00141377, 0.00272171, 0.00015163, 0.00131409, 0.        ,\n",
       "       0.        , 0.        , 0.00644749, 0.00015424, 0.00611492,\n",
       "       0.        , 0.        , 0.00046222, 0.        , 0.00040697,\n",
       "       0.00034177, 0.00312768, 0.00056185, 0.00215348, 0.00055405,\n",
       "       0.00369584, 0.00288205])"
      ]
     },
     "execution_count": 339,
     "metadata": {},
     "output_type": "execute_result"
    }
   ],
   "source": []
  },
  {
   "cell_type": "code",
   "execution_count": null,
   "metadata": {},
   "outputs": [],
   "source": []
  }
 ],
 "metadata": {
  "kernelspec": {
   "display_name": "Python 3",
   "language": "python",
   "name": "python3"
  },
  "language_info": {
   "codemirror_mode": {
    "name": "ipython",
    "version": 3
   },
   "file_extension": ".py",
   "mimetype": "text/x-python",
   "name": "python",
   "nbconvert_exporter": "python",
   "pygments_lexer": "ipython3",
   "version": "3.6.6"
  }
 },
 "nbformat": 4,
 "nbformat_minor": 2
}
